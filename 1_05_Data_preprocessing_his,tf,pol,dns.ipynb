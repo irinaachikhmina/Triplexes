{
  "nbformat": 4,
  "nbformat_minor": 0,
  "metadata": {
    "colab": {
      "provenance": [],
      "authorship_tag": "ABX9TyPNNZP7tDfQSJSXQJ3c9CuH",
      "include_colab_link": true
    },
    "kernelspec": {
      "name": "python3",
      "display_name": "Python 3"
    },
    "language_info": {
      "name": "python"
    }
  },
  "cells": [
    {
      "cell_type": "markdown",
      "metadata": {
        "id": "view-in-github",
        "colab_type": "text"
      },
      "source": [
        "<a href=\"https://colab.research.google.com/github/irinaachikhmina/Triplexes/blob/main/1_05_Data_preprocessing_his%2Ctf%2Cpol%2Cdns.ipynb\" target=\"_parent\"><img src=\"https://colab.research.google.com/assets/colab-badge.svg\" alt=\"Open In Colab\"/></a>"
      ]
    },
    {
      "cell_type": "markdown",
      "metadata": {
        "id": "iEY8ULnVVS17"
      },
      "source": [
        "#Data mining and preprocessing: preprocessing of regulatory data from ChIP-Atlas(histone marks, TFs, Pol, DNase - sorting, filtering)"
      ]
    },
    {
      "cell_type": "markdown",
      "metadata": {
        "id": "C3W7xKbjXKN6"
      },
      "source": [
        "##Imports"
      ]
    },
    {
      "cell_type": "code",
      "execution_count": null,
      "metadata": {
        "colab": {
          "base_uri": "https://localhost:8080/"
        },
        "id": "md2rX5u-kDiz",
        "outputId": "8f439f30-5774-412a-dc22-529a7e0f4633"
      },
      "outputs": [
        {
          "output_type": "stream",
          "name": "stdout",
          "text": [
            "Mounted at /content/drive\n"
          ]
        }
      ],
      "source": [
        "from google.colab import drive\n",
        "drive.mount('/content/drive')"
      ]
    },
    {
      "cell_type": "code",
      "execution_count": null,
      "metadata": {
        "id": "ET_1R611XMPJ"
      },
      "outputs": [],
      "source": [
        "!pip install -q condacolab\n",
        "import condacolab\n",
        "condacolab.install()"
      ]
    },
    {
      "cell_type": "code",
      "execution_count": null,
      "metadata": {
        "id": "cz4H5RsKqprq"
      },
      "outputs": [],
      "source": [
        "!pip install ray"
      ]
    },
    {
      "cell_type": "code",
      "execution_count": null,
      "metadata": {
        "id": "fDoJae5vqobH"
      },
      "outputs": [],
      "source": [
        "!conda install -c bioconda pyranges"
      ]
    },
    {
      "cell_type": "code",
      "source": [
        "import pandas as pd\n",
        "import pyranges as pr"
      ],
      "metadata": {
        "id": "WFe_3K4M1tD-"
      },
      "execution_count": null,
      "outputs": []
    },
    {
      "cell_type": "markdown",
      "metadata": {
        "id": "f3mMd11NYUhO"
      },
      "source": [
        "##DNase"
      ]
    },
    {
      "cell_type": "markdown",
      "metadata": {
        "id": "vvHS8cBBVgrp"
      },
      "source": [
        "###Reading data"
      ]
    },
    {
      "cell_type": "markdown",
      "metadata": {
        "id": "jWUb_CF5Vlxd"
      },
      "source": [
        "Data from Chip-Atlas, downloading is in a seperate file."
      ]
    },
    {
      "cell_type": "code",
      "source": [
        "dns = pd.read_pickle('/content/drive/MyDrive/Triplexes/data/dns.pickle')\n",
        "dns = pd.DataFrame(dns, columns=['Chromosome', 'Start', 'End', 'Factor', 'Cell_type', 'Score'])\n",
        "dns.head()"
      ],
      "metadata": {
        "colab": {
          "base_uri": "https://localhost:8080/",
          "height": 206
        },
        "id": "689I5kcM2Rlx",
        "outputId": "1a48fcc9-95fc-47c2-b711-ac0c53dcc76c"
      },
      "execution_count": null,
      "outputs": [
        {
          "output_type": "execute_result",
          "data": {
            "text/plain": [
              "  Chromosome  Start    End     Factor                         Cell_type Score\n",
              "0       chr1  10005  10323  DNase-Seq  B-cell_BRACKETLCD19PULUSBRACKETR   311\n",
              "1       chr1  10006  10448  DNase-Seq  B-cell_BRACKETLCD19PULUSBRACKETR   335\n",
              "2       chr1  10007  10490  DNase-Seq  B-cell_BRACKETLCD19PULUSBRACKETR   541\n",
              "3       chr1  10011  10430  DNase-Seq  B-cell_BRACKETLCD19PULUSBRACKETR   168\n",
              "4       chr1  10366  10455  DNase-Seq  B-cell_BRACKETLCD19PULUSBRACKETR   118"
            ],
            "text/html": [
              "\n",
              "  <div id=\"df-0cb2536d-cefd-4766-a08c-ce86df670fda\">\n",
              "    <div class=\"colab-df-container\">\n",
              "      <div>\n",
              "<style scoped>\n",
              "    .dataframe tbody tr th:only-of-type {\n",
              "        vertical-align: middle;\n",
              "    }\n",
              "\n",
              "    .dataframe tbody tr th {\n",
              "        vertical-align: top;\n",
              "    }\n",
              "\n",
              "    .dataframe thead th {\n",
              "        text-align: right;\n",
              "    }\n",
              "</style>\n",
              "<table border=\"1\" class=\"dataframe\">\n",
              "  <thead>\n",
              "    <tr style=\"text-align: right;\">\n",
              "      <th></th>\n",
              "      <th>Chromosome</th>\n",
              "      <th>Start</th>\n",
              "      <th>End</th>\n",
              "      <th>Factor</th>\n",
              "      <th>Cell_type</th>\n",
              "      <th>Score</th>\n",
              "    </tr>\n",
              "  </thead>\n",
              "  <tbody>\n",
              "    <tr>\n",
              "      <th>0</th>\n",
              "      <td>chr1</td>\n",
              "      <td>10005</td>\n",
              "      <td>10323</td>\n",
              "      <td>DNase-Seq</td>\n",
              "      <td>B-cell_BRACKETLCD19PULUSBRACKETR</td>\n",
              "      <td>311</td>\n",
              "    </tr>\n",
              "    <tr>\n",
              "      <th>1</th>\n",
              "      <td>chr1</td>\n",
              "      <td>10006</td>\n",
              "      <td>10448</td>\n",
              "      <td>DNase-Seq</td>\n",
              "      <td>B-cell_BRACKETLCD19PULUSBRACKETR</td>\n",
              "      <td>335</td>\n",
              "    </tr>\n",
              "    <tr>\n",
              "      <th>2</th>\n",
              "      <td>chr1</td>\n",
              "      <td>10007</td>\n",
              "      <td>10490</td>\n",
              "      <td>DNase-Seq</td>\n",
              "      <td>B-cell_BRACKETLCD19PULUSBRACKETR</td>\n",
              "      <td>541</td>\n",
              "    </tr>\n",
              "    <tr>\n",
              "      <th>3</th>\n",
              "      <td>chr1</td>\n",
              "      <td>10011</td>\n",
              "      <td>10430</td>\n",
              "      <td>DNase-Seq</td>\n",
              "      <td>B-cell_BRACKETLCD19PULUSBRACKETR</td>\n",
              "      <td>168</td>\n",
              "    </tr>\n",
              "    <tr>\n",
              "      <th>4</th>\n",
              "      <td>chr1</td>\n",
              "      <td>10366</td>\n",
              "      <td>10455</td>\n",
              "      <td>DNase-Seq</td>\n",
              "      <td>B-cell_BRACKETLCD19PULUSBRACKETR</td>\n",
              "      <td>118</td>\n",
              "    </tr>\n",
              "  </tbody>\n",
              "</table>\n",
              "</div>\n",
              "      <button class=\"colab-df-convert\" onclick=\"convertToInteractive('df-0cb2536d-cefd-4766-a08c-ce86df670fda')\"\n",
              "              title=\"Convert this dataframe to an interactive table.\"\n",
              "              style=\"display:none;\">\n",
              "        \n",
              "  <svg xmlns=\"http://www.w3.org/2000/svg\" height=\"24px\"viewBox=\"0 0 24 24\"\n",
              "       width=\"24px\">\n",
              "    <path d=\"M0 0h24v24H0V0z\" fill=\"none\"/>\n",
              "    <path d=\"M18.56 5.44l.94 2.06.94-2.06 2.06-.94-2.06-.94-.94-2.06-.94 2.06-2.06.94zm-11 1L8.5 8.5l.94-2.06 2.06-.94-2.06-.94L8.5 2.5l-.94 2.06-2.06.94zm10 10l.94 2.06.94-2.06 2.06-.94-2.06-.94-.94-2.06-.94 2.06-2.06.94z\"/><path d=\"M17.41 7.96l-1.37-1.37c-.4-.4-.92-.59-1.43-.59-.52 0-1.04.2-1.43.59L10.3 9.45l-7.72 7.72c-.78.78-.78 2.05 0 2.83L4 21.41c.39.39.9.59 1.41.59.51 0 1.02-.2 1.41-.59l7.78-7.78 2.81-2.81c.8-.78.8-2.07 0-2.86zM5.41 20L4 18.59l7.72-7.72 1.47 1.35L5.41 20z\"/>\n",
              "  </svg>\n",
              "      </button>\n",
              "      \n",
              "  <style>\n",
              "    .colab-df-container {\n",
              "      display:flex;\n",
              "      flex-wrap:wrap;\n",
              "      gap: 12px;\n",
              "    }\n",
              "\n",
              "    .colab-df-convert {\n",
              "      background-color: #E8F0FE;\n",
              "      border: none;\n",
              "      border-radius: 50%;\n",
              "      cursor: pointer;\n",
              "      display: none;\n",
              "      fill: #1967D2;\n",
              "      height: 32px;\n",
              "      padding: 0 0 0 0;\n",
              "      width: 32px;\n",
              "    }\n",
              "\n",
              "    .colab-df-convert:hover {\n",
              "      background-color: #E2EBFA;\n",
              "      box-shadow: 0px 1px 2px rgba(60, 64, 67, 0.3), 0px 1px 3px 1px rgba(60, 64, 67, 0.15);\n",
              "      fill: #174EA6;\n",
              "    }\n",
              "\n",
              "    [theme=dark] .colab-df-convert {\n",
              "      background-color: #3B4455;\n",
              "      fill: #D2E3FC;\n",
              "    }\n",
              "\n",
              "    [theme=dark] .colab-df-convert:hover {\n",
              "      background-color: #434B5C;\n",
              "      box-shadow: 0px 1px 3px 1px rgba(0, 0, 0, 0.15);\n",
              "      filter: drop-shadow(0px 1px 2px rgba(0, 0, 0, 0.3));\n",
              "      fill: #FFFFFF;\n",
              "    }\n",
              "  </style>\n",
              "\n",
              "      <script>\n",
              "        const buttonEl =\n",
              "          document.querySelector('#df-0cb2536d-cefd-4766-a08c-ce86df670fda button.colab-df-convert');\n",
              "        buttonEl.style.display =\n",
              "          google.colab.kernel.accessAllowed ? 'block' : 'none';\n",
              "\n",
              "        async function convertToInteractive(key) {\n",
              "          const element = document.querySelector('#df-0cb2536d-cefd-4766-a08c-ce86df670fda');\n",
              "          const dataTable =\n",
              "            await google.colab.kernel.invokeFunction('convertToInteractive',\n",
              "                                                     [key], {});\n",
              "          if (!dataTable) return;\n",
              "\n",
              "          const docLinkHtml = 'Like what you see? Visit the ' +\n",
              "            '<a target=\"_blank\" href=https://colab.research.google.com/notebooks/data_table.ipynb>data table notebook</a>'\n",
              "            + ' to learn more about interactive tables.';\n",
              "          element.innerHTML = '';\n",
              "          dataTable['output_type'] = 'display_data';\n",
              "          await google.colab.output.renderOutput(dataTable, element);\n",
              "          const docLink = document.createElement('div');\n",
              "          docLink.innerHTML = docLinkHtml;\n",
              "          element.appendChild(docLink);\n",
              "        }\n",
              "      </script>\n",
              "    </div>\n",
              "  </div>\n",
              "  "
            ]
          },
          "metadata": {},
          "execution_count": 3
        }
      ]
    },
    {
      "cell_type": "code",
      "source": [
        "dns_pr = pr.PyRanges(dns)"
      ],
      "metadata": {
        "id": "N1Lv2mJF5HM9"
      },
      "execution_count": null,
      "outputs": []
    },
    {
      "cell_type": "markdown",
      "source": [
        "###Sorting"
      ],
      "metadata": {
        "id": "QUH6wsbqCP-9"
      }
    },
    {
      "cell_type": "code",
      "source": [
        "dns_pr = dns_pr.sort(nb_cpu=2)"
      ],
      "metadata": {
        "id": "Dly7TScWCS6-"
      },
      "execution_count": null,
      "outputs": []
    },
    {
      "cell_type": "markdown",
      "metadata": {
        "id": "-FandEpMWZ2-"
      },
      "source": [
        "###Filtering for black-listed regions"
      ]
    },
    {
      "cell_type": "code",
      "execution_count": null,
      "metadata": {
        "colab": {
          "base_uri": "https://localhost:8080/"
        },
        "id": "H3UdqQPEkKJU",
        "outputId": "46fea341-9194-4c33-e41b-2889d83a5093"
      },
      "outputs": [
        {
          "output_type": "stream",
          "name": "stdout",
          "text": [
            "Downloading...\n",
            "From: https://github.com/Boyle-Lab/Blacklist/raw/master/lists/hg38-blacklist.v2.bed.gz\n",
            "To: /content/hg38-blacklist.v2.bed.gz\n",
            "\r  0% 0.00/5.87k [00:00<?, ?B/s]\r100% 5.87k/5.87k [00:00<00:00, 8.09MB/s]\n"
          ]
        }
      ],
      "source": [
        "!gdown https://github.com/Boyle-Lab/Blacklist/raw/master/lists/hg38-blacklist.v2.bed.gz"
      ]
    },
    {
      "cell_type": "code",
      "source": [
        "blacklist = pr.read_bed('/content/hg38-blacklist.v2.bed.gz')\n",
        "dns_pr = dns_pr.subtract(blacklist, nb_cpu=2)\n",
        "len(dns_pr)"
      ],
      "metadata": {
        "colab": {
          "base_uri": "https://localhost:8080/"
        },
        "id": "Ob1Nj6BrFtCf",
        "outputId": "8be9786f-d83e-40d4-acd3-d22971051143"
      },
      "execution_count": null,
      "outputs": [
        {
          "output_type": "execute_result",
          "data": {
            "text/plain": [
              "886352"
            ]
          },
          "metadata": {},
          "execution_count": 8
        }
      ]
    },
    {
      "cell_type": "code",
      "source": [
        "dns_pr.to_csv('/content/drive/MyDrive/Triplexes/data/omics_raw/dns.bed', sep=\"\\t\", header=True)"
      ],
      "metadata": {
        "id": "SiRMIzrz-7xy"
      },
      "execution_count": null,
      "outputs": []
    },
    {
      "cell_type": "code",
      "source": [
        "del dns_pr"
      ],
      "metadata": {
        "id": "YsiIa_QUOHWp"
      },
      "execution_count": null,
      "outputs": []
    },
    {
      "cell_type": "markdown",
      "metadata": {
        "id": "2P8OawmHNiy1"
      },
      "source": [
        "##RNA polymerase"
      ]
    },
    {
      "cell_type": "markdown",
      "metadata": {
        "id": "pLzbm8QbNiy2"
      },
      "source": [
        "###Reading data"
      ]
    },
    {
      "cell_type": "markdown",
      "metadata": {
        "id": "1CUOsHFZNiy2"
      },
      "source": [
        "Data from Chip-Atlas, downloading is in a seperate file."
      ]
    },
    {
      "cell_type": "code",
      "source": [
        "pol = pd.read_pickle('/content/drive/MyDrive/Triplexes/data/pol.pickle')\n",
        "pol = pd.DataFrame(pol, columns=['Chromosome', 'Start', 'End', 'Factor', 'Cell_type', 'Score'])\n",
        "pol.head()"
      ],
      "metadata": {
        "colab": {
          "base_uri": "https://localhost:8080/",
          "height": 206
        },
        "outputId": "9030ad0c-5932-46bd-fe4c-5e410693e0bb",
        "id": "Igp15cqDNiy3"
      },
      "execution_count": null,
      "outputs": [
        {
          "output_type": "execute_result",
          "data": {
            "text/plain": [
              "  Chromosome   Start     End Factor Cell_type Score\n",
              "0       chr1  199709  199864    RNA   B_cells    96\n",
              "1       chr1  778292  778786    RNA   B_cells   928\n",
              "2       chr1  778895  779057    RNA   B_cells   182\n",
              "3       chr1  827186  827500    RNA   B_cells   292\n",
              "4       chr1  827634  827806    RNA   B_cells   223"
            ],
            "text/html": [
              "\n",
              "  <div id=\"df-7432f1db-dda7-4d20-82df-ba23c945c6a3\">\n",
              "    <div class=\"colab-df-container\">\n",
              "      <div>\n",
              "<style scoped>\n",
              "    .dataframe tbody tr th:only-of-type {\n",
              "        vertical-align: middle;\n",
              "    }\n",
              "\n",
              "    .dataframe tbody tr th {\n",
              "        vertical-align: top;\n",
              "    }\n",
              "\n",
              "    .dataframe thead th {\n",
              "        text-align: right;\n",
              "    }\n",
              "</style>\n",
              "<table border=\"1\" class=\"dataframe\">\n",
              "  <thead>\n",
              "    <tr style=\"text-align: right;\">\n",
              "      <th></th>\n",
              "      <th>Chromosome</th>\n",
              "      <th>Start</th>\n",
              "      <th>End</th>\n",
              "      <th>Factor</th>\n",
              "      <th>Cell_type</th>\n",
              "      <th>Score</th>\n",
              "    </tr>\n",
              "  </thead>\n",
              "  <tbody>\n",
              "    <tr>\n",
              "      <th>0</th>\n",
              "      <td>chr1</td>\n",
              "      <td>199709</td>\n",
              "      <td>199864</td>\n",
              "      <td>RNA</td>\n",
              "      <td>B_cells</td>\n",
              "      <td>96</td>\n",
              "    </tr>\n",
              "    <tr>\n",
              "      <th>1</th>\n",
              "      <td>chr1</td>\n",
              "      <td>778292</td>\n",
              "      <td>778786</td>\n",
              "      <td>RNA</td>\n",
              "      <td>B_cells</td>\n",
              "      <td>928</td>\n",
              "    </tr>\n",
              "    <tr>\n",
              "      <th>2</th>\n",
              "      <td>chr1</td>\n",
              "      <td>778895</td>\n",
              "      <td>779057</td>\n",
              "      <td>RNA</td>\n",
              "      <td>B_cells</td>\n",
              "      <td>182</td>\n",
              "    </tr>\n",
              "    <tr>\n",
              "      <th>3</th>\n",
              "      <td>chr1</td>\n",
              "      <td>827186</td>\n",
              "      <td>827500</td>\n",
              "      <td>RNA</td>\n",
              "      <td>B_cells</td>\n",
              "      <td>292</td>\n",
              "    </tr>\n",
              "    <tr>\n",
              "      <th>4</th>\n",
              "      <td>chr1</td>\n",
              "      <td>827634</td>\n",
              "      <td>827806</td>\n",
              "      <td>RNA</td>\n",
              "      <td>B_cells</td>\n",
              "      <td>223</td>\n",
              "    </tr>\n",
              "  </tbody>\n",
              "</table>\n",
              "</div>\n",
              "      <button class=\"colab-df-convert\" onclick=\"convertToInteractive('df-7432f1db-dda7-4d20-82df-ba23c945c6a3')\"\n",
              "              title=\"Convert this dataframe to an interactive table.\"\n",
              "              style=\"display:none;\">\n",
              "        \n",
              "  <svg xmlns=\"http://www.w3.org/2000/svg\" height=\"24px\"viewBox=\"0 0 24 24\"\n",
              "       width=\"24px\">\n",
              "    <path d=\"M0 0h24v24H0V0z\" fill=\"none\"/>\n",
              "    <path d=\"M18.56 5.44l.94 2.06.94-2.06 2.06-.94-2.06-.94-.94-2.06-.94 2.06-2.06.94zm-11 1L8.5 8.5l.94-2.06 2.06-.94-2.06-.94L8.5 2.5l-.94 2.06-2.06.94zm10 10l.94 2.06.94-2.06 2.06-.94-2.06-.94-.94-2.06-.94 2.06-2.06.94z\"/><path d=\"M17.41 7.96l-1.37-1.37c-.4-.4-.92-.59-1.43-.59-.52 0-1.04.2-1.43.59L10.3 9.45l-7.72 7.72c-.78.78-.78 2.05 0 2.83L4 21.41c.39.39.9.59 1.41.59.51 0 1.02-.2 1.41-.59l7.78-7.78 2.81-2.81c.8-.78.8-2.07 0-2.86zM5.41 20L4 18.59l7.72-7.72 1.47 1.35L5.41 20z\"/>\n",
              "  </svg>\n",
              "      </button>\n",
              "      \n",
              "  <style>\n",
              "    .colab-df-container {\n",
              "      display:flex;\n",
              "      flex-wrap:wrap;\n",
              "      gap: 12px;\n",
              "    }\n",
              "\n",
              "    .colab-df-convert {\n",
              "      background-color: #E8F0FE;\n",
              "      border: none;\n",
              "      border-radius: 50%;\n",
              "      cursor: pointer;\n",
              "      display: none;\n",
              "      fill: #1967D2;\n",
              "      height: 32px;\n",
              "      padding: 0 0 0 0;\n",
              "      width: 32px;\n",
              "    }\n",
              "\n",
              "    .colab-df-convert:hover {\n",
              "      background-color: #E2EBFA;\n",
              "      box-shadow: 0px 1px 2px rgba(60, 64, 67, 0.3), 0px 1px 3px 1px rgba(60, 64, 67, 0.15);\n",
              "      fill: #174EA6;\n",
              "    }\n",
              "\n",
              "    [theme=dark] .colab-df-convert {\n",
              "      background-color: #3B4455;\n",
              "      fill: #D2E3FC;\n",
              "    }\n",
              "\n",
              "    [theme=dark] .colab-df-convert:hover {\n",
              "      background-color: #434B5C;\n",
              "      box-shadow: 0px 1px 3px 1px rgba(0, 0, 0, 0.15);\n",
              "      filter: drop-shadow(0px 1px 2px rgba(0, 0, 0, 0.3));\n",
              "      fill: #FFFFFF;\n",
              "    }\n",
              "  </style>\n",
              "\n",
              "      <script>\n",
              "        const buttonEl =\n",
              "          document.querySelector('#df-7432f1db-dda7-4d20-82df-ba23c945c6a3 button.colab-df-convert');\n",
              "        buttonEl.style.display =\n",
              "          google.colab.kernel.accessAllowed ? 'block' : 'none';\n",
              "\n",
              "        async function convertToInteractive(key) {\n",
              "          const element = document.querySelector('#df-7432f1db-dda7-4d20-82df-ba23c945c6a3');\n",
              "          const dataTable =\n",
              "            await google.colab.kernel.invokeFunction('convertToInteractive',\n",
              "                                                     [key], {});\n",
              "          if (!dataTable) return;\n",
              "\n",
              "          const docLinkHtml = 'Like what you see? Visit the ' +\n",
              "            '<a target=\"_blank\" href=https://colab.research.google.com/notebooks/data_table.ipynb>data table notebook</a>'\n",
              "            + ' to learn more about interactive tables.';\n",
              "          element.innerHTML = '';\n",
              "          dataTable['output_type'] = 'display_data';\n",
              "          await google.colab.output.renderOutput(dataTable, element);\n",
              "          const docLink = document.createElement('div');\n",
              "          docLink.innerHTML = docLinkHtml;\n",
              "          element.appendChild(docLink);\n",
              "        }\n",
              "      </script>\n",
              "    </div>\n",
              "  </div>\n",
              "  "
            ]
          },
          "metadata": {},
          "execution_count": 13
        }
      ]
    },
    {
      "cell_type": "code",
      "source": [
        "pol_pr = pr.PyRanges(pol)"
      ],
      "metadata": {
        "id": "-rRif1BcNiy4"
      },
      "execution_count": null,
      "outputs": []
    },
    {
      "cell_type": "markdown",
      "source": [
        "###Sorting"
      ],
      "metadata": {
        "id": "9-ibCENCNiy4"
      }
    },
    {
      "cell_type": "code",
      "source": [
        "pol_pr = pol_pr.sort(nb_cpu=2)"
      ],
      "metadata": {
        "id": "Pg07GOywNiy5"
      },
      "execution_count": null,
      "outputs": []
    },
    {
      "cell_type": "markdown",
      "metadata": {
        "id": "KUe_OjFrNiy6"
      },
      "source": [
        "###Filtering for black-listed regions"
      ]
    },
    {
      "cell_type": "code",
      "source": [
        "pol_pr = pol_pr.subtract(blacklist, nb_cpu=2)\n",
        "len(pol_pr)"
      ],
      "metadata": {
        "colab": {
          "base_uri": "https://localhost:8080/"
        },
        "outputId": "8863e21e-188f-4a2f-ead0-05e4f48a9372",
        "id": "WIYgtpOZNiy7"
      },
      "execution_count": null,
      "outputs": [
        {
          "output_type": "execute_result",
          "data": {
            "text/plain": [
              "2216863"
            ]
          },
          "metadata": {},
          "execution_count": 16
        }
      ]
    },
    {
      "cell_type": "code",
      "source": [
        "pol_pr.to_csv('/content/drive/MyDrive/Triplexes/data/omics_raw/pol.bed', sep=\"\\t\", header=True)"
      ],
      "metadata": {
        "id": "hrp_IoTgNiy8"
      },
      "execution_count": null,
      "outputs": []
    },
    {
      "cell_type": "code",
      "source": [
        "del pol_pr"
      ],
      "metadata": {
        "id": "hPl7EgzDwznL"
      },
      "execution_count": null,
      "outputs": []
    },
    {
      "cell_type": "markdown",
      "metadata": {
        "id": "1x7TgxQeYrY3"
      },
      "source": [
        "##Transcription factors and others"
      ]
    },
    {
      "cell_type": "markdown",
      "metadata": {
        "id": "j_hb0GeWYrY4"
      },
      "source": [
        "###Reading data"
      ]
    },
    {
      "cell_type": "markdown",
      "metadata": {
        "id": "9ZilR3B0YrY4"
      },
      "source": [
        "Data from Chip-Atlas, downloading is in a seperate file."
      ]
    },
    {
      "cell_type": "code",
      "source": [
        "tf = pr.read_bed('/content/drive/MyDrive/Triplexes/data/tf.bed')"
      ],
      "metadata": {
        "id": "jHgAmCgVjXZq"
      },
      "execution_count": null,
      "outputs": []
    },
    {
      "cell_type": "markdown",
      "source": [
        "###Sorting"
      ],
      "metadata": {
        "id": "yfh6rKo4YrY4"
      }
    },
    {
      "cell_type": "code",
      "source": [
        "tf = tf.sort(nb_cpu=2)"
      ],
      "metadata": {
        "id": "P20vrsuIYrY4"
      },
      "execution_count": null,
      "outputs": []
    },
    {
      "cell_type": "markdown",
      "metadata": {
        "id": "XvNd7Nf9YrY4"
      },
      "source": [
        "###Filtering for black-listed regions"
      ]
    },
    {
      "cell_type": "code",
      "source": [
        "tf = tf.subtract(blacklist, nb_cpu=2)\n",
        "len(tf)"
      ],
      "metadata": {
        "colab": {
          "base_uri": "https://localhost:8080/"
        },
        "id": "czbj_ONSTCwQ",
        "outputId": "357ce8e4-3c08-4469-ad4a-1b7e0524abce"
      },
      "execution_count": null,
      "outputs": [
        {
          "output_type": "execute_result",
          "data": {
            "text/plain": [
              "9205104"
            ]
          },
          "metadata": {},
          "execution_count": 7
        }
      ]
    },
    {
      "cell_type": "code",
      "source": [
        "tf.to_csv('/content/drive/MyDrive/Triplexes/data/tf.bed', sep=\"\\t\", header=True)"
      ],
      "metadata": {
        "id": "EX2g30GXYrY5"
      },
      "execution_count": null,
      "outputs": []
    },
    {
      "cell_type": "code",
      "source": [
        "del tf"
      ],
      "metadata": {
        "id": "cZvuhY36YrY5"
      },
      "execution_count": null,
      "outputs": []
    },
    {
      "cell_type": "markdown",
      "metadata": {
        "id": "NWFcSh15Za_l"
      },
      "source": [
        "##Histone marks"
      ]
    },
    {
      "cell_type": "markdown",
      "metadata": {
        "id": "Ptis9WpgZa_m"
      },
      "source": [
        "###Reading data"
      ]
    },
    {
      "cell_type": "markdown",
      "metadata": {
        "id": "WCLh9JmsZa_m"
      },
      "source": [
        "Data from Chip-Atlas, downloading is in a seperate file."
      ]
    },
    {
      "cell_type": "code",
      "source": [
        "his = pr.read_bed('/content/drive/MyDrive/Triplexes/data/his.bed')"
      ],
      "metadata": {
        "id": "ulzJCJWRZa_m"
      },
      "execution_count": null,
      "outputs": []
    },
    {
      "cell_type": "markdown",
      "source": [
        "###Sorting"
      ],
      "metadata": {
        "id": "DXDdkc6KZa_n"
      }
    },
    {
      "cell_type": "code",
      "source": [
        "his = his.sort(nb_cpu=2)"
      ],
      "metadata": {
        "id": "8gdGrd3KZa_n"
      },
      "execution_count": null,
      "outputs": []
    },
    {
      "cell_type": "markdown",
      "metadata": {
        "id": "-PuB6kwsZa_n"
      },
      "source": [
        "###Filtering for black-listed regions"
      ]
    },
    {
      "cell_type": "code",
      "source": [
        "his = his.subtract(blacklist)\n",
        "len(his)"
      ],
      "metadata": {
        "colab": {
          "base_uri": "https://localhost:8080/"
        },
        "outputId": "13280ebe-93ab-4d7e-9548-8201c694e35e",
        "id": "T_k_9KZ1Za_n"
      },
      "execution_count": null,
      "outputs": [
        {
          "output_type": "execute_result",
          "data": {
            "text/plain": [
              "27127604"
            ]
          },
          "metadata": {},
          "execution_count": 13
        }
      ]
    },
    {
      "cell_type": "code",
      "source": [
        "his.to_csv('/content/drive/MyDrive/Triplexes/data/his.bed', sep=\"\\t\", header=True)"
      ],
      "metadata": {
        "id": "m6KVecTfZa_o"
      },
      "execution_count": null,
      "outputs": []
    }
  ]
}