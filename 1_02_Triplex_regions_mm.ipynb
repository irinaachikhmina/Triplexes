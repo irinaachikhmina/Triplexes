{
  "nbformat": 4,
  "nbformat_minor": 0,
  "metadata": {
    "colab": {
      "provenance": [],
      "authorship_tag": "ABX9TyMxUcOzVIbn1sIdDMgrhH43",
      "include_colab_link": true
    },
    "kernelspec": {
      "name": "python3",
      "display_name": "Python 3"
    },
    "language_info": {
      "name": "python"
    }
  },
  "cells": [
    {
      "cell_type": "markdown",
      "metadata": {
        "id": "view-in-github",
        "colab_type": "text"
      },
      "source": [
        "<a href=\"https://colab.research.google.com/github/irinaachikhmina/Triplexes/blob/main/1_02_Triplex_regions_mm.ipynb\" target=\"_parent\"><img src=\"https://colab.research.google.com/assets/colab-badge.svg\" alt=\"Open In Colab\"/></a>"
      ]
    },
    {
      "cell_type": "markdown",
      "source": [
        "#Data mining and preprocessing: H-DNA regions in mouse genome"
      ],
      "metadata": {
        "id": "Gg65X8v3Q6wZ"
      }
    },
    {
      "cell_type": "markdown",
      "source": [
        "##Imports"
      ],
      "metadata": {
        "id": "iWdV_sfGRb4P"
      }
    },
    {
      "cell_type": "code",
      "source": [
        "from google.colab import drive\n",
        "drive.mount('/content/drive')"
      ],
      "metadata": {
        "id": "-K8oAGAOyz1q",
        "colab": {
          "base_uri": "https://localhost:8080/"
        },
        "outputId": "5e1f9b28-a01e-4435-fd8d-fe5581f4173c"
      },
      "execution_count": null,
      "outputs": [
        {
          "output_type": "stream",
          "name": "stdout",
          "text": [
            "Mounted at /content/drive\n"
          ]
        }
      ]
    },
    {
      "cell_type": "code",
      "execution_count": null,
      "metadata": {
        "id": "5tQvbYKe0rX2"
      },
      "outputs": [],
      "source": [
        "!pip install -q condacolab\n",
        "import condacolab\n",
        "condacolab.install()\n",
        "!conda install -c bioconda bedtools"
      ]
    },
    {
      "cell_type": "code",
      "source": [
        "!pip install biopython"
      ],
      "metadata": {
        "id": "gJnsRtHoxXDc"
      },
      "execution_count": null,
      "outputs": []
    },
    {
      "cell_type": "code",
      "source": [
        "!pip install pybedtools\n",
        "from pybedtools import BedTool"
      ],
      "metadata": {
        "id": "SBkG7bEmEekk"
      },
      "execution_count": null,
      "outputs": []
    },
    {
      "cell_type": "code",
      "source": [
        "import pandas as pd\n",
        "import numpy as np\n",
        "import math\n",
        "import pickle\n",
        "from tqdm.notebook import tqdm\n",
        "from random import sample\n",
        "\n",
        "import seaborn as sns\n",
        "import matplotlib.pyplot as plt\n",
        "\n",
        "import Bio\n",
        "from Bio import SeqIO"
      ],
      "metadata": {
        "id": "knFgtjib1DSO"
      },
      "execution_count": null,
      "outputs": []
    },
    {
      "cell_type": "code",
      "source": [
        "sns.set(font_scale=1)\n",
        "sns.set_style(\"ticks\") "
      ],
      "metadata": {
        "id": "bsFnpLXEF7tj"
      },
      "execution_count": null,
      "outputs": []
    },
    {
      "cell_type": "markdown",
      "source": [
        "#Genome mm10"
      ],
      "metadata": {
        "id": "-fYm1yBURFTE"
      }
    },
    {
      "cell_type": "markdown",
      "source": [
        "https://hgdownload.soe.ucsc.edu/goldenPath/mm10/chromosomes/"
      ],
      "metadata": {
        "id": "dPxOwgTXDXcp"
      }
    },
    {
      "cell_type": "code",
      "source": [
        "chrom_names = [f'chr{i}' for i in list(range(1, 20)) + ['X', 'Y']]"
      ],
      "metadata": {
        "id": "mXDk698BB5Gj"
      },
      "execution_count": null,
      "outputs": []
    },
    {
      "cell_type": "code",
      "source": [
        "!gunzip '/content/drive/MyDrive/Triplexes/data/mm10'/*"
      ],
      "metadata": {
        "id": "Sr0lFkGY7n_h"
      },
      "execution_count": null,
      "outputs": []
    },
    {
      "cell_type": "markdown",
      "source": [
        "#Triplex DNA regions"
      ],
      "metadata": {
        "id": "cXluOtIdze4G"
      }
    },
    {
      "cell_type": "markdown",
      "source": [
        "##Experimental data"
      ],
      "metadata": {
        "id": "nugzjwsCfn4R"
      }
    },
    {
      "cell_type": "markdown",
      "source": [
        "Triplex DNA regions from Kouzine and Wojtowicz work (Kouzine F, Wojtowicz D, Baranello L, et al. Permanganate/S1 Nuclease Footprinting Reveals Non-B DNA Structures with Regulatory Potential across a Mammalian Genome. Cell Syst. 2017;4(3):344-356.e7. doi:10.1016/j.cels.2017.01.013)"
      ],
      "metadata": {
        "id": "B30WlrGnljJ9"
      }
    },
    {
      "cell_type": "code",
      "source": [
        "!gdown https://www.ncbi.nlm.nih.gov/CBBresearch/Przytycka/software/nonbdna/nonB_DNA_ssDNA_enriched.tar"
      ],
      "metadata": {
        "id": "rN2CvxJr1KH8",
        "colab": {
          "base_uri": "https://localhost:8080/"
        },
        "outputId": "1d47a444-dfd1-4982-86bd-13fdd441f492"
      },
      "execution_count": null,
      "outputs": [
        {
          "output_type": "stream",
          "name": "stdout",
          "text": [
            "Downloading...\n",
            "From: https://www.ncbi.nlm.nih.gov/CBBresearch/Przytycka/software/nonbdna/nonB_DNA_ssDNA_enriched.tar\n",
            "To: /content/nonB_DNA_ssDNA_enriched.tar\n",
            "\r0.00B [00:00, ?B/s]\r448kB [00:00, 3.87MB/s]\r1.50MB [00:00, 9.82MB/s]\n"
          ]
        }
      ]
    },
    {
      "cell_type": "code",
      "source": [
        "!tar -xvf '/content/nonB_DNA_ssDNA_enriched.tar'"
      ],
      "metadata": {
        "colab": {
          "base_uri": "https://localhost:8080/"
        },
        "id": "A1Cyzox6CviO",
        "outputId": "9a319ae0-9b8c-46af-f2ff-3223824b8a58"
      },
      "execution_count": null,
      "outputs": [
        {
          "output_type": "stream",
          "name": "stdout",
          "text": [
            "nonB_DNA_ssDNA_enriched/\n",
            "nonB_DNA_ssDNA_enriched/human_hg19/\n",
            "nonB_DNA_ssDNA_enriched/human_hg19/Raji_ssDNA_enriched_H-DNA.bed.gz\n",
            "nonB_DNA_ssDNA_enriched/human_hg19/Raji_ssDNA_enriched_Quadruplex.bed.gz\n",
            "nonB_DNA_ssDNA_enriched/human_hg19/Raji_ssDNA_enriched_SIDD.bed.gz\n",
            "nonB_DNA_ssDNA_enriched/human_hg19/Raji_ssDNA_enriched_Z-DNA.bed.gz\n",
            "nonB_DNA_ssDNA_enriched/mouse_mm9/\n",
            "nonB_DNA_ssDNA_enriched/mouse_mm9/actB_ssDNA_enriched_H-DNA.bed.gz\n",
            "nonB_DNA_ssDNA_enriched/mouse_mm9/actB_ssDNA_enriched_Quadruplex.bed.gz\n",
            "nonB_DNA_ssDNA_enriched/mouse_mm9/actB_ssDNA_enriched_SIDD.bed.gz\n",
            "nonB_DNA_ssDNA_enriched/mouse_mm9/actB_ssDNA_enriched_Z-DNA.bed.gz\n"
          ]
        }
      ]
    },
    {
      "cell_type": "code",
      "source": [
        "GF = BedTool('/content/nonB_DNA_ssDNA_enriched/mouse_mm9/actB_ssDNA_enriched_H-DNA.bed.gz')\n",
        "len(GF)"
      ],
      "metadata": {
        "colab": {
          "base_uri": "https://localhost:8080/"
        },
        "id": "uEaAhAVTqFQU",
        "outputId": "be053687-1f1d-4ee1-8974-f6ef07fa92df"
      },
      "execution_count": null,
      "outputs": [
        {
          "output_type": "execute_result",
          "data": {
            "text/plain": [
              "17109"
            ]
          },
          "metadata": {},
          "execution_count": 8
        }
      ]
    },
    {
      "cell_type": "markdown",
      "source": [
        "##Assembly convertion to mm10"
      ],
      "metadata": {
        "id": "Jj1n3qHrROly"
      }
    },
    {
      "cell_type": "markdown",
      "source": [
        "liftOver site at https://genome.ucsc.edu/cgi-bin/hgLiftOver"
      ],
      "metadata": {
        "id": "uoNzqFKikFXh"
      }
    },
    {
      "cell_type": "code",
      "source": [
        "GF = BedTool('/content/hglft_genome_1d8f0_6696e0.bed')\n",
        "len(GF)"
      ],
      "metadata": {
        "colab": {
          "base_uri": "https://localhost:8080/"
        },
        "id": "z30eOs5td2Ya",
        "outputId": "437be68c-0056-4e20-fa7e-9d729855c1a3"
      },
      "execution_count": null,
      "outputs": [
        {
          "output_type": "execute_result",
          "data": {
            "text/plain": [
              "17100"
            ]
          },
          "metadata": {},
          "execution_count": 9
        }
      ]
    },
    {
      "cell_type": "markdown",
      "source": [
        "9 regions deleted in new assembly"
      ],
      "metadata": {
        "id": "0u6DhtrNqQ0u"
      }
    },
    {
      "cell_type": "code",
      "source": [
        "length =[]\n",
        "for el in GF:\n",
        "    length.append(el.end - el.start)\n",
        "\n",
        "print('Number of regions:', len(GF))\n",
        "print('Average length of region:', round(sum(length) / len(length)))\n",
        "print('Max length of region:', round(max(length)))\n",
        "print('Min length of region:', round(min(length)))\n",
        "print('First line:', GF[0])"
      ],
      "metadata": {
        "colab": {
          "base_uri": "https://localhost:8080/"
        },
        "id": "voIZ2KKsEwqe",
        "outputId": "a8cba02c-1400-451c-8570-d31391616e2b"
      },
      "execution_count": null,
      "outputs": [
        {
          "output_type": "stream",
          "name": "stdout",
          "text": [
            "Number of regions: 17100\n",
            "Average length of region: 33\n",
            "Max length of region: 99\n",
            "Min length of region: 16\n",
            "First line: chr1\t3175239\t3175255\tchr1:3165321-3165336\t1\n",
            "\n"
          ]
        }
      ]
    },
    {
      "cell_type": "markdown",
      "source": [
        "##Filtering"
      ],
      "metadata": {
        "id": "laVmkVG5_Hsk"
      }
    },
    {
      "cell_type": "markdown",
      "source": [
        "Filtering for black-listed regions"
      ],
      "metadata": {
        "id": "_IuIQdqk6Ylr"
      }
    },
    {
      "cell_type": "code",
      "source": [
        "!gdown https://github.com/Boyle-Lab/Blacklist/raw/master/lists/mm10-blacklist.v2.bed.gz"
      ],
      "metadata": {
        "colab": {
          "base_uri": "https://localhost:8080/"
        },
        "id": "UwFtPZ6f6XXq",
        "outputId": "4b8c014c-baf6-48e8-b095-1636043d4585"
      },
      "execution_count": null,
      "outputs": [
        {
          "output_type": "stream",
          "name": "stdout",
          "text": [
            "Downloading...\n",
            "From: https://github.com/Boyle-Lab/Blacklist/raw/master/lists/mm10-blacklist.v2.bed.gz\n",
            "To: /content/mm10-blacklist.v2.bed.gz\n",
            "\r  0% 0.00/30.4k [00:00<?, ?B/s]\r100% 30.4k/30.4k [00:00<00:00, 30.3MB/s]\n"
          ]
        }
      ]
    },
    {
      "cell_type": "code",
      "source": [
        "int = !bedtools intersect -a '/content/hglft_genome_1d8f0_6696e0.bed' -b '/content/mm10-blacklist.v2.bed.gz'\n",
        "len(int)"
      ],
      "metadata": {
        "colab": {
          "base_uri": "https://localhost:8080/"
        },
        "id": "x5p5Rcbi6s_f",
        "outputId": "e95a0615-4182-4054-e90b-04edba380543"
      },
      "execution_count": null,
      "outputs": [
        {
          "output_type": "execute_result",
          "data": {
            "text/plain": [
              "460"
            ]
          },
          "metadata": {},
          "execution_count": 12
        }
      ]
    },
    {
      "cell_type": "code",
      "source": [
        "GF = !bedtools subtract -a '/content/hglft_genome_1d8f0_6696e0.bed' -b '/content/mm10-blacklist.v2.bed.gz'\n",
        "len(GF)"
      ],
      "metadata": {
        "id": "eOaAKmgDGeA8",
        "colab": {
          "base_uri": "https://localhost:8080/"
        },
        "outputId": "de727522-f425-4672-f9c3-130a72a3661e"
      },
      "execution_count": null,
      "outputs": [
        {
          "output_type": "execute_result",
          "data": {
            "text/plain": [
              "16642"
            ]
          },
          "metadata": {},
          "execution_count": 13
        }
      ]
    },
    {
      "cell_type": "code",
      "source": [
        "460/17109"
      ],
      "metadata": {
        "id": "UWKzL3--X0EH",
        "outputId": "6079c2d7-5b8c-46fd-f48d-93f6cec049cc",
        "colab": {
          "base_uri": "https://localhost:8080/"
        }
      },
      "execution_count": null,
      "outputs": [
        {
          "output_type": "execute_result",
          "data": {
            "text/plain": [
              "0.026886434040563446"
            ]
          },
          "metadata": {},
          "execution_count": 2
        }
      ]
    },
    {
      "cell_type": "code",
      "source": [
        "GF = BedTool(GF)\n",
        "length =[]\n",
        "for el in GF:\n",
        "    length.append(el.end - el.start)\n",
        "\n",
        "print('Number of regions:', len(GF))\n",
        "print('Average length of region:', round(sum(length) / len(length)))\n",
        "print('Max length of region:', round(max(length)))\n",
        "print('Min length of region:', round(min(length)))\n",
        "print('First line:', GF[0])"
      ],
      "metadata": {
        "colab": {
          "base_uri": "https://localhost:8080/"
        },
        "id": "hvxjgFL0dAxN",
        "outputId": "b9e017a2-3f58-4234-e42e-888d46c67eef"
      },
      "execution_count": null,
      "outputs": [
        {
          "output_type": "stream",
          "name": "stdout",
          "text": [
            "Number of regions: 16642\n",
            "Average length of region: 33\n",
            "Max length of region: 99\n",
            "Min length of region: 8\n",
            "First line: chr1\t3175239\t3175255\tchr1:3165321-3165336\t1\n",
            "\n"
          ]
        }
      ]
    },
    {
      "cell_type": "code",
      "source": [
        "ax = sns.displot(length, kde=True)\n",
        "ax.set_axis_labels(\"Triplex length\", \"Number of regions\")\n",
        "ax.fig.suptitle('Distribution of triplex length')\n",
        "plt.show()"
      ],
      "metadata": {
        "colab": {
          "base_uri": "https://localhost:8080/",
          "height": 532
        },
        "id": "07wQOBLhUqCL",
        "outputId": "a87bac29-8951-4444-f3b2-409a14b47879"
      },
      "execution_count": null,
      "outputs": [
        {
          "output_type": "display_data",
          "data": {
            "text/plain": [
              "<Figure size 500x500 with 1 Axes>"
            ],
            "image/png": "[encoded data removed]"
          },
          "metadata": {}
        }
      ]
    }
  ]
}