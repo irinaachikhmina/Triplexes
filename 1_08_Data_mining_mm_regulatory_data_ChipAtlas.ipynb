{
  "nbformat": 4,
  "nbformat_minor": 0,
  "metadata": {
    "colab": {
      "provenance": [],
      "authorship_tag": "ABX9TyMxsKMTTTBTItBTgdO/7clj",
      "include_colab_link": true
    },
    "kernelspec": {
      "name": "python3",
      "display_name": "Python 3"
    },
    "language_info": {
      "name": "python"
    }
  },
  "cells": [
    {
      "cell_type": "markdown",
      "metadata": {
        "id": "view-in-github",
        "colab_type": "text"
      },
      "source": [
        "<a href=\"https://colab.research.google.com/github/irinaachikhmina/Triplexes/blob/main/1_08_Data_mining_mm_regulatory_data_ChipAtlas.ipynb\" target=\"_parent\"><img src=\"https://colab.research.google.com/assets/colab-badge.svg\" alt=\"Open In Colab\"/></a>"
      ]
    },
    {
      "cell_type": "markdown",
      "source": [
        "#Data mining and preprocessing: regulatory data download from ChIP-Atlas for mouse genome"
      ],
      "metadata": {
        "id": "PkEwq0hQsmzb"
      }
    },
    {
      "cell_type": "markdown",
      "source": [
        "The function takes the following parameters:\n",
        "\n",
        "* path_in: the input path where the BED files are located (default value is the ChIP-Atlas data for HG38)\n",
        "* path_out: the output file path where the resulting pickle file will be saved\n",
        "* experiment_type: the experiment type to filter the files by ('ATC' - ATAC-Seq, 'His' - histone marks, 'Pol' - RNA polymerase, 'Oth' - transcription factors and others, 'DNS' - DNase-Seq, 'InP' - input control, 'Bsf' - bisulfite-Seq, 'NoD' - no description, 'Unc' - unclassified)\n",
        "* cell_class: the cell class to filter the files by (default value is 'ALL')\n",
        "* threshold: the threshold to filter the files by (default value is '05')\n",
        "* antigen: the antigen to filter the files by (default value is 'AllAg')\n",
        "* cell_type: the cell type to filter the files by (default value is 'AllCell')\n",
        "\n",
        "The function loops through the files on ChipAtlas to get bed files that meet the defined conditions. For each file that meets the parameters, the function reads the file line by line and extracts the data about experiments' peaks (chromosome, start and end position, cell type) and a list of unique experiments.\n",
        "\n",
        "The data about experiments peaks is saved as a pickle file at the specified output path. The data about experiments is printed."
      ],
      "metadata": {
        "id": "tSVWSL1aqnxr"
      }
    },
    {
      "cell_type": "markdown",
      "source": [
        "## Imports"
      ],
      "metadata": {
        "id": "gpOAMozRA92h"
      }
    },
    {
      "cell_type": "code",
      "source": [
        "from google.colab import drive\n",
        "drive.mount('/content/drive')"
      ],
      "metadata": {
        "colab": {
          "base_uri": "https://localhost:8080/"
        },
        "id": "dWM2Y-AjrDA8",
        "outputId": "701931fb-6cfe-4e00-d86d-ef060713e397"
      },
      "execution_count": null,
      "outputs": [
        {
          "output_type": "stream",
          "name": "stdout",
          "text": [
            "Mounted at /content/drive\n"
          ]
        }
      ]
    },
    {
      "cell_type": "code",
      "execution_count": null,
      "metadata": {
        "id": "DVHchAuTqhBB"
      },
      "outputs": [],
      "source": [
        "import urllib.request\n",
        "from bs4 import BeautifulSoup\n",
        "\n",
        "from joblib import Parallel, delayed\n",
        "from tqdm import tqdm\n",
        "import time\n",
        "\n",
        "import pickle"
      ]
    },
    {
      "cell_type": "markdown",
      "source": [
        "## Defining functions"
      ],
      "metadata": {
        "id": "L1c5YmojBAXN"
      }
    },
    {
      "cell_type": "code",
      "source": [
        "def ChipAtlasCart(path_in='https://dbarchive.biosciencedbc.jp/data/chip-atlas/data/mm10/assembled/', \n",
        "                  path_out='sparse_data.pickle', \n",
        "                  experiment_type='His', \n",
        "                  cell_class='ALL', \n",
        "                  threshold='05', \n",
        "                  antigen='AllAg', \n",
        "                  cell_type='AllCell'):\n",
        "    \n",
        "    # Prepare cell type data\n",
        "    cell_type_raw = cell_type\n",
        "    cell_type = ()\n",
        "    for cell_raw in cell_type_raw:\n",
        "      cell = cell_raw.replace(\" \", \"_\")\n",
        "      cell = cell.replace('+', 'PULUS')\n",
        "      cell = cell.replace('(', 'BRACKETL')\n",
        "      cell = cell.replace(')', 'BRACKETR')\n",
        "      cell = cell.replace(',', 'KOMMA')\n",
        "      cell = cell.replace(',', 'PERIOD')\n",
        "      cell_type += (cell,)\n",
        "    \n",
        "    # Create empty list to store sparse data and experiments\n",
        "    sparse_data = []\n",
        "    experiments = []\n",
        "    cell_types = []\n",
        "\n",
        "    # Get list of .bed files' links\n",
        "    response = urllib.request.urlopen(path_in)\n",
        "    html = response.read()\n",
        "    soup = BeautifulSoup(html, 'html.parser')\n",
        "    links = [link.get('href') for link in soup.find_all('a') if link.get('href').endswith('.bed')]\n",
        "\n",
        "    # Loop through each file to filter based on the defined parameters\n",
        "    file_paths = []\n",
        "    for line in tqdm(links, desc=\"Filtering files\"):\n",
        "      filename = line.split('.')\n",
        "      if experiment_type not in filename:\n",
        "        continue\n",
        "      elif cell_class not in filename:\n",
        "        continue\n",
        "      elif threshold not in filename:\n",
        "        continue\n",
        "      elif antigen not in filename:\n",
        "        continue\n",
        "      elif cell_type not in filename and all(c_type not in filename for c_type in cell_type):\n",
        "        continue\n",
        "      else:\n",
        "        file_path = path_in + line\n",
        "        file_paths.append(file_path)\n",
        "    \n",
        "    # Loop through the list of file paths and process the data\n",
        "    for file_path in tqdm(file_paths, desc=\"Processing files\"):\n",
        "        filename = file_path.split('/')[-1]\n",
        "        cell_type = filename.split('.')[4]\n",
        "        with urllib.request.urlopen(file_path) as file:\n",
        "          for line in file:\n",
        "            if line.startswith(b'track'):\n",
        "                continue\n",
        "            cols = line.strip().split(b'\\t')\n",
        "            factor = cols[3].split(b';Name=')[1].split(b'%')[0]\n",
        "            experiment = cols[3].split(b'ID=')[1].split(b';')[0]\n",
        "            sparse_data.append((cols[0].decode(), cols[1].decode(), cols[2].decode(), factor.decode(), cell_type,  cols[4].decode()))\n",
        "            experiments.append(experiment.decode())\n",
        "            cell_types.append(cell_type)\n",
        "\n",
        "    # Save the sparse data to a pickle file\n",
        "    with open(path_out, 'wb') as file:\n",
        "        pickle.dump(sparse_data, file)\n",
        "\n",
        "\n",
        "    # Print the number of unique experiments and cell types\n",
        "    unique_experiments = list(set(experiments))\n",
        "    unique_cell_types = list(set(cell_types))\n",
        "    print(f\"Found {len(sparse_data)} peaks from {len(unique_experiments)} unique experiments and {len(unique_cell_types)} unique cell types\")\n",
        "\n",
        "    return None"
      ],
      "metadata": {
        "id": "zGysrzQbeQtt"
      },
      "execution_count": null,
      "outputs": []
    },
    {
      "cell_type": "markdown",
      "source": [
        "## Download"
      ],
      "metadata": {
        "id": "ysVT8-29BFDG"
      }
    },
    {
      "cell_type": "code",
      "source": [
        "b_cells = ('B cells', 'Germinal center B-cells')"
      ],
      "metadata": {
        "id": "zA9JKIJ0oAoA"
      },
      "execution_count": null,
      "outputs": []
    },
    {
      "cell_type": "code",
      "source": [
        "ChipAtlasCart(path_out='/content/drive/Triplexes/data/mm/pol.pickle',\n",
        "               experiment_type='Pol',\n",
        "               cell_class='Bld',\n",
        "               threshold='05',\n",
        "               antigen='AllAg',\n",
        "               cell_type=b_cells)"
      ],
      "metadata": {
        "id": "m34SepI4CCyH"
      },
      "execution_count": null,
      "outputs": []
    },
    {
      "cell_type": "code",
      "source": [
        "ChipAtlasCart(path_out='/content/drive/Triplexes/data/mm/dns.pickle',\n",
        "               experiment_type='DNS',\n",
        "               cell_class='Bld',\n",
        "               threshold='05',\n",
        "               antigen='AllAg',\n",
        "               cell_type=b_cells)"
      ],
      "metadata": {
        "id": "3ku5Ki2pCRQB"
      },
      "execution_count": null,
      "outputs": []
    },
    {
      "cell_type": "code",
      "source": [
        "ChipAtlasCart(path_out='/content/drive/Triplexes/data/mm/tf.pickle',\n",
        "              experiment_type='Oth',\n",
        "              cell_class='Bld',\n",
        "              threshold='05',\n",
        "              antigen='AllAg',\n",
        "              cell_type=b_cells)"
      ],
      "metadata": {
        "id": "L1FWvZtToArP"
      },
      "execution_count": null,
      "outputs": []
    },
    {
      "cell_type": "code",
      "source": [
        "ChipAtlasCart(path_out='/content/drive/Triplexes/data/mm/his.pickle',\n",
        "              experiment_type='His',\n",
        "              cell_class='Bld',\n",
        "              threshold='05',\n",
        "              antigen='AllAg',\n",
        "              cell_type=b_cells)"
      ],
      "metadata": {
        "id": "iPbggwh4C_dL"
      },
      "execution_count": null,
      "outputs": []
    }
  ]
}