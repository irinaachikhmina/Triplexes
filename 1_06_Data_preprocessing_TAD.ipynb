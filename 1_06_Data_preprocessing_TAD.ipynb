{
  "nbformat": 4,
  "nbformat_minor": 0,
  "metadata": {
    "colab": {
      "provenance": [],
      "authorship_tag": "ABX9TyMCfaJ+a2UkZqMgaJ8e9Siq",
      "include_colab_link": true
    },
    "kernelspec": {
      "name": "python3",
      "display_name": "Python 3"
    },
    "language_info": {
      "name": "python"
    }
  },
  "cells": [
    {
      "cell_type": "markdown",
      "metadata": {
        "id": "view-in-github",
        "colab_type": "text"
      },
      "source": [
        "<a href=\"https://colab.research.google.com/github/irinaachikhmina/Triplexes/blob/main/1_06_Data_preprocessing_TAD.ipynb\" target=\"_parent\"><img src=\"https://colab.research.google.com/assets/colab-badge.svg\" alt=\"Open In Colab\"/></a>"
      ]
    },
    {
      "cell_type": "markdown",
      "source": [
        "#Data mining and preprocessing: preprocessing of TAD boundaries"
      ],
      "metadata": {
        "id": "uQXK5QxFrCY5"
      }
    },
    {
      "cell_type": "markdown",
      "metadata": {
        "id": "C3W7xKbjXKN6"
      },
      "source": [
        "##Imports"
      ]
    },
    {
      "cell_type": "code",
      "execution_count": null,
      "metadata": {
        "colab": {
          "base_uri": "https://localhost:8080/"
        },
        "id": "md2rX5u-kDiz",
        "outputId": "d5d33033-ff84-45de-e4b8-400c5ae80b15"
      },
      "outputs": [
        {
          "output_type": "stream",
          "name": "stdout",
          "text": [
            "Mounted at /content/drive\n"
          ]
        }
      ],
      "source": [
        "from google.colab import drive\n",
        "drive.mount('/content/drive')"
      ]
    },
    {
      "cell_type": "code",
      "execution_count": null,
      "metadata": {
        "id": "ET_1R611XMPJ",
        "colab": {
          "base_uri": "https://localhost:8080/"
        },
        "outputId": "5644ad68-075f-4e04-b1d8-60e000e993d2"
      },
      "outputs": [
        {
          "output_type": "stream",
          "name": "stdout",
          "text": [
            "⏬ Downloading https://github.com/jaimergp/miniforge/releases/latest/download/Mambaforge-colab-Linux-x86_64.sh...\n",
            "📦 Installing...\n",
            "📌 Adjusting configuration...\n",
            "🩹 Patching environment...\n",
            "⏲ Done in 0:00:21\n",
            "🔁 Restarting kernel...\n"
          ]
        }
      ],
      "source": [
        "!pip install -q condacolab\n",
        "import condacolab\n",
        "condacolab.install()"
      ]
    },
    {
      "cell_type": "code",
      "execution_count": null,
      "metadata": {
        "id": "6yaOPuZSXUwS"
      },
      "outputs": [],
      "source": [
        "!conda install -c bioconda bedtools"
      ]
    },
    {
      "cell_type": "code",
      "execution_count": null,
      "metadata": {
        "colab": {
          "base_uri": "https://localhost:8080/"
        },
        "id": "io2jqQJyXVIn",
        "outputId": "a11db1f4-3150-4d38-f909-4360af532b08"
      },
      "outputs": [
        {
          "output_type": "stream",
          "name": "stdout",
          "text": [
            "Looking in indexes: https://pypi.org/simple, https://us-python.pkg.dev/colab-wheels/public/simple/\n",
            "Collecting pybedtools\n",
            "  Downloading pybedtools-0.9.0.tar.gz (12.5 MB)\n",
            "\u001b[2K     \u001b[90m━━━━━━━━━━━━━━━━━━━━━━━━━━━━━━━━━━━━━━━━\u001b[0m \u001b[32m12.5/12.5 MB\u001b[0m \u001b[31m48.4 MB/s\u001b[0m eta \u001b[36m0:00:00\u001b[0m\n",
            "\u001b[?25h  Preparing metadata (setup.py) ... \u001b[?25l\u001b[?25hdone\n",
            "Requirement already satisfied: six in /usr/local/lib/python3.9/dist-packages (from pybedtools) (1.15.0)\n",
            "Collecting pysam\n",
            "  Downloading pysam-0.20.0-cp39-cp39-manylinux_2_24_x86_64.whl (15.6 MB)\n",
            "\u001b[2K     \u001b[90m━━━━━━━━━━━━━━━━━━━━━━━━━━━━━━━━━━━━━━━━\u001b[0m \u001b[32m15.6/15.6 MB\u001b[0m \u001b[31m43.4 MB/s\u001b[0m eta \u001b[36m0:00:00\u001b[0m\n",
            "\u001b[?25hBuilding wheels for collected packages: pybedtools\n",
            "  Building wheel for pybedtools (setup.py) ... \u001b[?25l\u001b[?25hdone\n",
            "  Created wheel for pybedtools: filename=pybedtools-0.9.0-cp39-cp39-linux_x86_64.whl size=14245690 sha256=5ed295fde6e5fe6d90920e5a0e78c0516af40eebfc4c7f3bd091634cf1012c1c\n",
            "  Stored in directory: /root/.cache/pip/wheels/6f/fc/24/7900a6b618e0a104cd8a2d4024ce4bb94569917b4417af2e95\n",
            "Successfully built pybedtools\n",
            "Installing collected packages: pysam, pybedtools\n",
            "Successfully installed pybedtools-0.9.0 pysam-0.20.0\n"
          ]
        }
      ],
      "source": [
        "!pip install pybedtools"
      ]
    },
    {
      "cell_type": "code",
      "execution_count": null,
      "metadata": {
        "id": "I4ldmSVJXVhq"
      },
      "outputs": [],
      "source": [
        "from pybedtools import BedTool"
      ]
    },
    {
      "cell_type": "code",
      "execution_count": null,
      "metadata": {
        "id": "srr8oXl17wHS"
      },
      "outputs": [],
      "source": [
        "import pandas as pd"
      ]
    },
    {
      "cell_type": "markdown",
      "metadata": {
        "id": "vvHS8cBBVgrp"
      },
      "source": [
        "##Reading data"
      ]
    },
    {
      "cell_type": "markdown",
      "metadata": {
        "id": "jWUb_CF5Vlxd"
      },
      "source": [
        "TAD boundaries for GM12878 cell line, published in Schmitt AD, Hu M, Jung I, Xu Z, Qiu Y, Tan CL, et al. A compendium of chromatin contact maps reveals spatially active regions in the human genome. Cell reports. 2016;17(8):2042–59. 10.1016/j.celrep.2016.10.061 <br>\n",
        "\n",
        "hg19"
      ]
    },
    {
      "cell_type": "code",
      "source": [
        "!sort -k1,1V -k2,2n /content/drive/MyDrive/Triplexes/data/NIHMS828671-supplement-3.xlsx > /content/drive/MyDrive/Triplexes/data/tad.bed"
      ],
      "metadata": {
        "id": "WPiEkI8NrHFe"
      },
      "execution_count": null,
      "outputs": []
    },
    {
      "cell_type": "markdown",
      "source": [
        "##Lift over"
      ],
      "metadata": {
        "id": "APrmjxJrt84s"
      }
    },
    {
      "cell_type": "markdown",
      "source": [
        "liftOver site at https://genome.ucsc.edu/cgi-bin/hgLiftOver <br>\n",
        "Successfully converted 2288 records <br>\n",
        "Conversion failed on 18 records"
      ],
      "metadata": {
        "id": "EwNG6-RtGqQZ"
      }
    },
    {
      "cell_type": "markdown",
      "metadata": {
        "id": "-FandEpMWZ2-"
      },
      "source": [
        "##Filtering for black-listed regions"
      ]
    },
    {
      "cell_type": "code",
      "execution_count": null,
      "metadata": {
        "colab": {
          "base_uri": "https://localhost:8080/"
        },
        "id": "H3UdqQPEkKJU",
        "outputId": "e2a2b00a-99ef-4e98-a6e4-0d5fc7a2b170"
      },
      "outputs": [
        {
          "output_type": "stream",
          "name": "stdout",
          "text": [
            "Downloading...\n",
            "From: https://github.com/Boyle-Lab/Blacklist/raw/master/lists/hg38-blacklist.v2.bed.gz\n",
            "To: /content/hg38-blacklist.v2.bed.gz\n",
            "\r  0% 0.00/5.87k [00:00<?, ?B/s]\r100% 5.87k/5.87k [00:00<00:00, 9.27MB/s]\n"
          ]
        }
      ],
      "source": [
        "!gdown https://github.com/Boyle-Lab/Blacklist/raw/master/lists/hg38-blacklist.v2.bed.gz"
      ]
    },
    {
      "cell_type": "code",
      "execution_count": null,
      "metadata": {
        "id": "wr6-t2JuVuss",
        "colab": {
          "base_uri": "https://localhost:8080/"
        },
        "outputId": "56a6b5ee-56c8-4564-8d9b-532f94e9952c"
      },
      "outputs": [
        {
          "output_type": "execute_result",
          "data": {
            "text/plain": [
              "2269"
            ]
          },
          "metadata": {},
          "execution_count": 2
        }
      ],
      "source": [
        "tad = !bedtools subtract -a '/content/drive/MyDrive/Triplexes/data/hglft_tad.bed' -b '/content/hg38-blacklist.v2.bed.gz'\n",
        "len(tad)"
      ]
    },
    {
      "cell_type": "code",
      "execution_count": null,
      "metadata": {
        "id": "jK-HZvryWbGJ"
      },
      "outputs": [],
      "source": [
        "tad = BedTool(tad)"
      ]
    },
    {
      "cell_type": "code",
      "execution_count": null,
      "metadata": {
        "colab": {
          "base_uri": "https://localhost:8080/"
        },
        "id": "sopoN7F2WDvK",
        "outputId": "705bcee6-3a93-4862-cb94-93bcb57bdea5"
      },
      "outputs": [
        {
          "output_type": "execute_result",
          "data": {
            "text/plain": [
              "<BedTool(/content/drive/MyDrive/Triplexes/data/tad.bed)>"
            ]
          },
          "metadata": {},
          "execution_count": 6
        }
      ],
      "source": [
        "tad.saveas('/content/drive/MyDrive/Triplexes/data/tad.bed')"
      ]
    },
    {
      "cell_type": "code",
      "execution_count": null,
      "metadata": {
        "colab": {
          "base_uri": "https://localhost:8080/",
          "height": 206
        },
        "id": "BKGTfKB9dJVt",
        "outputId": "e81cb962-5577-4b51-f3e9-9a475c9b6424"
      },
      "outputs": [
        {
          "output_type": "execute_result",
          "data": {
            "text/plain": [
              "  Chromosome    Start      End                 info1  info2\n",
              "0       chr1  3403436  3443436  chr1:3320001-3360000      1\n",
              "1       chr1  6019940  6059940  chr1:6080001-6120000      1\n",
              "2       chr1  7739940  7779940  chr1:7800001-7840000      1\n",
              "3       chr1  8979941  9019941  chr1:9040001-9080000      1\n",
              "4       chr1  9619942  9659942  chr1:9680001-9720000      1"
            ],
            "text/html": [
              "\n",
              "  <div id=\"df-85759819-26c4-4211-8501-6119453de8c1\">\n",
              "    <div class=\"colab-df-container\">\n",
              "      <div>\n",
              "<style scoped>\n",
              "    .dataframe tbody tr th:only-of-type {\n",
              "        vertical-align: middle;\n",
              "    }\n",
              "\n",
              "    .dataframe tbody tr th {\n",
              "        vertical-align: top;\n",
              "    }\n",
              "\n",
              "    .dataframe thead th {\n",
              "        text-align: right;\n",
              "    }\n",
              "</style>\n",
              "<table border=\"1\" class=\"dataframe\">\n",
              "  <thead>\n",
              "    <tr style=\"text-align: right;\">\n",
              "      <th></th>\n",
              "      <th>Chromosome</th>\n",
              "      <th>Start</th>\n",
              "      <th>End</th>\n",
              "      <th>info1</th>\n",
              "      <th>info2</th>\n",
              "    </tr>\n",
              "  </thead>\n",
              "  <tbody>\n",
              "    <tr>\n",
              "      <th>0</th>\n",
              "      <td>chr1</td>\n",
              "      <td>3403436</td>\n",
              "      <td>3443436</td>\n",
              "      <td>chr1:3320001-3360000</td>\n",
              "      <td>1</td>\n",
              "    </tr>\n",
              "    <tr>\n",
              "      <th>1</th>\n",
              "      <td>chr1</td>\n",
              "      <td>6019940</td>\n",
              "      <td>6059940</td>\n",
              "      <td>chr1:6080001-6120000</td>\n",
              "      <td>1</td>\n",
              "    </tr>\n",
              "    <tr>\n",
              "      <th>2</th>\n",
              "      <td>chr1</td>\n",
              "      <td>7739940</td>\n",
              "      <td>7779940</td>\n",
              "      <td>chr1:7800001-7840000</td>\n",
              "      <td>1</td>\n",
              "    </tr>\n",
              "    <tr>\n",
              "      <th>3</th>\n",
              "      <td>chr1</td>\n",
              "      <td>8979941</td>\n",
              "      <td>9019941</td>\n",
              "      <td>chr1:9040001-9080000</td>\n",
              "      <td>1</td>\n",
              "    </tr>\n",
              "    <tr>\n",
              "      <th>4</th>\n",
              "      <td>chr1</td>\n",
              "      <td>9619942</td>\n",
              "      <td>9659942</td>\n",
              "      <td>chr1:9680001-9720000</td>\n",
              "      <td>1</td>\n",
              "    </tr>\n",
              "  </tbody>\n",
              "</table>\n",
              "</div>\n",
              "      <button class=\"colab-df-convert\" onclick=\"convertToInteractive('df-85759819-26c4-4211-8501-6119453de8c1')\"\n",
              "              title=\"Convert this dataframe to an interactive table.\"\n",
              "              style=\"display:none;\">\n",
              "        \n",
              "  <svg xmlns=\"http://www.w3.org/2000/svg\" height=\"24px\"viewBox=\"0 0 24 24\"\n",
              "       width=\"24px\">\n",
              "    <path d=\"M0 0h24v24H0V0z\" fill=\"none\"/>\n",
              "    <path d=\"M18.56 5.44l.94 2.06.94-2.06 2.06-.94-2.06-.94-.94-2.06-.94 2.06-2.06.94zm-11 1L8.5 8.5l.94-2.06 2.06-.94-2.06-.94L8.5 2.5l-.94 2.06-2.06.94zm10 10l.94 2.06.94-2.06 2.06-.94-2.06-.94-.94-2.06-.94 2.06-2.06.94z\"/><path d=\"M17.41 7.96l-1.37-1.37c-.4-.4-.92-.59-1.43-.59-.52 0-1.04.2-1.43.59L10.3 9.45l-7.72 7.72c-.78.78-.78 2.05 0 2.83L4 21.41c.39.39.9.59 1.41.59.51 0 1.02-.2 1.41-.59l7.78-7.78 2.81-2.81c.8-.78.8-2.07 0-2.86zM5.41 20L4 18.59l7.72-7.72 1.47 1.35L5.41 20z\"/>\n",
              "  </svg>\n",
              "      </button>\n",
              "      \n",
              "  <style>\n",
              "    .colab-df-container {\n",
              "      display:flex;\n",
              "      flex-wrap:wrap;\n",
              "      gap: 12px;\n",
              "    }\n",
              "\n",
              "    .colab-df-convert {\n",
              "      background-color: #E8F0FE;\n",
              "      border: none;\n",
              "      border-radius: 50%;\n",
              "      cursor: pointer;\n",
              "      display: none;\n",
              "      fill: #1967D2;\n",
              "      height: 32px;\n",
              "      padding: 0 0 0 0;\n",
              "      width: 32px;\n",
              "    }\n",
              "\n",
              "    .colab-df-convert:hover {\n",
              "      background-color: #E2EBFA;\n",
              "      box-shadow: 0px 1px 2px rgba(60, 64, 67, 0.3), 0px 1px 3px 1px rgba(60, 64, 67, 0.15);\n",
              "      fill: #174EA6;\n",
              "    }\n",
              "\n",
              "    [theme=dark] .colab-df-convert {\n",
              "      background-color: #3B4455;\n",
              "      fill: #D2E3FC;\n",
              "    }\n",
              "\n",
              "    [theme=dark] .colab-df-convert:hover {\n",
              "      background-color: #434B5C;\n",
              "      box-shadow: 0px 1px 3px 1px rgba(0, 0, 0, 0.15);\n",
              "      filter: drop-shadow(0px 1px 2px rgba(0, 0, 0, 0.3));\n",
              "      fill: #FFFFFF;\n",
              "    }\n",
              "  </style>\n",
              "\n",
              "      <script>\n",
              "        const buttonEl =\n",
              "          document.querySelector('#df-85759819-26c4-4211-8501-6119453de8c1 button.colab-df-convert');\n",
              "        buttonEl.style.display =\n",
              "          google.colab.kernel.accessAllowed ? 'block' : 'none';\n",
              "\n",
              "        async function convertToInteractive(key) {\n",
              "          const element = document.querySelector('#df-85759819-26c4-4211-8501-6119453de8c1');\n",
              "          const dataTable =\n",
              "            await google.colab.kernel.invokeFunction('convertToInteractive',\n",
              "                                                     [key], {});\n",
              "          if (!dataTable) return;\n",
              "\n",
              "          const docLinkHtml = 'Like what you see? Visit the ' +\n",
              "            '<a target=\"_blank\" href=https://colab.research.google.com/notebooks/data_table.ipynb>data table notebook</a>'\n",
              "            + ' to learn more about interactive tables.';\n",
              "          element.innerHTML = '';\n",
              "          dataTable['output_type'] = 'display_data';\n",
              "          await google.colab.output.renderOutput(dataTable, element);\n",
              "          const docLink = document.createElement('div');\n",
              "          docLink.innerHTML = docLinkHtml;\n",
              "          element.appendChild(docLink);\n",
              "        }\n",
              "      </script>\n",
              "    </div>\n",
              "  </div>\n",
              "  "
            ]
          },
          "metadata": {},
          "execution_count": 9
        }
      ],
      "source": [
        "tad = pd.read_csv('/content/drive/MyDrive/Triplexes/data/tad.bed', sep='\\t', names=('Chromosome', 'Start', 'End', 'info1', 'info2'))\n",
        "tad.head()"
      ]
    }
  ]
}