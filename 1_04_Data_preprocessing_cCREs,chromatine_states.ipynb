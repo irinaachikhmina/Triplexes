{
  "cells": [
    {
      "cell_type": "markdown",
      "metadata": {
        "id": "view-in-github",
        "colab_type": "text"
      },
      "source": [
        "<a href=\"https://colab.research.google.com/github/irinaachikhmina/Triplexes/blob/main/1_04_Data_preprocessing_cCREs%2Cchromatine_states.ipynb\" target=\"_parent\"><img src=\"https://colab.research.google.com/assets/colab-badge.svg\" alt=\"Open In Colab\"/></a>"
      ]
    },
    {
      "cell_type": "markdown",
      "metadata": {
        "id": "iEY8ULnVVS17"
      },
      "source": [
        "#Data mining and preprocessing: preprocessing of regulatory data"
      ]
    },
    {
      "cell_type": "markdown",
      "metadata": {
        "id": "C3W7xKbjXKN6"
      },
      "source": [
        "##Imports"
      ]
    },
    {
      "cell_type": "code",
      "execution_count": null,
      "metadata": {
        "colab": {
          "base_uri": "https://localhost:8080/"
        },
        "id": "md2rX5u-kDiz",
        "outputId": "fd720540-77cd-4edf-c7aa-41265140dd32"
      },
      "outputs": [
        {
          "output_type": "stream",
          "name": "stdout",
          "text": [
            "Drive already mounted at /content/drive; to attempt to forcibly remount, call drive.mount(\"/content/drive\", force_remount=True).\n"
          ]
        }
      ],
      "source": [
        "from google.colab import drive\n",
        "drive.mount('/content/drive')"
      ]
    },
    {
      "cell_type": "code",
      "execution_count": null,
      "metadata": {
        "id": "ET_1R611XMPJ",
        "colab": {
          "base_uri": "https://localhost:8080/"
        },
        "outputId": "8c855748-bfe1-4504-9885-0bd0e6f1fc1b"
      },
      "outputs": [
        {
          "output_type": "stream",
          "name": "stdout",
          "text": [
            "⏬ Downloading https://github.com/conda-forge/miniforge/releases/download/23.1.0-1/Mambaforge-23.1.0-1-Linux-x86_64.sh...\n",
            "📦 Installing...\n",
            "📌 Adjusting configuration...\n",
            "🩹 Patching environment...\n",
            "⏲ Done in 0:00:12\n",
            "🔁 Restarting kernel...\n"
          ]
        }
      ],
      "source": [
        "!pip install -q condacolab\n",
        "import condacolab\n",
        "condacolab.install()\n",
        "!conda install -c bioconda bedtools"
      ]
    },
    {
      "cell_type": "code",
      "execution_count": null,
      "metadata": {
        "id": "io2jqQJyXVIn"
      },
      "outputs": [],
      "source": [
        "!pip install pybedtools"
      ]
    },
    {
      "cell_type": "code",
      "execution_count": null,
      "metadata": {
        "id": "I4ldmSVJXVhq"
      },
      "outputs": [],
      "source": [
        "from pybedtools import BedTool"
      ]
    },
    {
      "cell_type": "code",
      "execution_count": null,
      "metadata": {
        "id": "srr8oXl17wHS"
      },
      "outputs": [],
      "source": [
        "import pandas as pd\n",
        "#import pyranges as pr"
      ]
    },
    {
      "cell_type": "markdown",
      "metadata": {
        "id": "vvHS8cBBVgrp"
      },
      "source": [
        "##Chromatin states and cCREs"
      ]
    },
    {
      "cell_type": "markdown",
      "metadata": {
        "id": "jWUb_CF5Vlxd"
      },
      "source": [
        "Data from Encode, current version as of 27.02.2023, hg38. <br>\n",
        "Cell types:\n",
        "* B cells\n",
        "* NAMALWA\n",
        "* GM06990\n",
        "* GM08714\n",
        "* GM10248\n",
        "* GM10266\n",
        "* GM12801 \n",
        "* GM12864\n",
        "* GM12865\n",
        "* GM12872 \n",
        "* GM12873 \n",
        "* GM12874 \n",
        "* GM12875\n",
        "* GM12878\n",
        "* GM12891\n",
        "* GM12892\n",
        "* GM13976 \n",
        "* GM13977 \n",
        "* GM19238\n",
        "* GM19239\n",
        "* GM19240\n",
        "* GM20000 \n",
        "* MM.1S\n",
        "* RPMI8226\n",
        "* acctivated B cell\n",
        "* igD-negative memory B cell"
      ]
    },
    {
      "cell_type": "markdown",
      "metadata": {
        "id": "g3tcmgR8YeZJ"
      },
      "source": [
        "Cell-agnistic cCREs:"
      ]
    },
    {
      "cell_type": "code",
      "execution_count": null,
      "metadata": {
        "id": "IFjV_ZciYi3j"
      },
      "outputs": [],
      "source": [
        "!zcat /content/drive/MyDrive/Triplexes/data/ccres_agnostic/ENCFF924IMH.bed.gz | cut -f 1-3,10 > /content/drive/MyDrive/Triplexes/data/ccres_ag.bed"
      ]
    },
    {
      "cell_type": "code",
      "execution_count": null,
      "metadata": {
        "id": "D8rkdRonZeOx"
      },
      "outputs": [],
      "source": [
        "!sort -k1,1V -k2,2n /content/drive/MyDrive/Triplexes/data/ccres_ag.bed > /content/drive/MyDrive/Triplexes/data/ccres_agn.bed"
      ]
    },
    {
      "cell_type": "markdown",
      "metadata": {
        "id": "C6rOxnvIOZAw"
      },
      "source": [
        "Cell-specific cCREs:"
      ]
    },
    {
      "cell_type": "code",
      "execution_count": null,
      "metadata": {
        "id": "BLY6mb4Qj7E_"
      },
      "outputs": [],
      "source": [
        "!zcat /content/drive/MyDrive/Triplexes/data/ccres_specific/*.bed.gz | cut -f 1-3,10 > /content/drive/MyDrive/Triplexes/data/ccres_s.bed"
      ]
    },
    {
      "cell_type": "code",
      "execution_count": null,
      "metadata": {
        "id": "B1_CqLlikKDf"
      },
      "outputs": [],
      "source": [
        "!sort -k1,1V -k2,2n /content/drive/MyDrive/Triplexes/data/ccres_s.bed > /content/drive/MyDrive/Triplexes/data/ccres_spec.bed"
      ]
    },
    {
      "cell_type": "markdown",
      "metadata": {
        "id": "Rv5VqfhHRrhI"
      },
      "source": [
        "Chromosome states:"
      ]
    },
    {
      "cell_type": "code",
      "execution_count": null,
      "metadata": {
        "id": "l6JZ9bFUmB56"
      },
      "outputs": [],
      "source": [
        "!zcat /content/drive/MyDrive/Triplexes/data/chrom_states/*.bed.gz | cut -f 1-4 > /content/drive/MyDrive/Triplexes/data/chr_st.bed"
      ]
    },
    {
      "cell_type": "code",
      "execution_count": null,
      "metadata": {
        "id": "0fXrt8jZkKF_"
      },
      "outputs": [],
      "source": [
        "!sort -k1,1V -k2,2n /content/drive/MyDrive/Triplexes/data/chr_st.bed > /content/drive/MyDrive/Triplexes/data/chr_states.bed"
      ]
    },
    {
      "cell_type": "markdown",
      "metadata": {
        "id": "-FandEpMWZ2-"
      },
      "source": [
        "##Filtering for black-listed regions"
      ]
    },
    {
      "cell_type": "code",
      "execution_count": null,
      "metadata": {
        "colab": {
          "base_uri": "https://localhost:8080/"
        },
        "id": "H3UdqQPEkKJU",
        "outputId": "2b18fa09-2947-4d1c-ee2b-8832e9426b79"
      },
      "outputs": [
        {
          "output_type": "stream",
          "name": "stdout",
          "text": [
            "Downloading...\n",
            "From: https://github.com/Boyle-Lab/Blacklist/raw/master/lists/hg38-blacklist.v2.bed.gz\n",
            "To: /content/hg38-blacklist.v2.bed.gz\n",
            "\r  0% 0.00/5.87k [00:00<?, ?B/s]\r100% 5.87k/5.87k [00:00<00:00, 18.4MB/s]\n"
          ]
        }
      ],
      "source": [
        "!gdown https://github.com/Boyle-Lab/Blacklist/raw/master/lists/hg38-blacklist.v2.bed.gz"
      ]
    },
    {
      "cell_type": "markdown",
      "metadata": {
        "id": "f3mMd11NYUhO"
      },
      "source": [
        "###Cell-agnostic cCREs"
      ]
    },
    {
      "cell_type": "code",
      "execution_count": null,
      "metadata": {
        "colab": {
          "base_uri": "https://localhost:8080/"
        },
        "id": "sopoN7F2WDvK",
        "outputId": "c65d4479-be10-406e-d6bd-b573c2fdf1d0"
      },
      "outputs": [
        {
          "data": {
            "text/plain": [
              "<BedTool(/content/drive/MyDrive/Triplexes/data/ccres_agn.bed)>"
            ]
          },
          "execution_count": 20,
          "metadata": {},
          "output_type": "execute_result"
        }
      ],
      "source": [
        "ccres_agn = !bedtools subtract -a '/content/drive/MyDrive/Triplexes/data/ccres_agn.bed' -b '/content/hg38-blacklist.v2.bed.gz'\n",
        "ccres_agn = BedTool(ccres_agn)\n",
        "ccres_agn.saveas('/content/drive/MyDrive/Triplexes/data/ccres_agn.bed')"
      ]
    },
    {
      "cell_type": "code",
      "execution_count": null,
      "metadata": {
        "colab": {
          "base_uri": "https://localhost:8080/"
        },
        "id": "9tsDB5uI5CmC",
        "outputId": "e3f2e4fe-57bc-47b9-a944-c31a8cfd748b"
      },
      "outputs": [
        {
          "name": "stdout",
          "output_type": "stream",
          "text": [
            "923578\n"
          ]
        }
      ],
      "source": [
        "print(len(ccres_agn))"
      ]
    },
    {
      "cell_type": "code",
      "execution_count": null,
      "metadata": {
        "colab": {
          "base_uri": "https://localhost:8080/"
        },
        "id": "PVIf-tJy5NGi",
        "outputId": "5fd43910-96d4-4e5e-f402-ef63ec366649"
      },
      "outputs": [
        {
          "data": {
            "text/plain": [
              "dELS                        448044\n",
              "dELS,CTCF-bound             217991\n",
              "pELS,CTCF-bound              77056\n",
              "pELS                         64184\n",
              "CTCF-only,CTCF-bound         56400\n",
              "PLS,CTCF-bound               27057\n",
              "DNase-H3K4me3                16600\n",
              "DNase-H3K4me3,CTCF-bound      8706\n",
              "PLS                           7540\n",
              "Name: Name, dtype: int64"
            ]
          },
          "execution_count": 44,
          "metadata": {},
          "output_type": "execute_result"
        }
      ],
      "source": [
        "ccres_agn.Name.value_counts()"
      ]
    },
    {
      "cell_type": "markdown",
      "metadata": {
        "id": "3VJSQYEzXQX1"
      },
      "source": [
        "###Cell-specific cCREs"
      ]
    },
    {
      "cell_type": "code",
      "execution_count": null,
      "metadata": {
        "colab": {
          "base_uri": "https://localhost:8080/"
        },
        "id": "xsoqB3ZUkKMw",
        "outputId": "036a972a-8bbb-4af0-baa3-a9d9e2caf64c"
      },
      "outputs": [
        {
          "output_type": "execute_result",
          "data": {
            "text/plain": [
              "43453317"
            ]
          },
          "metadata": {},
          "execution_count": 1
        }
      ],
      "source": [
        "ccres = !bedtools subtract -a '/content/drive/MyDrive/Triplexes/data/ccres_spec.bed' -b '/content/hg38-blacklist.v2.bed.gz'\n",
        "len(ccres)"
      ]
    },
    {
      "cell_type": "code",
      "execution_count": null,
      "metadata": {
        "id": "ZRYmR2czWr4C"
      },
      "outputs": [],
      "source": [
        "ccres = BedTool(ccres)"
      ]
    },
    {
      "cell_type": "code",
      "execution_count": null,
      "metadata": {
        "colab": {
          "base_uri": "https://localhost:8080/"
        },
        "id": "Xj45mQNR56GT",
        "outputId": "c67ba1b8-9911-4c40-deac-270173f65e85"
      },
      "outputs": [
        {
          "output_type": "execute_result",
          "data": {
            "text/plain": [
              "Low-DNase                    23756041\n",
              "Unclassified                 15170426\n",
              "DNase-only                    2101460\n",
              "High-H3K4me3                   804073\n",
              "High-H3K4me3,High-H3K27ac      380206\n",
              "High-CTCF                      357039\n",
              "High-H3K27ac                   230199\n",
              "DNase-only,CTCF-bound          191768\n",
              "PLS                            135801\n",
              "pELS                           100849\n",
              "dELS                            97633\n",
              "DNase-H3K4me3                   35247\n",
              "CTCF-only,CTCF-bound            33429\n",
              "PLS,CTCF-bound                  19962\n",
              "High-H3K4me3,High-CTCF          15449\n",
              "pELS,CTCF-bound                 10206\n",
              "dELS,CTCF-bound                  8036\n",
              "DNase-H3K4me3,CTCF-bound         5493\n",
              "Name: Name, dtype: int64"
            ]
          },
          "metadata": {},
          "execution_count": 12
        }
      ],
      "source": [
        "ccres.Name.value_counts()"
      ]
    },
    {
      "cell_type": "code",
      "source": [
        "print(len(ccres))\n",
        "print(len(ccres) - len(ccres[ccres['Name'] == 'Unclassified']))"
      ],
      "metadata": {
        "colab": {
          "base_uri": "https://localhost:8080/"
        },
        "id": "HyZQukMbzET0",
        "outputId": "2d14ce4d-6618-4438-a7d0-aba64c82b009"
      },
      "execution_count": null,
      "outputs": [
        {
          "output_type": "stream",
          "name": "stdout",
          "text": [
            "43453317\n",
            "28282891\n"
          ]
        }
      ]
    },
    {
      "cell_type": "code",
      "execution_count": null,
      "metadata": {
        "colab": {
          "base_uri": "https://localhost:8080/"
        },
        "id": "fsxkMqncXDXq",
        "outputId": "b3d47cb3-22df-4b9d-e6fd-e9214bd632bb"
      },
      "outputs": [
        {
          "output_type": "execute_result",
          "data": {
            "text/plain": [
              "<BedTool(/content/drive/MyDrive/Triplexes/ccres_spec.bed)>"
            ]
          },
          "metadata": {},
          "execution_count": 5
        }
      ],
      "source": [
        "ccres.saveas('/content/drive/MyDrive/Triplexes/data/ccres_spec.bed')"
      ]
    },
    {
      "cell_type": "markdown",
      "metadata": {
        "id": "9LQap2nBXCXa"
      },
      "source": [
        "###Chromatine states"
      ]
    },
    {
      "cell_type": "code",
      "execution_count": null,
      "metadata": {
        "colab": {
          "base_uri": "https://localhost:8080/"
        },
        "id": "BwDRIvyGYgNt",
        "outputId": "131bc0cb-094f-4233-c7d1-bbdaf21f853f"
      },
      "outputs": [
        {
          "output_type": "execute_result",
          "data": {
            "text/plain": [
              "456066"
            ]
          },
          "metadata": {},
          "execution_count": 12
        }
      ],
      "source": [
        "chr_states = !bedtools subtract -a '/content/drive/MyDrive/Triplexes/data/chr_states.bed' -b '/content/hg38-blacklist.v2.bed.gz'\n",
        "len(chr_states)"
      ]
    },
    {
      "cell_type": "code",
      "execution_count": null,
      "metadata": {
        "colab": {
          "base_uri": "https://localhost:8080/"
        },
        "id": "hDaeCB3uYmXA",
        "outputId": "8106ea1b-1d64-4546-d1e8-9d8e62806a27"
      },
      "outputs": [
        {
          "output_type": "execute_result",
          "data": {
            "text/plain": [
              "<BedTool(/content/drive/MyDrive/Triplexes/data/chr_states.bed)>"
            ]
          },
          "metadata": {},
          "execution_count": 14
        }
      ],
      "source": [
        "chr_states = BedTool(chr_states)\n",
        "chr_states.saveas('/content/drive/MyDrive/Triplexes/data/chr_states.bed')"
      ]
    },
    {
      "cell_type": "code",
      "execution_count": null,
      "metadata": {
        "colab": {
          "base_uri": "https://localhost:8080/",
          "height": 206
        },
        "id": "v8j2A7xp9o_m",
        "outputId": "7d3cbc60-b74a-42c7-b2d6-34a7b54f091b"
      },
      "outputs": [
        {
          "output_type": "execute_result",
          "data": {
            "text/plain": [
              "  Chromosome   Start     End     Name\n",
              "0       chr1  792500  826620    Quies\n",
              "1       chr1  826620  827620  TssFlnk\n",
              "2       chr1  827620  865420    Quies\n",
              "3       chr1  865420  866620    EnhWk\n",
              "4       chr1  866620  869420     TxWk"
            ],
            "text/html": [
              "\n",
              "  <div id=\"df-f5136203-3c52-4ec1-924f-b0feac5ed079\">\n",
              "    <div class=\"colab-df-container\">\n",
              "      <div>\n",
              "<style scoped>\n",
              "    .dataframe tbody tr th:only-of-type {\n",
              "        vertical-align: middle;\n",
              "    }\n",
              "\n",
              "    .dataframe tbody tr th {\n",
              "        vertical-align: top;\n",
              "    }\n",
              "\n",
              "    .dataframe thead th {\n",
              "        text-align: right;\n",
              "    }\n",
              "</style>\n",
              "<table border=\"1\" class=\"dataframe\">\n",
              "  <thead>\n",
              "    <tr style=\"text-align: right;\">\n",
              "      <th></th>\n",
              "      <th>Chromosome</th>\n",
              "      <th>Start</th>\n",
              "      <th>End</th>\n",
              "      <th>Name</th>\n",
              "    </tr>\n",
              "  </thead>\n",
              "  <tbody>\n",
              "    <tr>\n",
              "      <th>0</th>\n",
              "      <td>chr1</td>\n",
              "      <td>792500</td>\n",
              "      <td>826620</td>\n",
              "      <td>Quies</td>\n",
              "    </tr>\n",
              "    <tr>\n",
              "      <th>1</th>\n",
              "      <td>chr1</td>\n",
              "      <td>826620</td>\n",
              "      <td>827620</td>\n",
              "      <td>TssFlnk</td>\n",
              "    </tr>\n",
              "    <tr>\n",
              "      <th>2</th>\n",
              "      <td>chr1</td>\n",
              "      <td>827620</td>\n",
              "      <td>865420</td>\n",
              "      <td>Quies</td>\n",
              "    </tr>\n",
              "    <tr>\n",
              "      <th>3</th>\n",
              "      <td>chr1</td>\n",
              "      <td>865420</td>\n",
              "      <td>866620</td>\n",
              "      <td>EnhWk</td>\n",
              "    </tr>\n",
              "    <tr>\n",
              "      <th>4</th>\n",
              "      <td>chr1</td>\n",
              "      <td>866620</td>\n",
              "      <td>869420</td>\n",
              "      <td>TxWk</td>\n",
              "    </tr>\n",
              "  </tbody>\n",
              "</table>\n",
              "</div>\n",
              "      <button class=\"colab-df-convert\" onclick=\"convertToInteractive('df-f5136203-3c52-4ec1-924f-b0feac5ed079')\"\n",
              "              title=\"Convert this dataframe to an interactive table.\"\n",
              "              style=\"display:none;\">\n",
              "        \n",
              "  <svg xmlns=\"http://www.w3.org/2000/svg\" height=\"24px\"viewBox=\"0 0 24 24\"\n",
              "       width=\"24px\">\n",
              "    <path d=\"M0 0h24v24H0V0z\" fill=\"none\"/>\n",
              "    <path d=\"M18.56 5.44l.94 2.06.94-2.06 2.06-.94-2.06-.94-.94-2.06-.94 2.06-2.06.94zm-11 1L8.5 8.5l.94-2.06 2.06-.94-2.06-.94L8.5 2.5l-.94 2.06-2.06.94zm10 10l.94 2.06.94-2.06 2.06-.94-2.06-.94-.94-2.06-.94 2.06-2.06.94z\"/><path d=\"M17.41 7.96l-1.37-1.37c-.4-.4-.92-.59-1.43-.59-.52 0-1.04.2-1.43.59L10.3 9.45l-7.72 7.72c-.78.78-.78 2.05 0 2.83L4 21.41c.39.39.9.59 1.41.59.51 0 1.02-.2 1.41-.59l7.78-7.78 2.81-2.81c.8-.78.8-2.07 0-2.86zM5.41 20L4 18.59l7.72-7.72 1.47 1.35L5.41 20z\"/>\n",
              "  </svg>\n",
              "      </button>\n",
              "      \n",
              "  <style>\n",
              "    .colab-df-container {\n",
              "      display:flex;\n",
              "      flex-wrap:wrap;\n",
              "      gap: 12px;\n",
              "    }\n",
              "\n",
              "    .colab-df-convert {\n",
              "      background-color: #E8F0FE;\n",
              "      border: none;\n",
              "      border-radius: 50%;\n",
              "      cursor: pointer;\n",
              "      display: none;\n",
              "      fill: #1967D2;\n",
              "      height: 32px;\n",
              "      padding: 0 0 0 0;\n",
              "      width: 32px;\n",
              "    }\n",
              "\n",
              "    .colab-df-convert:hover {\n",
              "      background-color: #E2EBFA;\n",
              "      box-shadow: 0px 1px 2px rgba(60, 64, 67, 0.3), 0px 1px 3px 1px rgba(60, 64, 67, 0.15);\n",
              "      fill: #174EA6;\n",
              "    }\n",
              "\n",
              "    [theme=dark] .colab-df-convert {\n",
              "      background-color: #3B4455;\n",
              "      fill: #D2E3FC;\n",
              "    }\n",
              "\n",
              "    [theme=dark] .colab-df-convert:hover {\n",
              "      background-color: #434B5C;\n",
              "      box-shadow: 0px 1px 3px 1px rgba(0, 0, 0, 0.15);\n",
              "      filter: drop-shadow(0px 1px 2px rgba(0, 0, 0, 0.3));\n",
              "      fill: #FFFFFF;\n",
              "    }\n",
              "  </style>\n",
              "\n",
              "      <script>\n",
              "        const buttonEl =\n",
              "          document.querySelector('#df-f5136203-3c52-4ec1-924f-b0feac5ed079 button.colab-df-convert');\n",
              "        buttonEl.style.display =\n",
              "          google.colab.kernel.accessAllowed ? 'block' : 'none';\n",
              "\n",
              "        async function convertToInteractive(key) {\n",
              "          const element = document.querySelector('#df-f5136203-3c52-4ec1-924f-b0feac5ed079');\n",
              "          const dataTable =\n",
              "            await google.colab.kernel.invokeFunction('convertToInteractive',\n",
              "                                                     [key], {});\n",
              "          if (!dataTable) return;\n",
              "\n",
              "          const docLinkHtml = 'Like what you see? Visit the ' +\n",
              "            '<a target=\"_blank\" href=https://colab.research.google.com/notebooks/data_table.ipynb>data table notebook</a>'\n",
              "            + ' to learn more about interactive tables.';\n",
              "          element.innerHTML = '';\n",
              "          dataTable['output_type'] = 'display_data';\n",
              "          await google.colab.output.renderOutput(dataTable, element);\n",
              "          const docLink = document.createElement('div');\n",
              "          docLink.innerHTML = docLinkHtml;\n",
              "          element.appendChild(docLink);\n",
              "        }\n",
              "      </script>\n",
              "    </div>\n",
              "  </div>\n",
              "  "
            ]
          },
          "metadata": {},
          "execution_count": 15
        }
      ],
      "source": [
        "chr_states = pd.read_csv('/content/drive/MyDrive/Triplexes/data/chr_states.bed', sep='\\t', names=('Chromosome', 'Start', 'End', 'Name'))\n",
        "chr_states.head()"
      ]
    },
    {
      "cell_type": "code",
      "source": [
        "print(chr_states['Name'].unique())"
      ],
      "metadata": {
        "colab": {
          "base_uri": "https://localhost:8080/"
        },
        "id": "Fze30Ky_w6mo",
        "outputId": "54f4e781-4785-461a-9c8f-ab96caa15d20"
      },
      "execution_count": null,
      "outputs": [
        {
          "output_type": "stream",
          "name": "stdout",
          "text": [
            "['Quies' 'TssFlnk' 'EnhWk' 'TxWk' 'ReprPCWk' 'ReprPC' 'EnhBiv' 'TssBiv'\n",
            " 'EnhA2' 'Tx' 'TssFlnkD' 'TssFlnkU' 'TssA' 'EnhA1' 'ZNF/Rpts' 'Het'\n",
            " 'EnhG2' 'EnhG1']\n"
          ]
        }
      ]
    }
  ],
  "metadata": {
    "colab": {
      "provenance": [],
      "authorship_tag": "ABX9TyPNqrjXLW3gGcCZFRMw8U3I",
      "include_colab_link": true
    },
    "kernelspec": {
      "display_name": "Python 3",
      "name": "python3"
    },
    "language_info": {
      "name": "python"
    }
  },
  "nbformat": 4,
  "nbformat_minor": 0
}