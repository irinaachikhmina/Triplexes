{
  "nbformat": 4,
  "nbformat_minor": 0,
  "metadata": {
    "colab": {
      "provenance": [],
      "authorship_tag": "ABX9TyPpS8AkQ2YIvoTl9q/7zk0R",
      "include_colab_link": true
    },
    "kernelspec": {
      "name": "python3",
      "display_name": "Python 3"
    },
    "language_info": {
      "name": "python"
    },
    "widgets": {
      "application/vnd.jupyter.widget-state+json": {
        "e5ed6597c7e947ea9ae0add4d7ce6816": {
          "model_module": "@jupyter-widgets/controls",
          "model_name": "HBoxModel",
          "model_module_version": "1.5.0",
          "state": {
            "_dom_classes": [],
            "_model_module": "@jupyter-widgets/controls",
            "_model_module_version": "1.5.0",
            "_model_name": "HBoxModel",
            "_view_count": null,
            "_view_module": "@jupyter-widgets/controls",
            "_view_module_version": "1.5.0",
            "_view_name": "HBoxView",
            "box_style": "",
            "children": [
              "IPY_MODEL_0adc13049a584c3794ee8d23401793ec",
              "IPY_MODEL_90c631291bc845c390e4e65a7e206d55",
              "IPY_MODEL_acfb27e50af24c6bb0835721abdd567a"
            ],
            "layout": "IPY_MODEL_70d78b2bc0604e5f8b3e42193112228e"
          }
        },
        "0adc13049a584c3794ee8d23401793ec": {
          "model_module": "@jupyter-widgets/controls",
          "model_name": "HTMLModel",
          "model_module_version": "1.5.0",
          "state": {
            "_dom_classes": [],
            "_model_module": "@jupyter-widgets/controls",
            "_model_module_version": "1.5.0",
            "_model_name": "HTMLModel",
            "_view_count": null,
            "_view_module": "@jupyter-widgets/controls",
            "_view_module_version": "1.5.0",
            "_view_name": "HTMLView",
            "description": "",
            "description_tooltip": null,
            "layout": "IPY_MODEL_802e7c6b82ca4193b9e8a3a87bce503a",
            "placeholder": "​",
            "style": "IPY_MODEL_16da2279c9b9494c89df4c8c93c8fb7f",
            "value": "100%"
          }
        },
        "90c631291bc845c390e4e65a7e206d55": {
          "model_module": "@jupyter-widgets/controls",
          "model_name": "FloatProgressModel",
          "model_module_version": "1.5.0",
          "state": {
            "_dom_classes": [],
            "_model_module": "@jupyter-widgets/controls",
            "_model_module_version": "1.5.0",
            "_model_name": "FloatProgressModel",
            "_view_count": null,
            "_view_module": "@jupyter-widgets/controls",
            "_view_module_version": "1.5.0",
            "_view_name": "ProgressView",
            "bar_style": "success",
            "description": "",
            "description_tooltip": null,
            "layout": "IPY_MODEL_2966cf2a256c413594daf64775f5f400",
            "max": 24,
            "min": 0,
            "orientation": "horizontal",
            "style": "IPY_MODEL_98ac7c17417b40d78c4e2c2aed417c37",
            "value": 24
          }
        },
        "acfb27e50af24c6bb0835721abdd567a": {
          "model_module": "@jupyter-widgets/controls",
          "model_name": "HTMLModel",
          "model_module_version": "1.5.0",
          "state": {
            "_dom_classes": [],
            "_model_module": "@jupyter-widgets/controls",
            "_model_module_version": "1.5.0",
            "_model_name": "HTMLModel",
            "_view_count": null,
            "_view_module": "@jupyter-widgets/controls",
            "_view_module_version": "1.5.0",
            "_view_name": "HTMLView",
            "description": "",
            "description_tooltip": null,
            "layout": "IPY_MODEL_ef67912b9312408d8c446d1c92f0f98a",
            "placeholder": "​",
            "style": "IPY_MODEL_a402e6a59fb54fddbd2da3e817a835f7",
            "value": " 24/24 [00:44&lt;00:00,  1.08it/s]"
          }
        },
        "70d78b2bc0604e5f8b3e42193112228e": {
          "model_module": "@jupyter-widgets/base",
          "model_name": "LayoutModel",
          "model_module_version": "1.2.0",
          "state": {
            "_model_module": "@jupyter-widgets/base",
            "_model_module_version": "1.2.0",
            "_model_name": "LayoutModel",
            "_view_count": null,
            "_view_module": "@jupyter-widgets/base",
            "_view_module_version": "1.2.0",
            "_view_name": "LayoutView",
            "align_content": null,
            "align_items": null,
            "align_self": null,
            "border": null,
            "bottom": null,
            "display": null,
            "flex": null,
            "flex_flow": null,
            "grid_area": null,
            "grid_auto_columns": null,
            "grid_auto_flow": null,
            "grid_auto_rows": null,
            "grid_column": null,
            "grid_gap": null,
            "grid_row": null,
            "grid_template_areas": null,
            "grid_template_columns": null,
            "grid_template_rows": null,
            "height": null,
            "justify_content": null,
            "justify_items": null,
            "left": null,
            "margin": null,
            "max_height": null,
            "max_width": null,
            "min_height": null,
            "min_width": null,
            "object_fit": null,
            "object_position": null,
            "order": null,
            "overflow": null,
            "overflow_x": null,
            "overflow_y": null,
            "padding": null,
            "right": null,
            "top": null,
            "visibility": null,
            "width": null
          }
        },
        "802e7c6b82ca4193b9e8a3a87bce503a": {
          "model_module": "@jupyter-widgets/base",
          "model_name": "LayoutModel",
          "model_module_version": "1.2.0",
          "state": {
            "_model_module": "@jupyter-widgets/base",
            "_model_module_version": "1.2.0",
            "_model_name": "LayoutModel",
            "_view_count": null,
            "_view_module": "@jupyter-widgets/base",
            "_view_module_version": "1.2.0",
            "_view_name": "LayoutView",
            "align_content": null,
            "align_items": null,
            "align_self": null,
            "border": null,
            "bottom": null,
            "display": null,
            "flex": null,
            "flex_flow": null,
            "grid_area": null,
            "grid_auto_columns": null,
            "grid_auto_flow": null,
            "grid_auto_rows": null,
            "grid_column": null,
            "grid_gap": null,
            "grid_row": null,
            "grid_template_areas": null,
            "grid_template_columns": null,
            "grid_template_rows": null,
            "height": null,
            "justify_content": null,
            "justify_items": null,
            "left": null,
            "margin": null,
            "max_height": null,
            "max_width": null,
            "min_height": null,
            "min_width": null,
            "object_fit": null,
            "object_position": null,
            "order": null,
            "overflow": null,
            "overflow_x": null,
            "overflow_y": null,
            "padding": null,
            "right": null,
            "top": null,
            "visibility": null,
            "width": null
          }
        },
        "16da2279c9b9494c89df4c8c93c8fb7f": {
          "model_module": "@jupyter-widgets/controls",
          "model_name": "DescriptionStyleModel",
          "model_module_version": "1.5.0",
          "state": {
            "_model_module": "@jupyter-widgets/controls",
            "_model_module_version": "1.5.0",
            "_model_name": "DescriptionStyleModel",
            "_view_count": null,
            "_view_module": "@jupyter-widgets/base",
            "_view_module_version": "1.2.0",
            "_view_name": "StyleView",
            "description_width": ""
          }
        },
        "2966cf2a256c413594daf64775f5f400": {
          "model_module": "@jupyter-widgets/base",
          "model_name": "LayoutModel",
          "model_module_version": "1.2.0",
          "state": {
            "_model_module": "@jupyter-widgets/base",
            "_model_module_version": "1.2.0",
            "_model_name": "LayoutModel",
            "_view_count": null,
            "_view_module": "@jupyter-widgets/base",
            "_view_module_version": "1.2.0",
            "_view_name": "LayoutView",
            "align_content": null,
            "align_items": null,
            "align_self": null,
            "border": null,
            "bottom": null,
            "display": null,
            "flex": null,
            "flex_flow": null,
            "grid_area": null,
            "grid_auto_columns": null,
            "grid_auto_flow": null,
            "grid_auto_rows": null,
            "grid_column": null,
            "grid_gap": null,
            "grid_row": null,
            "grid_template_areas": null,
            "grid_template_columns": null,
            "grid_template_rows": null,
            "height": null,
            "justify_content": null,
            "justify_items": null,
            "left": null,
            "margin": null,
            "max_height": null,
            "max_width": null,
            "min_height": null,
            "min_width": null,
            "object_fit": null,
            "object_position": null,
            "order": null,
            "overflow": null,
            "overflow_x": null,
            "overflow_y": null,
            "padding": null,
            "right": null,
            "top": null,
            "visibility": null,
            "width": null
          }
        },
        "98ac7c17417b40d78c4e2c2aed417c37": {
          "model_module": "@jupyter-widgets/controls",
          "model_name": "ProgressStyleModel",
          "model_module_version": "1.5.0",
          "state": {
            "_model_module": "@jupyter-widgets/controls",
            "_model_module_version": "1.5.0",
            "_model_name": "ProgressStyleModel",
            "_view_count": null,
            "_view_module": "@jupyter-widgets/base",
            "_view_module_version": "1.2.0",
            "_view_name": "StyleView",
            "bar_color": null,
            "description_width": ""
          }
        },
        "ef67912b9312408d8c446d1c92f0f98a": {
          "model_module": "@jupyter-widgets/base",
          "model_name": "LayoutModel",
          "model_module_version": "1.2.0",
          "state": {
            "_model_module": "@jupyter-widgets/base",
            "_model_module_version": "1.2.0",
            "_model_name": "LayoutModel",
            "_view_count": null,
            "_view_module": "@jupyter-widgets/base",
            "_view_module_version": "1.2.0",
            "_view_name": "LayoutView",
            "align_content": null,
            "align_items": null,
            "align_self": null,
            "border": null,
            "bottom": null,
            "display": null,
            "flex": null,
            "flex_flow": null,
            "grid_area": null,
            "grid_auto_columns": null,
            "grid_auto_flow": null,
            "grid_auto_rows": null,
            "grid_column": null,
            "grid_gap": null,
            "grid_row": null,
            "grid_template_areas": null,
            "grid_template_columns": null,
            "grid_template_rows": null,
            "height": null,
            "justify_content": null,
            "justify_items": null,
            "left": null,
            "margin": null,
            "max_height": null,
            "max_width": null,
            "min_height": null,
            "min_width": null,
            "object_fit": null,
            "object_position": null,
            "order": null,
            "overflow": null,
            "overflow_x": null,
            "overflow_y": null,
            "padding": null,
            "right": null,
            "top": null,
            "visibility": null,
            "width": null
          }
        },
        "a402e6a59fb54fddbd2da3e817a835f7": {
          "model_module": "@jupyter-widgets/controls",
          "model_name": "DescriptionStyleModel",
          "model_module_version": "1.5.0",
          "state": {
            "_model_module": "@jupyter-widgets/controls",
            "_model_module_version": "1.5.0",
            "_model_name": "DescriptionStyleModel",
            "_view_count": null,
            "_view_module": "@jupyter-widgets/base",
            "_view_module_version": "1.2.0",
            "_view_name": "StyleView",
            "description_width": ""
          }
        }
      }
    }
  },
  "cells": [
    {
      "cell_type": "markdown",
      "metadata": {
        "id": "view-in-github",
        "colab_type": "text"
      },
      "source": [
        "<a href=\"https://colab.research.google.com/github/irinaachikhmina/Triplexes/blob/main/1_01_Triplex_regions_hg.ipynb\" target=\"_parent\"><img src=\"https://colab.research.google.com/assets/colab-badge.svg\" alt=\"Open In Colab\"/></a>"
      ]
    },
    {
      "cell_type": "markdown",
      "source": [
        "#Recognition of Triplex Target Sites within DNA Using Omics Data"
      ],
      "metadata": {
        "id": "Gg65X8v3Q6wZ"
      }
    },
    {
      "cell_type": "markdown",
      "source": [
        "##Imports"
      ],
      "metadata": {
        "id": "iWdV_sfGRb4P"
      }
    },
    {
      "cell_type": "code",
      "source": [
        "from google.colab import drive\n",
        "drive.mount('/content/drive')"
      ],
      "metadata": {
        "id": "-K8oAGAOyz1q",
        "colab": {
          "base_uri": "https://localhost:8080/"
        },
        "outputId": "9c3749e1-3e94-4ee9-eaea-254ba35cd67e"
      },
      "execution_count": null,
      "outputs": [
        {
          "output_type": "stream",
          "name": "stdout",
          "text": [
            "Mounted at /content/drive\n"
          ]
        }
      ]
    },
    {
      "cell_type": "code",
      "execution_count": null,
      "metadata": {
        "id": "5tQvbYKe0rX2"
      },
      "outputs": [],
      "source": [
        "!pip install -q condacolab\n",
        "import condacolab\n",
        "condacolab.install()\n",
        "!conda install -c bioconda bedtools"
      ]
    },
    {
      "cell_type": "code",
      "source": [
        "!pip install biopython"
      ],
      "metadata": {
        "id": "gJnsRtHoxXDc"
      },
      "execution_count": null,
      "outputs": []
    },
    {
      "cell_type": "code",
      "source": [
        "!pip install pybedtools\n",
        "from pybedtools import BedTool"
      ],
      "metadata": {
        "id": "SBkG7bEmEekk"
      },
      "execution_count": null,
      "outputs": []
    },
    {
      "cell_type": "code",
      "source": [
        "import pandas as pd\n",
        "import numpy as np\n",
        "import math\n",
        "import pickle\n",
        "from tqdm.notebook import tqdm\n",
        "from random import sample\n",
        "\n",
        "import seaborn as sns\n",
        "import matplotlib.pyplot as plt\n",
        "\n",
        "import Bio\n",
        "from Bio import SeqIO"
      ],
      "metadata": {
        "id": "knFgtjib1DSO"
      },
      "execution_count": null,
      "outputs": []
    },
    {
      "cell_type": "code",
      "source": [
        "sns.set(font_scale=1)\n",
        "sns.set_style(\"ticks\") "
      ],
      "metadata": {
        "id": "bsFnpLXEF7tj"
      },
      "execution_count": null,
      "outputs": []
    },
    {
      "cell_type": "markdown",
      "source": [
        "#Human genome HG38"
      ],
      "metadata": {
        "id": "-fYm1yBURFTE"
      }
    },
    {
      "cell_type": "markdown",
      "source": [
        "release 109 dated 2022-12-13"
      ],
      "metadata": {
        "id": "dPxOwgTXDXcp"
      }
    },
    {
      "cell_type": "code",
      "source": [
        "chrom_names = [f'chr{i}' for i in list(range(1, 23)) + ['X', 'Y']]"
      ],
      "metadata": {
        "id": "mXDk698BB5Gj"
      },
      "execution_count": null,
      "outputs": []
    },
    {
      "cell_type": "code",
      "source": [
        "!gunzip '/content/drive/MyDrive/Triplexes/data/hg38'/*"
      ],
      "metadata": {
        "id": "Sr0lFkGY7n_h"
      },
      "execution_count": null,
      "outputs": []
    },
    {
      "cell_type": "code",
      "source": [
        "chroms = {}\n",
        "\n",
        "for name in tqdm(chrom_names):\n",
        "    chroms[name] = SeqIO.read('/content/drive/MyDrive/Triplexes/data/hg38/' \n",
        "                              + 'Homo_sapiens.GRCh38.dna.' \n",
        "                              + name[:3] \n",
        "                              + 'omosome.' \n",
        "                              + name[3:] \n",
        "                              + '.fa', \n",
        "                              'fasta')"
      ],
      "metadata": {
        "colab": {
          "base_uri": "https://localhost:8080/",
          "referenced_widgets": [
            "e5ed6597c7e947ea9ae0add4d7ce6816",
            "0adc13049a584c3794ee8d23401793ec",
            "90c631291bc845c390e4e65a7e206d55",
            "acfb27e50af24c6bb0835721abdd567a",
            "70d78b2bc0604e5f8b3e42193112228e",
            "802e7c6b82ca4193b9e8a3a87bce503a",
            "16da2279c9b9494c89df4c8c93c8fb7f",
            "2966cf2a256c413594daf64775f5f400",
            "98ac7c17417b40d78c4e2c2aed417c37",
            "ef67912b9312408d8c446d1c92f0f98a",
            "a402e6a59fb54fddbd2da3e817a835f7"
          ],
          "height": 49
        },
        "id": "-c8sme2wFpkA",
        "outputId": "5a5dd352-2915-4d38-d74a-f429f321507a"
      },
      "execution_count": null,
      "outputs": [
        {
          "output_type": "display_data",
          "data": {
            "text/plain": [
              "  0%|          | 0/24 [00:00<?, ?it/s]"
            ],
            "application/vnd.jupyter.widget-view+json": {
              "version_major": 2,
              "version_minor": 0,
              "model_id": "e5ed6597c7e947ea9ae0add4d7ce6816"
            }
          },
          "metadata": {}
        }
      ]
    },
    {
      "cell_type": "markdown",
      "source": [
        "#Triplex DNA regions"
      ],
      "metadata": {
        "id": "cXluOtIdze4G"
      }
    },
    {
      "cell_type": "markdown",
      "source": [
        "##Experimental data"
      ],
      "metadata": {
        "id": "nugzjwsCfn4R"
      }
    },
    {
      "cell_type": "markdown",
      "source": [
        "Triplex DNA regions from Kouzine and Wojtowicz work (Kouzine F, Wojtowicz D, Baranello L, et al. Permanganate/S1 Nuclease Footprinting Reveals Non-B DNA Structures with Regulatory Potential across a Mammalian Genome. Cell Syst. 2017;4(3):344-356.e7. doi:10.1016/j.cels.2017.01.013)"
      ],
      "metadata": {
        "id": "B30WlrGnljJ9"
      }
    },
    {
      "cell_type": "code",
      "source": [
        "!gdown https://www.ncbi.nlm.nih.gov/CBBresearch/Przytycka/software/nonbdna/nonB_DNA_ssDNA_enriched.tar"
      ],
      "metadata": {
        "id": "rN2CvxJr1KH8",
        "colab": {
          "base_uri": "https://localhost:8080/"
        },
        "outputId": "d8d1cafd-11f6-4931-a42d-891ad17c4083"
      },
      "execution_count": null,
      "outputs": [
        {
          "output_type": "stream",
          "name": "stdout",
          "text": [
            "Downloading...\n",
            "From: https://www.ncbi.nlm.nih.gov/CBBresearch/Przytycka/software/nonbdna/nonB_DNA_ssDNA_enriched.tar\n",
            "To: /content/nonB_DNA_ssDNA_enriched.tar\n",
            "\r0.00B [00:00, ?B/s]\r846kB [00:00, 8.46MB/s]\r1.50MB [00:00, 12.7MB/s]\n"
          ]
        }
      ]
    },
    {
      "cell_type": "code",
      "source": [
        "!tar -xvf '/content/nonB_DNA_ssDNA_enriched.tar'"
      ],
      "metadata": {
        "colab": {
          "base_uri": "https://localhost:8080/"
        },
        "id": "A1Cyzox6CviO",
        "outputId": "cd89439e-0f3a-414c-b553-287cd1b2b220"
      },
      "execution_count": null,
      "outputs": [
        {
          "output_type": "stream",
          "name": "stdout",
          "text": [
            "nonB_DNA_ssDNA_enriched/\n",
            "nonB_DNA_ssDNA_enriched/human_hg19/\n",
            "nonB_DNA_ssDNA_enriched/human_hg19/Raji_ssDNA_enriched_H-DNA.bed.gz\n",
            "nonB_DNA_ssDNA_enriched/human_hg19/Raji_ssDNA_enriched_Quadruplex.bed.gz\n",
            "nonB_DNA_ssDNA_enriched/human_hg19/Raji_ssDNA_enriched_SIDD.bed.gz\n",
            "nonB_DNA_ssDNA_enriched/human_hg19/Raji_ssDNA_enriched_Z-DNA.bed.gz\n",
            "nonB_DNA_ssDNA_enriched/mouse_mm9/\n",
            "nonB_DNA_ssDNA_enriched/mouse_mm9/actB_ssDNA_enriched_H-DNA.bed.gz\n",
            "nonB_DNA_ssDNA_enriched/mouse_mm9/actB_ssDNA_enriched_Quadruplex.bed.gz\n",
            "nonB_DNA_ssDNA_enriched/mouse_mm9/actB_ssDNA_enriched_SIDD.bed.gz\n",
            "nonB_DNA_ssDNA_enriched/mouse_mm9/actB_ssDNA_enriched_Z-DNA.bed.gz\n"
          ]
        }
      ]
    },
    {
      "cell_type": "code",
      "source": [
        "GF = BedTool('/content/nonB_DNA_ssDNA_enriched/human_hg19/Raji_ssDNA_enriched_H-DNA.bed.gz')\n",
        "len(GF)"
      ],
      "metadata": {
        "colab": {
          "base_uri": "https://localhost:8080/"
        },
        "id": "uEaAhAVTqFQU",
        "outputId": "18663941-1c0c-4ab8-96cf-c5ca65e58757"
      },
      "execution_count": null,
      "outputs": [
        {
          "output_type": "execute_result",
          "data": {
            "text/plain": [
              "8356"
            ]
          },
          "metadata": {},
          "execution_count": 19
        }
      ]
    },
    {
      "cell_type": "markdown",
      "source": [
        "##Assembly convertion to hg38"
      ],
      "metadata": {
        "id": "Jj1n3qHrROly"
      }
    },
    {
      "cell_type": "markdown",
      "source": [
        "liftOver site at https://genome.ucsc.edu/cgi-bin/hgLiftOver"
      ],
      "metadata": {
        "id": "uoNzqFKikFXh"
      }
    },
    {
      "cell_type": "code",
      "source": [
        "GF = BedTool('/content/drive/MyDrive/Triplexes/data/hglft_genome_2e58e_4a1a80.bed')\n",
        "len(GF)"
      ],
      "metadata": {
        "colab": {
          "base_uri": "https://localhost:8080/"
        },
        "id": "z30eOs5td2Ya",
        "outputId": "6659c41a-24ba-4771-9b99-e6aa7948d9ca"
      },
      "execution_count": null,
      "outputs": [
        {
          "output_type": "execute_result",
          "data": {
            "text/plain": [
              "8341"
            ]
          },
          "metadata": {},
          "execution_count": 9
        }
      ]
    },
    {
      "cell_type": "markdown",
      "source": [
        "15 regions deleted in new assembly"
      ],
      "metadata": {
        "id": "0u6DhtrNqQ0u"
      }
    },
    {
      "cell_type": "code",
      "source": [
        "length =[]\n",
        "for el in GF:\n",
        "    length.append(el.end - el.start)\n",
        "\n",
        "print('Number of regions:', len(GF))\n",
        "print('Average length of region:', round(sum(length) / len(length)))\n",
        "print('Max length of region:', round(max(length)))\n",
        "print('Min length of region:', round(min(length)))\n",
        "print('First line:', GF[0])"
      ],
      "metadata": {
        "colab": {
          "base_uri": "https://localhost:8080/"
        },
        "id": "voIZ2KKsEwqe",
        "outputId": "6fbddc16-54cb-42e2-92b4-f0a9cc119c24"
      },
      "execution_count": null,
      "outputs": [
        {
          "output_type": "stream",
          "name": "stdout",
          "text": [
            "Number of regions: 8341\n",
            "Average length of region: 24\n",
            "Max length of region: 132\n",
            "Min length of region: 16\n",
            "First line: chr1\t888613\t888633\tchr1:823994-824013\t1\n",
            "\n"
          ]
        }
      ]
    },
    {
      "cell_type": "markdown",
      "source": [
        "##Filtering"
      ],
      "metadata": {
        "id": "laVmkVG5_Hsk"
      }
    },
    {
      "cell_type": "markdown",
      "source": [
        "Filtering for black-listed regions"
      ],
      "metadata": {
        "id": "_IuIQdqk6Ylr"
      }
    },
    {
      "cell_type": "code",
      "source": [
        "!gdown https://github.com/Boyle-Lab/Blacklist/raw/master/lists/hg38-blacklist.v2.bed.gz"
      ],
      "metadata": {
        "colab": {
          "base_uri": "https://localhost:8080/"
        },
        "id": "UwFtPZ6f6XXq",
        "outputId": "dabe80a4-1472-4421-b6c8-1fee74050a7e"
      },
      "execution_count": null,
      "outputs": [
        {
          "output_type": "stream",
          "name": "stdout",
          "text": [
            "Downloading...\n",
            "From: https://github.com/Boyle-Lab/Blacklist/raw/master/lists/hg38-blacklist.v2.bed.gz\n",
            "To: /content/hg38-blacklist.v2.bed.gz\n",
            "\r  0% 0.00/5.87k [00:00<?, ?B/s]\r100% 5.87k/5.87k [00:00<00:00, 3.60MB/s]\n"
          ]
        }
      ]
    },
    {
      "cell_type": "code",
      "source": [
        "int = !bedtools intersect -a '/content/drive/MyDrive/Triplexes/data/hglft_genome_2e58e_4a1a80.bed' -b '/content/hg38-blacklist.v2.bed.gz'\n",
        "len(int)"
      ],
      "metadata": {
        "colab": {
          "base_uri": "https://localhost:8080/"
        },
        "id": "x5p5Rcbi6s_f",
        "outputId": "edbf5568-5b7b-4791-cdcd-4f2fa8517b0e"
      },
      "execution_count": null,
      "outputs": [
        {
          "output_type": "execute_result",
          "data": {
            "text/plain": [
              "130"
            ]
          },
          "metadata": {},
          "execution_count": 27
        }
      ]
    },
    {
      "cell_type": "code",
      "source": [
        "GF = !bedtools subtract -a '/content/drive/MyDrive/Triplexes/data/hglft_genome_2e58e_4a1a80.bed' -b '/content/hg38-blacklist.v2.bed.gz'\n",
        "len(GF)"
      ],
      "metadata": {
        "id": "eOaAKmgDGeA8",
        "colab": {
          "base_uri": "https://localhost:8080/"
        },
        "outputId": "e76e19eb-bee9-4f98-9654-c203ca5900e2"
      },
      "execution_count": null,
      "outputs": [
        {
          "output_type": "execute_result",
          "data": {
            "text/plain": [
              "8211"
            ]
          },
          "metadata": {},
          "execution_count": 28
        }
      ]
    },
    {
      "cell_type": "code",
      "source": [
        "130/8341"
      ],
      "metadata": {
        "colab": {
          "base_uri": "https://localhost:8080/"
        },
        "id": "GAwkv8xDRpwP",
        "outputId": "0da4759b-efd8-4992-9a5d-185e1977cfca"
      },
      "execution_count": null,
      "outputs": [
        {
          "output_type": "execute_result",
          "data": {
            "text/plain": [
              "0.015585661191703633"
            ]
          },
          "metadata": {},
          "execution_count": 2
        }
      ]
    },
    {
      "cell_type": "code",
      "source": [
        "GF = BedTool(GF)\n",
        "length =[]\n",
        "for el in GF:\n",
        "    length.append(el.end - el.start)\n",
        "\n",
        "print('Number of regions:', len(GF))\n",
        "print('Average length of region:', round(sum(length) / len(length)))\n",
        "print('Max length of region:', round(max(length)))\n",
        "print('Min length of region:', round(min(length)))\n",
        "print('First line:', GF[0])"
      ],
      "metadata": {
        "colab": {
          "base_uri": "https://localhost:8080/"
        },
        "id": "hvxjgFL0dAxN",
        "outputId": "09aec3fa-9043-494e-f944-d29f05e174bb"
      },
      "execution_count": null,
      "outputs": [
        {
          "output_type": "stream",
          "name": "stdout",
          "text": [
            "Number of regions: 8211\n",
            "Average length of region: 24\n",
            "Max length of region: 132\n",
            "Min length of region: 16\n",
            "First line: chr1\t888613\t888633\tchr1:823994-824013\t1\n",
            "\n"
          ]
        }
      ]
    },
    {
      "cell_type": "code",
      "source": [
        "ax = sns.displot(length, kde=True)\n",
        "ax.set_axis_labels(\"Triplex length\", \"Number of regions\")\n",
        "ax.fig.suptitle('Distribution of triplex length')\n",
        "#ax.set_titles(\"Distribution of triplex length\")\n",
        "plt.show()"
      ],
      "metadata": {
        "colab": {
          "base_uri": "https://localhost:8080/",
          "height": 387
        },
        "id": "07wQOBLhUqCL",
        "outputId": "ff270336-6e0a-4d6a-f3e7-120b19ff4abb"
      },
      "execution_count": null,
      "outputs": [
        {
          "output_type": "display_data",
          "data": {
            "text/plain": [
              "<Figure size 360x360 with 1 Axes>"
            ],
            "image/png": "[encoded data removed]"
          },
          "metadata": {
            "needs_background": "light"
          }
        }
      ]
    },
    {
      "cell_type": "markdown",
      "source": [
        "Examination of longest regions"
      ],
      "metadata": {
        "id": "Cv_4VWJ0_N-y"
      }
    },
    {
      "cell_type": "code",
      "source": [
        "for record in GF:\n",
        "  if record.end - record.start > 90:\n",
        "    print(chroms[record.chrom][record.start:record.end].seq)"
      ],
      "metadata": {
        "colab": {
          "base_uri": "https://localhost:8080/"
        },
        "id": "OxZguT3FCjzl",
        "outputId": "e5e3b0f6-9724-4141-ca31-c29a3df94b1f"
      },
      "execution_count": null,
      "outputs": [
        {
          "output_type": "stream",
          "name": "stdout",
          "text": [
            "AGAGAAAGATAGAGAGAGAGAGAGAGAGACAGACAGACAGAGAGAGAGAGAGAGAGACAGACAGACAGAGAGAGAGACAGACAGAGAGAGAGAGA\n",
            "CCCTCCCCTCCCCTCCCCTCCCCCCTCCCCTCCCCTCCCCCCTCCCCTCCCCTCCCCCTTCCCCTCCCCCCCTCCCCTCCCCTCCCCTCCCCTCCC\n",
            "CCTCTCCCTCTCCCTCCTCTCCCTCTCCCTCCTCTCCCTCTCCCTCCTCTCCCTCTCCCTCCTCTCCCTCTCCCTCCTCTCCCTCTCCCTCTCC\n",
            "CCTCCTCCTTCTCCTCCTCCGCTGTCGCCTCCTCCTCCTCCTCCTCCTCCTCCTCCTCCTCCTCCTCCTCCGCTGTCGCCTCCTCCTCCTCCTCCTCC\n",
            "TCTCTCTCTCTCTCTCTCTCTCTCTCCTCTCTCCTTCTCTCTCTCCTCTCTCTCTCCTCTCTCTCCTCTCTGTCTCTCTCTCTGTCTCTCT\n",
            "AAAGAAAGAGAAAGAAAGAAAGAAAGAAAGAAAGAAAGAAAGAAAGAAAGAAAGAAAGAAAGAAAGAAAGAAAGAAAGAAAGAGAGAGAAA\n",
            "AAGAAGGAAGAAGAAGGGAGAAGGAAGAAGGAGGAAGGAGGAAGAAGGAAGAAGAAGGAAGAAGGAGGAAGGAGGAAGAAGGAAGAAGAAGGAAGAA\n",
            "CTCTCTCCCTCTCTCCCTCTCTCCCTCTCTCCCTCTCTCCCTCTCTCTCTCCCTCTCTCCCTCCCTCTCTCTCTCTCTCTCTCCCTCTCTC\n",
            "GAGAGGTGGAGAGAGATGGAGAGAGGCGGAGAGAGGCGGAGAGAGACGGAGAGAGGTGGAGAGAGACGGAGAGAGGTGGAGAGAGATGGAGAG\n",
            "AGAGAAAGAAAGAGAGAGAGAGAAAGAAAGAAAGAAAGAAAGAAAGAAAGAAAGAAAGAAAGAAAGAAAGAAAGAAAGAAAGAAAGAGAAAGAAAGAGA\n",
            "CCTCCTCCTCCTCCTCTTCCTCCTCCTCCTCTTCCTCCTCCTCCTCTTCCTCCTCCTCCTCTTCCTCCTCCTCCTCTTCCTCCTCCTCCTCC\n",
            "TTTCTTTCTTTCTTTCTTTCTTTCTTTTCTTTCTTTCTTTCTTTCTTTCTTTCTTTCTTTCTTTCTTTCTTTCTTTCTTTCTTTCTTTCTTTCTTT\n",
            "CCTCCTCCCCCCTCCCCCTCCTCCTCCTCCTCCCCCCTCCTCCTCCTCCTCCTCCTACCCCCTCCTCCTCCTCCTCCTCCTCCTACCCCCTCCTCC\n",
            "GGGGAGGGGGGGGAGGGGGGAGGGGAGGGGAGGGGGAGGGGAGGGGAGGGGAGGGGAGGGGGAGGGGAGGGGAGGGGGAGGGGAGGGGAGGGG\n",
            "GGGAGGAGAGGGGAGGGGAGGGGAGGGGAAGGGAGGGGAGGGGAGGGGAGGGGAGGGGAGGGGAGGGGAGGAGAGGGGAGGGGAGGAGAGAGGAGGG\n",
            "GGAGGGAGAGGGAGAGGGAGAGGGGGAGGGGGAGGGGGAGGGGGAGGGGGAGGGGGAGGGGGAGGGGGAGGGGGAGGGGGAGGGGGAGGGGGAGG\n",
            "AGGAAGGAAGGAAGGAAGGAAGGAAGGAAGGAAGGAAGGAAGGAAGGGAGGGAGGGAGGGAGGGAGGGAGGGAGGGAGGGAAGGAGGGAGGGAGGGAGGGAGGGAGAGAGGGAGGGAATTAGGAAGGAAGGA\n",
            "GGGGAGGGGGAGGGGGGAGAGGGGGAGGGGGGAGAGGGGGAGGGGGAAGAGGGGGAGGGGGAGAGGGGGAGGGGGAAGAGGGGGAGGGGGAGGGG\n"
          ]
        }
      ]
    },
    {
      "cell_type": "markdown",
      "source": [
        "Short regions"
      ],
      "metadata": {
        "id": "7ZSf5irkeD0r"
      }
    },
    {
      "cell_type": "code",
      "source": [
        "for record in GF:\n",
        "  leng = record.end - record.start\n",
        "  if leng == 22:\n",
        "    print(chroms[record.chrom][record.start:record.end].seq)"
      ],
      "metadata": {
        "colab": {
          "base_uri": "https://localhost:8080/"
        },
        "id": "SJkPxAuiCgvc",
        "outputId": "2c871a17-bbc1-4507-db3e-8559969ff8fd"
      },
      "execution_count": null,
      "outputs": [
        {
          "output_type": "stream",
          "name": "stdout",
          "text": [
            "GGGAGGGGAAGAGAGGGGAGGG\n",
            "TCCGCCCCCCCCCCCCCCGCCT\n",
            "CCCTCCCCTCCGCTCCCCTCCC\n",
            "TCTCCTTTCCCTCCTTTCCTCT\n",
            "AGGAGGGGAGGGGAGGGGAGGA\n",
            "AGGAGGAGGAAGAGGAGGAGGA\n",
            "AGGGAGAGGGGGAGGAGAGGGA\n",
            "TTTTTTTTTTTTTTTTTTTTTT\n",
            "GGGAGGGAGAGAGGAGGGAGGG\n",
            "AGGAGGAGGACGAGGAGGAGGA\n",
            "CCCCCGCCCCCACCCCGCCCCC\n",
            "CCCCTCCCCGCCCCCCCTCCCC\n",
            "TCCCTGTCCCTGCCCTGTCCCT\n",
            "AAAAAACAAAAAAAACAAAAAA\n",
            "TTTTCTTTTTTCTTTTTCTTTT\n",
            "TTTTTTTTTTTTTTTTTTTTTT\n",
            "GGGGGGGGGTGGCGGGGGGGGG\n",
            "CATTCTTTCTGATCTTTCTTAC\n",
            "CGTTCTCTCCCTCCTCTCTTGC\n",
            "TCTTCCTCCTCCTCCTCCTTCT\n",
            "AAAAAAAAAAAAAAAAAAAAAA\n",
            "CCTTTCCTCCCATCTCCTTTCC\n",
            "TTTTTTTTTTTTTTTTTTTTTT\n",
            "GGGAGGGGAGAGAAGGGGAGGG\n",
            "CTCCCTTCCTTTGCCTTCCCTC\n",
            "AAAAAAAAAAAAAAAAAAAAAA\n",
            "AAAAAAAAAAAAAAAAAAAAAA\n",
            "GGGAAGAGGGAAGGGAGAAGGG\n",
            "TCTTTTTTTTTTTTTTTTCTCT\n",
            "AAAAAAAGAAAAAAGAAAAAAA\n",
            "ATCTTCCCTCCCCTCCCTTCTA\n",
            "AAAAAAAAAAAAAAAAAAAAAA\n",
            "CCCCGCCCCCCGCCCCCGCCCC\n",
            "AAAAAAAAAAAAAAAAAAAAAA\n",
            "CTCCTCTTCTTTTCTTCTCCTC\n",
            "AGGAGGAGGAGGAGGAGGAGGA\n",
            "CTCCTCCTCCGTCCTCCTCCTC\n",
            "GAGAGAGAGATGAGAGAGAGAG\n",
            "AAAAAAAAAAAAAAAAAAAAAA\n",
            "TCCCTCCTCCCCCCTCCTCCCT\n",
            "AGGGAGGGAGGGGAGGGAGGGA\n",
            "AAAAAAAAAAAAAAAAAAAAAA\n",
            "GGGGAGGGGGAGGGGGGAGGGG\n",
            "GGGGAGGGGGAGGGGGGAGGGG\n",
            "GGAGAAGGGGCCTGGGAAGAGG\n",
            "CCCACCCCCCTCCCCCCCACCC\n",
            "CCCCTTCCCCCACCCCTTCCCC\n",
            "TCCTCCTCTTCCTTCTCCTCCT\n",
            "TTTTATTTTTTATTTTTATTTT\n",
            "GGGGTGGGGGGTGGGGGTGGGG\n",
            "TTCTTTTTTTTTTTTTTTTCTT\n",
            "AAAACAAAAACAAAAAACAAAA\n",
            "AAAAAAAAAAAAAAAAAAAAAA\n",
            "GGCGGAGGGGGAGGGGAGGCGG\n",
            "GGAAAAAAAAAAAAAAAAAAGG\n",
            "GGAGGAGGGTGGAGGGAGGAGG\n",
            "GGGAGGGGAGAGGAGGGGAGGG\n",
            "TCTCCCTCTCCCATCTCCCTCT\n",
            "AAAAAAGAAGAAAAAGAAAAAA\n",
            "TTTTTTTTCTTTTCTTTTTTTT\n",
            "AAAAAAATAACAAATAAAAAAA\n",
            "AGGAGGAGGACGAGGAGGAGGA\n",
            "TTTTTTTTTTTTTTTTTTTTTT\n",
            "AAAAGAAAAGAAGAAAAGAAAA\n",
            "CCCCACCCCCCACCCCCACCCC\n",
            "TCCTCTCTTCCTTTTCTCTCCT\n",
            "GGAGGAGGGAGAAGGGAGGAGG\n",
            "CCCCGCCCCCGTCCCCCGCCCC\n",
            "TTTTTTTTTTTTTTTTTTTTTT\n",
            "AAAAAAAAAAAAAAAAAAAAAA\n",
            "GAGGAGGGAAAGTAGGGAGGAG\n",
            "CCTTCCTTCCTTCCTTCCTTCC\n",
            "CCTTCCTTCCTTCCTTCCTTCC\n",
            "GGGGGAGGGGGAGGGGAGGGGG\n",
            "AGGAGGGTAGAGGATGGGAGGA\n",
            "CCCTCCTCCGCCCCCTCCTCCC\n",
            "CCCCGCCCCCCTCCCCCGCCCC\n",
            "ATTCTTCTTTCTTTTCTTCTTA\n",
            "CCCCTCCCCCCCACCCCTCCCC\n",
            "GAGGAGGAGAATGGAGGAGGAG\n",
            "AAAAAGAAAAAAAAAAGAAAAA\n",
            "CCCTCTCCTGCCCTCCTCTCCC\n",
            "AGGAGGAGGATGAGGAGGAGGA\n",
            "CCCCCGCCCCGCCCCCGCCCCC\n",
            "AAAGACAGAATAAAGACAGAAA\n",
            "CTCCTTCCTTCCCTCCTTCCTC\n",
            "GTTTTTTTTTTTTTTTTTTTTG\n",
            "ACTTTTTTTTTTTTTTTTTTCA\n",
            "GGGAGGGGGAGGAGGGGGAGGG\n",
            "GGGGGAGGGGGGTGGGAGGGGG\n",
            "AGGGGTGGGGCTGGGGTGGGGA\n",
            "CCCATCTCCTCCTCCTCTACCC\n",
            "CCTCCCTCCCCAACCTCCCTCC\n",
            "GAGTGAGGAGGTGAGGAGTGAG\n",
            "GGGGACGGGGAGGGGGCAGGGG\n",
            "GAGGGAGGGAGGAGGGAGGGAG\n",
            "AAAAACAAAAACAAAACAAAAA\n",
            "CCCTCCTCCTCCTCCTCCTCCC\n",
            "TTTTTTTCTTTTTTCTTTTTTT\n",
            "GAGAGAGAGCGGGGAGAGAGAG\n",
            "GCGAGGAGGAGGAGGAGGAGCG\n",
            "TCCTCCTCCTAGTCCTCCTCCT\n",
            "AAAAAAAAAAAAAAAAAAAAAA\n",
            "AGAGAGAGACGTAAGAGAGAGA\n",
            "AGAGAGAGACGTAAGAGAGAGA\n",
            "AGGAAGAGGCCAGGGAGAAGGA\n",
            "AATAAAGAAGAAGAAGAAATAA\n",
            "AAAAAAAAAAAAAAAAAAAAAA\n",
            "GGGAAGGGAGGAGAGGGAAGGG\n",
            "AAAATAAAAATAAAAAATAAAA\n",
            "CCCTGCCCCCCGCCCCCGTCCC\n",
            "TTTTTTTTTTTTTTTTTTTTTT\n",
            "TCCTCCTCCTCTTCCTCCTCCT\n",
            "AGGAGGAGGAAGAGGAGGAGGA\n",
            "CCCCTTCCCCTTCCCCTTCCCC\n",
            "CTTTATTTTTTATTTTTATTTC\n",
            "TTTTTTTTTTTTTTTTTTTTTT\n",
            "GAAAGGAAGACAGGAAGGAAAG\n",
            "TTTTTTTTTTTTTTTTTTTTTT\n",
            "CGCCCTTCCCCGCCCTTCCCGC\n",
            "CCCTCCCTCCCCCCTCCCTCCC\n",
            "TTTTTTTTTTTTTTTTTTTTTT\n",
            "TTTTTTTTTTTTTTTTTTTTTT\n",
            "CCCCCACCCCCACCCCACCCCC\n",
            "GGAGGAGGGAGGAGGGAGGAGG\n",
            "GAAAAAAAAAAAAAAAAAAAAG\n",
            "TCTCTTTTCGCTGCTTTTCTCT\n",
            "TCCTCCTCCTCCTCCTCCTCCT\n",
            "TCCTCCTCCTTCCCCTCCTCCT\n",
            "AAAAAAAAAAAAAAAAAAAAAA\n",
            "GAGGGAGGGGGCGGGGAGGGAG\n",
            "GGGGCGGGGGGCGGGGGCGGGG\n",
            "AAAAAAAAGGCAGGAAAAAAAA\n",
            "AAAAAAAAAAAAAAAAAAAAAA\n",
            "CAAAAAAAAAAAAAAAAAAAAC\n",
            "TTTTTTTTTCATTTTTTTTTTT\n",
            "TTTTTTTTTTTTTTTTTTTTTT\n",
            "AAAAAAAAAAAAAAAAAAAAAA\n",
            "AAAAAAAAAAAAAAAAAAAAAA\n",
            "AAAAAAAAAAAAAAAAAAAAAA\n",
            "AAAAAAAAAAGGAAAAAAAAAA\n",
            "AGAGGAGCAGTGGACGAGGAGA\n",
            "AAAAAAAAAAAAAAAAAAAAAA\n",
            "CCTTTTCCTGTACTCCTTTTCC\n",
            "AAGGGAAAGAAGAGAAAGGGAA\n",
            "CCCTTCCTCTCTGCTCCTTCCC\n",
            "CCACCCCCCCACCCCCCCCACC\n",
            "AGACAGAAGAGGAGAAGACAGA\n",
            "GAGGGGAGAGGGGAGAGGGGAG\n",
            "AGGAGGGAGCGAGGAGGGAGGA\n",
            "CTCCTCCCCCTCCCCCCTCCTC\n",
            "GGGGAGGGAAGGGAGGGAGGGG\n",
            "CTCCCCTCCCGGGCCTCCCCTC\n",
            "AGGAGGGGAGGAAAGGGGAGGA\n",
            "AGAAGGGAGGAGGGAGGGAAGA\n",
            "GGGAGGAGGGCAGGGAGGAGGG\n",
            "TCCTCCTCCTGCTCCTCCTCCT\n",
            "GAAGAGGGGAGAAGGGGAGAAG\n",
            "TTTCTCTCTCCTGTCTCTCTTT\n",
            "TCTCTCCTCCAGGCTCCTCTCT\n",
            "GAAAAAAAAAAAAAAAAAAAAG\n",
            "GGGAGGAGGCAGGGGAGGAGGG\n",
            "TCCCTCCTCCTTCCTCCTCCCT\n",
            "TTCCTTCCTTCCTTCCTTCCTT\n",
            "GGAGTAGGGAGAAGGGATGAGG\n",
            "TTTTTTTTTTTTTTTTTTTTTT\n",
            "CCTCTTTTCCTTTCTTTTCTCC\n",
            "GGGGAGGGGGCGCGGGGAGGGG\n",
            "AGAGAGAGGAGGGGGAGAGAGA\n",
            "CCCCCACCCCCACCCCACCCCC\n",
            "TTTTTTTATTTTTTATTTTTTT\n",
            "CTTCCTTTCCTTCCTTTCCTTC\n",
            "CCTCTCCTCCTCCCTCCTCTCC\n",
            "GGAGAGGAGTGCAGAGGAGAGG\n",
            "CCGTCCTCCCCTCCCTCCTGCC\n",
            "CCCTTCCCCCTTCCCCCTTCCC\n",
            "AAAAAAGGAAGAGAGGAAAAAA\n",
            "GGAGGGGGGCGCGGGGGGGAGG\n",
            "AGAAGAAGAAAAAAGAAGAAGA\n",
            "GAAAAAAAAAAAAAAAAAAAAG\n",
            "TTCCTTCTCTTTACTCTTCCTT\n",
            "TTTTTCTTTCTTTTTTCTTTTT\n",
            "GGGTGGGGGGAGGGGGGGTGGG\n",
            "GGGAGAGGGGCAGGGGAGAGGG\n",
            "CCTCCCTCTCTCCTCTCCCTCC\n",
            "AGGAGGAGGAGGAGGAGGAGGA\n",
            "AGGGGAGGGTGCGGGGAGGGGA\n",
            "GGGAGGGGAGGGGAGGGGAGGG\n",
            "GAGGAGAGGCTCGGGAGAGGAG\n",
            "GGGAGGGGAGGGGAGGGGAGGG\n",
            "TTTTTTGTTTGTTTTGTTTTTT\n",
            "GGGAGGGGGTGTTGGGGGAGGG\n",
            "CCTCCCTCGCCCCGCTCCCTCC\n",
            "TTTCTTTTCTTTTCTTTTCTTT\n",
            "CCCTCCCTCACTCCTCCCTCCC\n",
            "CCCGCCCCTCTGCTCCCCGCCC\n",
            "TCCCCACCCCGTCCCCACCCCT\n",
            "GGTGGGAGAGTGGAGAGGGTGG\n",
            "CCTCCCTCCCCCTCCTCCCTCC\n",
            "GAGGGAAGGGAGGGGAAGGGAG\n",
            "AAGAGGAAGGGAAGAAGGAGAA\n",
            "GGAGGGAGGCCCAGGAGGGAGG\n",
            "GAGGGAGGGAGAGGGGAGGGAG\n",
            "AAAAAAAAAAAAAAAAAAAAAA\n",
            "GGAGGGAGGATGGGGAGGGAGG\n",
            "GAGAGGGGAGGTCAGGGGAGAG\n",
            "GGGGAGGGAGGGGAGGGAGGGG\n",
            "CATTTTTTTTTTTTTTTTTTAC\n",
            "CTCTCTCTCCTCCCTCTCTCTC\n",
            "TTTTTTTTTTGTTTTTTTTTTT\n",
            "AGAAAAGAAAAGCAAGAAAAGA\n",
            "AGGAGGAGGAGGAGGAGGAGGA\n",
            "AAGAAAAGAAGAAAGAAAAGAA\n",
            "CCCCCTCCCCTCCCCCTCCCCC\n",
            "GGGGGTGGGGTGGGGGTGGGGG\n",
            "GGGAGGGGGTCCCGGGGGAGGG\n",
            "AAAAAAAAAAAAAAAAAAAAAA\n",
            "GGGGGCGGGGTAGGGGCGGGGG\n",
            "CCCCCACCCCACCCCCACCCCC\n",
            "GAAGGAAGAGGGAAGAAGGAAG\n",
            "GGGGAGGAGGAAGGAGGAGGGG\n",
            "CTCCTCCTCCTCCCTCCTCCTC\n",
            "CTCCTCCCTTCCTTCCCTCCTC\n",
            "TCCTCCTCCATGTCCTCCTCCT\n",
            "TCCTCCTTCTTCTCTTCCTCCT\n",
            "TCCTCCCCCTGCTCCCCCTCCT\n",
            "CCCTCCCTCCTCACTCCCTCCC\n",
            "TTTTTTTTTTTTTTTTTTTTTT\n",
            "AAAAAAGGAAAGAAGGAAAAAA\n",
            "CTTCTCTCTCTCCTCTCTCTTC\n",
            "GGGGCGGGGGGAGGGGGCGGGG\n",
            "CCTCTCCTCTCCTCTCCTCTCC\n",
            "GGAGAGGGGAGGAGGGGAGAGG\n",
            "AGGAGGGGGAGGTGGGGGAGGA\n",
            "TCCTCCTCCTCCTCCTCCTCCT\n",
            "GGGAGAGGGCCCTGGGAGAGGG\n",
            "TTTTTTTTTTTTTTTTTTTTTT\n",
            "CTTTTTTTTTTTTTTTTTTTTC\n",
            "AAAAAAAAAAAAAAAAAAAAAA\n",
            "CAGAAAAAAAAAAAAAAAAGAC\n",
            "AAAAAAAAAAAAAAAAAAAAAA\n",
            "GGAAAAAAAGGAAAAAAAAAGG\n",
            "CTCTCTCTCCCTCCTCTCTCTC\n",
            "AGGGAGGGAAGGAAGGGAGGGA\n",
            "GAAAGAGGAATGGAGGAGAAAG\n",
            "CCTCCCTCCCCAGCCTCCCTCC\n",
            "CCTCCCTCCCCTGCCTCCCTCC\n",
            "CTCCCTCCCCTGCCCCTCCCTC\n",
            "AGGGGAGAGGGGAGAGAGGGGA\n",
            "GGTGGGGGGGTGGGGGGGGTGG\n",
            "GGAGGGGGGTGCTGGGGGGAGG\n",
            "AAGGAAGGAAGGAAGGAAGGAA\n",
            "GGGAAGGAGTTTCGAGGAAGGG\n",
            "GGAGGGAGAGAGGAGAGGGAGG\n",
            "CCTCCTCCGCTCCGCCTCCTCC\n",
            "GGGGAGGGGGAGCGGGGAGGGG\n",
            "GGGAGGAGGGGAGGGAGGAGGG\n",
            "GGGGTGAGGGTGGGGAGTGGGG\n",
            "GGAGAGGGTGATGTGGGAGAGG\n",
            "GTCTCTTCCTTGTCCTTCTCTG\n",
            "GAAGGGGGACGGAAGGGGGAAG\n",
            "CCCTCTTCCTGCGCCTTCTCCC\n",
            "TTTTTCTTTTTTTTTTCTTTTT\n",
            "TTTTTTTGTTTTTTGTTTTTTT\n",
            "CTCCCTCCCTTTTCCCTCCCTC\n",
            "AAAAAAAAAAAAAAAAAAAAAA\n",
            "AAAAAAAAAAAAAAAAAAAAAA\n",
            "CCCTCCCCGCCCCGCCCCTCCC\n",
            "CCTCCTCCTCTCCTCCTCCTCC\n",
            "GGGGGAGGACGCAAGGAGGGGG\n",
            "TCTTCCTTCTCCTCTTCCTTCT\n",
            "AGGAGGAGGAGGAGGAGGAGGA\n",
            "AAAAAAAAAAAAAAAAAAAAAA\n",
            "CCTCCCTTCTCTTCTTCCCTCC\n",
            "AAAAAAAAAAAAAAAAAAAAAA\n",
            "TCCTTCTCCTCCTCCTCTTCCT\n",
            "CTCCCCTCTCTCCTCTCCCCTC\n",
            "AGGAGGAGGAGGAGGAGGAGGA\n",
            "AGGGGGAGGAAAAGGAGGGGGA\n",
            "AGGAGGAGGAGGAGGAGGAGGA\n",
            "CCCCTCCCCCATCCCCCTCCCC\n",
            "ATTTTTTTTTTTTTTTTTTTTA\n",
            "AAAAAAAAAAAAAAAAAAAAAA\n",
            "GAGGCGGAGGCGGGAGGCGGAG\n",
            "AAATAAAAAATAAAAAAATAAA\n",
            "TTTTTTTTTTTTTTTTTTTTTT\n",
            "CCCCTTCCCCTTTCCCTTCCCC\n",
            "GGGGGTGGGGTGGGGGTGGGGG\n",
            "CCCCCCCTCCCCCCTCCCCCCC\n",
            "GGGGGAGCGGGAGGCGAGGGGG\n",
            "TTTTTTTTTTTTTTTTTTTTTT\n",
            "GGAAGGAAGGAAGGAAGGAAGG\n",
            "TTTTGTTTTTGTTTTTTGTTTT\n",
            "CTCCCTCCTTCCCTCCTCCCTC\n",
            "GGGGAGGAGGAGGGAGGAGGGG\n",
            "GGAGGAGGGATGAGGGAGGAGG\n",
            "GGAGAGGGAGAGGAGGGAGAGG\n",
            "CCTCCTTCCTTCCCCTTCCTCC\n",
            "CTCCCTCCTGGCCTCCTCCCTC\n",
            "AGGAGGAGGAAGAGGAGGAGGA\n",
            "GAGGGAAGAGCAGAGAAGGGAG\n",
            "CCCTCCCTCCCCACTCCCTCCC\n",
            "GAGCAGGAAGGAGAAGGACGAG\n",
            "GCGGAGGAGAGGAGAGGAGGCG\n",
            "AGAGGGAGAAGGTAGAGGGAGA\n",
            "GAGGGGGGTGGGGTGGGGGGAG\n",
            "CAAAAAAAAAAAAAAAAAAAAC\n",
            "TCCTCCTCCTCTACCTCCTCCT\n",
            "AGGAGGAGGAGCAGGAGGAGGA\n",
            "TTTTTTTTTTTTTTTTTTTTTT\n",
            "GGAGAAGGAGGGGAGGAAGAGG\n",
            "GGGGGAAGGGAAGGGAAGGGGG\n",
            "GAGGGGAGAGAGGAGAGGGGAG\n",
            "GGGGAGGGGAGGAGGGGAGGGG\n",
            "AAGGAAAGAGAGCAGAAAGGAA\n",
            "CCCTCCCTCACCCCTCCCTCCC\n",
            "CTTCCTCTCCTTCCTCTCCTTC\n",
            "CTCCCCTCTCCTCTCTCCCCTC\n",
            "AGGGGAGGGAAGGGGGAGGGGA\n",
            "TTTTTTTTTTTTTTTTTTTTTT\n",
            "TTTTTTTTTTTTTTTTTTTTTT\n",
            "GAAAGGAAGGAAGGAAGGAAAG\n",
            "GGAGGAAGGAGGAGGAAGGAGG\n",
            "GGGGGGCGGGCGGGGCGGGGGG\n",
            "GGGAGAAGAGCCTAGAAGAGGG\n",
            "GAGGGAGAGAGAAGAGAGGGAG\n",
            "TTTTTTTTTTTTTTTTTTTTTT\n",
            "GAGGGGGAGCGTGGAGGGGGAG\n",
            "AGGGGAGGGGAGGGGGAGGGGA\n",
            "CCCTCCCCTCCCCTCCCCTCCC\n",
            "CCTCCTCCCTCCTCCCTCCTCC\n",
            "GGAGGAGGGAGGAGGGAGGAGG\n",
            "GGAAAGGGGTTCAGGGGAAAGG\n",
            "GGAGGGAGGCATGGGAGGGAGG\n",
            "CCCCTCCCTCCTCTCCCTCCCC\n",
            "TTCTTTCCTTCCCTCCTTTCTT\n",
            "AAAAAAAAAAAAAAAAAAAAAA\n",
            "CCTTCCTTCTTTCCTTCCTTCC\n",
            "TTTTTTTGTTTTTTGTTTTTTT\n",
            "GGGGAGGGGAGGGGGGGAGGGG\n",
            "AGGGGTGGGGTGGGGGTGGGGA\n",
            "GGGGGCAGGGAGGGGACGGGGG\n",
            "CTCCTGTCCCCTCCCTGTCCTC\n",
            "AAAGAGAGAAGCCAGAGAGAAA\n",
            "GAAAGAAAGATAAGAAAGAAAG\n",
            "GGGAGGAGGAGGGGGAGGAGGG\n",
            "CTCTCTCCCTCACCCCTCTCTC\n",
            "CCCTCCCCTCTCCTCCCCTCCC\n",
            "TTCCTTCCTCCTTTCCTTCCTT\n",
            "CCCTCCCCTCCAGTCCCCTCCC\n",
            "CTCCCCTCCACCTCCTCCCCTC\n",
            "CCCCCCTCCGCCACCTCCCCCC\n",
            "AAAAAAAAAAAAAAAAAAAAAA\n",
            "CCCCTTCCCGCTCCCCTTCCCC\n",
            "GAGAGAAGGGTGGGGAAGAGAG\n",
            "CCCCTCCCCGGAGCCCCTCCCC\n",
            "CCCTCCCCTCGCGTCCCCTCCC\n",
            "TTTTTTTTTTTTTTTTTTTTTT\n",
            "TTTTTATTTTCATTTTATTTTT\n",
            "CCCCGCCCCCGCCCCCCGCCCC\n",
            "TTTTTTTTTTTTTTTTTTTTTT\n",
            "TCCCCACCCTCTTCCCACCCCT\n",
            "AGGAAAAGGGAGAGGAAAAGGA\n",
            "AAAGGAAAAAGAAAAAAGGAAA\n",
            "GAGGAAAGAGGTCAGAAAGGAG\n",
            "TTTTTTTTTTTTTTTTTTTTTT\n",
            "GGAAGGAGGGCTGGGAGGAAGG\n",
            "AGGAGGAGGAGTAGGAGGAGGA\n",
            "AAAAAAAAAAAAAAAAAAAAAA\n",
            "CCCCTTCCCTGCCCCCTTCCCC\n",
            "TTCCTTCTCCCGCCTCTTCCTT\n",
            "GGGGCGGGGGAGGGGGGCGGGG\n",
            "GGAGGGGAGGAGGGAGGGGAGG\n",
            "CCCTCCCCCCTCTCCCCCTCCC\n",
            "AAAAAAAAAAAAAAAAAAAAAA\n",
            "GGGAGGAGGGATGGGAGGAGGG\n",
            "AGGAGGAGGAGGAGGAGGAGGA\n",
            "GCCCCCCCCCTCCCCCCCCCCG\n",
            "GGTGGGGGAGGAGAGGGGGTGG\n",
            "CCCCTCCTTTCTCTTCCTCCCC\n",
            "AAGAGAGAGAAAGGAGAGAGAA\n",
            "TTTTTTTCTGTTTTCTTTTTTT\n",
            "GTTTTTTTTTTTTTTTTTTTTG\n",
            "CTCCTCCCCTCCTCCCCTCCTC\n",
            "TTTCTTTTCTTTTCTTTTCTTT\n",
            "AAAAAAAAAAAAAAAAAAAAAA\n",
            "CCCCCCCCACCCCACCCCCCCC\n",
            "AGAAAGAAGAAAAGAAGAAAGA\n",
            "AGGAGGAGGAAGAGGAGGAGGA\n",
            "CCTTCCTTCCTTCCTTCCTTCC\n",
            "GGGAGGGAAGGCCAAGGGAGGG\n",
            "TCTCTCTCTGATATCTCTCTCT\n",
            "TCTCTCTCTGATATCTCTCTCT\n",
            "GGGGGAGGGCCGGGGGAGGGGG\n",
            "TCCTCCTCCTCCTCCTCCTCCT\n",
            "TCCCCGCCCCCTCCCCGCCCCT\n",
            "GGAGAGGGGGGAAGGGGAGAGG\n",
            "GTCTCCTCCTCGTCCTCCTCTG\n",
            "AAAAAAAAAAAAAAAAAAAAAA\n",
            "CCCTCCCCCATCACCCCCTCCC\n",
            "CTCCCTCCCTACTCCCTCCCTC\n",
            "ATTTTTTTTTTTTTTTTTTTTA\n",
            "TGGAAAAGGAAGAGGAAAAGGT\n",
            "AAAAAAAAAAAAAAAAAAAAAA\n",
            "CCCCTCCTCCAGCCTCCTCCCC\n",
            "AAAAACAAAAACAAAACAAAAA\n",
            "GGGGGAGGATAGAAGGAGGGGG\n",
            "TCCTCCTCCTCCTCCTCCTCCT\n",
            "GAAAGGAAGGAAGGAAGGAAAG\n",
            "TTCCTCCTCTCACCTCCTCCTT\n",
            "CCCCTCCCCACCTCCCCTCCCC\n",
            "GGGGAAAGGAGATGGAAAGGGG\n",
            "TTTTTTTTTTTTTTTTTTTTTT\n",
            "TTTTTTTTTTTTTTTTTTTTTT\n",
            "AAAAAAAGAAAAAAGAAAAAAA\n",
            "CCTTCCTCTTCCCTCTCCTTCC\n",
            "TCTCTCTCCCTCTCCTCTCTCT\n",
            "TCCCTCTCCACTGCCTCTCCCT\n",
            "CCTCCTCCCTGACCCCTCCTCC\n",
            "GGGGGAGGGGTTAGGGAGGGGG\n",
            "GGGGTGGGGATGAGGGGTGGGG\n",
            "GGGGGAGGGCAGGGGGAGGGGG\n",
            "AAAAATAAAATAAAAATAAAAA\n",
            "GGGGCAGGGGGCGGGGACGGGG\n",
            "GAGGGAGGAGATGAGGAGGGAG\n",
            "GGAGGGAGGATGGGGAGGGAGG\n",
            "AGGAGGAGGTGAAGGAGGAGGA\n",
            "CCTCTCCTCTCCTCTCCTCTCC\n",
            "TTTTTTTTTTTTTTTTTTTTTT\n",
            "TTTTTTTTTTTTTTTTTTTTTT\n",
            "AAAGAAAAGAATAGAAAAGAAA\n",
            "GGGAGAGAGAGGAGAGAGAGGG\n",
            "CACCCCCTCCTCCCTCCCCCAC\n",
            "CCCTCCCCTGCCCTCCCCTCCC\n",
            "GGGGAGGGGCCCGGGGGAGGGG\n",
            "GGGAGGGGGGACTGGGGGAGGG\n",
            "GGGGAGGGGGTCGGGGGAGGGG\n",
            "CCTTTTTTTTTTTTTTTTTTCC\n",
            "AAAAAACAAAAAAAACAAAAAA\n",
            "GGGGAGGAGATGAGAGGAGGGG\n",
            "TTCTTTTTTTCTCTTTTTTCTT\n"
          ]
        }
      ]
    }
  ]
}