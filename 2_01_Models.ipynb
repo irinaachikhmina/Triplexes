{
  "cells": [
    {
      "cell_type": "markdown",
      "metadata": {
        "id": "view-in-github",
        "colab_type": "text"
      },
      "source": [
        "<a href=\"https://colab.research.google.com/github/irinaachikhmina/Triplexes/blob/main/2_01_Models.ipynb\" target=\"_parent\"><img src=\"https://colab.research.google.com/assets/colab-badge.svg\" alt=\"Open In Colab\"/></a>"
      ]
    },
    {
      "cell_type": "markdown",
      "metadata": {
        "id": "U4t5fYpOkuSZ"
      },
      "source": [
        "# Imports"
      ]
    },
    {
      "cell_type": "code",
      "execution_count": null,
      "metadata": {
        "colab": {
          "base_uri": "https://localhost:8080/"
        },
        "id": "CrK1_GhvcUdX",
        "outputId": "461a66ee-9788-4f17-d9bf-3da160972fa0"
      },
      "outputs": [
        {
          "output_type": "stream",
          "name": "stdout",
          "text": [
            "Mounted at /content/drive\n"
          ]
        }
      ],
      "source": [
        "from google.colab import drive\n",
        "drive.mount('/content/drive')"
      ]
    },
    {
      "cell_type": "code",
      "execution_count": null,
      "metadata": {
        "id": "RpaXrw_pcbfW"
      },
      "outputs": [],
      "source": [
        "!pip install biopython"
      ]
    },
    {
      "cell_type": "code",
      "execution_count": null,
      "metadata": {
        "id": "Okz1EyywdF1t"
      },
      "outputs": [],
      "source": [
        "import os\n",
        "import numpy as np\n",
        "import pandas as pd\n",
        "import sys\n",
        "from collections import defaultdict\n",
        "\n",
        "import Bio\n",
        "from Bio import SeqIO\n",
        "\n",
        "import scipy\n",
        "import scipy.sparse as sps\n",
        "\n",
        "import matplotlib.pyplot as plt\n",
        "import seaborn as sns\n",
        "\n",
        "from joblib import Parallel, delayed, dump, load\n",
        "from tqdm import trange\n",
        "from tqdm.notebook import tqdm\n",
        "\n",
        "from sklearn.metrics import roc_auc_score, f1_score\n",
        "from IPython.display import clear_output\n",
        "\n",
        "from sklearn.model_selection import train_test_split\n",
        "from sklearn.model_selection import KFold\n",
        "from sklearn.preprocessing import LabelBinarizer\n",
        "from sklearn.model_selection import StratifiedKFold\n",
        "\n",
        "import tensorflow as tf\n",
        "from tensorflow.keras.models import Sequential\n",
        "from tensorflow.keras.layers import Flatten, Dense, Activation, Dropout, LeakyReLU, Conv1D, GlobalMaxPool1D, MaxPooling1D, Input, LSTM\n",
        "from tensorflow.keras.initializers import random_normal\n",
        "from tensorflow.keras.regularizers import L2"
      ]
    },
    {
      "cell_type": "code",
      "execution_count": null,
      "metadata": {
        "id": "U3EzQTl_cz4N"
      },
      "outputs": [],
      "source": [
        "# Sparse vector\n",
        "!git clone --recurse-submodules https://github.com/Nazar1997/Sparse_vector\n",
        "from Sparse_vector.sparse_vector import SparseVector"
      ]
    },
    {
      "cell_type": "markdown",
      "metadata": {
        "id": "_zGmbQHPk1_m"
      },
      "source": [
        "#Data loading"
      ]
    },
    {
      "cell_type": "code",
      "execution_count": null,
      "metadata": {
        "colab": {
          "base_uri": "https://localhost:8080/",
          "height": 49,
          "referenced_widgets": [
            "4e1a9401c40247f191cf12d1b3e7fe6f",
            "240164d89cbe4dd3a41aad520f2fc2d4",
            "db7115df693e4a4b9e6f58041555a1cd",
            "be1e0bd1a4064b7882322d233ad17e43",
            "48cd102dba5d4416bb4bda657661c959",
            "8ab618e540324c2ab6345165ae166a4b",
            "c20592edf2bc491bb76810205c07099d",
            "d2cb3d2cbfb04696929ae142215601af",
            "edf4cb94583841ae84a3641b3b4c84e2",
            "5334bb4b1825435191fbdddaa8ca40b3",
            "7e7554d154454aada42ece5fcb4884b3"
          ]
        },
        "id": "DvHMqzyQD-94",
        "outputId": "a613c4d0-a2a5-446f-9142-55381da47510"
      },
      "outputs": [
        {
          "output_type": "display_data",
          "data": {
            "text/plain": [
              "  0%|          | 0/24 [00:00<?, ?it/s]"
            ],
            "application/vnd.jupyter.widget-view+json": {
              "version_major": 2,
              "version_minor": 0,
              "model_id": "4e1a9401c40247f191cf12d1b3e7fe6f"
            }
          },
          "metadata": {}
        }
      ],
      "source": [
        "DNA = {}\n",
        "chrom_names = [f'chr{i}' for i in list(range(1, 23)) + ['X', 'Y']]\n",
        "#chrom_names = [f'chr{i}' for i in list(range(1, 23, 2))]\n",
        "length_genome = 0\n",
        "for name in tqdm(chrom_names):\n",
        "    DNA[name] = SeqIO.read('/content/drive/MyDrive/Triplexes/data/hg38/' \n",
        "                              + 'Homo_sapiens.GRCh38.dna.' \n",
        "                              + name[:3] \n",
        "                              + 'omosome.' \n",
        "                              + name[3:] \n",
        "                              + '.fa', \n",
        "                              'fasta')\n",
        "    length_genome += len(DNA[name])\n",
        "lens_of_chroms = {chrom: len(DNA[chrom]) for chrom in DNA}"
      ]
    },
    {
      "cell_type": "code",
      "source": [
        "States_features = [feature[:-4] for feature in os.listdir('/content/drive/MyDrive/Triplexes/data/states_sparse/') if feature[-3:] == 'pkl']\n",
        "States = {feature: load(f'/content/drive/MyDrive/Triplexes/data/states_sparse/{feature}.pkl') \n",
        "         for feature in tqdm(States_features)}"
      ],
      "metadata": {
        "colab": {
          "base_uri": "https://localhost:8080/",
          "height": 49,
          "referenced_widgets": [
            "a75d1c69f2ef414e8fe87489698d3a33",
            "426ddf95aaaf48d981f7261b72a7377b",
            "bd4a1213029d417097491bc874e2f71c",
            "422c52c729a84343991974f91ac99e60",
            "7d66ca2c35684e45b330a6c1c127935c",
            "4182a9c8a8554cafb6d9c9f9b64b9562",
            "ba321d4ddd654be7b9043fa264b886b0",
            "cdc4924b36af4c3488ec68b2c4fc06c4",
            "40e95a7214dd496f9fc72afe17685a39",
            "b8c40f6c215042f4a072129bd94764bd",
            "5a51ddd435c244e5a353676fe62f1e17"
          ]
        },
        "id": "TCo_XCsWgSSL",
        "outputId": "18c4beb3-1308-44b1-ce3b-e22939104ebf"
      },
      "execution_count": null,
      "outputs": [
        {
          "output_type": "display_data",
          "data": {
            "text/plain": [
              "  0%|          | 0/17 [00:00<?, ?it/s]"
            ],
            "application/vnd.jupyter.widget-view+json": {
              "version_major": 2,
              "version_minor": 0,
              "model_id": "a75d1c69f2ef414e8fe87489698d3a33"
            }
          },
          "metadata": {}
        }
      ]
    },
    {
      "cell_type": "code",
      "execution_count": null,
      "metadata": {
        "colab": {
          "base_uri": "https://localhost:8080/",
          "height": 49,
          "referenced_widgets": [
            "8164755a83f14d57b8e951d77e5dd2f6",
            "afc3db3763cb4fa382582ad665164957",
            "e2f2769f1faa4dbb81945371fd7a0ede",
            "a2e0b955c85f4eae8e7fe041d650c360",
            "4f6087fe7a254b428350257adec8a82f",
            "c31761d36ce046a78c18050bbe65127d",
            "bfaff676ec174357ae5b8c2e55ad61c4",
            "fabfc62ef37c4d88888fe7e4c483b35c",
            "25da8837f5484c33858bbbfc6cc82a21",
            "9cb11f1467cf4a97ae246d013a693b31",
            "ce82fce658c24eaabfe54823decaabdc"
          ]
        },
        "id": "VjLZJ5y2FWTo",
        "outputId": "dd550414-0e7e-4b10-9c6c-ccc14430ec43"
      },
      "outputs": [
        {
          "output_type": "display_data",
          "data": {
            "text/plain": [
              "  0%|          | 0/149 [00:00<?, ?it/s]"
            ],
            "application/vnd.jupyter.widget-view+json": {
              "version_major": 2,
              "version_minor": 0,
              "model_id": "8164755a83f14d57b8e951d77e5dd2f6"
            }
          },
          "metadata": {}
        }
      ],
      "source": [
        "Omics_features = [feature[:-4] for feature in os.listdir('/content/drive/MyDrive/Triplexes/data/omics_sparse/') if feature[-3:] == 'pkl']\n",
        "Omics = {feature: load(f'/content/drive/MyDrive/Triplexes/data/omics_sparse/{feature}.pkl') \n",
        "         for feature in tqdm(Omics_features)}"
      ]
    },
    {
      "cell_type": "code",
      "source": [
        "Tad = load('/content/drive/MyDrive/Triplexes/data/tad_sparse/tad_tad.pkl')"
      ],
      "metadata": {
        "id": "zbl3wKP3O7Jp"
      },
      "execution_count": null,
      "outputs": []
    },
    {
      "cell_type": "code",
      "source": [
        "ints_in = pd.read_csv('/content/drive/MyDrive/Triplexes/data/ints_in.bed', header=None, sep='\\t')\n",
        "ints_in.columns = ['chr', 'start', 'end']\n",
        "ints_out = pd.read_csv('/content/drive/MyDrive/Triplexes/data/ints_out1.bed', header=None, sep='\\t')\n",
        "ints_out.columns = ['chr', 'start', 'end']"
      ],
      "metadata": {
        "id": "Jsi9L7W_swf9"
      },
      "execution_count": null,
      "outputs": []
    },
    {
      "cell_type": "code",
      "source": [
        "length = 34\n",
        "width = 100\n",
        "width_tad = 0\n",
        "neg_portion = 1 #portions = [1, 5, 10, 20, 50, 70]"
      ],
      "metadata": {
        "id": "D7Ry-GWfL5eB"
      },
      "execution_count": null,
      "outputs": []
    },
    {
      "cell_type": "markdown",
      "source": [
        "# Model"
      ],
      "metadata": {
        "id": "Yf03VqBkL0fb"
      }
    },
    {
      "cell_type": "code",
      "source": [
        "def reset_tf_session():\n",
        "    curr_session = tf.compat.v1.get_default_session()\n",
        "    if curr_session is not None:\n",
        "        curr_session.close()\n",
        "    tf.keras.backend.clear_session()\n",
        "    config = tf.compat.v1.ConfigProto()\n",
        "    config.gpu_options.allow_growth = True\n",
        "    s = tf.compat.v1.InteractiveSession(config=config)\n",
        "    tf.compat.v1.keras.backend.set_session(s)\n",
        "    return s"
      ],
      "metadata": {
        "id": "9w3W_Xl5oqiN"
      },
      "execution_count": null,
      "outputs": []
    },
    {
      "cell_type": "code",
      "source": [
        "def make_model_CNN():\n",
        "  model = Sequential()\n",
        "  model.add(Conv1D(filters=32, kernel_size=3, activation='relu', input_shape=(length, features_n)))\n",
        "  model.add(Conv1D(filters=32, kernel_size=3, activation='relu'))\n",
        "  model.add(MaxPooling1D(pool_size=2))\n",
        "  model.add(Dropout(0.25))\n",
        "\n",
        "  model.add(Conv1D(filters=64, kernel_size=3, activation='relu'))\n",
        "  model.add(Conv1D(filters=64, kernel_size=3, activation='relu'))\n",
        "  model.add(MaxPooling1D(pool_size=2))\n",
        "  model.add(Dropout(0.25))\n",
        "\n",
        "  model.add(Flatten())\n",
        "  model.add(Dense(128, activation='relu'))\n",
        "  model.add(Dropout(0.5))\n",
        "  model.add(Dense(1, activation='sigmoid'))\n",
        "\n",
        "  return model"
      ],
      "metadata": {
        "id": "lo1FDi7bXN0X"
      },
      "execution_count": null,
      "outputs": []
    },
    {
      "cell_type": "code",
      "source": [
        "def make_model_RNN():\n",
        "  model = Sequential()\n",
        "  model.add(LSTM(32, activation='relu', input_shape=(length, features_n), recurrent_dropout = 0.25))\n",
        "  model.add(Flatten())\n",
        "  model.add(Dense(1))\n",
        "  return model"
      ],
      "metadata": {
        "id": "E77iWcgxZX9-"
      },
      "execution_count": null,
      "outputs": []
    },
    {
      "cell_type": "code",
      "source": [
        "def make_model_RNN_CNN():\n",
        "  model = Sequential()\n",
        "  \n",
        "  model.add(Conv1D(filters=32, kernel_size=3, activation='relu', input_shape=(length, features_n)))\n",
        "  model.add(MaxPooling1D(pool_size=2))\n",
        "  model.add(Dropout(0.25))\n",
        "\n",
        "  model.add(LSTM(32, activation='relu', input_shape=(length, features_n), dropout = 0.25, recurrent_dropout = 0.3))\n",
        "\n",
        "  model.add(Dense(1))\n",
        "  return model"
      ],
      "metadata": {
        "id": "fMdyS3zlAA3H"
      },
      "execution_count": null,
      "outputs": []
    },
    {
      "cell_type": "markdown",
      "source": [
        "# DNA features only"
      ],
      "metadata": {
        "id": "TzNcFxp1ocSN"
      }
    },
    {
      "cell_type": "markdown",
      "source": [
        "## Data selection"
      ],
      "metadata": {
        "id": "2PQN06LrmdxE"
      }
    },
    {
      "cell_type": "code",
      "source": [
        "features_n = 4"
      ],
      "metadata": {
        "id": "_wf6UNPUjEJ1"
      },
      "execution_count": null,
      "outputs": []
    },
    {
      "cell_type": "code",
      "source": [
        "le = LabelBinarizer().fit(np.array([[\"A\"], [\"C\"], [\"T\"], [\"G\"]]))\n",
        "def data_load(ints):\n",
        "  data = []\n",
        "  for i, interval in ints.iterrows():\n",
        "    chrom = interval.chr\n",
        "    begin = int(interval.start)\n",
        "    end = int(interval.end)\n",
        "    dna_OHE = le.transform(list(DNA[chrom][begin:end].upper()))\n",
        "    data.append(np.hstack(dna_OHE).astype(np.float32))\n",
        "  return data"
      ],
      "metadata": {
        "id": "gP4D8ZWyjpfr"
      },
      "execution_count": null,
      "outputs": []
    },
    {
      "cell_type": "code",
      "source": [
        "positives = data_load(ints_in)\n",
        "positives = np.stack(positives)\n",
        "print(positives.shape)\n",
        "\n",
        "negatives = data_load(ints_out)\n",
        "negatives = np.stack(negatives)\n",
        "print(negatives.shape)"
      ],
      "metadata": {
        "id": "vywVUfS6jpo7"
      },
      "execution_count": null,
      "outputs": []
    },
    {
      "cell_type": "code",
      "source": [
        "X = np.concatenate([positives, negatives], axis=0)\n",
        "y = [1 for i in range(len(positives))]\n",
        "y.extend([0 for i in range(len(negatives))])\n",
        "y = np.array(y)\n",
        "print(X.shape)\n",
        "print(y.shape)"
      ],
      "metadata": {
        "colab": {
          "base_uri": "https://localhost:8080/"
        },
        "outputId": "19f4bc6b-0e6c-4555-f740-40aa0ac8b26c",
        "id": "gIfW7F1ric4s"
      },
      "execution_count": null,
      "outputs": [
        {
          "output_type": "stream",
          "name": "stdout",
          "text": [
            "(18038, 34, 4)\n",
            "(18038,)\n"
          ]
        }
      ]
    },
    {
      "cell_type": "code",
      "source": [
        "X_train, X_test, y_train, y_test = train_test_split(X, y, train_size=0.8)\n",
        "print(X_train.shape, X_test.shape, y_train.shape, y_test.shape)"
      ],
      "metadata": {
        "colab": {
          "base_uri": "https://localhost:8080/"
        },
        "outputId": "bb1ebe02-8e7a-48e4-e0f0-399db5f68ece",
        "id": "-JD5pWqpic4s"
      },
      "execution_count": null,
      "outputs": [
        {
          "output_type": "stream",
          "name": "stdout",
          "text": [
            "(14430, 34, 4) (3608, 34, 4) (14430,) (3608,)\n"
          ]
        }
      ]
    },
    {
      "cell_type": "markdown",
      "source": [
        "## Train and test"
      ],
      "metadata": {
        "id": "qV9ZS_OjmpaZ"
      }
    },
    {
      "cell_type": "code",
      "source": [
        "model = make_model_CNN()\n",
        "\n",
        "early_stopping = tf.keras.callbacks.EarlyStopping(monitor='val_loss', patience=5)\n",
        "s = reset_tf_session()\n",
        "INIT_LR = 5e-3\n",
        "BATCH_SIZE = 32\n",
        "EPOCHS = 40\n",
        "\n",
        "bst_model_path = 'CNN' + '.h5'\n",
        "model_checkpoint = tf.keras.callbacks.ModelCheckpoint(bst_model_path, save_best_only=True, save_weights_only=True)\n",
        "\n",
        "model.compile(\n",
        "    loss='binary_crossentropy',\n",
        "    optimizer=tf.keras.optimizers.Adam(lr=INIT_LR),\n",
        "    metrics=[tf.keras.metrics.AUC(), tf.keras.metrics.Precision(), tf.keras.metrics.Recall(), 'accuracy']\n",
        ")\n",
        "\n",
        "def lr_scheduler(epoch):\n",
        "    return INIT_LR * 0.9 ** epoch\n",
        "  \n",
        "model.fit(\n",
        "    X_train, y_train,\n",
        "    batch_size=BATCH_SIZE,\n",
        "    epochs=EPOCHS,\n",
        "    callbacks=[early_stopping, model_checkpoint, tf.keras.callbacks.LearningRateScheduler(lr_scheduler)],\n",
        "    validation_data=(X_test, y_test),\n",
        "    shuffle=True,\n",
        "    verbose=1,\n",
        "    initial_epoch=0\n",
        "  )"
      ],
      "metadata": {
        "colab": {
          "base_uri": "https://localhost:8080/"
        },
        "id": "Gn77UWAnoqpG",
        "outputId": "953c43ff-1e0f-4d11-87ef-5cb89f37802d"
      },
      "execution_count": null,
      "outputs": [
        {
          "output_type": "stream",
          "name": "stderr",
          "text": [
            "WARNING:absl:`lr` is deprecated in Keras optimizer, please use `learning_rate` or use the legacy optimizer, e.g.,tf.keras.optimizers.legacy.Adam.\n"
          ]
        },
        {
          "output_type": "stream",
          "name": "stdout",
          "text": [
            "Epoch 1/40\n",
            "451/451 [==============================] - 5s 7ms/step - loss: 0.1588 - auc: 0.9839 - precision: 0.9448 - recall: 0.9368 - accuracy: 0.9410 - val_loss: 0.1160 - val_auc: 0.9908 - val_precision: 0.9755 - val_recall: 0.9480 - val_accuracy: 0.9620 - lr: 0.0050\n",
            "Epoch 2/40\n",
            "451/451 [==============================] - 3s 7ms/step - loss: 0.0994 - auc: 0.9922 - precision: 0.9656 - recall: 0.9702 - accuracy: 0.9678 - val_loss: 0.1052 - val_auc: 0.9912 - val_precision: 0.9733 - val_recall: 0.9701 - val_accuracy: 0.9717 - lr: 0.0045\n",
            "Epoch 3/40\n",
            "451/451 [==============================] - 4s 8ms/step - loss: 0.0921 - auc: 0.9932 - precision: 0.9695 - recall: 0.9750 - accuracy: 0.9722 - val_loss: 0.0999 - val_auc: 0.9915 - val_precision: 0.9733 - val_recall: 0.9701 - val_accuracy: 0.9717 - lr: 0.0041\n",
            "Epoch 4/40\n",
            "451/451 [==============================] - 4s 9ms/step - loss: 0.0859 - auc: 0.9933 - precision: 0.9737 - recall: 0.9763 - accuracy: 0.9750 - val_loss: 0.1237 - val_auc: 0.9910 - val_precision: 0.9408 - val_recall: 0.9862 - val_accuracy: 0.9620 - lr: 0.0036\n",
            "Epoch 5/40\n",
            "451/451 [==============================] - 3s 7ms/step - loss: 0.0795 - auc: 0.9946 - precision: 0.9746 - recall: 0.9796 - accuracy: 0.9771 - val_loss: 0.0940 - val_auc: 0.9920 - val_precision: 0.9780 - val_recall: 0.9612 - val_accuracy: 0.9698 - lr: 0.0033\n",
            "Epoch 6/40\n",
            "451/451 [==============================] - 3s 7ms/step - loss: 0.0792 - auc: 0.9949 - precision: 0.9723 - recall: 0.9778 - accuracy: 0.9750 - val_loss: 0.0931 - val_auc: 0.9919 - val_precision: 0.9735 - val_recall: 0.9767 - val_accuracy: 0.9751 - lr: 0.0030\n",
            "Epoch 7/40\n",
            "451/451 [==============================] - 3s 7ms/step - loss: 0.0741 - auc: 0.9951 - precision: 0.9748 - recall: 0.9799 - accuracy: 0.9773 - val_loss: 0.0916 - val_auc: 0.9930 - val_precision: 0.9740 - val_recall: 0.9740 - val_accuracy: 0.9739 - lr: 0.0027\n",
            "Epoch 8/40\n",
            "451/451 [==============================] - 5s 11ms/step - loss: 0.0697 - auc: 0.9955 - precision: 0.9776 - recall: 0.9810 - accuracy: 0.9793 - val_loss: 0.0996 - val_auc: 0.9908 - val_precision: 0.9636 - val_recall: 0.9812 - val_accuracy: 0.9720 - lr: 0.0024\n",
            "Epoch 9/40\n",
            "451/451 [==============================] - 3s 7ms/step - loss: 0.0685 - auc: 0.9959 - precision: 0.9759 - recall: 0.9810 - accuracy: 0.9784 - val_loss: 0.0936 - val_auc: 0.9921 - val_precision: 0.9782 - val_recall: 0.9707 - val_accuracy: 0.9745 - lr: 0.0022\n",
            "Epoch 10/40\n",
            "451/451 [==============================] - 3s 6ms/step - loss: 0.0649 - auc: 0.9957 - precision: 0.9780 - recall: 0.9820 - accuracy: 0.9800 - val_loss: 0.0938 - val_auc: 0.9922 - val_precision: 0.9740 - val_recall: 0.9762 - val_accuracy: 0.9751 - lr: 0.0019\n",
            "Epoch 11/40\n",
            "451/451 [==============================] - 3s 6ms/step - loss: 0.0650 - auc: 0.9964 - precision: 0.9755 - recall: 0.9823 - accuracy: 0.9788 - val_loss: 0.0927 - val_auc: 0.9922 - val_precision: 0.9740 - val_recall: 0.9745 - val_accuracy: 0.9742 - lr: 0.0017\n",
            "Epoch 12/40\n",
            "451/451 [==============================] - 4s 10ms/step - loss: 0.0589 - auc: 0.9969 - precision: 0.9783 - recall: 0.9825 - accuracy: 0.9804 - val_loss: 0.0940 - val_auc: 0.9920 - val_precision: 0.9651 - val_recall: 0.9790 - val_accuracy: 0.9717 - lr: 0.0016\n"
          ]
        },
        {
          "output_type": "execute_result",
          "data": {
            "text/plain": [
              "<keras.callbacks.History at 0x7f62e84433d0>"
            ]
          },
          "metadata": {},
          "execution_count": 44
        }
      ]
    },
    {
      "cell_type": "markdown",
      "source": [
        "# DNA + chromatin states"
      ],
      "metadata": {
        "id": "s6g1zPPQhhbg"
      }
    },
    {
      "cell_type": "markdown",
      "source": [
        "## Data selection"
      ],
      "metadata": {
        "id": "og2Gz4Acmuuu"
      }
    },
    {
      "cell_type": "code",
      "source": [
        "features_n = 4 + len(States_features)\n",
        "features_n"
      ],
      "metadata": {
        "colab": {
          "base_uri": "https://localhost:8080/"
        },
        "id": "zuSUkM3mjOGs",
        "outputId": "6b39ec03-7485-4195-af6c-686f17ce3985"
      },
      "execution_count": null,
      "outputs": [
        {
          "output_type": "execute_result",
          "data": {
            "text/plain": [
              "21"
            ]
          },
          "metadata": {},
          "execution_count": 54
        }
      ]
    },
    {
      "cell_type": "code",
      "source": [
        "le = LabelBinarizer().fit(np.array([[\"A\"], [\"C\"], [\"T\"], [\"G\"]]))\n",
        "def data_load(ints):\n",
        "  data = []\n",
        "  for i, interval in ints.iterrows():\n",
        "    chrom = interval.chr\n",
        "    begin = int(interval.start)\n",
        "    end = int(interval.end)\n",
        "    dna_OHE = le.transform(list(DNA[chrom][begin:end].upper()))\n",
        "    states_matr = []\n",
        "    for feature in States_features:\n",
        "      source = States[feature]\n",
        "      if chrom in source:\n",
        "        states_matr.append(source[chrom][begin:end])\n",
        "      else:\n",
        "        states_matr.append(np.zeros(end-begin))\n",
        "    data_interval = np.hstack((dna_OHE, np.array(states_matr).T)).astype(np.float32)\n",
        "    data.append(data_interval)\n",
        "  return data"
      ],
      "metadata": {
        "id": "ostYOCeGjUfL"
      },
      "execution_count": null,
      "outputs": []
    },
    {
      "cell_type": "code",
      "source": [
        "positives = data_load(ints_in)\n",
        "positives = np.stack(positives)\n",
        "print(positives.shape)\n",
        "\n",
        "negatives = data_load(ints_out)\n",
        "negatives = np.stack(negatives)\n",
        "print(negatives.shape)"
      ],
      "metadata": {
        "colab": {
          "base_uri": "https://localhost:8080/"
        },
        "id": "WJ1ttZ_GjUot",
        "outputId": "f83dc9fe-7e74-4e4a-a97b-ee396dec7eaf"
      },
      "execution_count": null,
      "outputs": [
        {
          "output_type": "stream",
          "name": "stdout",
          "text": [
            "(9019, 34, 21)\n",
            "(9019, 34, 21)\n"
          ]
        }
      ]
    },
    {
      "cell_type": "code",
      "source": [
        "X = np.concatenate([positives, negatives], axis=0)\n",
        "X.shape"
      ],
      "metadata": {
        "id": "ugzI01h7cfa6",
        "colab": {
          "base_uri": "https://localhost:8080/"
        },
        "outputId": "8ef7c1b1-2c66-43be-ba94-0efc7900fcb4"
      },
      "execution_count": null,
      "outputs": [
        {
          "output_type": "execute_result",
          "data": {
            "text/plain": [
              "(18038, 34, 21)"
            ]
          },
          "metadata": {},
          "execution_count": 57
        }
      ]
    },
    {
      "cell_type": "code",
      "source": [
        "y = [1 for i in range(len(positives))]\n",
        "y.extend([0 for i in range(len(negatives))])\n",
        "y = np.array(y)\n",
        "y.shape"
      ],
      "metadata": {
        "colab": {
          "base_uri": "https://localhost:8080/"
        },
        "id": "-njVHg56nGUw",
        "outputId": "1ad5cb78-9c70-4b96-8a4e-f2dc9a4eef87"
      },
      "execution_count": null,
      "outputs": [
        {
          "output_type": "execute_result",
          "data": {
            "text/plain": [
              "(18038,)"
            ]
          },
          "metadata": {},
          "execution_count": 58
        }
      ]
    },
    {
      "cell_type": "code",
      "source": [
        "X_train, X_test, y_train, y_test = train_test_split(X, y, train_size=0.8)\n",
        "print(X_train.shape, X_test.shape, y_train.shape, y_test.shape)"
      ],
      "metadata": {
        "colab": {
          "base_uri": "https://localhost:8080/"
        },
        "id": "T_5TvQIDoqen",
        "outputId": "36e581f4-c02f-458b-d566-bc8cb08f1692"
      },
      "execution_count": null,
      "outputs": [
        {
          "output_type": "stream",
          "name": "stdout",
          "text": [
            "(14430, 34, 21) (3608, 34, 21) (14430,) (3608,)\n"
          ]
        }
      ]
    },
    {
      "cell_type": "markdown",
      "source": [
        "## Train and test"
      ],
      "metadata": {
        "id": "Y90Uq52omxvl"
      }
    },
    {
      "cell_type": "code",
      "source": [
        "model = make_model_CNN()\n",
        "\n",
        "early_stopping = tf.keras.callbacks.EarlyStopping(monitor='val_loss', patience=5)\n",
        "s = reset_tf_session()\n",
        "INIT_LR = 5e-3\n",
        "BATCH_SIZE = 32\n",
        "EPOCHS = 40\n",
        "\n",
        "bst_model_path = 'CNN' + '.h5'\n",
        "model_checkpoint = tf.keras.callbacks.ModelCheckpoint(bst_model_path, save_best_only=True, save_weights_only=True)\n",
        "\n",
        "model.compile(\n",
        "    loss='binary_crossentropy',\n",
        "    optimizer=tf.keras.optimizers.Adam(lr=INIT_LR),\n",
        "    metrics=[tf.keras.metrics.AUC(), tf.keras.metrics.Precision(), tf.keras.metrics.Recall(), 'accuracy']\n",
        ")\n",
        "\n",
        "def lr_scheduler(epoch):\n",
        "    return INIT_LR * 0.9 ** epoch\n",
        "  \n",
        "model.fit(\n",
        "    X_train, y_train,\n",
        "    batch_size=BATCH_SIZE,\n",
        "    epochs=EPOCHS,\n",
        "    callbacks=[early_stopping, model_checkpoint, tf.keras.callbacks.LearningRateScheduler(lr_scheduler)],\n",
        "    validation_data=(X_test, y_test),\n",
        "    shuffle=True,\n",
        "    verbose=1,\n",
        "    initial_epoch=0\n",
        "  )"
      ],
      "metadata": {
        "colab": {
          "base_uri": "https://localhost:8080/"
        },
        "id": "w0AwdqAwirQY",
        "outputId": "59224f79-d72c-4af1-b364-e4f1301332a1"
      },
      "execution_count": null,
      "outputs": [
        {
          "output_type": "stream",
          "name": "stderr",
          "text": [
            "WARNING:absl:`lr` is deprecated in Keras optimizer, please use `learning_rate` or use the legacy optimizer, e.g.,tf.keras.optimizers.legacy.Adam.\n"
          ]
        },
        {
          "output_type": "stream",
          "name": "stdout",
          "text": [
            "Epoch 1/40\n",
            "451/451 [==============================] - 8s 13ms/step - loss: 0.1744 - auc: 0.9811 - precision: 0.9357 - recall: 0.9317 - accuracy: 0.9343 - val_loss: 0.1007 - val_auc: 0.9928 - val_precision: 0.9541 - val_recall: 0.9865 - val_accuracy: 0.9687 - lr: 0.0050\n",
            "Epoch 2/40\n",
            "451/451 [==============================] - 7s 16ms/step - loss: 0.1022 - auc: 0.9914 - precision: 0.9686 - recall: 0.9704 - accuracy: 0.9697 - val_loss: 0.1253 - val_auc: 0.9926 - val_precision: 0.9343 - val_recall: 0.9876 - val_accuracy: 0.9579 - lr: 0.0045\n",
            "Epoch 3/40\n",
            "451/451 [==============================] - 4s 9ms/step - loss: 0.0899 - auc: 0.9934 - precision: 0.9719 - recall: 0.9736 - accuracy: 0.9729 - val_loss: 0.0815 - val_auc: 0.9941 - val_precision: 0.9713 - val_recall: 0.9838 - val_accuracy: 0.9767 - lr: 0.0041\n",
            "Epoch 4/40\n",
            "451/451 [==============================] - 6s 12ms/step - loss: 0.0841 - auc: 0.9932 - precision: 0.9747 - recall: 0.9775 - accuracy: 0.9762 - val_loss: 0.0777 - val_auc: 0.9950 - val_precision: 0.9831 - val_recall: 0.9725 - val_accuracy: 0.9773 - lr: 0.0036\n",
            "Epoch 5/40\n",
            "451/451 [==============================] - 4s 10ms/step - loss: 0.0758 - auc: 0.9946 - precision: 0.9766 - recall: 0.9779 - accuracy: 0.9774 - val_loss: 0.0869 - val_auc: 0.9929 - val_precision: 0.9858 - val_recall: 0.9709 - val_accuracy: 0.9778 - lr: 0.0033\n",
            "Epoch 6/40\n",
            "451/451 [==============================] - 4s 9ms/step - loss: 0.0704 - auc: 0.9952 - precision: 0.9789 - recall: 0.9796 - accuracy: 0.9794 - val_loss: 0.0741 - val_auc: 0.9953 - val_precision: 0.9822 - val_recall: 0.9801 - val_accuracy: 0.9806 - lr: 0.0030\n",
            "Epoch 7/40\n",
            "451/451 [==============================] - 5s 11ms/step - loss: 0.0632 - auc: 0.9958 - precision: 0.9821 - recall: 0.9810 - accuracy: 0.9817 - val_loss: 0.0758 - val_auc: 0.9949 - val_precision: 0.9775 - val_recall: 0.9822 - val_accuracy: 0.9792 - lr: 0.0027\n",
            "Epoch 8/40\n",
            "451/451 [==============================] - 5s 11ms/step - loss: 0.0618 - auc: 0.9960 - precision: 0.9816 - recall: 0.9816 - accuracy: 0.9817 - val_loss: 0.0735 - val_auc: 0.9942 - val_precision: 0.9790 - val_recall: 0.9817 - val_accuracy: 0.9798 - lr: 0.0024\n",
            "Epoch 9/40\n",
            "451/451 [==============================] - 4s 9ms/step - loss: 0.0588 - auc: 0.9961 - precision: 0.9820 - recall: 0.9830 - accuracy: 0.9826 - val_loss: 0.0761 - val_auc: 0.9941 - val_precision: 0.9729 - val_recall: 0.9871 - val_accuracy: 0.9792 - lr: 0.0022\n",
            "Epoch 10/40\n",
            "451/451 [==============================] - 5s 10ms/step - loss: 0.0571 - auc: 0.9965 - precision: 0.9827 - recall: 0.9849 - accuracy: 0.9839 - val_loss: 0.0792 - val_auc: 0.9932 - val_precision: 0.9760 - val_recall: 0.9849 - val_accuracy: 0.9798 - lr: 0.0019\n",
            "Epoch 11/40\n",
            "451/451 [==============================] - 5s 12ms/step - loss: 0.0538 - auc: 0.9967 - precision: 0.9833 - recall: 0.9851 - accuracy: 0.9843 - val_loss: 0.0827 - val_auc: 0.9928 - val_precision: 0.9806 - val_recall: 0.9811 - val_accuracy: 0.9803 - lr: 0.0017\n",
            "Epoch 12/40\n",
            "451/451 [==============================] - 4s 9ms/step - loss: 0.0516 - auc: 0.9970 - precision: 0.9829 - recall: 0.9860 - accuracy: 0.9845 - val_loss: 0.0709 - val_auc: 0.9954 - val_precision: 0.9791 - val_recall: 0.9828 - val_accuracy: 0.9803 - lr: 0.0016\n",
            "Epoch 13/40\n",
            "451/451 [==============================] - 4s 9ms/step - loss: 0.0475 - auc: 0.9973 - precision: 0.9858 - recall: 0.9858 - accuracy: 0.9859 - val_loss: 0.0803 - val_auc: 0.9938 - val_precision: 0.9812 - val_recall: 0.9822 - val_accuracy: 0.9812 - lr: 0.0014\n",
            "Epoch 14/40\n",
            "451/451 [==============================] - 6s 14ms/step - loss: 0.0457 - auc: 0.9978 - precision: 0.9845 - recall: 0.9855 - accuracy: 0.9851 - val_loss: 0.0787 - val_auc: 0.9935 - val_precision: 0.9827 - val_recall: 0.9811 - val_accuracy: 0.9814 - lr: 0.0013\n",
            "Epoch 15/40\n",
            "451/451 [==============================] - 4s 9ms/step - loss: 0.0456 - auc: 0.9976 - precision: 0.9867 - recall: 0.9862 - accuracy: 0.9866 - val_loss: 0.0762 - val_auc: 0.9937 - val_precision: 0.9769 - val_recall: 0.9817 - val_accuracy: 0.9787 - lr: 0.0011\n",
            "Epoch 16/40\n",
            "451/451 [==============================] - 4s 9ms/step - loss: 0.0421 - auc: 0.9980 - precision: 0.9871 - recall: 0.9849 - accuracy: 0.9861 - val_loss: 0.0841 - val_auc: 0.9935 - val_precision: 0.9764 - val_recall: 0.9828 - val_accuracy: 0.9789 - lr: 0.0010\n",
            "Epoch 17/40\n",
            "451/451 [==============================] - 6s 14ms/step - loss: 0.0420 - auc: 0.9980 - precision: 0.9865 - recall: 0.9879 - accuracy: 0.9872 - val_loss: 0.0837 - val_auc: 0.9932 - val_precision: 0.9713 - val_recall: 0.9855 - val_accuracy: 0.9775 - lr: 9.2651e-04\n"
          ]
        },
        {
          "output_type": "execute_result",
          "data": {
            "text/plain": [
              "<keras.callbacks.History at 0x7f62f725efb0>"
            ]
          },
          "metadata": {},
          "execution_count": 60
        }
      ]
    },
    {
      "cell_type": "markdown",
      "source": [
        "# DNA + omics"
      ],
      "metadata": {
        "id": "ARPod_vlR41o"
      }
    },
    {
      "cell_type": "markdown",
      "source": [
        "## Data selection"
      ],
      "metadata": {
        "id": "DTHc1l8Tm3yD"
      }
    },
    {
      "cell_type": "code",
      "source": [
        "features_n = 4 + len(Omics_features)\n",
        "features_n"
      ],
      "metadata": {
        "colab": {
          "base_uri": "https://localhost:8080/"
        },
        "outputId": "01c1e28e-1df5-47d1-8e77-8f0e342121b4",
        "id": "Am5skFtjR41p"
      },
      "execution_count": null,
      "outputs": [
        {
          "output_type": "execute_result",
          "data": {
            "text/plain": [
              "153"
            ]
          },
          "metadata": {},
          "execution_count": 63
        }
      ]
    },
    {
      "cell_type": "code",
      "source": [
        "le = LabelBinarizer().fit(np.array([[\"A\"], [\"C\"], [\"T\"], [\"G\"]]))\n",
        "def data_load_with_omics_wo_states(ints, width=width):\n",
        "  data = []\n",
        "  for i, interval in ints.iterrows():\n",
        "    chrom = interval.chr\n",
        "    begin = int(interval.start)\n",
        "    end = int(interval.end)\n",
        "    \n",
        "    dna_OHE = le.transform(list(DNA[chrom][begin:end].upper()))\n",
        "    \n",
        "    omics_matr = []\n",
        "    for feature in Omics_features:\n",
        "      source = Omics[feature]\n",
        "      if chrom in source:\n",
        "        max_vals = np.zeros(end-begin)\n",
        "        lag = int(width/2)\n",
        "        vals = source[chrom][begin-lag:end+lag]\n",
        "        for i in range(end-begin):\n",
        "            max_vals[i] = np.max(vals[i:i+2*lag+1])\n",
        "        omics_matr.append(max_vals)        \n",
        "      else:\n",
        "        omics_matr.append(np.zeros(end-begin))\n",
        "    \n",
        "    data_interval = np.hstack((dna_OHE, np.array(omics_matr).T/1000)).astype(np.float32)\n",
        "    data.append(data_interval)\n",
        "  return data"
      ],
      "metadata": {
        "id": "xTipt0f4R41q"
      },
      "execution_count": null,
      "outputs": []
    },
    {
      "cell_type": "code",
      "source": [
        "positives = data_load_with_omics_wo_states(ints_in)\n",
        "positives = np.stack(positives)\n",
        "print(positives.shape)\n",
        "\n",
        "negatives = data_load_with_omics_wo_states(ints_out)\n",
        "negatives = np.stack(negatives)\n",
        "print(negatives.shape)"
      ],
      "metadata": {
        "colab": {
          "base_uri": "https://localhost:8080/"
        },
        "outputId": "e3037a40-19ab-4fd2-c8b9-2bf930dd751b",
        "id": "1wPKEQyFR41r"
      },
      "execution_count": null,
      "outputs": [
        {
          "output_type": "stream",
          "name": "stdout",
          "text": [
            "(9019, 34, 153)\n",
            "(9019, 34, 153)\n"
          ]
        }
      ]
    },
    {
      "cell_type": "code",
      "source": [
        "X = np.concatenate([positives, negatives], axis=0)\n",
        "X.shape"
      ],
      "metadata": {
        "colab": {
          "base_uri": "https://localhost:8080/"
        },
        "outputId": "2cad3d5f-ea08-40ab-82a0-b11990221b50",
        "id": "H-yqaG47R41s"
      },
      "execution_count": null,
      "outputs": [
        {
          "output_type": "execute_result",
          "data": {
            "text/plain": [
              "(18038, 34, 153)"
            ]
          },
          "metadata": {},
          "execution_count": 66
        }
      ]
    },
    {
      "cell_type": "code",
      "source": [
        "y = [1 for i in range(len(positives))]\n",
        "y.extend([0 for i in range(len(negatives))])\n",
        "y = np.array(y)\n",
        "y.shape"
      ],
      "metadata": {
        "colab": {
          "base_uri": "https://localhost:8080/"
        },
        "outputId": "145ca722-a6e4-41ad-9151-79e7737fe0d3",
        "id": "b7lU9HgoR41s"
      },
      "execution_count": null,
      "outputs": [
        {
          "output_type": "execute_result",
          "data": {
            "text/plain": [
              "(18038,)"
            ]
          },
          "metadata": {},
          "execution_count": 67
        }
      ]
    },
    {
      "cell_type": "code",
      "source": [
        "X_train, X_test, y_train, y_test = train_test_split(X, y, train_size=0.8)\n",
        "print(X_train.shape, X_test.shape, y_train.shape, y_test.shape)"
      ],
      "metadata": {
        "colab": {
          "base_uri": "https://localhost:8080/"
        },
        "outputId": "3d5e68be-193f-464a-bd4c-209229de7c5e",
        "id": "6w_y4d4HR41t"
      },
      "execution_count": null,
      "outputs": [
        {
          "output_type": "stream",
          "name": "stdout",
          "text": [
            "(14430, 34, 153) (3608, 34, 153) (14430,) (3608,)\n"
          ]
        }
      ]
    },
    {
      "cell_type": "markdown",
      "source": [
        "## Train and test"
      ],
      "metadata": {
        "id": "FMIDHcKfm7We"
      }
    },
    {
      "cell_type": "code",
      "source": [
        "model = make_model_CNN()\n",
        "\n",
        "early_stopping = tf.keras.callbacks.EarlyStopping(monitor='val_loss', patience=5)\n",
        "s = reset_tf_session()\n",
        "INIT_LR = 5e-3\n",
        "BATCH_SIZE = 32\n",
        "EPOCHS = 40\n",
        "\n",
        "bst_model_path = 'CNN' + '.h5'\n",
        "model_checkpoint = tf.keras.callbacks.ModelCheckpoint(bst_model_path, save_best_only=True, save_weights_only=True)\n",
        "\n",
        "model.compile(\n",
        "    loss='binary_crossentropy',\n",
        "    optimizer=tf.keras.optimizers.Adam(lr=INIT_LR),\n",
        "    metrics=[tf.keras.metrics.AUC(), tf.keras.metrics.Precision(), tf.keras.metrics.Recall(), 'accuracy']\n",
        ")\n",
        "\n",
        "def lr_scheduler(epoch):\n",
        "    return INIT_LR * 0.9 ** epoch\n",
        "  \n",
        "model.fit(\n",
        "    X_train, y_train,\n",
        "    batch_size=BATCH_SIZE,\n",
        "    epochs=EPOCHS,\n",
        "    callbacks=[early_stopping, model_checkpoint, tf.keras.callbacks.LearningRateScheduler(lr_scheduler)],\n",
        "    validation_data=(X_test, y_test),\n",
        "    shuffle=True,\n",
        "    verbose=1,\n",
        "    initial_epoch=0\n",
        "  )"
      ],
      "metadata": {
        "colab": {
          "base_uri": "https://localhost:8080/"
        },
        "outputId": "4bb547a4-2173-4bf3-e311-2c7124332375",
        "id": "tTiB2W8sR41u"
      },
      "execution_count": null,
      "outputs": [
        {
          "output_type": "stream",
          "name": "stderr",
          "text": [
            "WARNING:absl:`lr` is deprecated in Keras optimizer, please use `learning_rate` or use the legacy optimizer, e.g.,tf.keras.optimizers.legacy.Adam.\n"
          ]
        },
        {
          "output_type": "stream",
          "name": "stdout",
          "text": [
            "Epoch 1/40\n",
            "451/451 [==============================] - 9s 16ms/step - loss: 0.2075 - auc: 0.9742 - precision: 0.9264 - recall: 0.9089 - accuracy: 0.9188 - val_loss: 0.0878 - val_auc: 0.9931 - val_precision: 0.9736 - val_recall: 0.9789 - val_accuracy: 0.9756 - lr: 0.0050\n",
            "Epoch 2/40\n",
            "451/451 [==============================] - 5s 12ms/step - loss: 0.0989 - auc: 0.9925 - precision: 0.9670 - recall: 0.9736 - accuracy: 0.9704 - val_loss: 0.0984 - val_auc: 0.9941 - val_precision: 0.9768 - val_recall: 0.9578 - val_accuracy: 0.9667 - lr: 0.0045\n",
            "Epoch 3/40\n",
            "451/451 [==============================] - 7s 16ms/step - loss: 0.0905 - auc: 0.9933 - precision: 0.9686 - recall: 0.9750 - accuracy: 0.9719 - val_loss: 0.0899 - val_auc: 0.9937 - val_precision: 0.9706 - val_recall: 0.9827 - val_accuracy: 0.9759 - lr: 0.0041\n",
            "Epoch 4/40\n",
            "451/451 [==============================] - 5s 12ms/step - loss: 0.0806 - auc: 0.9940 - precision: 0.9724 - recall: 0.9789 - accuracy: 0.9757 - val_loss: 0.0897 - val_auc: 0.9929 - val_precision: 0.9780 - val_recall: 0.9843 - val_accuracy: 0.9806 - lr: 0.0036\n",
            "Epoch 5/40\n",
            "451/451 [==============================] - 7s 15ms/step - loss: 0.0716 - auc: 0.9949 - precision: 0.9786 - recall: 0.9813 - accuracy: 0.9800 - val_loss: 0.0678 - val_auc: 0.9955 - val_precision: 0.9765 - val_recall: 0.9886 - val_accuracy: 0.9820 - lr: 0.0033\n",
            "Epoch 6/40\n",
            "451/451 [==============================] - 6s 14ms/step - loss: 0.0653 - auc: 0.9956 - precision: 0.9803 - recall: 0.9837 - accuracy: 0.9821 - val_loss: 0.0788 - val_auc: 0.9949 - val_precision: 0.9831 - val_recall: 0.9740 - val_accuracy: 0.9781 - lr: 0.0030\n",
            "Epoch 7/40\n",
            "451/451 [==============================] - 5s 11ms/step - loss: 0.0622 - auc: 0.9959 - precision: 0.9807 - recall: 0.9844 - accuracy: 0.9826 - val_loss: 0.0682 - val_auc: 0.9945 - val_precision: 0.9759 - val_recall: 0.9876 - val_accuracy: 0.9812 - lr: 0.0027\n",
            "Epoch 8/40\n",
            "451/451 [==============================] - 7s 16ms/step - loss: 0.0659 - auc: 0.9952 - precision: 0.9801 - recall: 0.9828 - accuracy: 0.9816 - val_loss: 0.0748 - val_auc: 0.9942 - val_precision: 0.9703 - val_recall: 0.9897 - val_accuracy: 0.9792 - lr: 0.0024\n",
            "Epoch 9/40\n",
            "451/451 [==============================] - 5s 11ms/step - loss: 0.0587 - auc: 0.9962 - precision: 0.9803 - recall: 0.9844 - accuracy: 0.9824 - val_loss: 0.0822 - val_auc: 0.9942 - val_precision: 0.9603 - val_recall: 0.9957 - val_accuracy: 0.9767 - lr: 0.0022\n",
            "Epoch 10/40\n",
            "451/451 [==============================] - 6s 13ms/step - loss: 0.0494 - auc: 0.9972 - precision: 0.9836 - recall: 0.9873 - accuracy: 0.9855 - val_loss: 0.0816 - val_auc: 0.9950 - val_precision: 0.9684 - val_recall: 0.9935 - val_accuracy: 0.9800 - lr: 0.0019\n"
          ]
        },
        {
          "output_type": "execute_result",
          "data": {
            "text/plain": [
              "<keras.callbacks.History at 0x7f62f56af6d0>"
            ]
          },
          "metadata": {},
          "execution_count": 69
        }
      ]
    },
    {
      "cell_type": "markdown",
      "source": [
        "# DNA + chromatin states + omics"
      ],
      "metadata": {
        "id": "nLUFOVsu0TU6"
      }
    },
    {
      "cell_type": "markdown",
      "source": [
        "## Data selection"
      ],
      "metadata": {
        "id": "50KflUCOnAEE"
      }
    },
    {
      "cell_type": "code",
      "source": [
        "features_n = 4 + len(States_features) + len(Omics_features)\n",
        "features_n"
      ],
      "metadata": {
        "colab": {
          "base_uri": "https://localhost:8080/"
        },
        "outputId": "ad4c203d-cfc5-427e-d8b1-d0622a1204e8",
        "id": "WwFvmjbY0TU8"
      },
      "execution_count": null,
      "outputs": [
        {
          "output_type": "execute_result",
          "data": {
            "text/plain": [
              "170"
            ]
          },
          "metadata": {},
          "execution_count": 72
        }
      ]
    },
    {
      "cell_type": "code",
      "source": [
        "le = LabelBinarizer().fit(np.array([[\"A\"], [\"C\"], [\"T\"], [\"G\"]]))\n",
        "def data_load_with_omics(ints, width=width):\n",
        "  data = []\n",
        "  for i, interval in ints.iterrows():\n",
        "    chrom = interval.chr\n",
        "    begin = int(interval.start)\n",
        "    end = int(interval.end)\n",
        "    \n",
        "    dna_OHE = le.transform(list(DNA[chrom][begin:end].upper()))\n",
        "    \n",
        "    states_matr = []\n",
        "    for feature in States_features:\n",
        "      source = States[feature]\n",
        "      if chrom in source:\n",
        "        states_matr.append(source[chrom][begin:end])\n",
        "      else:\n",
        "        states_matr.append(np.zeros(end-begin))\n",
        "    \n",
        "    omics_matr = []\n",
        "    for feature in Omics_features:\n",
        "      source = Omics[feature]\n",
        "      if chrom in source:\n",
        "        max_vals = np.zeros(end-begin)\n",
        "        lag = int(width/2)\n",
        "        vals = source[chrom][begin-lag:end+lag]\n",
        "        for i in range(end-begin):\n",
        "            max_vals[i] = np.max(vals[i:i+2*lag+1])\n",
        "        omics_matr.append(max_vals)        \n",
        "      else:\n",
        "        omics_matr.append(np.zeros(end-begin))\n",
        "    \n",
        "    data_interval = np.hstack((dna_OHE, np.array(states_matr).T, np.array(omics_matr).T/1000)).astype(np.float32)\n",
        "    data.append(data_interval)\n",
        "  return data"
      ],
      "metadata": {
        "id": "iE7ERvwX0TU-"
      },
      "execution_count": null,
      "outputs": []
    },
    {
      "cell_type": "code",
      "source": [
        "positives = data_load_with_omics(ints_in)\n",
        "positives = np.stack(positives)\n",
        "print(positives.shape)\n",
        "\n",
        "negatives = data_load_with_omics(ints_out)\n",
        "negatives = np.stack(negatives)\n",
        "print(negatives.shape)"
      ],
      "metadata": {
        "colab": {
          "base_uri": "https://localhost:8080/"
        },
        "outputId": "9a8b89a5-545c-45f9-b5d4-ae628f877786",
        "id": "HR1zTrKs0TU_"
      },
      "execution_count": null,
      "outputs": [
        {
          "output_type": "stream",
          "name": "stdout",
          "text": [
            "(9019, 34, 170)\n",
            "(9019, 34, 170)\n"
          ]
        }
      ]
    },
    {
      "cell_type": "code",
      "source": [
        "X = np.concatenate([positives, negatives], axis=0)\n",
        "X.shape"
      ],
      "metadata": {
        "colab": {
          "base_uri": "https://localhost:8080/"
        },
        "outputId": "f549c9d9-383a-40d1-bbd3-4791d4addf1f",
        "id": "qS51CNWH0TVA"
      },
      "execution_count": null,
      "outputs": [
        {
          "output_type": "execute_result",
          "data": {
            "text/plain": [
              "(18038, 34, 170)"
            ]
          },
          "metadata": {},
          "execution_count": 75
        }
      ]
    },
    {
      "cell_type": "code",
      "source": [
        "y = [1 for i in range(len(positives))]\n",
        "y.extend([0 for i in range(len(negatives))])\n",
        "y = np.array(y)\n",
        "y.shape"
      ],
      "metadata": {
        "colab": {
          "base_uri": "https://localhost:8080/"
        },
        "outputId": "7fba4724-1704-496b-aeb0-6920709f653a",
        "id": "aZDiargd0TVA"
      },
      "execution_count": null,
      "outputs": [
        {
          "output_type": "execute_result",
          "data": {
            "text/plain": [
              "(18038,)"
            ]
          },
          "metadata": {},
          "execution_count": 76
        }
      ]
    },
    {
      "cell_type": "code",
      "source": [
        "X_train, X_test, y_train, y_test = train_test_split(X, y, train_size=0.8)\n",
        "print(X_train.shape, X_test.shape, y_train.shape, y_test.shape)"
      ],
      "metadata": {
        "colab": {
          "base_uri": "https://localhost:8080/"
        },
        "outputId": "405c0680-b265-4aa3-eb3d-0114b28be4ef",
        "id": "w6l1Z2DY0TVB"
      },
      "execution_count": null,
      "outputs": [
        {
          "output_type": "stream",
          "name": "stdout",
          "text": [
            "(14430, 34, 170) (3608, 34, 170) (14430,) (3608,)\n"
          ]
        }
      ]
    },
    {
      "cell_type": "markdown",
      "source": [
        "## Train and test"
      ],
      "metadata": {
        "id": "s5wG6vFunED_"
      }
    },
    {
      "cell_type": "code",
      "source": [
        "model = make_model_CNN()\n",
        "\n",
        "early_stopping = tf.keras.callbacks.EarlyStopping(monitor='val_loss', patience=5)\n",
        "s = reset_tf_session()\n",
        "INIT_LR = 5e-3\n",
        "BATCH_SIZE = 32\n",
        "EPOCHS = 40\n",
        "\n",
        "bst_model_path = 'CNN' + '.h5'\n",
        "model_checkpoint = tf.keras.callbacks.ModelCheckpoint(bst_model_path, save_best_only=True, save_weights_only=True)\n",
        "\n",
        "model.compile(\n",
        "    loss='binary_crossentropy',\n",
        "    optimizer=tf.keras.optimizers.Adam(lr=INIT_LR),\n",
        "    metrics=[tf.keras.metrics.AUC(), tf.keras.metrics.Precision(), tf.keras.metrics.Recall(), 'accuracy']\n",
        ")\n",
        "\n",
        "def lr_scheduler(epoch):\n",
        "    return INIT_LR * 0.9 ** epoch\n",
        "  \n",
        "model.fit(\n",
        "    X_train, y_train,\n",
        "    batch_size=BATCH_SIZE,\n",
        "    epochs=EPOCHS,\n",
        "    callbacks=[early_stopping, model_checkpoint, tf.keras.callbacks.LearningRateScheduler(lr_scheduler)],\n",
        "    validation_data=(X_test, y_test),\n",
        "    shuffle=True,\n",
        "    verbose=1,\n",
        "    initial_epoch=0\n",
        "  )"
      ],
      "metadata": {
        "colab": {
          "base_uri": "https://localhost:8080/"
        },
        "outputId": "e4f2ce7b-f75c-4ddb-bea3-c6e7f63d0bcc",
        "id": "_D8s9WrR0TVC"
      },
      "execution_count": null,
      "outputs": [
        {
          "output_type": "stream",
          "name": "stderr",
          "text": [
            "WARNING:absl:`lr` is deprecated in Keras optimizer, please use `learning_rate` or use the legacy optimizer, e.g.,tf.keras.optimizers.legacy.Adam.\n"
          ]
        },
        {
          "output_type": "stream",
          "name": "stdout",
          "text": [
            "Epoch 1/40\n",
            "451/451 [==============================] - 10s 18ms/step - loss: 0.2145 - auc: 0.9726 - precision: 0.9246 - recall: 0.9132 - accuracy: 0.9190 - val_loss: 0.0888 - val_auc: 0.9938 - val_precision: 0.9707 - val_recall: 0.9712 - val_accuracy: 0.9715 - lr: 0.0050\n",
            "Epoch 2/40\n",
            "451/451 [==============================] - 6s 12ms/step - loss: 0.1069 - auc: 0.9908 - precision: 0.9665 - recall: 0.9681 - accuracy: 0.9672 - val_loss: 0.0824 - val_auc: 0.9943 - val_precision: 0.9715 - val_recall: 0.9814 - val_accuracy: 0.9767 - lr: 0.0045\n",
            "Epoch 3/40\n",
            "451/451 [==============================] - 7s 16ms/step - loss: 0.0860 - auc: 0.9938 - precision: 0.9709 - recall: 0.9776 - accuracy: 0.9741 - val_loss: 0.0835 - val_auc: 0.9944 - val_precision: 0.9784 - val_recall: 0.9712 - val_accuracy: 0.9753 - lr: 0.0041\n",
            "Epoch 4/40\n",
            "451/451 [==============================] - 5s 12ms/step - loss: 0.0804 - auc: 0.9942 - precision: 0.9725 - recall: 0.9796 - accuracy: 0.9758 - val_loss: 0.0739 - val_auc: 0.9948 - val_precision: 0.9764 - val_recall: 0.9819 - val_accuracy: 0.9795 - lr: 0.0036\n",
            "Epoch 5/40\n",
            "451/451 [==============================] - 6s 14ms/step - loss: 0.0691 - auc: 0.9958 - precision: 0.9772 - recall: 0.9804 - accuracy: 0.9787 - val_loss: 0.0726 - val_auc: 0.9946 - val_precision: 0.9818 - val_recall: 0.9763 - val_accuracy: 0.9795 - lr: 0.0033\n",
            "Epoch 6/40\n",
            "451/451 [==============================] - 7s 14ms/step - loss: 0.0705 - auc: 0.9953 - precision: 0.9788 - recall: 0.9808 - accuracy: 0.9797 - val_loss: 0.0683 - val_auc: 0.9946 - val_precision: 0.9797 - val_recall: 0.9814 - val_accuracy: 0.9809 - lr: 0.0030\n",
            "Epoch 7/40\n",
            "451/451 [==============================] - 6s 12ms/step - loss: 0.0631 - auc: 0.9960 - precision: 0.9787 - recall: 0.9841 - accuracy: 0.9813 - val_loss: 0.0624 - val_auc: 0.9961 - val_precision: 0.9858 - val_recall: 0.9786 - val_accuracy: 0.9825 - lr: 0.0027\n",
            "Epoch 8/40\n",
            "451/451 [==============================] - 7s 16ms/step - loss: 0.0572 - auc: 0.9963 - precision: 0.9801 - recall: 0.9869 - accuracy: 0.9834 - val_loss: 0.0637 - val_auc: 0.9965 - val_precision: 0.9858 - val_recall: 0.9763 - val_accuracy: 0.9814 - lr: 0.0024\n",
            "Epoch 9/40\n",
            "451/451 [==============================] - 5s 12ms/step - loss: 0.0538 - auc: 0.9966 - precision: 0.9820 - recall: 0.9851 - accuracy: 0.9834 - val_loss: 0.0634 - val_auc: 0.9953 - val_precision: 0.9825 - val_recall: 0.9814 - val_accuracy: 0.9823 - lr: 0.0022\n",
            "Epoch 10/40\n",
            "451/451 [==============================] - 7s 15ms/step - loss: 0.0526 - auc: 0.9969 - precision: 0.9819 - recall: 0.9858 - accuracy: 0.9837 - val_loss: 0.0610 - val_auc: 0.9959 - val_precision: 0.9853 - val_recall: 0.9814 - val_accuracy: 0.9836 - lr: 0.0019\n",
            "Epoch 11/40\n",
            "451/451 [==============================] - 6s 12ms/step - loss: 0.0472 - auc: 0.9974 - precision: 0.9844 - recall: 0.9895 - accuracy: 0.9868 - val_loss: 0.0655 - val_auc: 0.9958 - val_precision: 0.9775 - val_recall: 0.9819 - val_accuracy: 0.9800 - lr: 0.0017\n",
            "Epoch 12/40\n",
            "451/451 [==============================] - 6s 12ms/step - loss: 0.0454 - auc: 0.9976 - precision: 0.9850 - recall: 0.9880 - accuracy: 0.9864 - val_loss: 0.0627 - val_auc: 0.9955 - val_precision: 0.9858 - val_recall: 0.9819 - val_accuracy: 0.9842 - lr: 0.0016\n",
            "Epoch 13/40\n",
            "451/451 [==============================] - 7s 16ms/step - loss: 0.0416 - auc: 0.9979 - precision: 0.9852 - recall: 0.9894 - accuracy: 0.9872 - val_loss: 0.0652 - val_auc: 0.9950 - val_precision: 0.9803 - val_recall: 0.9836 - val_accuracy: 0.9823 - lr: 0.0014\n",
            "Epoch 14/40\n",
            "451/451 [==============================] - 6s 12ms/step - loss: 0.0414 - auc: 0.9977 - precision: 0.9857 - recall: 0.9899 - accuracy: 0.9877 - val_loss: 0.0632 - val_auc: 0.9948 - val_precision: 0.9787 - val_recall: 0.9842 - val_accuracy: 0.9817 - lr: 0.0013\n",
            "Epoch 15/40\n",
            "451/451 [==============================] - 8s 18ms/step - loss: 0.0388 - auc: 0.9982 - precision: 0.9860 - recall: 0.9894 - accuracy: 0.9876 - val_loss: 0.0671 - val_auc: 0.9949 - val_precision: 0.9808 - val_recall: 0.9802 - val_accuracy: 0.9809 - lr: 0.0011\n"
          ]
        },
        {
          "output_type": "execute_result",
          "data": {
            "text/plain": [
              "<keras.callbacks.History at 0x7f62f75498d0>"
            ]
          },
          "metadata": {},
          "execution_count": 78
        }
      ]
    },
    {
      "cell_type": "markdown",
      "source": [
        "# DNA + chromatin states + omics + tad"
      ],
      "metadata": {
        "id": "6LUfeRl5P93V"
      }
    },
    {
      "cell_type": "markdown",
      "source": [
        "## Data splitting"
      ],
      "metadata": {
        "id": "zXnZGTLs3Yfv"
      }
    },
    {
      "cell_type": "code",
      "source": [
        "features_n = 4 + len(States_features) + len(Omics_features) + 1\n",
        "features_n"
      ],
      "metadata": {
        "colab": {
          "base_uri": "https://localhost:8080/"
        },
        "outputId": "0ec4233c-9309-42ed-d32b-02bef20f8005",
        "id": "fqSsEGC6P93W"
      },
      "execution_count": null,
      "outputs": [
        {
          "output_type": "execute_result",
          "data": {
            "text/plain": [
              "171"
            ]
          },
          "metadata": {},
          "execution_count": 15
        }
      ]
    },
    {
      "cell_type": "code",
      "source": [
        "le = LabelBinarizer().fit(np.array([[\"A\"], [\"C\"], [\"T\"], [\"G\"]]))\n",
        "def data_load_with_omics(ints, width=width, width_tad=width_tad):\n",
        "  data = []\n",
        "  for i, interval in ints.iterrows():\n",
        "    chrom = interval.chr\n",
        "    begin = int(interval.start)\n",
        "    end = int(interval.end)\n",
        "    \n",
        "    dna_OHE = le.transform(list(DNA[chrom][begin:end].upper()))\n",
        "    \n",
        "    states_matr = []\n",
        "    for feature in States_features:\n",
        "      source = States[feature]\n",
        "      if chrom in source:\n",
        "        states_matr.append(source[chrom][begin:end])\n",
        "      else:\n",
        "        states_matr.append(np.zeros(end-begin))\n",
        "    \n",
        "    omics_matr = []\n",
        "    for feature in Omics_features:\n",
        "      source = Omics[feature]\n",
        "      if chrom in source:\n",
        "        max_vals = np.zeros(end-begin)\n",
        "        lag = int(width/2)\n",
        "        vals = source[chrom][begin-lag:end+lag]\n",
        "        for i in range(end-begin):\n",
        "            max_vals[i] = np.max(vals[i:i+2*lag+1])\n",
        "        omics_matr.append(max_vals)        \n",
        "      else:\n",
        "        omics_matr.append(np.zeros(end-begin))\n",
        "    \n",
        "    tad = []\n",
        "    if chrom in Tad:\n",
        "      max_vals = np.zeros(end-begin)\n",
        "      lag = int(width_tad/2)\n",
        "      vals = Tad[chrom][begin-lag:end+lag]\n",
        "      for i in range(end-begin):\n",
        "          max_vals[i] = np.max(vals[i:i+2*lag+1])\n",
        "      tad.append(max_vals)        \n",
        "    else:\n",
        "      tad.append(np.zeros(end-begin))\n",
        "    \n",
        "    data_interval = np.hstack((dna_OHE, np.array(states_matr).T, np.array(omics_matr).T/1000, np.array(tad).T)).astype(np.float32)\n",
        "    data.append(data_interval)\n",
        "  return data"
      ],
      "metadata": {
        "id": "WaIIYdi8P93X"
      },
      "execution_count": null,
      "outputs": []
    },
    {
      "cell_type": "code",
      "source": [
        "positives = data_load_with_omics(ints_in)\n",
        "positives = np.stack(positives)\n",
        "print(positives.shape)\n",
        "\n",
        "negatives = data_load_with_omics(ints_out)\n",
        "negatives = np.stack(negatives)\n",
        "print(negatives.shape)"
      ],
      "metadata": {
        "colab": {
          "base_uri": "https://localhost:8080/"
        },
        "outputId": "70e48c2a-0426-4d7b-fb07-e9633dfb76ac",
        "id": "z-3biSJkP93Y"
      },
      "execution_count": null,
      "outputs": [
        {
          "output_type": "stream",
          "name": "stdout",
          "text": [
            "(9019, 34, 171)\n",
            "(9019, 34, 171)\n"
          ]
        }
      ]
    },
    {
      "cell_type": "code",
      "source": [
        "X = np.concatenate([positives, negatives], axis=0)\n",
        "X.shape"
      ],
      "metadata": {
        "colab": {
          "base_uri": "https://localhost:8080/"
        },
        "outputId": "a629cee8-b8cf-4b8e-ce10-8677f6dd409e",
        "id": "QVCaOY81P93Z"
      },
      "execution_count": null,
      "outputs": [
        {
          "output_type": "execute_result",
          "data": {
            "text/plain": [
              "(18038, 34, 171)"
            ]
          },
          "metadata": {},
          "execution_count": 18
        }
      ]
    },
    {
      "cell_type": "code",
      "source": [
        "y = [1 for i in range(len(positives))]\n",
        "y.extend([0 for i in range(len(negatives))])\n",
        "y = np.array(y)\n",
        "y.shape"
      ],
      "metadata": {
        "colab": {
          "base_uri": "https://localhost:8080/"
        },
        "outputId": "8ed4e38c-559d-4eb9-963a-f54b550ccd3e",
        "id": "bdEEfA36P93a"
      },
      "execution_count": null,
      "outputs": [
        {
          "output_type": "execute_result",
          "data": {
            "text/plain": [
              "(18038,)"
            ]
          },
          "metadata": {},
          "execution_count": 19
        }
      ]
    },
    {
      "cell_type": "code",
      "source": [
        "X_train, X_test, y_train, y_test = train_test_split(X, y, train_size=0.8)\n",
        "print(X_train.shape, X_test.shape, y_train.shape, y_test.shape)"
      ],
      "metadata": {
        "colab": {
          "base_uri": "https://localhost:8080/"
        },
        "outputId": "d39f8495-ab5e-44a5-8f2f-71e79ae1eed8",
        "id": "Bu4Qxl1SP93a"
      },
      "execution_count": null,
      "outputs": [
        {
          "output_type": "stream",
          "name": "stdout",
          "text": [
            "(14430, 34, 171) (3608, 34, 171) (14430,) (3608,)\n"
          ]
        }
      ]
    },
    {
      "cell_type": "markdown",
      "source": [
        "## CNN: train and test"
      ],
      "metadata": {
        "id": "GhQYS5DdvmyC"
      }
    },
    {
      "cell_type": "code",
      "source": [
        "model = make_model_CNN()\n",
        "\n",
        "early_stopping = tf.keras.callbacks.EarlyStopping(monitor='val_loss', patience=5)\n",
        "s = reset_tf_session()\n",
        "INIT_LR = 5e-3\n",
        "BATCH_SIZE = 32\n",
        "EPOCHS = 40\n",
        "\n",
        "bst_model_path = 'CNN' + '.h5'\n",
        "model_checkpoint = tf.keras.callbacks.ModelCheckpoint(bst_model_path, save_best_only=True, save_weights_only=True)\n",
        "\n",
        "model.compile(\n",
        "    loss='binary_crossentropy',\n",
        "    optimizer=tf.keras.optimizers.Adam(lr=INIT_LR),\n",
        "    metrics=[tf.keras.metrics.AUC(), tf.keras.metrics.Precision(), tf.keras.metrics.Recall(), 'accuracy']\n",
        ")\n",
        "\n",
        "def lr_scheduler(epoch):\n",
        "    return INIT_LR * 0.9 ** epoch\n",
        "  \n",
        "history = model.fit(\n",
        "    X_train, y_train,\n",
        "    batch_size=BATCH_SIZE,\n",
        "    epochs=EPOCHS,\n",
        "    callbacks=[early_stopping, model_checkpoint, tf.keras.callbacks.LearningRateScheduler(lr_scheduler)],\n",
        "    validation_data=(X_test, y_test),\n",
        "    shuffle=True,\n",
        "    verbose=1,\n",
        "    initial_epoch=0\n",
        "  )"
      ],
      "metadata": {
        "colab": {
          "base_uri": "https://localhost:8080/"
        },
        "outputId": "e0218052-e210-49da-9072-54aafab2405b",
        "id": "kdjOk1rwP93b"
      },
      "execution_count": null,
      "outputs": [
        {
          "output_type": "stream",
          "name": "stderr",
          "text": [
            "WARNING:absl:`lr` is deprecated in Keras optimizer, please use `learning_rate` or use the legacy optimizer, e.g.,tf.keras.optimizers.legacy.Adam.\n"
          ]
        },
        {
          "output_type": "stream",
          "name": "stdout",
          "text": [
            "Epoch 1/40\n",
            "451/451 [==============================] - 10s 17ms/step - loss: 0.2053 - auc: 0.9745 - precision: 0.9276 - recall: 0.9254 - accuracy: 0.9270 - val_loss: 0.1261 - val_auc: 0.9885 - val_precision: 0.9663 - val_recall: 0.9605 - val_accuracy: 0.9626 - lr: 0.0050\n",
            "Epoch 2/40\n",
            "451/451 [==============================] - 6s 13ms/step - loss: 0.1078 - auc: 0.9908 - precision: 0.9623 - recall: 0.9717 - accuracy: 0.9670 - val_loss: 0.0884 - val_auc: 0.9942 - val_precision: 0.9586 - val_recall: 0.9886 - val_accuracy: 0.9723 - lr: 0.0045\n",
            "Epoch 3/40\n",
            "451/451 [==============================] - 7s 16ms/step - loss: 0.0847 - auc: 0.9937 - precision: 0.9705 - recall: 0.9760 - accuracy: 0.9733 - val_loss: 0.0812 - val_auc: 0.9944 - val_precision: 0.9646 - val_recall: 0.9865 - val_accuracy: 0.9745 - lr: 0.0041\n",
            "Epoch 4/40\n",
            "451/451 [==============================] - 5s 12ms/step - loss: 0.0727 - auc: 0.9948 - precision: 0.9766 - recall: 0.9835 - accuracy: 0.9801 - val_loss: 0.0789 - val_auc: 0.9956 - val_precision: 0.9793 - val_recall: 0.9713 - val_accuracy: 0.9748 - lr: 0.0036\n",
            "Epoch 5/40\n",
            "451/451 [==============================] - 7s 16ms/step - loss: 0.0704 - auc: 0.9955 - precision: 0.9747 - recall: 0.9792 - accuracy: 0.9771 - val_loss: 0.0712 - val_auc: 0.9946 - val_precision: 0.9795 - val_recall: 0.9805 - val_accuracy: 0.9795 - lr: 0.0033\n",
            "Epoch 6/40\n",
            "451/451 [==============================] - 6s 13ms/step - loss: 0.0685 - auc: 0.9953 - precision: 0.9793 - recall: 0.9826 - accuracy: 0.9810 - val_loss: 0.0726 - val_auc: 0.9953 - val_precision: 0.9779 - val_recall: 0.9822 - val_accuracy: 0.9795 - lr: 0.0030\n",
            "Epoch 7/40\n",
            "451/451 [==============================] - 6s 13ms/step - loss: 0.0588 - auc: 0.9960 - precision: 0.9810 - recall: 0.9858 - accuracy: 0.9834 - val_loss: 0.0802 - val_auc: 0.9948 - val_precision: 0.9862 - val_recall: 0.9697 - val_accuracy: 0.9775 - lr: 0.0027\n",
            "Epoch 8/40\n",
            "451/451 [==============================] - 7s 16ms/step - loss: 0.0533 - auc: 0.9967 - precision: 0.9835 - recall: 0.9866 - accuracy: 0.9851 - val_loss: 0.0696 - val_auc: 0.9959 - val_precision: 0.9842 - val_recall: 0.9757 - val_accuracy: 0.9795 - lr: 0.0024\n",
            "Epoch 9/40\n",
            "451/451 [==============================] - 6s 13ms/step - loss: 0.0508 - auc: 0.9973 - precision: 0.9832 - recall: 0.9858 - accuracy: 0.9845 - val_loss: 0.0818 - val_auc: 0.9939 - val_precision: 0.9701 - val_recall: 0.9832 - val_accuracy: 0.9759 - lr: 0.0022\n",
            "Epoch 10/40\n",
            "451/451 [==============================] - 7s 17ms/step - loss: 0.0483 - auc: 0.9972 - precision: 0.9838 - recall: 0.9881 - accuracy: 0.9860 - val_loss: 0.0823 - val_auc: 0.9931 - val_precision: 0.9759 - val_recall: 0.9843 - val_accuracy: 0.9795 - lr: 0.0019\n",
            "Epoch 11/40\n",
            "451/451 [==============================] - 7s 17ms/step - loss: 0.0441 - auc: 0.9978 - precision: 0.9851 - recall: 0.9894 - accuracy: 0.9873 - val_loss: 0.0786 - val_auc: 0.9946 - val_precision: 0.9847 - val_recall: 0.9746 - val_accuracy: 0.9792 - lr: 0.0017\n",
            "Epoch 12/40\n",
            "451/451 [==============================] - 7s 16ms/step - loss: 0.0403 - auc: 0.9980 - precision: 0.9879 - recall: 0.9888 - accuracy: 0.9884 - val_loss: 0.0796 - val_auc: 0.9948 - val_precision: 0.9676 - val_recall: 0.9849 - val_accuracy: 0.9753 - lr: 0.0016\n",
            "Epoch 13/40\n",
            "451/451 [==============================] - 5s 12ms/step - loss: 0.0408 - auc: 0.9979 - precision: 0.9860 - recall: 0.9901 - accuracy: 0.9881 - val_loss: 0.0734 - val_auc: 0.9948 - val_precision: 0.9718 - val_recall: 0.9870 - val_accuracy: 0.9787 - lr: 0.0014\n"
          ]
        }
      ]
    },
    {
      "cell_type": "markdown",
      "source": [
        "## RNN: train and test"
      ],
      "metadata": {
        "id": "xgts6eCjvwfR"
      }
    },
    {
      "cell_type": "code",
      "source": [
        "model = make_model_RNN()\n",
        "\n",
        "early_stopping = tf.keras.callbacks.EarlyStopping(monitor='val_loss', patience=5)\n",
        "s = reset_tf_session()\n",
        "INIT_LR = 5e-3\n",
        "BATCH_SIZE = 32\n",
        "EPOCHS = 40\n",
        "\n",
        "bst_model_path = 'RNN' + '.h5'\n",
        "model_checkpoint = tf.keras.callbacks.ModelCheckpoint(bst_model_path, save_best_only=True, save_weights_only=True)\n",
        "\n",
        "model.compile(\n",
        "    loss='binary_crossentropy',\n",
        "    optimizer=tf.keras.optimizers.Adam(lr=INIT_LR),\n",
        "    metrics=[tf.keras.metrics.AUC(), tf.keras.metrics.Precision(), tf.keras.metrics.Recall(), 'accuracy']\n",
        ")\n",
        "\n",
        "def lr_scheduler(epoch):\n",
        "    return INIT_LR * 0.9 ** epoch\n",
        "  \n",
        "model.fit(\n",
        "    X_train, y_train,\n",
        "    batch_size=BATCH_SIZE,\n",
        "    epochs=EPOCHS,\n",
        "    callbacks=[early_stopping, model_checkpoint, tf.keras.callbacks.LearningRateScheduler(lr_scheduler)],\n",
        "    validation_data=(X_test, y_test),\n",
        "    shuffle=True,\n",
        "    verbose=1,\n",
        "    initial_epoch=0\n",
        "  )"
      ],
      "metadata": {
        "colab": {
          "base_uri": "https://localhost:8080/"
        },
        "id": "61nuJ2niXsvL",
        "outputId": "682d411f-5d1b-4e81-cfcb-a4197e5056c3"
      },
      "execution_count": null,
      "outputs": [
        {
          "output_type": "stream",
          "name": "stderr",
          "text": [
            "WARNING:absl:`lr` is deprecated in Keras optimizer, please use `learning_rate` or use the legacy optimizer, e.g.,tf.keras.optimizers.legacy.Adam.\n"
          ]
        },
        {
          "output_type": "stream",
          "name": "stdout",
          "text": [
            "Epoch 1/40\n",
            "451/451 [==============================] - 25s 46ms/step - loss: 0.6745 - auc: 0.8272 - precision: 0.8427 - recall: 0.6356 - accuracy: 0.7579 - val_loss: 0.6551 - val_auc: 0.8544 - val_precision: 0.8252 - val_recall: 0.6844 - val_accuracy: 0.7719 - lr: 0.0050\n",
            "Epoch 2/40\n",
            "451/451 [==============================] - 22s 48ms/step - loss: 0.7344 - auc: 0.8966 - precision: 0.8991 - recall: 0.7877 - accuracy: 0.8493 - val_loss: 0.6409 - val_auc: 0.8252 - val_precision: 0.8869 - val_recall: 0.5618 - val_accuracy: 0.7475 - lr: 0.0045\n",
            "Epoch 3/40\n",
            "451/451 [==============================] - 20s 43ms/step - loss: 0.5707 - auc: 0.8468 - precision: 0.8996 - recall: 0.6492 - accuracy: 0.7879 - val_loss: 0.5694 - val_auc: 0.8669 - val_precision: 0.9355 - val_recall: 0.6407 - val_accuracy: 0.8002 - lr: 0.0041\n",
            "Epoch 4/40\n",
            "451/451 [==============================] - 19s 42ms/step - loss: 0.6176 - auc: 0.8663 - precision: 0.9095 - recall: 0.6792 - accuracy: 0.8053 - val_loss: 0.6309 - val_auc: 0.8642 - val_precision: 0.8787 - val_recall: 0.6849 - val_accuracy: 0.7971 - lr: 0.0036\n",
            "Epoch 5/40\n",
            "451/451 [==============================] - 22s 49ms/step - loss: 0.5783 - auc: 0.8641 - precision: 0.9182 - recall: 0.6799 - accuracy: 0.8092 - val_loss: 0.5818 - val_auc: 0.9107 - val_precision: 0.9210 - val_recall: 0.8153 - val_accuracy: 0.8739 - lr: 0.0033\n",
            "Epoch 6/40\n",
            "451/451 [==============================] - 19s 42ms/step - loss: 0.6652 - auc: 0.8810 - precision: 0.9134 - recall: 0.7595 - accuracy: 0.8434 - val_loss: 1.1519 - val_auc: 0.8591 - val_precision: 0.8754 - val_recall: 0.8176 - val_accuracy: 0.8520 - lr: 0.0030\n",
            "Epoch 7/40\n",
            "451/451 [==============================] - 19s 43ms/step - loss: 0.4877 - auc: 0.9197 - precision: 0.9346 - recall: 0.8077 - accuracy: 0.8753 - val_loss: 0.4250 - val_auc: 0.9397 - val_precision: 0.9392 - val_recall: 0.8646 - val_accuracy: 0.9052 - lr: 0.0027\n",
            "Epoch 8/40\n",
            "451/451 [==============================] - 21s 47ms/step - loss: 0.4286 - auc: 0.9376 - precision: 0.9416 - recall: 0.8211 - accuracy: 0.8848 - val_loss: 0.3775 - val_auc: 0.9684 - val_precision: 0.9395 - val_recall: 0.9301 - val_accuracy: 0.9357 - lr: 0.0024\n",
            "Epoch 9/40\n",
            "451/451 [==============================] - 19s 42ms/step - loss: 0.3437 - auc: 0.9701 - precision: 0.9436 - recall: 0.9257 - accuracy: 0.9351 - val_loss: 0.2945 - val_auc: 0.9757 - val_precision: 0.9598 - val_recall: 0.9077 - val_accuracy: 0.9354 - lr: 0.0022\n",
            "Epoch 10/40\n",
            "451/451 [==============================] - 22s 50ms/step - loss: 0.3038 - auc: 0.9758 - precision: 0.9516 - recall: 0.9354 - accuracy: 0.9438 - val_loss: 0.2865 - val_auc: 0.9797 - val_precision: 0.9584 - val_recall: 0.9536 - val_accuracy: 0.9565 - lr: 0.0019\n",
            "Epoch 11/40\n",
            "451/451 [==============================] - 19s 42ms/step - loss: 0.2615 - auc: 0.9789 - precision: 0.9617 - recall: 0.9248 - accuracy: 0.9439 - val_loss: 0.2556 - val_auc: 0.9817 - val_precision: 0.9625 - val_recall: 0.9468 - val_accuracy: 0.9554 - lr: 0.0017\n",
            "Epoch 12/40\n",
            "451/451 [==============================] - 19s 43ms/step - loss: 0.2478 - auc: 0.9823 - precision: 0.9629 - recall: 0.9415 - accuracy: 0.9525 - val_loss: 0.2216 - val_auc: 0.9850 - val_precision: 0.9585 - val_recall: 0.9703 - val_accuracy: 0.9645 - lr: 0.0016\n",
            "Epoch 13/40\n",
            "451/451 [==============================] - 21s 46ms/step - loss: 0.2519 - auc: 0.9830 - precision: 0.9594 - recall: 0.9602 - accuracy: 0.9597 - val_loss: 0.2188 - val_auc: 0.9855 - val_precision: 0.9638 - val_recall: 0.9687 - val_accuracy: 0.9665 - lr: 0.0014\n",
            "Epoch 14/40\n",
            "451/451 [==============================] - 21s 46ms/step - loss: 0.2348 - auc: 0.9846 - precision: 0.9602 - recall: 0.9632 - accuracy: 0.9615 - val_loss: 0.2323 - val_auc: 0.9850 - val_precision: 0.9667 - val_recall: 0.9597 - val_accuracy: 0.9637 - lr: 0.0013\n",
            "Epoch 15/40\n",
            "451/451 [==============================] - 19s 43ms/step - loss: 0.2029 - auc: 0.9864 - precision: 0.9691 - recall: 0.9378 - accuracy: 0.9538 - val_loss: 0.3995 - val_auc: 0.9662 - val_precision: 0.9418 - val_recall: 0.9328 - val_accuracy: 0.9382 - lr: 0.0011\n",
            "Epoch 16/40\n",
            "451/451 [==============================] - 21s 46ms/step - loss: 0.2238 - auc: 0.9841 - precision: 0.9564 - recall: 0.9607 - accuracy: 0.9584 - val_loss: 0.2144 - val_auc: 0.9857 - val_precision: 0.9612 - val_recall: 0.9692 - val_accuracy: 0.9654 - lr: 0.0010\n",
            "Epoch 17/40\n",
            "451/451 [==============================] - 19s 42ms/step - loss: 0.1913 - auc: 0.9877 - precision: 0.9670 - recall: 0.9675 - accuracy: 0.9672 - val_loss: 0.2295 - val_auc: 0.9851 - val_precision: 0.9666 - val_recall: 0.9720 - val_accuracy: 0.9695 - lr: 9.2651e-04\n",
            "Epoch 18/40\n",
            "451/451 [==============================] - 19s 43ms/step - loss: 0.1967 - auc: 0.9876 - precision: 0.9678 - recall: 0.9639 - accuracy: 0.9658 - val_loss: 0.2394 - val_auc: 0.9849 - val_precision: 0.9619 - val_recall: 0.9748 - val_accuracy: 0.9684 - lr: 8.3386e-04\n",
            "Epoch 19/40\n",
            "451/451 [==============================] - 20s 45ms/step - loss: 0.2111 - auc: 0.9866 - precision: 0.9674 - recall: 0.9656 - accuracy: 0.9665 - val_loss: 0.1949 - val_auc: 0.9879 - val_precision: 0.9704 - val_recall: 0.9726 - val_accuracy: 0.9717 - lr: 7.5047e-04\n",
            "Epoch 20/40\n",
            "451/451 [==============================] - 19s 42ms/step - loss: 0.1976 - auc: 0.9876 - precision: 0.9672 - recall: 0.9715 - accuracy: 0.9692 - val_loss: 0.2879 - val_auc: 0.9821 - val_precision: 0.9459 - val_recall: 0.9877 - val_accuracy: 0.9659 - lr: 6.7543e-04\n",
            "Epoch 21/40\n",
            "451/451 [==============================] - 19s 42ms/step - loss: 0.1987 - auc: 0.9873 - precision: 0.9647 - recall: 0.9640 - accuracy: 0.9643 - val_loss: 0.1903 - val_auc: 0.9881 - val_precision: 0.9717 - val_recall: 0.9608 - val_accuracy: 0.9667 - lr: 6.0788e-04\n",
            "Epoch 22/40\n",
            "451/451 [==============================] - 20s 44ms/step - loss: 0.1749 - auc: 0.9891 - precision: 0.9743 - recall: 0.9580 - accuracy: 0.9663 - val_loss: 0.1888 - val_auc: 0.9882 - val_precision: 0.9722 - val_recall: 0.9580 - val_accuracy: 0.9656 - lr: 5.4709e-04\n",
            "Epoch 23/40\n",
            "451/451 [==============================] - 19s 42ms/step - loss: 0.1515 - auc: 0.9906 - precision: 0.9734 - recall: 0.9657 - accuracy: 0.9696 - val_loss: 0.1822 - val_auc: 0.9887 - val_precision: 0.9714 - val_recall: 0.9687 - val_accuracy: 0.9703 - lr: 4.9239e-04\n",
            "Epoch 24/40\n",
            "451/451 [==============================] - 19s 42ms/step - loss: 0.1740 - auc: 0.9892 - precision: 0.9709 - recall: 0.9681 - accuracy: 0.9694 - val_loss: 0.1894 - val_auc: 0.9883 - val_precision: 0.9745 - val_recall: 0.9636 - val_accuracy: 0.9695 - lr: 4.4315e-04\n",
            "Epoch 25/40\n",
            "451/451 [==============================] - 21s 48ms/step - loss: 0.1635 - auc: 0.9901 - precision: 0.9745 - recall: 0.9658 - accuracy: 0.9702 - val_loss: 0.1889 - val_auc: 0.9880 - val_precision: 0.9732 - val_recall: 0.9754 - val_accuracy: 0.9745 - lr: 3.9883e-04\n",
            "Epoch 26/40\n",
            "451/451 [==============================] - 19s 41ms/step - loss: 0.1628 - auc: 0.9899 - precision: 0.9720 - recall: 0.9690 - accuracy: 0.9705 - val_loss: 0.1800 - val_auc: 0.9889 - val_precision: 0.9735 - val_recall: 0.9670 - val_accuracy: 0.9706 - lr: 3.5895e-04\n",
            "Epoch 27/40\n",
            "451/451 [==============================] - 19s 42ms/step - loss: 0.1587 - auc: 0.9904 - precision: 0.9720 - recall: 0.9685 - accuracy: 0.9702 - val_loss: 0.1837 - val_auc: 0.9886 - val_precision: 0.9735 - val_recall: 0.9653 - val_accuracy: 0.9698 - lr: 3.2305e-04\n",
            "Epoch 28/40\n",
            "451/451 [==============================] - 24s 53ms/step - loss: 0.1501 - auc: 0.9911 - precision: 0.9729 - recall: 0.9674 - accuracy: 0.9701 - val_loss: 0.1731 - val_auc: 0.9893 - val_precision: 0.9773 - val_recall: 0.9625 - val_accuracy: 0.9703 - lr: 2.9075e-04\n",
            "Epoch 29/40\n",
            "451/451 [==============================] - 19s 42ms/step - loss: 0.1517 - auc: 0.9908 - precision: 0.9748 - recall: 0.9686 - accuracy: 0.9717 - val_loss: 0.1741 - val_auc: 0.9889 - val_precision: 0.9716 - val_recall: 0.9776 - val_accuracy: 0.9748 - lr: 2.6167e-04\n",
            "Epoch 30/40\n",
            "451/451 [==============================] - 19s 42ms/step - loss: 0.1496 - auc: 0.9909 - precision: 0.9772 - recall: 0.9647 - accuracy: 0.9710 - val_loss: 0.1634 - val_auc: 0.9900 - val_precision: 0.9751 - val_recall: 0.9631 - val_accuracy: 0.9695 - lr: 2.3551e-04\n",
            "Epoch 31/40\n",
            "451/451 [==============================] - 21s 46ms/step - loss: 0.1462 - auc: 0.9913 - precision: 0.9767 - recall: 0.9700 - accuracy: 0.9734 - val_loss: 0.1655 - val_auc: 0.9899 - val_precision: 0.9737 - val_recall: 0.9720 - val_accuracy: 0.9731 - lr: 2.1196e-04\n",
            "Epoch 32/40\n",
            "451/451 [==============================] - 19s 42ms/step - loss: 0.1471 - auc: 0.9912 - precision: 0.9736 - recall: 0.9699 - accuracy: 0.9717 - val_loss: 0.1604 - val_auc: 0.9901 - val_precision: 0.9753 - val_recall: 0.9715 - val_accuracy: 0.9737 - lr: 1.9076e-04\n",
            "Epoch 33/40\n",
            "451/451 [==============================] - 19s 43ms/step - loss: 0.1560 - auc: 0.9905 - precision: 0.9726 - recall: 0.9759 - accuracy: 0.9742 - val_loss: 0.1723 - val_auc: 0.9893 - val_precision: 0.9727 - val_recall: 0.9759 - val_accuracy: 0.9745 - lr: 1.7168e-04\n",
            "Epoch 34/40\n",
            "451/451 [==============================] - 22s 48ms/step - loss: 0.1633 - auc: 0.9899 - precision: 0.9706 - recall: 0.9729 - accuracy: 0.9717 - val_loss: 0.1616 - val_auc: 0.9901 - val_precision: 0.9778 - val_recall: 0.9631 - val_accuracy: 0.9709 - lr: 1.5452e-04\n",
            "Epoch 35/40\n",
            "451/451 [==============================] - 19s 43ms/step - loss: 0.1419 - auc: 0.9917 - precision: 0.9762 - recall: 0.9697 - accuracy: 0.9730 - val_loss: 0.1563 - val_auc: 0.9905 - val_precision: 0.9784 - val_recall: 0.9642 - val_accuracy: 0.9717 - lr: 1.3906e-04\n",
            "Epoch 36/40\n",
            "451/451 [==============================] - 19s 42ms/step - loss: 0.1389 - auc: 0.9918 - precision: 0.9789 - recall: 0.9675 - accuracy: 0.9733 - val_loss: 0.1578 - val_auc: 0.9904 - val_precision: 0.9768 - val_recall: 0.9681 - val_accuracy: 0.9728 - lr: 1.2516e-04\n",
            "Epoch 37/40\n",
            "451/451 [==============================] - 21s 46ms/step - loss: 0.1481 - auc: 0.9911 - precision: 0.9753 - recall: 0.9715 - accuracy: 0.9734 - val_loss: 0.1600 - val_auc: 0.9903 - val_precision: 0.9759 - val_recall: 0.9731 - val_accuracy: 0.9748 - lr: 1.1264e-04\n",
            "Epoch 38/40\n",
            "451/451 [==============================] - 18s 40ms/step - loss: 0.1405 - auc: 0.9916 - precision: 0.9755 - recall: 0.9746 - accuracy: 0.9750 - val_loss: 0.1631 - val_auc: 0.9900 - val_precision: 0.9743 - val_recall: 0.9754 - val_accuracy: 0.9751 - lr: 1.0138e-04\n",
            "Epoch 39/40\n",
            "451/451 [==============================] - 19s 42ms/step - loss: 0.1442 - auc: 0.9914 - precision: 0.9724 - recall: 0.9783 - accuracy: 0.9752 - val_loss: 0.1667 - val_auc: 0.9897 - val_precision: 0.9732 - val_recall: 0.9765 - val_accuracy: 0.9751 - lr: 9.1240e-05\n",
            "Epoch 40/40\n",
            "451/451 [==============================] - 21s 47ms/step - loss: 0.1445 - auc: 0.9912 - precision: 0.9739 - recall: 0.9758 - accuracy: 0.9748 - val_loss: 0.1671 - val_auc: 0.9896 - val_precision: 0.9742 - val_recall: 0.9737 - val_accuracy: 0.9742 - lr: 8.2116e-05\n"
          ]
        },
        {
          "output_type": "execute_result",
          "data": {
            "text/plain": [
              "<keras.callbacks.History at 0x7f27eb424e50>"
            ]
          },
          "metadata": {},
          "execution_count": 31
        }
      ]
    },
    {
      "cell_type": "markdown",
      "source": [
        "## RNN_CNN: train and test"
      ],
      "metadata": {
        "id": "7z9y1t9Aobmj"
      }
    },
    {
      "cell_type": "code",
      "source": [
        "model = make_model_RNN_CNN()\n",
        "\n",
        "early_stopping = tf.keras.callbacks.EarlyStopping(monitor='val_loss', patience=5)\n",
        "s = reset_tf_session()\n",
        "INIT_LR = 5e-3\n",
        "BATCH_SIZE = 32\n",
        "EPOCHS = 40\n",
        "\n",
        "bst_model_path = 'RNN' + '.h5'\n",
        "model_checkpoint = tf.keras.callbacks.ModelCheckpoint(bst_model_path, save_best_only=True, save_weights_only=True)\n",
        "\n",
        "model.compile(\n",
        "    loss='binary_crossentropy',\n",
        "    optimizer=tf.keras.optimizers.Adam(lr=INIT_LR),\n",
        "    metrics=[tf.keras.metrics.AUC(), tf.keras.metrics.Precision(), tf.keras.metrics.Recall(), 'accuracy']\n",
        ")\n",
        "\n",
        "def lr_scheduler(epoch):\n",
        "    return INIT_LR * 0.9 ** epoch\n",
        "  \n",
        "model.fit(\n",
        "    X_train, y_train,\n",
        "    batch_size=BATCH_SIZE,\n",
        "    epochs=EPOCHS,\n",
        "    callbacks=[early_stopping, model_checkpoint, tf.keras.callbacks.LearningRateScheduler(lr_scheduler)],\n",
        "    validation_data=(X_test, y_test),\n",
        "    shuffle=True,\n",
        "    verbose=1,\n",
        "    initial_epoch=0\n",
        "  )"
      ],
      "metadata": {
        "colab": {
          "base_uri": "https://localhost:8080/"
        },
        "id": "x7DkbgIMvzQh",
        "outputId": "ace7afd8-b52a-452e-9fb3-c5328eedfbc7"
      },
      "execution_count": null,
      "outputs": [
        {
          "output_type": "stream",
          "name": "stderr",
          "text": [
            "WARNING:absl:`lr` is deprecated in Keras optimizer, please use `learning_rate` or use the legacy optimizer, e.g.,tf.keras.optimizers.legacy.Adam.\n"
          ]
        },
        {
          "output_type": "stream",
          "name": "stdout",
          "text": [
            "Epoch 1/40\n",
            "451/451 [==============================] - 18s 32ms/step - loss: 0.6541 - auc: 0.9039 - precision: 0.8874 - recall: 0.7846 - accuracy: 0.8431 - val_loss: 0.5038 - val_auc: 0.9440 - val_precision: 0.9286 - val_recall: 0.8667 - val_accuracy: 0.8986 - lr: 0.0050\n",
            "Epoch 2/40\n",
            "451/451 [==============================] - 14s 31ms/step - loss: 0.8458 - auc: 0.8966 - precision: 0.8843 - recall: 0.7908 - accuracy: 0.8442 - val_loss: 0.5501 - val_auc: 0.9363 - val_precision: 0.9298 - val_recall: 0.7881 - val_accuracy: 0.8623 - lr: 0.0045\n",
            "Epoch 3/40\n",
            "451/451 [==============================] - 14s 30ms/step - loss: 0.8406 - auc: 0.9089 - precision: 0.8708 - recall: 0.8308 - accuracy: 0.8543 - val_loss: 0.4380 - val_auc: 0.9548 - val_precision: 0.9352 - val_recall: 0.8990 - val_accuracy: 0.9171 - lr: 0.0041\n",
            "Epoch 4/40\n",
            "451/451 [==============================] - 14s 31ms/step - loss: 0.6203 - auc: 0.8903 - precision: 0.9187 - recall: 0.7329 - accuracy: 0.8347 - val_loss: 0.5425 - val_auc: 0.8711 - val_precision: 0.9602 - val_recall: 0.5926 - val_accuracy: 0.7808 - lr: 0.0036\n",
            "Epoch 5/40\n",
            "451/451 [==============================] - 14s 31ms/step - loss: 0.4432 - auc: 0.9310 - precision: 0.9327 - recall: 0.8100 - accuracy: 0.8762 - val_loss: 0.3292 - val_auc: 0.9700 - val_precision: 0.9575 - val_recall: 0.8744 - val_accuracy: 0.9166 - lr: 0.0033\n",
            "Epoch 6/40\n",
            "451/451 [==============================] - 14s 31ms/step - loss: 0.3889 - auc: 0.9646 - precision: 0.9415 - recall: 0.8904 - accuracy: 0.9178 - val_loss: 0.3201 - val_auc: 0.9754 - val_precision: 0.9389 - val_recall: 0.9476 - val_accuracy: 0.9421 - lr: 0.0030\n",
            "Epoch 7/40\n",
            "451/451 [==============================] - 14s 31ms/step - loss: 0.3420 - auc: 0.9701 - precision: 0.9487 - recall: 0.8872 - accuracy: 0.9199 - val_loss: 0.2705 - val_auc: 0.9787 - val_precision: 0.9366 - val_recall: 0.9601 - val_accuracy: 0.9468 - lr: 0.0027\n",
            "Epoch 8/40\n",
            "451/451 [==============================] - 14s 31ms/step - loss: 0.2874 - auc: 0.9784 - precision: 0.9510 - recall: 0.9307 - accuracy: 0.9416 - val_loss: 0.2642 - val_auc: 0.9827 - val_precision: 0.9700 - val_recall: 0.9175 - val_accuracy: 0.9437 - lr: 0.0024\n",
            "Epoch 9/40\n",
            "451/451 [==============================] - 14s 30ms/step - loss: 0.3150 - auc: 0.9776 - precision: 0.9460 - recall: 0.9409 - accuracy: 0.9438 - val_loss: 0.2073 - val_auc: 0.9864 - val_precision: 0.9631 - val_recall: 0.9558 - val_accuracy: 0.9590 - lr: 0.0022\n",
            "Epoch 10/40\n",
            "451/451 [==============================] - 14s 31ms/step - loss: 0.2359 - auc: 0.9840 - precision: 0.9531 - recall: 0.9558 - accuracy: 0.9545 - val_loss: 0.6458 - val_auc: 0.9641 - val_precision: 0.8253 - val_recall: 0.9853 - val_accuracy: 0.8866 - lr: 0.0019\n",
            "Epoch 11/40\n",
            "451/451 [==============================] - 14s 31ms/step - loss: 0.2540 - auc: 0.9826 - precision: 0.9492 - recall: 0.9549 - accuracy: 0.9521 - val_loss: 0.1800 - val_auc: 0.9889 - val_precision: 0.9667 - val_recall: 0.9661 - val_accuracy: 0.9659 - lr: 0.0017\n",
            "Epoch 12/40\n",
            "451/451 [==============================] - 13s 30ms/step - loss: 0.2039 - auc: 0.9871 - precision: 0.9647 - recall: 0.9585 - accuracy: 0.9619 - val_loss: 0.2244 - val_auc: 0.9868 - val_precision: 0.9785 - val_recall: 0.9214 - val_accuracy: 0.9498 - lr: 0.0016\n",
            "Epoch 13/40\n",
            "451/451 [==============================] - 14s 30ms/step - loss: 0.1842 - auc: 0.9885 - precision: 0.9669 - recall: 0.9537 - accuracy: 0.9606 - val_loss: 0.2032 - val_auc: 0.9878 - val_precision: 0.9789 - val_recall: 0.9377 - val_accuracy: 0.9581 - lr: 0.0014\n",
            "Epoch 14/40\n",
            "451/451 [==============================] - 18s 39ms/step - loss: 0.4129 - auc: 0.9720 - precision: 0.9571 - recall: 0.9150 - accuracy: 0.9372 - val_loss: 0.2247 - val_auc: 0.9864 - val_precision: 0.9776 - val_recall: 0.9547 - val_accuracy: 0.9659 - lr: 0.0013\n",
            "Epoch 15/40\n",
            "451/451 [==============================] - 14s 31ms/step - loss: 0.2612 - auc: 0.9832 - precision: 0.9648 - recall: 0.9534 - accuracy: 0.9595 - val_loss: 0.1771 - val_auc: 0.9894 - val_precision: 0.9720 - val_recall: 0.9656 - val_accuracy: 0.9684 - lr: 0.0011\n",
            "Epoch 16/40\n",
            "451/451 [==============================] - 13s 29ms/step - loss: 0.2160 - auc: 0.9863 - precision: 0.9695 - recall: 0.9494 - accuracy: 0.9599 - val_loss: 0.1605 - val_auc: 0.9903 - val_precision: 0.9771 - val_recall: 0.9541 - val_accuracy: 0.9654 - lr: 0.0010\n",
            "Epoch 17/40\n",
            "451/451 [==============================] - 13s 30ms/step - loss: 0.2341 - auc: 0.9850 - precision: 0.9664 - recall: 0.9655 - accuracy: 0.9661 - val_loss: 0.2102 - val_auc: 0.9867 - val_precision: 0.9716 - val_recall: 0.9700 - val_accuracy: 0.9703 - lr: 9.2651e-04\n",
            "Epoch 18/40\n",
            "451/451 [==============================] - 13s 30ms/step - loss: 0.1992 - auc: 0.9877 - precision: 0.9650 - recall: 0.9616 - accuracy: 0.9635 - val_loss: 0.1639 - val_auc: 0.9902 - val_precision: 0.9794 - val_recall: 0.9612 - val_accuracy: 0.9701 - lr: 8.3386e-04\n",
            "Epoch 19/40\n",
            "451/451 [==============================] - 14s 30ms/step - loss: 0.1901 - auc: 0.9883 - precision: 0.9705 - recall: 0.9559 - accuracy: 0.9635 - val_loss: 0.1648 - val_auc: 0.9902 - val_precision: 0.9784 - val_recall: 0.9640 - val_accuracy: 0.9709 - lr: 7.5047e-04\n",
            "Epoch 20/40\n",
            "451/451 [==============================] - 14s 31ms/step - loss: 0.1815 - auc: 0.9890 - precision: 0.9738 - recall: 0.9506 - accuracy: 0.9626 - val_loss: 0.1585 - val_auc: 0.9910 - val_precision: 0.9803 - val_recall: 0.9525 - val_accuracy: 0.9662 - lr: 6.7543e-04\n",
            "Epoch 21/40\n",
            "451/451 [==============================] - 14s 31ms/step - loss: 0.1633 - auc: 0.9902 - precision: 0.9709 - recall: 0.9645 - accuracy: 0.9679 - val_loss: 0.1573 - val_auc: 0.9903 - val_precision: 0.9785 - val_recall: 0.9672 - val_accuracy: 0.9726 - lr: 6.0788e-04\n",
            "Epoch 22/40\n",
            "451/451 [==============================] - 14s 31ms/step - loss: 0.1708 - auc: 0.9897 - precision: 0.9728 - recall: 0.9644 - accuracy: 0.9688 - val_loss: 0.1381 - val_auc: 0.9922 - val_precision: 0.9799 - val_recall: 0.9601 - val_accuracy: 0.9698 - lr: 5.4709e-04\n",
            "Epoch 23/40\n",
            "451/451 [==============================] - 15s 33ms/step - loss: 0.1708 - auc: 0.9902 - precision: 0.9785 - recall: 0.9292 - accuracy: 0.9545 - val_loss: 0.1702 - val_auc: 0.9912 - val_precision: 0.9841 - val_recall: 0.9104 - val_accuracy: 0.9471 - lr: 4.9239e-04\n",
            "Epoch 24/40\n",
            "451/451 [==============================] - 14s 31ms/step - loss: 0.1700 - auc: 0.9901 - precision: 0.9789 - recall: 0.9425 - accuracy: 0.9613 - val_loss: 0.1503 - val_auc: 0.9918 - val_precision: 0.9812 - val_recall: 0.9416 - val_accuracy: 0.9612 - lr: 4.4315e-04\n",
            "Epoch 25/40\n",
            "451/451 [==============================] - 14s 31ms/step - loss: 0.1633 - auc: 0.9906 - precision: 0.9778 - recall: 0.9517 - accuracy: 0.9652 - val_loss: 0.1446 - val_auc: 0.9921 - val_precision: 0.9841 - val_recall: 0.9454 - val_accuracy: 0.9645 - lr: 3.9883e-04\n",
            "Epoch 26/40\n",
            "451/451 [==============================] - 14s 31ms/step - loss: 0.1540 - auc: 0.9910 - precision: 0.9758 - recall: 0.9601 - accuracy: 0.9683 - val_loss: 0.1577 - val_auc: 0.9908 - val_precision: 0.9816 - val_recall: 0.9596 - val_accuracy: 0.9703 - lr: 3.5895e-04\n",
            "Epoch 27/40\n",
            "451/451 [==============================] - 14s 31ms/step - loss: 0.1826 - auc: 0.9890 - precision: 0.9713 - recall: 0.9662 - accuracy: 0.9690 - val_loss: 0.1514 - val_auc: 0.9913 - val_precision: 0.9827 - val_recall: 0.9623 - val_accuracy: 0.9723 - lr: 3.2305e-04\n"
          ]
        },
        {
          "output_type": "execute_result",
          "data": {
            "text/plain": [
              "<keras.callbacks.History at 0x7f62f2511690>"
            ]
          },
          "metadata": {},
          "execution_count": 96
        }
      ]
    },
    {
      "cell_type": "markdown",
      "source": [
        "# Features importance"
      ],
      "metadata": {
        "id": "xEEmpedY-49N"
      }
    },
    {
      "cell_type": "markdown",
      "source": [
        "https://www.nature.com/articles/s41467-022-31384-3#citeas"
      ],
      "metadata": {
        "id": "UjAMPtkxCvaV"
      }
    },
    {
      "cell_type": "code",
      "source": [
        "! pip install shap"
      ],
      "metadata": {
        "id": "CDDbf4W4_cYi"
      },
      "execution_count": null,
      "outputs": []
    },
    {
      "cell_type": "code",
      "source": [
        "import shap"
      ],
      "metadata": {
        "id": "rxkRmvMU_ZRI"
      },
      "execution_count": null,
      "outputs": []
    },
    {
      "cell_type": "markdown",
      "source": [
        "#### Indexes"
      ],
      "metadata": {
        "id": "06cZ3jD9c8QK"
      }
    },
    {
      "cell_type": "code",
      "source": [
        "indx_pos_test = np.where(y_test == 1)\n",
        "indx_pos_train = np.where(y_train == 1)\n",
        "indx_neg_test = np.where(y_test == 0)\n",
        "indx_neg_train = np.where(y_train == 0)"
      ],
      "metadata": {
        "id": "abRUwmd-dAqS"
      },
      "execution_count": null,
      "outputs": []
    },
    {
      "cell_type": "markdown",
      "source": [
        "## Shap with 5000 random background samples"
      ],
      "metadata": {
        "id": "FXc_XGx14DLq"
      }
    },
    {
      "cell_type": "code",
      "source": [
        "background = X_train[np.random.choice(X_train.shape[0], 5000, replace=False)]"
      ],
      "metadata": {
        "id": "Xvi7i8jHYDsN"
      },
      "execution_count": null,
      "outputs": []
    },
    {
      "cell_type": "code",
      "source": [
        "explainer = shap.DeepExplainer(model, background)\n",
        "shap_values = explainer.shap_values(X_test[indx_pos_test[0]])"
      ],
      "metadata": {
        "id": "j0bm4dEoeeaR"
      },
      "execution_count": null,
      "outputs": []
    },
    {
      "cell_type": "code",
      "source": [
        "# feature attributions\n",
        "attributions5000 = []\n",
        "for i in range(len(shap_values[0][0][0])):\n",
        "  attribution = []\n",
        "  for sample in shap_values[0]:\n",
        "    for position in sample:\n",
        "      attribution.append(position[i])\n",
        "  attributions5000.append((np.mean(attribution), np.std(attribution)))\n",
        "  \n",
        "attributions5000 = pd.DataFrame(attributions5000)\n",
        "attributions5000.columns = ['mean', 'std']\n",
        "attributions5000['factors'] = factors\n",
        "\n",
        "attributions5000.nlargest(n=15, columns=['mean'])"
      ],
      "metadata": {
        "colab": {
          "base_uri": "https://localhost:8080/",
          "height": 520
        },
        "id": "NAfeNen5e3bN",
        "outputId": "babfe11a-0de3-49c7-b83c-f74d90c36c74"
      },
      "execution_count": null,
      "outputs": [
        {
          "output_type": "execute_result",
          "data": {
            "text/plain": [
              "         mean       std       factors\n",
              "3    0.003181  0.004166         nuc_G\n",
              "0    0.002956  0.003738         nuc_A\n",
              "1    0.002782  0.004084         nuc_C\n",
              "2    0.002164  0.003233         nuc_T\n",
              "27   0.000550  0.001652  his_H3K27me3\n",
              "13   0.000288  0.000837     cs_EnhBiv\n",
              "4    0.000220  0.000711      cs_EnhA2\n",
              "14   0.000211  0.000610     cs_TssBiv\n",
              "31   0.000162  0.000519   his_H3K4me3\n",
              "9    0.000144  0.000686       cs_TssA\n",
              "5    0.000097  0.000476    cs_TssFlnk\n",
              "10   0.000096  0.000286   cs_ReprPCWk\n",
              "12   0.000066  0.000263     cs_ReprPC\n",
              "109  0.000066  0.000531      tf_NFKB2\n",
              "8    0.000062  0.000270       cs_TxWk"
            ],
            "text/html": [
              "\n",
              "  <div id=\"df-683e5ac1-36d9-427c-87b1-2ae1fcd1dd0c\">\n",
              "    <div class=\"colab-df-container\">\n",
              "      <div>\n",
              "<style scoped>\n",
              "    .dataframe tbody tr th:only-of-type {\n",
              "        vertical-align: middle;\n",
              "    }\n",
              "\n",
              "    .dataframe tbody tr th {\n",
              "        vertical-align: top;\n",
              "    }\n",
              "\n",
              "    .dataframe thead th {\n",
              "        text-align: right;\n",
              "    }\n",
              "</style>\n",
              "<table border=\"1\" class=\"dataframe\">\n",
              "  <thead>\n",
              "    <tr style=\"text-align: right;\">\n",
              "      <th></th>\n",
              "      <th>mean</th>\n",
              "      <th>std</th>\n",
              "      <th>factors</th>\n",
              "    </tr>\n",
              "  </thead>\n",
              "  <tbody>\n",
              "    <tr>\n",
              "      <th>3</th>\n",
              "      <td>0.003181</td>\n",
              "      <td>0.004166</td>\n",
              "      <td>nuc_G</td>\n",
              "    </tr>\n",
              "    <tr>\n",
              "      <th>0</th>\n",
              "      <td>0.002956</td>\n",
              "      <td>0.003738</td>\n",
              "      <td>nuc_A</td>\n",
              "    </tr>\n",
              "    <tr>\n",
              "      <th>1</th>\n",
              "      <td>0.002782</td>\n",
              "      <td>0.004084</td>\n",
              "      <td>nuc_C</td>\n",
              "    </tr>\n",
              "    <tr>\n",
              "      <th>2</th>\n",
              "      <td>0.002164</td>\n",
              "      <td>0.003233</td>\n",
              "      <td>nuc_T</td>\n",
              "    </tr>\n",
              "    <tr>\n",
              "      <th>27</th>\n",
              "      <td>0.000550</td>\n",
              "      <td>0.001652</td>\n",
              "      <td>his_H3K27me3</td>\n",
              "    </tr>\n",
              "    <tr>\n",
              "      <th>13</th>\n",
              "      <td>0.000288</td>\n",
              "      <td>0.000837</td>\n",
              "      <td>cs_EnhBiv</td>\n",
              "    </tr>\n",
              "    <tr>\n",
              "      <th>4</th>\n",
              "      <td>0.000220</td>\n",
              "      <td>0.000711</td>\n",
              "      <td>cs_EnhA2</td>\n",
              "    </tr>\n",
              "    <tr>\n",
              "      <th>14</th>\n",
              "      <td>0.000211</td>\n",
              "      <td>0.000610</td>\n",
              "      <td>cs_TssBiv</td>\n",
              "    </tr>\n",
              "    <tr>\n",
              "      <th>31</th>\n",
              "      <td>0.000162</td>\n",
              "      <td>0.000519</td>\n",
              "      <td>his_H3K4me3</td>\n",
              "    </tr>\n",
              "    <tr>\n",
              "      <th>9</th>\n",
              "      <td>0.000144</td>\n",
              "      <td>0.000686</td>\n",
              "      <td>cs_TssA</td>\n",
              "    </tr>\n",
              "    <tr>\n",
              "      <th>5</th>\n",
              "      <td>0.000097</td>\n",
              "      <td>0.000476</td>\n",
              "      <td>cs_TssFlnk</td>\n",
              "    </tr>\n",
              "    <tr>\n",
              "      <th>10</th>\n",
              "      <td>0.000096</td>\n",
              "      <td>0.000286</td>\n",
              "      <td>cs_ReprPCWk</td>\n",
              "    </tr>\n",
              "    <tr>\n",
              "      <th>12</th>\n",
              "      <td>0.000066</td>\n",
              "      <td>0.000263</td>\n",
              "      <td>cs_ReprPC</td>\n",
              "    </tr>\n",
              "    <tr>\n",
              "      <th>109</th>\n",
              "      <td>0.000066</td>\n",
              "      <td>0.000531</td>\n",
              "      <td>tf_NFKB2</td>\n",
              "    </tr>\n",
              "    <tr>\n",
              "      <th>8</th>\n",
              "      <td>0.000062</td>\n",
              "      <td>0.000270</td>\n",
              "      <td>cs_TxWk</td>\n",
              "    </tr>\n",
              "  </tbody>\n",
              "</table>\n",
              "</div>\n",
              "      <button class=\"colab-df-convert\" onclick=\"convertToInteractive('df-683e5ac1-36d9-427c-87b1-2ae1fcd1dd0c')\"\n",
              "              title=\"Convert this dataframe to an interactive table.\"\n",
              "              style=\"display:none;\">\n",
              "        \n",
              "  <svg xmlns=\"http://www.w3.org/2000/svg\" height=\"24px\"viewBox=\"0 0 24 24\"\n",
              "       width=\"24px\">\n",
              "    <path d=\"M0 0h24v24H0V0z\" fill=\"none\"/>\n",
              "    <path d=\"M18.56 5.44l.94 2.06.94-2.06 2.06-.94-2.06-.94-.94-2.06-.94 2.06-2.06.94zm-11 1L8.5 8.5l.94-2.06 2.06-.94-2.06-.94L8.5 2.5l-.94 2.06-2.06.94zm10 10l.94 2.06.94-2.06 2.06-.94-2.06-.94-.94-2.06-.94 2.06-2.06.94z\"/><path d=\"M17.41 7.96l-1.37-1.37c-.4-.4-.92-.59-1.43-.59-.52 0-1.04.2-1.43.59L10.3 9.45l-7.72 7.72c-.78.78-.78 2.05 0 2.83L4 21.41c.39.39.9.59 1.41.59.51 0 1.02-.2 1.41-.59l7.78-7.78 2.81-2.81c.8-.78.8-2.07 0-2.86zM5.41 20L4 18.59l7.72-7.72 1.47 1.35L5.41 20z\"/>\n",
              "  </svg>\n",
              "      </button>\n",
              "      \n",
              "  <style>\n",
              "    .colab-df-container {\n",
              "      display:flex;\n",
              "      flex-wrap:wrap;\n",
              "      gap: 12px;\n",
              "    }\n",
              "\n",
              "    .colab-df-convert {\n",
              "      background-color: #E8F0FE;\n",
              "      border: none;\n",
              "      border-radius: 50%;\n",
              "      cursor: pointer;\n",
              "      display: none;\n",
              "      fill: #1967D2;\n",
              "      height: 32px;\n",
              "      padding: 0 0 0 0;\n",
              "      width: 32px;\n",
              "    }\n",
              "\n",
              "    .colab-df-convert:hover {\n",
              "      background-color: #E2EBFA;\n",
              "      box-shadow: 0px 1px 2px rgba(60, 64, 67, 0.3), 0px 1px 3px 1px rgba(60, 64, 67, 0.15);\n",
              "      fill: #174EA6;\n",
              "    }\n",
              "\n",
              "    [theme=dark] .colab-df-convert {\n",
              "      background-color: #3B4455;\n",
              "      fill: #D2E3FC;\n",
              "    }\n",
              "\n",
              "    [theme=dark] .colab-df-convert:hover {\n",
              "      background-color: #434B5C;\n",
              "      box-shadow: 0px 1px 3px 1px rgba(0, 0, 0, 0.15);\n",
              "      filter: drop-shadow(0px 1px 2px rgba(0, 0, 0, 0.3));\n",
              "      fill: #FFFFFF;\n",
              "    }\n",
              "  </style>\n",
              "\n",
              "      <script>\n",
              "        const buttonEl =\n",
              "          document.querySelector('#df-683e5ac1-36d9-427c-87b1-2ae1fcd1dd0c button.colab-df-convert');\n",
              "        buttonEl.style.display =\n",
              "          google.colab.kernel.accessAllowed ? 'block' : 'none';\n",
              "\n",
              "        async function convertToInteractive(key) {\n",
              "          const element = document.querySelector('#df-683e5ac1-36d9-427c-87b1-2ae1fcd1dd0c');\n",
              "          const dataTable =\n",
              "            await google.colab.kernel.invokeFunction('convertToInteractive',\n",
              "                                                     [key], {});\n",
              "          if (!dataTable) return;\n",
              "\n",
              "          const docLinkHtml = 'Like what you see? Visit the ' +\n",
              "            '<a target=\"_blank\" href=https://colab.research.google.com/notebooks/data_table.ipynb>data table notebook</a>'\n",
              "            + ' to learn more about interactive tables.';\n",
              "          element.innerHTML = '';\n",
              "          dataTable['output_type'] = 'display_data';\n",
              "          await google.colab.output.renderOutput(dataTable, element);\n",
              "          const docLink = document.createElement('div');\n",
              "          docLink.innerHTML = docLinkHtml;\n",
              "          element.appendChild(docLink);\n",
              "        }\n",
              "      </script>\n",
              "    </div>\n",
              "  </div>\n",
              "  "
            ]
          },
          "metadata": {},
          "execution_count": 36
        }
      ]
    },
    {
      "cell_type": "code",
      "source": [
        "attributions5000.nsmallest(n=15, columns=['mean'])"
      ],
      "metadata": {
        "colab": {
          "base_uri": "https://localhost:8080/",
          "height": 520
        },
        "id": "gejE5kO0e3ex",
        "outputId": "41f405ef-c9de-4d48-e993-7e4a36ea9ff3"
      },
      "execution_count": null,
      "outputs": [
        {
          "output_type": "execute_result",
          "data": {
            "text/plain": [
              "         mean       std      factors\n",
              "29  -0.000049  0.000346  his_H3K4me1\n",
              "79  -0.000046  0.000467   tf_Epitope\n",
              "62  -0.000017  0.000252      tf_CTCF\n",
              "39  -0.000010  0.000147      pol_RNA\n",
              "125 -0.000009  0.000163      tf_RELB\n",
              "22  -0.000007  0.000119    his_H2A.Z\n",
              "124 -0.000005  0.000123      tf_RELA\n",
              "162 -0.000005  0.000121      tf_ZEB1\n",
              "137 -0.000004  0.000077       tf_SP1\n",
              "155 -0.000002  0.000090      tf_USF1\n",
              "114 -0.000002  0.000059     tf_NR3C1\n",
              "96  -0.000002  0.000048      tf_MED1\n",
              "65  -0.000002  0.000074      tf_E2F1\n",
              "141 -0.000001  0.000073       tf_SRF\n",
              "160 -0.000001  0.000076       tf_YY1"
            ],
            "text/html": [
              "\n",
              "  <div id=\"df-efccbda8-fc74-40ac-9a1d-5a487b9d3924\">\n",
              "    <div class=\"colab-df-container\">\n",
              "      <div>\n",
              "<style scoped>\n",
              "    .dataframe tbody tr th:only-of-type {\n",
              "        vertical-align: middle;\n",
              "    }\n",
              "\n",
              "    .dataframe tbody tr th {\n",
              "        vertical-align: top;\n",
              "    }\n",
              "\n",
              "    .dataframe thead th {\n",
              "        text-align: right;\n",
              "    }\n",
              "</style>\n",
              "<table border=\"1\" class=\"dataframe\">\n",
              "  <thead>\n",
              "    <tr style=\"text-align: right;\">\n",
              "      <th></th>\n",
              "      <th>mean</th>\n",
              "      <th>std</th>\n",
              "      <th>factors</th>\n",
              "    </tr>\n",
              "  </thead>\n",
              "  <tbody>\n",
              "    <tr>\n",
              "      <th>29</th>\n",
              "      <td>-0.000049</td>\n",
              "      <td>0.000346</td>\n",
              "      <td>his_H3K4me1</td>\n",
              "    </tr>\n",
              "    <tr>\n",
              "      <th>79</th>\n",
              "      <td>-0.000046</td>\n",
              "      <td>0.000467</td>\n",
              "      <td>tf_Epitope</td>\n",
              "    </tr>\n",
              "    <tr>\n",
              "      <th>62</th>\n",
              "      <td>-0.000017</td>\n",
              "      <td>0.000252</td>\n",
              "      <td>tf_CTCF</td>\n",
              "    </tr>\n",
              "    <tr>\n",
              "      <th>39</th>\n",
              "      <td>-0.000010</td>\n",
              "      <td>0.000147</td>\n",
              "      <td>pol_RNA</td>\n",
              "    </tr>\n",
              "    <tr>\n",
              "      <th>125</th>\n",
              "      <td>-0.000009</td>\n",
              "      <td>0.000163</td>\n",
              "      <td>tf_RELB</td>\n",
              "    </tr>\n",
              "    <tr>\n",
              "      <th>22</th>\n",
              "      <td>-0.000007</td>\n",
              "      <td>0.000119</td>\n",
              "      <td>his_H2A.Z</td>\n",
              "    </tr>\n",
              "    <tr>\n",
              "      <th>124</th>\n",
              "      <td>-0.000005</td>\n",
              "      <td>0.000123</td>\n",
              "      <td>tf_RELA</td>\n",
              "    </tr>\n",
              "    <tr>\n",
              "      <th>162</th>\n",
              "      <td>-0.000005</td>\n",
              "      <td>0.000121</td>\n",
              "      <td>tf_ZEB1</td>\n",
              "    </tr>\n",
              "    <tr>\n",
              "      <th>137</th>\n",
              "      <td>-0.000004</td>\n",
              "      <td>0.000077</td>\n",
              "      <td>tf_SP1</td>\n",
              "    </tr>\n",
              "    <tr>\n",
              "      <th>155</th>\n",
              "      <td>-0.000002</td>\n",
              "      <td>0.000090</td>\n",
              "      <td>tf_USF1</td>\n",
              "    </tr>\n",
              "    <tr>\n",
              "      <th>114</th>\n",
              "      <td>-0.000002</td>\n",
              "      <td>0.000059</td>\n",
              "      <td>tf_NR3C1</td>\n",
              "    </tr>\n",
              "    <tr>\n",
              "      <th>96</th>\n",
              "      <td>-0.000002</td>\n",
              "      <td>0.000048</td>\n",
              "      <td>tf_MED1</td>\n",
              "    </tr>\n",
              "    <tr>\n",
              "      <th>65</th>\n",
              "      <td>-0.000002</td>\n",
              "      <td>0.000074</td>\n",
              "      <td>tf_E2F1</td>\n",
              "    </tr>\n",
              "    <tr>\n",
              "      <th>141</th>\n",
              "      <td>-0.000001</td>\n",
              "      <td>0.000073</td>\n",
              "      <td>tf_SRF</td>\n",
              "    </tr>\n",
              "    <tr>\n",
              "      <th>160</th>\n",
              "      <td>-0.000001</td>\n",
              "      <td>0.000076</td>\n",
              "      <td>tf_YY1</td>\n",
              "    </tr>\n",
              "  </tbody>\n",
              "</table>\n",
              "</div>\n",
              "      <button class=\"colab-df-convert\" onclick=\"convertToInteractive('df-efccbda8-fc74-40ac-9a1d-5a487b9d3924')\"\n",
              "              title=\"Convert this dataframe to an interactive table.\"\n",
              "              style=\"display:none;\">\n",
              "        \n",
              "  <svg xmlns=\"http://www.w3.org/2000/svg\" height=\"24px\"viewBox=\"0 0 24 24\"\n",
              "       width=\"24px\">\n",
              "    <path d=\"M0 0h24v24H0V0z\" fill=\"none\"/>\n",
              "    <path d=\"M18.56 5.44l.94 2.06.94-2.06 2.06-.94-2.06-.94-.94-2.06-.94 2.06-2.06.94zm-11 1L8.5 8.5l.94-2.06 2.06-.94-2.06-.94L8.5 2.5l-.94 2.06-2.06.94zm10 10l.94 2.06.94-2.06 2.06-.94-2.06-.94-.94-2.06-.94 2.06-2.06.94z\"/><path d=\"M17.41 7.96l-1.37-1.37c-.4-.4-.92-.59-1.43-.59-.52 0-1.04.2-1.43.59L10.3 9.45l-7.72 7.72c-.78.78-.78 2.05 0 2.83L4 21.41c.39.39.9.59 1.41.59.51 0 1.02-.2 1.41-.59l7.78-7.78 2.81-2.81c.8-.78.8-2.07 0-2.86zM5.41 20L4 18.59l7.72-7.72 1.47 1.35L5.41 20z\"/>\n",
              "  </svg>\n",
              "      </button>\n",
              "      \n",
              "  <style>\n",
              "    .colab-df-container {\n",
              "      display:flex;\n",
              "      flex-wrap:wrap;\n",
              "      gap: 12px;\n",
              "    }\n",
              "\n",
              "    .colab-df-convert {\n",
              "      background-color: #E8F0FE;\n",
              "      border: none;\n",
              "      border-radius: 50%;\n",
              "      cursor: pointer;\n",
              "      display: none;\n",
              "      fill: #1967D2;\n",
              "      height: 32px;\n",
              "      padding: 0 0 0 0;\n",
              "      width: 32px;\n",
              "    }\n",
              "\n",
              "    .colab-df-convert:hover {\n",
              "      background-color: #E2EBFA;\n",
              "      box-shadow: 0px 1px 2px rgba(60, 64, 67, 0.3), 0px 1px 3px 1px rgba(60, 64, 67, 0.15);\n",
              "      fill: #174EA6;\n",
              "    }\n",
              "\n",
              "    [theme=dark] .colab-df-convert {\n",
              "      background-color: #3B4455;\n",
              "      fill: #D2E3FC;\n",
              "    }\n",
              "\n",
              "    [theme=dark] .colab-df-convert:hover {\n",
              "      background-color: #434B5C;\n",
              "      box-shadow: 0px 1px 3px 1px rgba(0, 0, 0, 0.15);\n",
              "      filter: drop-shadow(0px 1px 2px rgba(0, 0, 0, 0.3));\n",
              "      fill: #FFFFFF;\n",
              "    }\n",
              "  </style>\n",
              "\n",
              "      <script>\n",
              "        const buttonEl =\n",
              "          document.querySelector('#df-efccbda8-fc74-40ac-9a1d-5a487b9d3924 button.colab-df-convert');\n",
              "        buttonEl.style.display =\n",
              "          google.colab.kernel.accessAllowed ? 'block' : 'none';\n",
              "\n",
              "        async function convertToInteractive(key) {\n",
              "          const element = document.querySelector('#df-efccbda8-fc74-40ac-9a1d-5a487b9d3924');\n",
              "          const dataTable =\n",
              "            await google.colab.kernel.invokeFunction('convertToInteractive',\n",
              "                                                     [key], {});\n",
              "          if (!dataTable) return;\n",
              "\n",
              "          const docLinkHtml = 'Like what you see? Visit the ' +\n",
              "            '<a target=\"_blank\" href=https://colab.research.google.com/notebooks/data_table.ipynb>data table notebook</a>'\n",
              "            + ' to learn more about interactive tables.';\n",
              "          element.innerHTML = '';\n",
              "          dataTable['output_type'] = 'display_data';\n",
              "          await google.colab.output.renderOutput(dataTable, element);\n",
              "          const docLink = document.createElement('div');\n",
              "          docLink.innerHTML = docLinkHtml;\n",
              "          element.appendChild(docLink);\n",
              "        }\n",
              "      </script>\n",
              "    </div>\n",
              "  </div>\n",
              "  "
            ]
          },
          "metadata": {},
          "execution_count": 37
        }
      ]
    },
    {
      "cell_type": "code",
      "source": [
        "attributions5000.to_csv('/content/drive/MyDrive/Triplexes/importance/attributions5000.scv')"
      ],
      "metadata": {
        "id": "ao8BPJ-bfMB5"
      },
      "execution_count": null,
      "outputs": []
    },
    {
      "cell_type": "markdown",
      "source": [
        "Similar assessments have been made using 1000, 2500, 7500 background samples."
      ],
      "metadata": {
        "id": "2k0U9B_eqUDp"
      }
    },
    {
      "cell_type": "markdown",
      "source": [
        "## Shap with X_train as background samples"
      ],
      "metadata": {
        "id": "qTWQQPiTSUc-"
      }
    },
    {
      "cell_type": "code",
      "source": [
        "explainer = shap.DeepExplainer(model, X_train)\n",
        "shap_values = explainer.shap_values(X_test[indx_pos_test[0]])"
      ],
      "metadata": {
        "id": "mdzZZRYBSUc_"
      },
      "execution_count": null,
      "outputs": []
    },
    {
      "cell_type": "code",
      "source": [
        "# feature attributions\n",
        "attributions = []\n",
        "for i in range(len(shap_values[0][0][0])):\n",
        "  attribution = []\n",
        "  for sample in shap_values[0]:\n",
        "    for position in sample:\n",
        "      attribution.append(position[i])\n",
        "  attributions.append((np.mean(attribution), np.std(attribution)))\n",
        "  \n",
        "attributions = pd.DataFrame(attributions)\n",
        "attributions.columns = ['mean', 'std']\n",
        "\n",
        "factors = ['nuc_A', 'nuc_C', 'nuc_T', 'nuc_G']\n",
        "factors.extend(States_features)\n",
        "factors.extend(Omics_features)\n",
        "factors.append('tad')\n",
        "attributions['factors'] = factors\n",
        "\n",
        "attributions.nlargest(n=15, columns=['mean'])"
      ],
      "metadata": {
        "colab": {
          "base_uri": "https://localhost:8080/",
          "height": 520
        },
        "outputId": "6b40039a-620a-401f-d85d-2721cc241b35",
        "id": "s_xeyhEmSUdA"
      },
      "execution_count": null,
      "outputs": [
        {
          "output_type": "execute_result",
          "data": {
            "text/plain": [
              "         mean       std        factors\n",
              "0    0.003506  0.004392          nuc_A\n",
              "3    0.003396  0.004271          nuc_G\n",
              "2    0.002556  0.003843          nuc_T\n",
              "1    0.002398  0.003799          nuc_C\n",
              "27   0.000580  0.001819   his_H3K27me3\n",
              "14   0.000297  0.000772      cs_TssBiv\n",
              "13   0.000271  0.000750      cs_EnhBiv\n",
              "31   0.000229  0.000731    his_H3K4me3\n",
              "4    0.000211  0.000820       cs_EnhA2\n",
              "9    0.000090  0.000472        cs_TssA\n",
              "109  0.000081  0.000583       tf_NFKB2\n",
              "40   0.000043  0.000268  dns_DNase-Seq\n",
              "95   0.000038  0.000431         tf_MAZ\n",
              "12   0.000038  0.000292      cs_ReprPC\n",
              "10   0.000034  0.000278    cs_ReprPCWk"
            ],
            "text/html": [
              "\n",
              "  <div id=\"df-4cc95539-652a-4ddf-83a0-acbf7a2c95b9\">\n",
              "    <div class=\"colab-df-container\">\n",
              "      <div>\n",
              "<style scoped>\n",
              "    .dataframe tbody tr th:only-of-type {\n",
              "        vertical-align: middle;\n",
              "    }\n",
              "\n",
              "    .dataframe tbody tr th {\n",
              "        vertical-align: top;\n",
              "    }\n",
              "\n",
              "    .dataframe thead th {\n",
              "        text-align: right;\n",
              "    }\n",
              "</style>\n",
              "<table border=\"1\" class=\"dataframe\">\n",
              "  <thead>\n",
              "    <tr style=\"text-align: right;\">\n",
              "      <th></th>\n",
              "      <th>mean</th>\n",
              "      <th>std</th>\n",
              "      <th>factors</th>\n",
              "    </tr>\n",
              "  </thead>\n",
              "  <tbody>\n",
              "    <tr>\n",
              "      <th>0</th>\n",
              "      <td>0.003506</td>\n",
              "      <td>0.004392</td>\n",
              "      <td>nuc_A</td>\n",
              "    </tr>\n",
              "    <tr>\n",
              "      <th>3</th>\n",
              "      <td>0.003396</td>\n",
              "      <td>0.004271</td>\n",
              "      <td>nuc_G</td>\n",
              "    </tr>\n",
              "    <tr>\n",
              "      <th>2</th>\n",
              "      <td>0.002556</td>\n",
              "      <td>0.003843</td>\n",
              "      <td>nuc_T</td>\n",
              "    </tr>\n",
              "    <tr>\n",
              "      <th>1</th>\n",
              "      <td>0.002398</td>\n",
              "      <td>0.003799</td>\n",
              "      <td>nuc_C</td>\n",
              "    </tr>\n",
              "    <tr>\n",
              "      <th>27</th>\n",
              "      <td>0.000580</td>\n",
              "      <td>0.001819</td>\n",
              "      <td>his_H3K27me3</td>\n",
              "    </tr>\n",
              "    <tr>\n",
              "      <th>14</th>\n",
              "      <td>0.000297</td>\n",
              "      <td>0.000772</td>\n",
              "      <td>cs_TssBiv</td>\n",
              "    </tr>\n",
              "    <tr>\n",
              "      <th>13</th>\n",
              "      <td>0.000271</td>\n",
              "      <td>0.000750</td>\n",
              "      <td>cs_EnhBiv</td>\n",
              "    </tr>\n",
              "    <tr>\n",
              "      <th>31</th>\n",
              "      <td>0.000229</td>\n",
              "      <td>0.000731</td>\n",
              "      <td>his_H3K4me3</td>\n",
              "    </tr>\n",
              "    <tr>\n",
              "      <th>4</th>\n",
              "      <td>0.000211</td>\n",
              "      <td>0.000820</td>\n",
              "      <td>cs_EnhA2</td>\n",
              "    </tr>\n",
              "    <tr>\n",
              "      <th>9</th>\n",
              "      <td>0.000090</td>\n",
              "      <td>0.000472</td>\n",
              "      <td>cs_TssA</td>\n",
              "    </tr>\n",
              "    <tr>\n",
              "      <th>109</th>\n",
              "      <td>0.000081</td>\n",
              "      <td>0.000583</td>\n",
              "      <td>tf_NFKB2</td>\n",
              "    </tr>\n",
              "    <tr>\n",
              "      <th>40</th>\n",
              "      <td>0.000043</td>\n",
              "      <td>0.000268</td>\n",
              "      <td>dns_DNase-Seq</td>\n",
              "    </tr>\n",
              "    <tr>\n",
              "      <th>95</th>\n",
              "      <td>0.000038</td>\n",
              "      <td>0.000431</td>\n",
              "      <td>tf_MAZ</td>\n",
              "    </tr>\n",
              "    <tr>\n",
              "      <th>12</th>\n",
              "      <td>0.000038</td>\n",
              "      <td>0.000292</td>\n",
              "      <td>cs_ReprPC</td>\n",
              "    </tr>\n",
              "    <tr>\n",
              "      <th>10</th>\n",
              "      <td>0.000034</td>\n",
              "      <td>0.000278</td>\n",
              "      <td>cs_ReprPCWk</td>\n",
              "    </tr>\n",
              "  </tbody>\n",
              "</table>\n",
              "</div>\n",
              "      <button class=\"colab-df-convert\" onclick=\"convertToInteractive('df-4cc95539-652a-4ddf-83a0-acbf7a2c95b9')\"\n",
              "              title=\"Convert this dataframe to an interactive table.\"\n",
              "              style=\"display:none;\">\n",
              "        \n",
              "  <svg xmlns=\"http://www.w3.org/2000/svg\" height=\"24px\"viewBox=\"0 0 24 24\"\n",
              "       width=\"24px\">\n",
              "    <path d=\"M0 0h24v24H0V0z\" fill=\"none\"/>\n",
              "    <path d=\"M18.56 5.44l.94 2.06.94-2.06 2.06-.94-2.06-.94-.94-2.06-.94 2.06-2.06.94zm-11 1L8.5 8.5l.94-2.06 2.06-.94-2.06-.94L8.5 2.5l-.94 2.06-2.06.94zm10 10l.94 2.06.94-2.06 2.06-.94-2.06-.94-.94-2.06-.94 2.06-2.06.94z\"/><path d=\"M17.41 7.96l-1.37-1.37c-.4-.4-.92-.59-1.43-.59-.52 0-1.04.2-1.43.59L10.3 9.45l-7.72 7.72c-.78.78-.78 2.05 0 2.83L4 21.41c.39.39.9.59 1.41.59.51 0 1.02-.2 1.41-.59l7.78-7.78 2.81-2.81c.8-.78.8-2.07 0-2.86zM5.41 20L4 18.59l7.72-7.72 1.47 1.35L5.41 20z\"/>\n",
              "  </svg>\n",
              "      </button>\n",
              "      \n",
              "  <style>\n",
              "    .colab-df-container {\n",
              "      display:flex;\n",
              "      flex-wrap:wrap;\n",
              "      gap: 12px;\n",
              "    }\n",
              "\n",
              "    .colab-df-convert {\n",
              "      background-color: #E8F0FE;\n",
              "      border: none;\n",
              "      border-radius: 50%;\n",
              "      cursor: pointer;\n",
              "      display: none;\n",
              "      fill: #1967D2;\n",
              "      height: 32px;\n",
              "      padding: 0 0 0 0;\n",
              "      width: 32px;\n",
              "    }\n",
              "\n",
              "    .colab-df-convert:hover {\n",
              "      background-color: #E2EBFA;\n",
              "      box-shadow: 0px 1px 2px rgba(60, 64, 67, 0.3), 0px 1px 3px 1px rgba(60, 64, 67, 0.15);\n",
              "      fill: #174EA6;\n",
              "    }\n",
              "\n",
              "    [theme=dark] .colab-df-convert {\n",
              "      background-color: #3B4455;\n",
              "      fill: #D2E3FC;\n",
              "    }\n",
              "\n",
              "    [theme=dark] .colab-df-convert:hover {\n",
              "      background-color: #434B5C;\n",
              "      box-shadow: 0px 1px 3px 1px rgba(0, 0, 0, 0.15);\n",
              "      filter: drop-shadow(0px 1px 2px rgba(0, 0, 0, 0.3));\n",
              "      fill: #FFFFFF;\n",
              "    }\n",
              "  </style>\n",
              "\n",
              "      <script>\n",
              "        const buttonEl =\n",
              "          document.querySelector('#df-4cc95539-652a-4ddf-83a0-acbf7a2c95b9 button.colab-df-convert');\n",
              "        buttonEl.style.display =\n",
              "          google.colab.kernel.accessAllowed ? 'block' : 'none';\n",
              "\n",
              "        async function convertToInteractive(key) {\n",
              "          const element = document.querySelector('#df-4cc95539-652a-4ddf-83a0-acbf7a2c95b9');\n",
              "          const dataTable =\n",
              "            await google.colab.kernel.invokeFunction('convertToInteractive',\n",
              "                                                     [key], {});\n",
              "          if (!dataTable) return;\n",
              "\n",
              "          const docLinkHtml = 'Like what you see? Visit the ' +\n",
              "            '<a target=\"_blank\" href=https://colab.research.google.com/notebooks/data_table.ipynb>data table notebook</a>'\n",
              "            + ' to learn more about interactive tables.';\n",
              "          element.innerHTML = '';\n",
              "          dataTable['output_type'] = 'display_data';\n",
              "          await google.colab.output.renderOutput(dataTable, element);\n",
              "          const docLink = document.createElement('div');\n",
              "          docLink.innerHTML = docLinkHtml;\n",
              "          element.appendChild(docLink);\n",
              "        }\n",
              "      </script>\n",
              "    </div>\n",
              "  </div>\n",
              "  "
            ]
          },
          "metadata": {},
          "execution_count": 31
        }
      ]
    },
    {
      "cell_type": "code",
      "source": [
        "attributions.nsmallest(n=15, columns=['mean'])"
      ],
      "metadata": {
        "colab": {
          "base_uri": "https://localhost:8080/",
          "height": 520
        },
        "outputId": "1ee389ff-37b6-4283-8a7e-4587a9b09dd3",
        "id": "MlP2W_mZSUdB"
      },
      "execution_count": null,
      "outputs": [
        {
          "output_type": "execute_result",
          "data": {
            "text/plain": [
              "         mean       std      factors\n",
              "29  -0.000078  0.000487  his_H3K4me1\n",
              "79  -0.000049  0.000435   tf_Epitope\n",
              "6   -0.000033  0.000335     cs_EnhWk\n",
              "26  -0.000029  0.000245  his_H3K27ac\n",
              "62  -0.000019  0.000305      tf_CTCF\n",
              "39  -0.000010  0.000167      pol_RNA\n",
              "16  -0.000008  0.000296  cs_ZNF-Rpts\n",
              "18  -0.000007  0.000210        cs_Tx\n",
              "22  -0.000006  0.000122    his_H2A.Z\n",
              "84  -0.000006  0.000179     tf_GABPA\n",
              "115 -0.000005  0.000158      tf_NRF1\n",
              "96  -0.000004  0.000106      tf_MED1\n",
              "38  -0.000003  0.000147   pol_POLR2B\n",
              "35  -0.000003  0.000062     his_H3ac\n",
              "155 -0.000003  0.000113      tf_USF1"
            ],
            "text/html": [
              "\n",
              "  <div id=\"df-f1408fa7-d742-4f9c-aadf-bb56febbb046\">\n",
              "    <div class=\"colab-df-container\">\n",
              "      <div>\n",
              "<style scoped>\n",
              "    .dataframe tbody tr th:only-of-type {\n",
              "        vertical-align: middle;\n",
              "    }\n",
              "\n",
              "    .dataframe tbody tr th {\n",
              "        vertical-align: top;\n",
              "    }\n",
              "\n",
              "    .dataframe thead th {\n",
              "        text-align: right;\n",
              "    }\n",
              "</style>\n",
              "<table border=\"1\" class=\"dataframe\">\n",
              "  <thead>\n",
              "    <tr style=\"text-align: right;\">\n",
              "      <th></th>\n",
              "      <th>mean</th>\n",
              "      <th>std</th>\n",
              "      <th>factors</th>\n",
              "    </tr>\n",
              "  </thead>\n",
              "  <tbody>\n",
              "    <tr>\n",
              "      <th>29</th>\n",
              "      <td>-0.000078</td>\n",
              "      <td>0.000487</td>\n",
              "      <td>his_H3K4me1</td>\n",
              "    </tr>\n",
              "    <tr>\n",
              "      <th>79</th>\n",
              "      <td>-0.000049</td>\n",
              "      <td>0.000435</td>\n",
              "      <td>tf_Epitope</td>\n",
              "    </tr>\n",
              "    <tr>\n",
              "      <th>6</th>\n",
              "      <td>-0.000033</td>\n",
              "      <td>0.000335</td>\n",
              "      <td>cs_EnhWk</td>\n",
              "    </tr>\n",
              "    <tr>\n",
              "      <th>26</th>\n",
              "      <td>-0.000029</td>\n",
              "      <td>0.000245</td>\n",
              "      <td>his_H3K27ac</td>\n",
              "    </tr>\n",
              "    <tr>\n",
              "      <th>62</th>\n",
              "      <td>-0.000019</td>\n",
              "      <td>0.000305</td>\n",
              "      <td>tf_CTCF</td>\n",
              "    </tr>\n",
              "    <tr>\n",
              "      <th>39</th>\n",
              "      <td>-0.000010</td>\n",
              "      <td>0.000167</td>\n",
              "      <td>pol_RNA</td>\n",
              "    </tr>\n",
              "    <tr>\n",
              "      <th>16</th>\n",
              "      <td>-0.000008</td>\n",
              "      <td>0.000296</td>\n",
              "      <td>cs_ZNF-Rpts</td>\n",
              "    </tr>\n",
              "    <tr>\n",
              "      <th>18</th>\n",
              "      <td>-0.000007</td>\n",
              "      <td>0.000210</td>\n",
              "      <td>cs_Tx</td>\n",
              "    </tr>\n",
              "    <tr>\n",
              "      <th>22</th>\n",
              "      <td>-0.000006</td>\n",
              "      <td>0.000122</td>\n",
              "      <td>his_H2A.Z</td>\n",
              "    </tr>\n",
              "    <tr>\n",
              "      <th>84</th>\n",
              "      <td>-0.000006</td>\n",
              "      <td>0.000179</td>\n",
              "      <td>tf_GABPA</td>\n",
              "    </tr>\n",
              "    <tr>\n",
              "      <th>115</th>\n",
              "      <td>-0.000005</td>\n",
              "      <td>0.000158</td>\n",
              "      <td>tf_NRF1</td>\n",
              "    </tr>\n",
              "    <tr>\n",
              "      <th>96</th>\n",
              "      <td>-0.000004</td>\n",
              "      <td>0.000106</td>\n",
              "      <td>tf_MED1</td>\n",
              "    </tr>\n",
              "    <tr>\n",
              "      <th>38</th>\n",
              "      <td>-0.000003</td>\n",
              "      <td>0.000147</td>\n",
              "      <td>pol_POLR2B</td>\n",
              "    </tr>\n",
              "    <tr>\n",
              "      <th>35</th>\n",
              "      <td>-0.000003</td>\n",
              "      <td>0.000062</td>\n",
              "      <td>his_H3ac</td>\n",
              "    </tr>\n",
              "    <tr>\n",
              "      <th>155</th>\n",
              "      <td>-0.000003</td>\n",
              "      <td>0.000113</td>\n",
              "      <td>tf_USF1</td>\n",
              "    </tr>\n",
              "  </tbody>\n",
              "</table>\n",
              "</div>\n",
              "      <button class=\"colab-df-convert\" onclick=\"convertToInteractive('df-f1408fa7-d742-4f9c-aadf-bb56febbb046')\"\n",
              "              title=\"Convert this dataframe to an interactive table.\"\n",
              "              style=\"display:none;\">\n",
              "        \n",
              "  <svg xmlns=\"http://www.w3.org/2000/svg\" height=\"24px\"viewBox=\"0 0 24 24\"\n",
              "       width=\"24px\">\n",
              "    <path d=\"M0 0h24v24H0V0z\" fill=\"none\"/>\n",
              "    <path d=\"M18.56 5.44l.94 2.06.94-2.06 2.06-.94-2.06-.94-.94-2.06-.94 2.06-2.06.94zm-11 1L8.5 8.5l.94-2.06 2.06-.94-2.06-.94L8.5 2.5l-.94 2.06-2.06.94zm10 10l.94 2.06.94-2.06 2.06-.94-2.06-.94-.94-2.06-.94 2.06-2.06.94z\"/><path d=\"M17.41 7.96l-1.37-1.37c-.4-.4-.92-.59-1.43-.59-.52 0-1.04.2-1.43.59L10.3 9.45l-7.72 7.72c-.78.78-.78 2.05 0 2.83L4 21.41c.39.39.9.59 1.41.59.51 0 1.02-.2 1.41-.59l7.78-7.78 2.81-2.81c.8-.78.8-2.07 0-2.86zM5.41 20L4 18.59l7.72-7.72 1.47 1.35L5.41 20z\"/>\n",
              "  </svg>\n",
              "      </button>\n",
              "      \n",
              "  <style>\n",
              "    .colab-df-container {\n",
              "      display:flex;\n",
              "      flex-wrap:wrap;\n",
              "      gap: 12px;\n",
              "    }\n",
              "\n",
              "    .colab-df-convert {\n",
              "      background-color: #E8F0FE;\n",
              "      border: none;\n",
              "      border-radius: 50%;\n",
              "      cursor: pointer;\n",
              "      display: none;\n",
              "      fill: #1967D2;\n",
              "      height: 32px;\n",
              "      padding: 0 0 0 0;\n",
              "      width: 32px;\n",
              "    }\n",
              "\n",
              "    .colab-df-convert:hover {\n",
              "      background-color: #E2EBFA;\n",
              "      box-shadow: 0px 1px 2px rgba(60, 64, 67, 0.3), 0px 1px 3px 1px rgba(60, 64, 67, 0.15);\n",
              "      fill: #174EA6;\n",
              "    }\n",
              "\n",
              "    [theme=dark] .colab-df-convert {\n",
              "      background-color: #3B4455;\n",
              "      fill: #D2E3FC;\n",
              "    }\n",
              "\n",
              "    [theme=dark] .colab-df-convert:hover {\n",
              "      background-color: #434B5C;\n",
              "      box-shadow: 0px 1px 3px 1px rgba(0, 0, 0, 0.15);\n",
              "      filter: drop-shadow(0px 1px 2px rgba(0, 0, 0, 0.3));\n",
              "      fill: #FFFFFF;\n",
              "    }\n",
              "  </style>\n",
              "\n",
              "      <script>\n",
              "        const buttonEl =\n",
              "          document.querySelector('#df-f1408fa7-d742-4f9c-aadf-bb56febbb046 button.colab-df-convert');\n",
              "        buttonEl.style.display =\n",
              "          google.colab.kernel.accessAllowed ? 'block' : 'none';\n",
              "\n",
              "        async function convertToInteractive(key) {\n",
              "          const element = document.querySelector('#df-f1408fa7-d742-4f9c-aadf-bb56febbb046');\n",
              "          const dataTable =\n",
              "            await google.colab.kernel.invokeFunction('convertToInteractive',\n",
              "                                                     [key], {});\n",
              "          if (!dataTable) return;\n",
              "\n",
              "          const docLinkHtml = 'Like what you see? Visit the ' +\n",
              "            '<a target=\"_blank\" href=https://colab.research.google.com/notebooks/data_table.ipynb>data table notebook</a>'\n",
              "            + ' to learn more about interactive tables.';\n",
              "          element.innerHTML = '';\n",
              "          dataTable['output_type'] = 'display_data';\n",
              "          await google.colab.output.renderOutput(dataTable, element);\n",
              "          const docLink = document.createElement('div');\n",
              "          docLink.innerHTML = docLinkHtml;\n",
              "          element.appendChild(docLink);\n",
              "        }\n",
              "      </script>\n",
              "    </div>\n",
              "  </div>\n",
              "  "
            ]
          },
          "metadata": {},
          "execution_count": 32
        }
      ]
    },
    {
      "cell_type": "code",
      "source": [
        "attributions.to_csv('/content/drive/MyDrive/Triplexes/importance/attributionsTrain2.scv')"
      ],
      "metadata": {
        "id": "-5GnWRsqpfMn"
      },
      "execution_count": null,
      "outputs": []
    },
    {
      "cell_type": "markdown",
      "source": [
        "## Shap with X_test as background samples"
      ],
      "metadata": {
        "id": "3n9YzdtR0gjl"
      }
    },
    {
      "cell_type": "code",
      "source": [
        "explainer = shap.DeepExplainer(model, X_test)\n",
        "shap_values = explainer.shap_values(X_test[indx_pos[0]])"
      ],
      "metadata": {
        "id": "KUN9RUUE0gjn"
      },
      "execution_count": null,
      "outputs": []
    },
    {
      "cell_type": "code",
      "source": [
        "# feature attributions\n",
        "attributions = []\n",
        "for i in range(len(shap_values[0][0][0])):\n",
        "  attribution = []\n",
        "  for sample in shap_values[0]:\n",
        "    for position in sample:\n",
        "      attribution.append(position[i])\n",
        "  attributions.append((np.mean(attribution), np.std(attribution)))\n",
        "  \n",
        "attributions = pd.DataFrame(attributions)\n",
        "attributions.columns = ['mean', 'std']\n",
        "\n",
        "factors = ['nuc_A', 'nuc_C', 'nuc_T', 'nuc_G']\n",
        "factors.extend(States_features)\n",
        "factors.extend(Omics_features)\n",
        "factors.append('tad')\n",
        "attributions['factors'] = factors\n",
        "\n",
        "attributions.nlargest(n=15, columns=['mean'])"
      ],
      "metadata": {
        "colab": {
          "base_uri": "https://localhost:8080/",
          "height": 520
        },
        "outputId": "ac83b64c-9bc9-4575-8380-acbc9b4bcf97",
        "id": "06AbGgmH0gjr"
      },
      "execution_count": null,
      "outputs": [
        {
          "output_type": "execute_result",
          "data": {
            "text/plain": [
              "        mean       std        factors\n",
              "3   0.003238  0.004438          nuc_G\n",
              "0   0.003160  0.004125          nuc_A\n",
              "1   0.002580  0.003965          nuc_C\n",
              "2   0.002506  0.003991          nuc_T\n",
              "27  0.000588  0.001916   his_H3K27me3\n",
              "13  0.000309  0.000862      cs_EnhBiv\n",
              "14  0.000258  0.000741      cs_TssBiv\n",
              "31  0.000170  0.000571    his_H3K4me3\n",
              "4   0.000133  0.000429       cs_EnhA2\n",
              "9   0.000083  0.000355        cs_TssA\n",
              "5   0.000071  0.000334     cs_TssFlnk\n",
              "10  0.000071  0.000323    cs_ReprPCWk\n",
              "8   0.000067  0.000269        cs_TxWk\n",
              "7   0.000044  0.000285    cs_TssFlnkD\n",
              "40  0.000041  0.000250  dns_DNase-Seq"
            ],
            "text/html": [
              "\n",
              "  <div id=\"df-170704b1-cc20-4a32-9510-7ca37d94eb04\">\n",
              "    <div class=\"colab-df-container\">\n",
              "      <div>\n",
              "<style scoped>\n",
              "    .dataframe tbody tr th:only-of-type {\n",
              "        vertical-align: middle;\n",
              "    }\n",
              "\n",
              "    .dataframe tbody tr th {\n",
              "        vertical-align: top;\n",
              "    }\n",
              "\n",
              "    .dataframe thead th {\n",
              "        text-align: right;\n",
              "    }\n",
              "</style>\n",
              "<table border=\"1\" class=\"dataframe\">\n",
              "  <thead>\n",
              "    <tr style=\"text-align: right;\">\n",
              "      <th></th>\n",
              "      <th>mean</th>\n",
              "      <th>std</th>\n",
              "      <th>factors</th>\n",
              "    </tr>\n",
              "  </thead>\n",
              "  <tbody>\n",
              "    <tr>\n",
              "      <th>3</th>\n",
              "      <td>0.003238</td>\n",
              "      <td>0.004438</td>\n",
              "      <td>nuc_G</td>\n",
              "    </tr>\n",
              "    <tr>\n",
              "      <th>0</th>\n",
              "      <td>0.003160</td>\n",
              "      <td>0.004125</td>\n",
              "      <td>nuc_A</td>\n",
              "    </tr>\n",
              "    <tr>\n",
              "      <th>1</th>\n",
              "      <td>0.002580</td>\n",
              "      <td>0.003965</td>\n",
              "      <td>nuc_C</td>\n",
              "    </tr>\n",
              "    <tr>\n",
              "      <th>2</th>\n",
              "      <td>0.002506</td>\n",
              "      <td>0.003991</td>\n",
              "      <td>nuc_T</td>\n",
              "    </tr>\n",
              "    <tr>\n",
              "      <th>27</th>\n",
              "      <td>0.000588</td>\n",
              "      <td>0.001916</td>\n",
              "      <td>his_H3K27me3</td>\n",
              "    </tr>\n",
              "    <tr>\n",
              "      <th>13</th>\n",
              "      <td>0.000309</td>\n",
              "      <td>0.000862</td>\n",
              "      <td>cs_EnhBiv</td>\n",
              "    </tr>\n",
              "    <tr>\n",
              "      <th>14</th>\n",
              "      <td>0.000258</td>\n",
              "      <td>0.000741</td>\n",
              "      <td>cs_TssBiv</td>\n",
              "    </tr>\n",
              "    <tr>\n",
              "      <th>31</th>\n",
              "      <td>0.000170</td>\n",
              "      <td>0.000571</td>\n",
              "      <td>his_H3K4me3</td>\n",
              "    </tr>\n",
              "    <tr>\n",
              "      <th>4</th>\n",
              "      <td>0.000133</td>\n",
              "      <td>0.000429</td>\n",
              "      <td>cs_EnhA2</td>\n",
              "    </tr>\n",
              "    <tr>\n",
              "      <th>9</th>\n",
              "      <td>0.000083</td>\n",
              "      <td>0.000355</td>\n",
              "      <td>cs_TssA</td>\n",
              "    </tr>\n",
              "    <tr>\n",
              "      <th>5</th>\n",
              "      <td>0.000071</td>\n",
              "      <td>0.000334</td>\n",
              "      <td>cs_TssFlnk</td>\n",
              "    </tr>\n",
              "    <tr>\n",
              "      <th>10</th>\n",
              "      <td>0.000071</td>\n",
              "      <td>0.000323</td>\n",
              "      <td>cs_ReprPCWk</td>\n",
              "    </tr>\n",
              "    <tr>\n",
              "      <th>8</th>\n",
              "      <td>0.000067</td>\n",
              "      <td>0.000269</td>\n",
              "      <td>cs_TxWk</td>\n",
              "    </tr>\n",
              "    <tr>\n",
              "      <th>7</th>\n",
              "      <td>0.000044</td>\n",
              "      <td>0.000285</td>\n",
              "      <td>cs_TssFlnkD</td>\n",
              "    </tr>\n",
              "    <tr>\n",
              "      <th>40</th>\n",
              "      <td>0.000041</td>\n",
              "      <td>0.000250</td>\n",
              "      <td>dns_DNase-Seq</td>\n",
              "    </tr>\n",
              "  </tbody>\n",
              "</table>\n",
              "</div>\n",
              "      <button class=\"colab-df-convert\" onclick=\"convertToInteractive('df-170704b1-cc20-4a32-9510-7ca37d94eb04')\"\n",
              "              title=\"Convert this dataframe to an interactive table.\"\n",
              "              style=\"display:none;\">\n",
              "        \n",
              "  <svg xmlns=\"http://www.w3.org/2000/svg\" height=\"24px\"viewBox=\"0 0 24 24\"\n",
              "       width=\"24px\">\n",
              "    <path d=\"M0 0h24v24H0V0z\" fill=\"none\"/>\n",
              "    <path d=\"M18.56 5.44l.94 2.06.94-2.06 2.06-.94-2.06-.94-.94-2.06-.94 2.06-2.06.94zm-11 1L8.5 8.5l.94-2.06 2.06-.94-2.06-.94L8.5 2.5l-.94 2.06-2.06.94zm10 10l.94 2.06.94-2.06 2.06-.94-2.06-.94-.94-2.06-.94 2.06-2.06.94z\"/><path d=\"M17.41 7.96l-1.37-1.37c-.4-.4-.92-.59-1.43-.59-.52 0-1.04.2-1.43.59L10.3 9.45l-7.72 7.72c-.78.78-.78 2.05 0 2.83L4 21.41c.39.39.9.59 1.41.59.51 0 1.02-.2 1.41-.59l7.78-7.78 2.81-2.81c.8-.78.8-2.07 0-2.86zM5.41 20L4 18.59l7.72-7.72 1.47 1.35L5.41 20z\"/>\n",
              "  </svg>\n",
              "      </button>\n",
              "      \n",
              "  <style>\n",
              "    .colab-df-container {\n",
              "      display:flex;\n",
              "      flex-wrap:wrap;\n",
              "      gap: 12px;\n",
              "    }\n",
              "\n",
              "    .colab-df-convert {\n",
              "      background-color: #E8F0FE;\n",
              "      border: none;\n",
              "      border-radius: 50%;\n",
              "      cursor: pointer;\n",
              "      display: none;\n",
              "      fill: #1967D2;\n",
              "      height: 32px;\n",
              "      padding: 0 0 0 0;\n",
              "      width: 32px;\n",
              "    }\n",
              "\n",
              "    .colab-df-convert:hover {\n",
              "      background-color: #E2EBFA;\n",
              "      box-shadow: 0px 1px 2px rgba(60, 64, 67, 0.3), 0px 1px 3px 1px rgba(60, 64, 67, 0.15);\n",
              "      fill: #174EA6;\n",
              "    }\n",
              "\n",
              "    [theme=dark] .colab-df-convert {\n",
              "      background-color: #3B4455;\n",
              "      fill: #D2E3FC;\n",
              "    }\n",
              "\n",
              "    [theme=dark] .colab-df-convert:hover {\n",
              "      background-color: #434B5C;\n",
              "      box-shadow: 0px 1px 3px 1px rgba(0, 0, 0, 0.15);\n",
              "      filter: drop-shadow(0px 1px 2px rgba(0, 0, 0, 0.3));\n",
              "      fill: #FFFFFF;\n",
              "    }\n",
              "  </style>\n",
              "\n",
              "      <script>\n",
              "        const buttonEl =\n",
              "          document.querySelector('#df-170704b1-cc20-4a32-9510-7ca37d94eb04 button.colab-df-convert');\n",
              "        buttonEl.style.display =\n",
              "          google.colab.kernel.accessAllowed ? 'block' : 'none';\n",
              "\n",
              "        async function convertToInteractive(key) {\n",
              "          const element = document.querySelector('#df-170704b1-cc20-4a32-9510-7ca37d94eb04');\n",
              "          const dataTable =\n",
              "            await google.colab.kernel.invokeFunction('convertToInteractive',\n",
              "                                                     [key], {});\n",
              "          if (!dataTable) return;\n",
              "\n",
              "          const docLinkHtml = 'Like what you see? Visit the ' +\n",
              "            '<a target=\"_blank\" href=https://colab.research.google.com/notebooks/data_table.ipynb>data table notebook</a>'\n",
              "            + ' to learn more about interactive tables.';\n",
              "          element.innerHTML = '';\n",
              "          dataTable['output_type'] = 'display_data';\n",
              "          await google.colab.output.renderOutput(dataTable, element);\n",
              "          const docLink = document.createElement('div');\n",
              "          docLink.innerHTML = docLinkHtml;\n",
              "          element.appendChild(docLink);\n",
              "        }\n",
              "      </script>\n",
              "    </div>\n",
              "  </div>\n",
              "  "
            ]
          },
          "metadata": {},
          "execution_count": 44
        }
      ]
    },
    {
      "cell_type": "code",
      "source": [
        "attributions.nsmallest(n=15, columns=['mean'])"
      ],
      "metadata": {
        "colab": {
          "base_uri": "https://localhost:8080/",
          "height": 520
        },
        "outputId": "f29788de-46b6-4158-af3f-cc13f56d31b8",
        "id": "ZQbb1si40gjs"
      },
      "execution_count": null,
      "outputs": [
        {
          "output_type": "execute_result",
          "data": {
            "text/plain": [
              "         mean       std      factors\n",
              "29  -0.000085  0.000515  his_H3K4me1\n",
              "125 -0.000026  0.000352      tf_RELB\n",
              "6   -0.000020  0.000307     cs_EnhWk\n",
              "142 -0.000010  0.000148     tf_STAG1\n",
              "79  -0.000008  0.000123   tf_Epitope\n",
              "35  -0.000007  0.000157     his_H3ac\n",
              "33  -0.000004  0.000110   his_H3K9ac\n",
              "118 -0.000004  0.000160       tf_PML\n",
              "124 -0.000004  0.000134      tf_RELA\n",
              "164 -0.000003  0.000101    tf_ZNF143\n",
              "111 -0.000003  0.000169      tf_NFYB\n",
              "133 -0.000003  0.000111      tf_SIX5\n",
              "149 -0.000003  0.000116       tf_TBP\n",
              "60  -0.000003  0.000065     tf_CREB1\n",
              "39  -0.000003  0.000089      pol_RNA"
            ],
            "text/html": [
              "\n",
              "  <div id=\"df-47ff853e-c0ca-4eed-a86a-40e5b560eb6b\">\n",
              "    <div class=\"colab-df-container\">\n",
              "      <div>\n",
              "<style scoped>\n",
              "    .dataframe tbody tr th:only-of-type {\n",
              "        vertical-align: middle;\n",
              "    }\n",
              "\n",
              "    .dataframe tbody tr th {\n",
              "        vertical-align: top;\n",
              "    }\n",
              "\n",
              "    .dataframe thead th {\n",
              "        text-align: right;\n",
              "    }\n",
              "</style>\n",
              "<table border=\"1\" class=\"dataframe\">\n",
              "  <thead>\n",
              "    <tr style=\"text-align: right;\">\n",
              "      <th></th>\n",
              "      <th>mean</th>\n",
              "      <th>std</th>\n",
              "      <th>factors</th>\n",
              "    </tr>\n",
              "  </thead>\n",
              "  <tbody>\n",
              "    <tr>\n",
              "      <th>29</th>\n",
              "      <td>-0.000085</td>\n",
              "      <td>0.000515</td>\n",
              "      <td>his_H3K4me1</td>\n",
              "    </tr>\n",
              "    <tr>\n",
              "      <th>125</th>\n",
              "      <td>-0.000026</td>\n",
              "      <td>0.000352</td>\n",
              "      <td>tf_RELB</td>\n",
              "    </tr>\n",
              "    <tr>\n",
              "      <th>6</th>\n",
              "      <td>-0.000020</td>\n",
              "      <td>0.000307</td>\n",
              "      <td>cs_EnhWk</td>\n",
              "    </tr>\n",
              "    <tr>\n",
              "      <th>142</th>\n",
              "      <td>-0.000010</td>\n",
              "      <td>0.000148</td>\n",
              "      <td>tf_STAG1</td>\n",
              "    </tr>\n",
              "    <tr>\n",
              "      <th>79</th>\n",
              "      <td>-0.000008</td>\n",
              "      <td>0.000123</td>\n",
              "      <td>tf_Epitope</td>\n",
              "    </tr>\n",
              "    <tr>\n",
              "      <th>35</th>\n",
              "      <td>-0.000007</td>\n",
              "      <td>0.000157</td>\n",
              "      <td>his_H3ac</td>\n",
              "    </tr>\n",
              "    <tr>\n",
              "      <th>33</th>\n",
              "      <td>-0.000004</td>\n",
              "      <td>0.000110</td>\n",
              "      <td>his_H3K9ac</td>\n",
              "    </tr>\n",
              "    <tr>\n",
              "      <th>118</th>\n",
              "      <td>-0.000004</td>\n",
              "      <td>0.000160</td>\n",
              "      <td>tf_PML</td>\n",
              "    </tr>\n",
              "    <tr>\n",
              "      <th>124</th>\n",
              "      <td>-0.000004</td>\n",
              "      <td>0.000134</td>\n",
              "      <td>tf_RELA</td>\n",
              "    </tr>\n",
              "    <tr>\n",
              "      <th>164</th>\n",
              "      <td>-0.000003</td>\n",
              "      <td>0.000101</td>\n",
              "      <td>tf_ZNF143</td>\n",
              "    </tr>\n",
              "    <tr>\n",
              "      <th>111</th>\n",
              "      <td>-0.000003</td>\n",
              "      <td>0.000169</td>\n",
              "      <td>tf_NFYB</td>\n",
              "    </tr>\n",
              "    <tr>\n",
              "      <th>133</th>\n",
              "      <td>-0.000003</td>\n",
              "      <td>0.000111</td>\n",
              "      <td>tf_SIX5</td>\n",
              "    </tr>\n",
              "    <tr>\n",
              "      <th>149</th>\n",
              "      <td>-0.000003</td>\n",
              "      <td>0.000116</td>\n",
              "      <td>tf_TBP</td>\n",
              "    </tr>\n",
              "    <tr>\n",
              "      <th>60</th>\n",
              "      <td>-0.000003</td>\n",
              "      <td>0.000065</td>\n",
              "      <td>tf_CREB1</td>\n",
              "    </tr>\n",
              "    <tr>\n",
              "      <th>39</th>\n",
              "      <td>-0.000003</td>\n",
              "      <td>0.000089</td>\n",
              "      <td>pol_RNA</td>\n",
              "    </tr>\n",
              "  </tbody>\n",
              "</table>\n",
              "</div>\n",
              "      <button class=\"colab-df-convert\" onclick=\"convertToInteractive('df-47ff853e-c0ca-4eed-a86a-40e5b560eb6b')\"\n",
              "              title=\"Convert this dataframe to an interactive table.\"\n",
              "              style=\"display:none;\">\n",
              "        \n",
              "  <svg xmlns=\"http://www.w3.org/2000/svg\" height=\"24px\"viewBox=\"0 0 24 24\"\n",
              "       width=\"24px\">\n",
              "    <path d=\"M0 0h24v24H0V0z\" fill=\"none\"/>\n",
              "    <path d=\"M18.56 5.44l.94 2.06.94-2.06 2.06-.94-2.06-.94-.94-2.06-.94 2.06-2.06.94zm-11 1L8.5 8.5l.94-2.06 2.06-.94-2.06-.94L8.5 2.5l-.94 2.06-2.06.94zm10 10l.94 2.06.94-2.06 2.06-.94-2.06-.94-.94-2.06-.94 2.06-2.06.94z\"/><path d=\"M17.41 7.96l-1.37-1.37c-.4-.4-.92-.59-1.43-.59-.52 0-1.04.2-1.43.59L10.3 9.45l-7.72 7.72c-.78.78-.78 2.05 0 2.83L4 21.41c.39.39.9.59 1.41.59.51 0 1.02-.2 1.41-.59l7.78-7.78 2.81-2.81c.8-.78.8-2.07 0-2.86zM5.41 20L4 18.59l7.72-7.72 1.47 1.35L5.41 20z\"/>\n",
              "  </svg>\n",
              "      </button>\n",
              "      \n",
              "  <style>\n",
              "    .colab-df-container {\n",
              "      display:flex;\n",
              "      flex-wrap:wrap;\n",
              "      gap: 12px;\n",
              "    }\n",
              "\n",
              "    .colab-df-convert {\n",
              "      background-color: #E8F0FE;\n",
              "      border: none;\n",
              "      border-radius: 50%;\n",
              "      cursor: pointer;\n",
              "      display: none;\n",
              "      fill: #1967D2;\n",
              "      height: 32px;\n",
              "      padding: 0 0 0 0;\n",
              "      width: 32px;\n",
              "    }\n",
              "\n",
              "    .colab-df-convert:hover {\n",
              "      background-color: #E2EBFA;\n",
              "      box-shadow: 0px 1px 2px rgba(60, 64, 67, 0.3), 0px 1px 3px 1px rgba(60, 64, 67, 0.15);\n",
              "      fill: #174EA6;\n",
              "    }\n",
              "\n",
              "    [theme=dark] .colab-df-convert {\n",
              "      background-color: #3B4455;\n",
              "      fill: #D2E3FC;\n",
              "    }\n",
              "\n",
              "    [theme=dark] .colab-df-convert:hover {\n",
              "      background-color: #434B5C;\n",
              "      box-shadow: 0px 1px 3px 1px rgba(0, 0, 0, 0.15);\n",
              "      filter: drop-shadow(0px 1px 2px rgba(0, 0, 0, 0.3));\n",
              "      fill: #FFFFFF;\n",
              "    }\n",
              "  </style>\n",
              "\n",
              "      <script>\n",
              "        const buttonEl =\n",
              "          document.querySelector('#df-47ff853e-c0ca-4eed-a86a-40e5b560eb6b button.colab-df-convert');\n",
              "        buttonEl.style.display =\n",
              "          google.colab.kernel.accessAllowed ? 'block' : 'none';\n",
              "\n",
              "        async function convertToInteractive(key) {\n",
              "          const element = document.querySelector('#df-47ff853e-c0ca-4eed-a86a-40e5b560eb6b');\n",
              "          const dataTable =\n",
              "            await google.colab.kernel.invokeFunction('convertToInteractive',\n",
              "                                                     [key], {});\n",
              "          if (!dataTable) return;\n",
              "\n",
              "          const docLinkHtml = 'Like what you see? Visit the ' +\n",
              "            '<a target=\"_blank\" href=https://colab.research.google.com/notebooks/data_table.ipynb>data table notebook</a>'\n",
              "            + ' to learn more about interactive tables.';\n",
              "          element.innerHTML = '';\n",
              "          dataTable['output_type'] = 'display_data';\n",
              "          await google.colab.output.renderOutput(dataTable, element);\n",
              "          const docLink = document.createElement('div');\n",
              "          docLink.innerHTML = docLinkHtml;\n",
              "          element.appendChild(docLink);\n",
              "        }\n",
              "      </script>\n",
              "    </div>\n",
              "  </div>\n",
              "  "
            ]
          },
          "metadata": {},
          "execution_count": 45
        }
      ]
    },
    {
      "cell_type": "code",
      "source": [
        "attributions.to_csv('/content/drive/MyDrive/Triplexes/importance/attributions_Test_Test.scv')"
      ],
      "metadata": {
        "id": "_bQt6DgO0gjt"
      },
      "execution_count": null,
      "outputs": []
    },
    {
      "cell_type": "markdown",
      "source": [
        "## Shap with X_test as background samples, asssessing on X_train_pos"
      ],
      "metadata": {
        "id": "06T8vrLjChpe"
      }
    },
    {
      "cell_type": "code",
      "source": [
        "explainer = shap.DeepExplainer(model, X_test)\n",
        "shap_values = explainer.shap_values(X_train[indx_pos_train[0]])"
      ],
      "metadata": {
        "id": "hXPtv9X7Chpe"
      },
      "execution_count": null,
      "outputs": []
    },
    {
      "cell_type": "code",
      "source": [
        "# feature attributions\n",
        "attributions = []\n",
        "for i in range(len(shap_values[0][0][0])):\n",
        "  attribution = []\n",
        "  for sample in shap_values[0]:\n",
        "    for position in sample:\n",
        "      attribution.append(position[i])\n",
        "  attributions.append((np.mean(attribution), np.std(attribution)))\n",
        "\n",
        "attributions = pd.DataFrame(attributions)\n",
        "attributions.columns = ['mean', 'std']\n",
        "\n",
        "factors = ['nuc_A', 'nuc_C', 'nuc_T', 'nuc_G']\n",
        "factors.extend(States_features)\n",
        "factors.extend(Omics_features)\n",
        "factors.append('tad')\n",
        "attributions['factors'] = factors\n",
        "\n",
        "attributions.nlargest(n=15, columns=['mean'])"
      ],
      "metadata": {
        "colab": {
          "base_uri": "https://localhost:8080/",
          "height": 520
        },
        "id": "min-ftqhChpg",
        "outputId": "212b658a-c858-4119-a625-d9ec7d9141c1"
      },
      "execution_count": null,
      "outputs": [
        {
          "output_type": "execute_result",
          "data": {
            "text/plain": [
              "         mean       std       factors\n",
              "0    0.003650  0.004245         nuc_A\n",
              "3    0.002950  0.003610         nuc_G\n",
              "1    0.002742  0.003981         nuc_C\n",
              "2    0.002524  0.003437         nuc_T\n",
              "27   0.000555  0.001735  his_H3K27me3\n",
              "13   0.000272  0.000878     cs_EnhBiv\n",
              "14   0.000235  0.000712     cs_TssBiv\n",
              "4    0.000218  0.000688      cs_EnhA2\n",
              "31   0.000163  0.000572   his_H3K4me3\n",
              "9    0.000106  0.000472       cs_TssA\n",
              "12   0.000101  0.000383     cs_ReprPC\n",
              "11   0.000078  0.000430      cs_EnhA1\n",
              "8    0.000065  0.000388       cs_TxWk\n",
              "5    0.000058  0.000254    cs_TssFlnk\n",
              "109  0.000052  0.000410      tf_NFKB2"
            ],
            "text/html": [
              "\n",
              "  <div id=\"df-66994d77-696b-4ee5-92eb-65b5a29c127f\">\n",
              "    <div class=\"colab-df-container\">\n",
              "      <div>\n",
              "<style scoped>\n",
              "    .dataframe tbody tr th:only-of-type {\n",
              "        vertical-align: middle;\n",
              "    }\n",
              "\n",
              "    .dataframe tbody tr th {\n",
              "        vertical-align: top;\n",
              "    }\n",
              "\n",
              "    .dataframe thead th {\n",
              "        text-align: right;\n",
              "    }\n",
              "</style>\n",
              "<table border=\"1\" class=\"dataframe\">\n",
              "  <thead>\n",
              "    <tr style=\"text-align: right;\">\n",
              "      <th></th>\n",
              "      <th>mean</th>\n",
              "      <th>std</th>\n",
              "      <th>factors</th>\n",
              "    </tr>\n",
              "  </thead>\n",
              "  <tbody>\n",
              "    <tr>\n",
              "      <th>0</th>\n",
              "      <td>0.003650</td>\n",
              "      <td>0.004245</td>\n",
              "      <td>nuc_A</td>\n",
              "    </tr>\n",
              "    <tr>\n",
              "      <th>3</th>\n",
              "      <td>0.002950</td>\n",
              "      <td>0.003610</td>\n",
              "      <td>nuc_G</td>\n",
              "    </tr>\n",
              "    <tr>\n",
              "      <th>1</th>\n",
              "      <td>0.002742</td>\n",
              "      <td>0.003981</td>\n",
              "      <td>nuc_C</td>\n",
              "    </tr>\n",
              "    <tr>\n",
              "      <th>2</th>\n",
              "      <td>0.002524</td>\n",
              "      <td>0.003437</td>\n",
              "      <td>nuc_T</td>\n",
              "    </tr>\n",
              "    <tr>\n",
              "      <th>27</th>\n",
              "      <td>0.000555</td>\n",
              "      <td>0.001735</td>\n",
              "      <td>his_H3K27me3</td>\n",
              "    </tr>\n",
              "    <tr>\n",
              "      <th>13</th>\n",
              "      <td>0.000272</td>\n",
              "      <td>0.000878</td>\n",
              "      <td>cs_EnhBiv</td>\n",
              "    </tr>\n",
              "    <tr>\n",
              "      <th>14</th>\n",
              "      <td>0.000235</td>\n",
              "      <td>0.000712</td>\n",
              "      <td>cs_TssBiv</td>\n",
              "    </tr>\n",
              "    <tr>\n",
              "      <th>4</th>\n",
              "      <td>0.000218</td>\n",
              "      <td>0.000688</td>\n",
              "      <td>cs_EnhA2</td>\n",
              "    </tr>\n",
              "    <tr>\n",
              "      <th>31</th>\n",
              "      <td>0.000163</td>\n",
              "      <td>0.000572</td>\n",
              "      <td>his_H3K4me3</td>\n",
              "    </tr>\n",
              "    <tr>\n",
              "      <th>9</th>\n",
              "      <td>0.000106</td>\n",
              "      <td>0.000472</td>\n",
              "      <td>cs_TssA</td>\n",
              "    </tr>\n",
              "    <tr>\n",
              "      <th>12</th>\n",
              "      <td>0.000101</td>\n",
              "      <td>0.000383</td>\n",
              "      <td>cs_ReprPC</td>\n",
              "    </tr>\n",
              "    <tr>\n",
              "      <th>11</th>\n",
              "      <td>0.000078</td>\n",
              "      <td>0.000430</td>\n",
              "      <td>cs_EnhA1</td>\n",
              "    </tr>\n",
              "    <tr>\n",
              "      <th>8</th>\n",
              "      <td>0.000065</td>\n",
              "      <td>0.000388</td>\n",
              "      <td>cs_TxWk</td>\n",
              "    </tr>\n",
              "    <tr>\n",
              "      <th>5</th>\n",
              "      <td>0.000058</td>\n",
              "      <td>0.000254</td>\n",
              "      <td>cs_TssFlnk</td>\n",
              "    </tr>\n",
              "    <tr>\n",
              "      <th>109</th>\n",
              "      <td>0.000052</td>\n",
              "      <td>0.000410</td>\n",
              "      <td>tf_NFKB2</td>\n",
              "    </tr>\n",
              "  </tbody>\n",
              "</table>\n",
              "</div>\n",
              "      <button class=\"colab-df-convert\" onclick=\"convertToInteractive('df-66994d77-696b-4ee5-92eb-65b5a29c127f')\"\n",
              "              title=\"Convert this dataframe to an interactive table.\"\n",
              "              style=\"display:none;\">\n",
              "        \n",
              "  <svg xmlns=\"http://www.w3.org/2000/svg\" height=\"24px\"viewBox=\"0 0 24 24\"\n",
              "       width=\"24px\">\n",
              "    <path d=\"M0 0h24v24H0V0z\" fill=\"none\"/>\n",
              "    <path d=\"M18.56 5.44l.94 2.06.94-2.06 2.06-.94-2.06-.94-.94-2.06-.94 2.06-2.06.94zm-11 1L8.5 8.5l.94-2.06 2.06-.94-2.06-.94L8.5 2.5l-.94 2.06-2.06.94zm10 10l.94 2.06.94-2.06 2.06-.94-2.06-.94-.94-2.06-.94 2.06-2.06.94z\"/><path d=\"M17.41 7.96l-1.37-1.37c-.4-.4-.92-.59-1.43-.59-.52 0-1.04.2-1.43.59L10.3 9.45l-7.72 7.72c-.78.78-.78 2.05 0 2.83L4 21.41c.39.39.9.59 1.41.59.51 0 1.02-.2 1.41-.59l7.78-7.78 2.81-2.81c.8-.78.8-2.07 0-2.86zM5.41 20L4 18.59l7.72-7.72 1.47 1.35L5.41 20z\"/>\n",
              "  </svg>\n",
              "      </button>\n",
              "      \n",
              "  <style>\n",
              "    .colab-df-container {\n",
              "      display:flex;\n",
              "      flex-wrap:wrap;\n",
              "      gap: 12px;\n",
              "    }\n",
              "\n",
              "    .colab-df-convert {\n",
              "      background-color: #E8F0FE;\n",
              "      border: none;\n",
              "      border-radius: 50%;\n",
              "      cursor: pointer;\n",
              "      display: none;\n",
              "      fill: #1967D2;\n",
              "      height: 32px;\n",
              "      padding: 0 0 0 0;\n",
              "      width: 32px;\n",
              "    }\n",
              "\n",
              "    .colab-df-convert:hover {\n",
              "      background-color: #E2EBFA;\n",
              "      box-shadow: 0px 1px 2px rgba(60, 64, 67, 0.3), 0px 1px 3px 1px rgba(60, 64, 67, 0.15);\n",
              "      fill: #174EA6;\n",
              "    }\n",
              "\n",
              "    [theme=dark] .colab-df-convert {\n",
              "      background-color: #3B4455;\n",
              "      fill: #D2E3FC;\n",
              "    }\n",
              "\n",
              "    [theme=dark] .colab-df-convert:hover {\n",
              "      background-color: #434B5C;\n",
              "      box-shadow: 0px 1px 3px 1px rgba(0, 0, 0, 0.15);\n",
              "      filter: drop-shadow(0px 1px 2px rgba(0, 0, 0, 0.3));\n",
              "      fill: #FFFFFF;\n",
              "    }\n",
              "  </style>\n",
              "\n",
              "      <script>\n",
              "        const buttonEl =\n",
              "          document.querySelector('#df-66994d77-696b-4ee5-92eb-65b5a29c127f button.colab-df-convert');\n",
              "        buttonEl.style.display =\n",
              "          google.colab.kernel.accessAllowed ? 'block' : 'none';\n",
              "\n",
              "        async function convertToInteractive(key) {\n",
              "          const element = document.querySelector('#df-66994d77-696b-4ee5-92eb-65b5a29c127f');\n",
              "          const dataTable =\n",
              "            await google.colab.kernel.invokeFunction('convertToInteractive',\n",
              "                                                     [key], {});\n",
              "          if (!dataTable) return;\n",
              "\n",
              "          const docLinkHtml = 'Like what you see? Visit the ' +\n",
              "            '<a target=\"_blank\" href=https://colab.research.google.com/notebooks/data_table.ipynb>data table notebook</a>'\n",
              "            + ' to learn more about interactive tables.';\n",
              "          element.innerHTML = '';\n",
              "          dataTable['output_type'] = 'display_data';\n",
              "          await google.colab.output.renderOutput(dataTable, element);\n",
              "          const docLink = document.createElement('div');\n",
              "          docLink.innerHTML = docLinkHtml;\n",
              "          element.appendChild(docLink);\n",
              "        }\n",
              "      </script>\n",
              "    </div>\n",
              "  </div>\n",
              "  "
            ]
          },
          "metadata": {},
          "execution_count": 34
        }
      ]
    },
    {
      "cell_type": "code",
      "source": [
        "attributions.nsmallest(n=15, columns=['mean'])"
      ],
      "metadata": {
        "colab": {
          "base_uri": "https://localhost:8080/",
          "height": 520
        },
        "id": "hBfSpoeaChpg",
        "outputId": "57143e21-d272-43c6-efc4-317127f72e39"
      },
      "execution_count": null,
      "outputs": [
        {
          "output_type": "execute_result",
          "data": {
            "text/plain": [
              "         mean       std      factors\n",
              "29  -0.000048  0.000276  his_H3K4me1\n",
              "79  -0.000023  0.000190   tf_Epitope\n",
              "39  -0.000016  0.000140      pol_RNA\n",
              "62  -0.000007  0.000358      tf_CTCF\n",
              "120 -0.000005  0.000107     tf_RAD21\n",
              "84  -0.000004  0.000176     tf_GABPA\n",
              "35  -0.000004  0.000087     his_H3ac\n",
              "60  -0.000004  0.000096     tf_CREB1\n",
              "33  -0.000003  0.000069   his_H3K9ac\n",
              "162 -0.000003  0.000076      tf_ZEB1\n",
              "168 -0.000002  0.000064    tf_ZNF768\n",
              "138 -0.000002  0.000082      tf_SPI1\n",
              "142 -0.000002  0.000211     tf_STAG1\n",
              "101 -0.000001  0.000060      tf_MXI1\n",
              "65  -0.000001  0.000062      tf_E2F1"
            ],
            "text/html": [
              "\n",
              "  <div id=\"df-fb4b2fb4-1db9-4aa7-8dc1-717d31e18f1c\">\n",
              "    <div class=\"colab-df-container\">\n",
              "      <div>\n",
              "<style scoped>\n",
              "    .dataframe tbody tr th:only-of-type {\n",
              "        vertical-align: middle;\n",
              "    }\n",
              "\n",
              "    .dataframe tbody tr th {\n",
              "        vertical-align: top;\n",
              "    }\n",
              "\n",
              "    .dataframe thead th {\n",
              "        text-align: right;\n",
              "    }\n",
              "</style>\n",
              "<table border=\"1\" class=\"dataframe\">\n",
              "  <thead>\n",
              "    <tr style=\"text-align: right;\">\n",
              "      <th></th>\n",
              "      <th>mean</th>\n",
              "      <th>std</th>\n",
              "      <th>factors</th>\n",
              "    </tr>\n",
              "  </thead>\n",
              "  <tbody>\n",
              "    <tr>\n",
              "      <th>29</th>\n",
              "      <td>-0.000048</td>\n",
              "      <td>0.000276</td>\n",
              "      <td>his_H3K4me1</td>\n",
              "    </tr>\n",
              "    <tr>\n",
              "      <th>79</th>\n",
              "      <td>-0.000023</td>\n",
              "      <td>0.000190</td>\n",
              "      <td>tf_Epitope</td>\n",
              "    </tr>\n",
              "    <tr>\n",
              "      <th>39</th>\n",
              "      <td>-0.000016</td>\n",
              "      <td>0.000140</td>\n",
              "      <td>pol_RNA</td>\n",
              "    </tr>\n",
              "    <tr>\n",
              "      <th>62</th>\n",
              "      <td>-0.000007</td>\n",
              "      <td>0.000358</td>\n",
              "      <td>tf_CTCF</td>\n",
              "    </tr>\n",
              "    <tr>\n",
              "      <th>120</th>\n",
              "      <td>-0.000005</td>\n",
              "      <td>0.000107</td>\n",
              "      <td>tf_RAD21</td>\n",
              "    </tr>\n",
              "    <tr>\n",
              "      <th>84</th>\n",
              "      <td>-0.000004</td>\n",
              "      <td>0.000176</td>\n",
              "      <td>tf_GABPA</td>\n",
              "    </tr>\n",
              "    <tr>\n",
              "      <th>35</th>\n",
              "      <td>-0.000004</td>\n",
              "      <td>0.000087</td>\n",
              "      <td>his_H3ac</td>\n",
              "    </tr>\n",
              "    <tr>\n",
              "      <th>60</th>\n",
              "      <td>-0.000004</td>\n",
              "      <td>0.000096</td>\n",
              "      <td>tf_CREB1</td>\n",
              "    </tr>\n",
              "    <tr>\n",
              "      <th>33</th>\n",
              "      <td>-0.000003</td>\n",
              "      <td>0.000069</td>\n",
              "      <td>his_H3K9ac</td>\n",
              "    </tr>\n",
              "    <tr>\n",
              "      <th>162</th>\n",
              "      <td>-0.000003</td>\n",
              "      <td>0.000076</td>\n",
              "      <td>tf_ZEB1</td>\n",
              "    </tr>\n",
              "    <tr>\n",
              "      <th>168</th>\n",
              "      <td>-0.000002</td>\n",
              "      <td>0.000064</td>\n",
              "      <td>tf_ZNF768</td>\n",
              "    </tr>\n",
              "    <tr>\n",
              "      <th>138</th>\n",
              "      <td>-0.000002</td>\n",
              "      <td>0.000082</td>\n",
              "      <td>tf_SPI1</td>\n",
              "    </tr>\n",
              "    <tr>\n",
              "      <th>142</th>\n",
              "      <td>-0.000002</td>\n",
              "      <td>0.000211</td>\n",
              "      <td>tf_STAG1</td>\n",
              "    </tr>\n",
              "    <tr>\n",
              "      <th>101</th>\n",
              "      <td>-0.000001</td>\n",
              "      <td>0.000060</td>\n",
              "      <td>tf_MXI1</td>\n",
              "    </tr>\n",
              "    <tr>\n",
              "      <th>65</th>\n",
              "      <td>-0.000001</td>\n",
              "      <td>0.000062</td>\n",
              "      <td>tf_E2F1</td>\n",
              "    </tr>\n",
              "  </tbody>\n",
              "</table>\n",
              "</div>\n",
              "      <button class=\"colab-df-convert\" onclick=\"convertToInteractive('df-fb4b2fb4-1db9-4aa7-8dc1-717d31e18f1c')\"\n",
              "              title=\"Convert this dataframe to an interactive table.\"\n",
              "              style=\"display:none;\">\n",
              "        \n",
              "  <svg xmlns=\"http://www.w3.org/2000/svg\" height=\"24px\"viewBox=\"0 0 24 24\"\n",
              "       width=\"24px\">\n",
              "    <path d=\"M0 0h24v24H0V0z\" fill=\"none\"/>\n",
              "    <path d=\"M18.56 5.44l.94 2.06.94-2.06 2.06-.94-2.06-.94-.94-2.06-.94 2.06-2.06.94zm-11 1L8.5 8.5l.94-2.06 2.06-.94-2.06-.94L8.5 2.5l-.94 2.06-2.06.94zm10 10l.94 2.06.94-2.06 2.06-.94-2.06-.94-.94-2.06-.94 2.06-2.06.94z\"/><path d=\"M17.41 7.96l-1.37-1.37c-.4-.4-.92-.59-1.43-.59-.52 0-1.04.2-1.43.59L10.3 9.45l-7.72 7.72c-.78.78-.78 2.05 0 2.83L4 21.41c.39.39.9.59 1.41.59.51 0 1.02-.2 1.41-.59l7.78-7.78 2.81-2.81c.8-.78.8-2.07 0-2.86zM5.41 20L4 18.59l7.72-7.72 1.47 1.35L5.41 20z\"/>\n",
              "  </svg>\n",
              "      </button>\n",
              "      \n",
              "  <style>\n",
              "    .colab-df-container {\n",
              "      display:flex;\n",
              "      flex-wrap:wrap;\n",
              "      gap: 12px;\n",
              "    }\n",
              "\n",
              "    .colab-df-convert {\n",
              "      background-color: #E8F0FE;\n",
              "      border: none;\n",
              "      border-radius: 50%;\n",
              "      cursor: pointer;\n",
              "      display: none;\n",
              "      fill: #1967D2;\n",
              "      height: 32px;\n",
              "      padding: 0 0 0 0;\n",
              "      width: 32px;\n",
              "    }\n",
              "\n",
              "    .colab-df-convert:hover {\n",
              "      background-color: #E2EBFA;\n",
              "      box-shadow: 0px 1px 2px rgba(60, 64, 67, 0.3), 0px 1px 3px 1px rgba(60, 64, 67, 0.15);\n",
              "      fill: #174EA6;\n",
              "    }\n",
              "\n",
              "    [theme=dark] .colab-df-convert {\n",
              "      background-color: #3B4455;\n",
              "      fill: #D2E3FC;\n",
              "    }\n",
              "\n",
              "    [theme=dark] .colab-df-convert:hover {\n",
              "      background-color: #434B5C;\n",
              "      box-shadow: 0px 1px 3px 1px rgba(0, 0, 0, 0.15);\n",
              "      filter: drop-shadow(0px 1px 2px rgba(0, 0, 0, 0.3));\n",
              "      fill: #FFFFFF;\n",
              "    }\n",
              "  </style>\n",
              "\n",
              "      <script>\n",
              "        const buttonEl =\n",
              "          document.querySelector('#df-fb4b2fb4-1db9-4aa7-8dc1-717d31e18f1c button.colab-df-convert');\n",
              "        buttonEl.style.display =\n",
              "          google.colab.kernel.accessAllowed ? 'block' : 'none';\n",
              "\n",
              "        async function convertToInteractive(key) {\n",
              "          const element = document.querySelector('#df-fb4b2fb4-1db9-4aa7-8dc1-717d31e18f1c');\n",
              "          const dataTable =\n",
              "            await google.colab.kernel.invokeFunction('convertToInteractive',\n",
              "                                                     [key], {});\n",
              "          if (!dataTable) return;\n",
              "\n",
              "          const docLinkHtml = 'Like what you see? Visit the ' +\n",
              "            '<a target=\"_blank\" href=https://colab.research.google.com/notebooks/data_table.ipynb>data table notebook</a>'\n",
              "            + ' to learn more about interactive tables.';\n",
              "          element.innerHTML = '';\n",
              "          dataTable['output_type'] = 'display_data';\n",
              "          await google.colab.output.renderOutput(dataTable, element);\n",
              "          const docLink = document.createElement('div');\n",
              "          docLink.innerHTML = docLinkHtml;\n",
              "          element.appendChild(docLink);\n",
              "        }\n",
              "      </script>\n",
              "    </div>\n",
              "  </div>\n",
              "  "
            ]
          },
          "metadata": {},
          "execution_count": 35
        }
      ]
    },
    {
      "cell_type": "code",
      "source": [
        "attributions.to_csv('/content/drive/MyDrive/Triplexes/importance/attributions_Test_Train2.scv')"
      ],
      "metadata": {
        "id": "vDpVkcKxChph"
      },
      "execution_count": null,
      "outputs": []
    },
    {
      "cell_type": "markdown",
      "source": [
        "## Plot"
      ],
      "metadata": {
        "id": "BeP7U3UcZEva"
      }
    },
    {
      "cell_type": "code",
      "source": [
        "attributions = pd.read_csv('/content/drive/MyDrive/Triplexes/importance/attributionsTrain.scv')\n",
        "attributions.drop('Unnamed: 0', axis='columns', inplace=True)\n",
        "attributions.drop('std', axis='columns', inplace=True)\n",
        "\n",
        "#without impact of genomic sequence\n",
        "attributions['norm_mean'] = attributions['mean'] / max(attributions['mean'][4:])\n",
        "\n",
        "pos_limit, neg_limit = 0.08, -0.00431\n",
        "attributions_tab = attributions[(attributions['norm_mean'] > pos_limit) +\n",
        "                                (attributions['norm_mean'] < neg_limit)][4:]\n",
        "attributions_tab.sort_values('norm_mean', ascending=False, inplace=True)\n",
        "\n",
        "#Delete non-reproducible in other shap runs\n",
        "non_reproduc = [26, 62, 17, 39, 124, 22, 60, 133]\n",
        "attributions_tab.drop(index=non_reproduc, inplace=True)\n",
        "\n",
        "#Description\n",
        "attributions_tab[['group','factor']] = attributions_tab['factors'].str.split('_',expand=True)\n",
        "\n",
        "attributions_tab"
      ],
      "metadata": {
        "id": "1qK1leniZYML",
        "colab": {
          "base_uri": "https://localhost:8080/",
          "height": 583
        },
        "outputId": "b65b9a9e-d80b-42c1-fb8f-64681545168d"
      },
      "execution_count": null,
      "outputs": [
        {
          "output_type": "execute_result",
          "data": {
            "text/plain": [
              "         mean        factors  norm_mean group     factor\n",
              "27   0.000543   his_H3K27me3   1.000000   his   H3K27me3\n",
              "14   0.000356      cs_TssBiv   0.656264    cs     TssBiv\n",
              "13   0.000189      cs_EnhBiv   0.349174    cs     EnhBiv\n",
              "4    0.000187       cs_EnhA2   0.344377    cs      EnhA2\n",
              "31   0.000172    his_H3K4me3   0.317410   his    H3K4me3\n",
              "10   0.000114    cs_ReprPCWk   0.210595    cs   ReprPCWk\n",
              "9    0.000110        cs_TssA   0.201888    cs       TssA\n",
              "5    0.000098     cs_TssFlnk   0.180628    cs    TssFlnk\n",
              "11   0.000073       cs_EnhA1   0.135330    cs      EnhA1\n",
              "109  0.000073       tf_NFKB2   0.133939    tf      NFKB2\n",
              "8    0.000049        cs_TxWk   0.090985    cs       TxWk\n",
              "40   0.000048  dns_DNase-Seq   0.088586   dns  DNase-Seq\n",
              "84  -0.000002       tf_GABPA  -0.004314    tf      GABPA\n",
              "35  -0.000003       his_H3ac  -0.005762   his       H3ac\n",
              "162 -0.000009        tf_ZEB1  -0.016658    tf       ZEB1\n",
              "79  -0.000033     tf_Epitope  -0.061195    tf    Epitope\n",
              "29  -0.000112    his_H3K4me1  -0.207075   his    H3K4me1"
            ],
            "text/html": [
              "\n",
              "  <div id=\"df-d3c7fb7a-68d6-4ad2-a913-9c812db52d3e\">\n",
              "    <div class=\"colab-df-container\">\n",
              "      <div>\n",
              "<style scoped>\n",
              "    .dataframe tbody tr th:only-of-type {\n",
              "        vertical-align: middle;\n",
              "    }\n",
              "\n",
              "    .dataframe tbody tr th {\n",
              "        vertical-align: top;\n",
              "    }\n",
              "\n",
              "    .dataframe thead th {\n",
              "        text-align: right;\n",
              "    }\n",
              "</style>\n",
              "<table border=\"1\" class=\"dataframe\">\n",
              "  <thead>\n",
              "    <tr style=\"text-align: right;\">\n",
              "      <th></th>\n",
              "      <th>mean</th>\n",
              "      <th>factors</th>\n",
              "      <th>norm_mean</th>\n",
              "      <th>group</th>\n",
              "      <th>factor</th>\n",
              "    </tr>\n",
              "  </thead>\n",
              "  <tbody>\n",
              "    <tr>\n",
              "      <th>27</th>\n",
              "      <td>0.000543</td>\n",
              "      <td>his_H3K27me3</td>\n",
              "      <td>1.000000</td>\n",
              "      <td>his</td>\n",
              "      <td>H3K27me3</td>\n",
              "    </tr>\n",
              "    <tr>\n",
              "      <th>14</th>\n",
              "      <td>0.000356</td>\n",
              "      <td>cs_TssBiv</td>\n",
              "      <td>0.656264</td>\n",
              "      <td>cs</td>\n",
              "      <td>TssBiv</td>\n",
              "    </tr>\n",
              "    <tr>\n",
              "      <th>13</th>\n",
              "      <td>0.000189</td>\n",
              "      <td>cs_EnhBiv</td>\n",
              "      <td>0.349174</td>\n",
              "      <td>cs</td>\n",
              "      <td>EnhBiv</td>\n",
              "    </tr>\n",
              "    <tr>\n",
              "      <th>4</th>\n",
              "      <td>0.000187</td>\n",
              "      <td>cs_EnhA2</td>\n",
              "      <td>0.344377</td>\n",
              "      <td>cs</td>\n",
              "      <td>EnhA2</td>\n",
              "    </tr>\n",
              "    <tr>\n",
              "      <th>31</th>\n",
              "      <td>0.000172</td>\n",
              "      <td>his_H3K4me3</td>\n",
              "      <td>0.317410</td>\n",
              "      <td>his</td>\n",
              "      <td>H3K4me3</td>\n",
              "    </tr>\n",
              "    <tr>\n",
              "      <th>10</th>\n",
              "      <td>0.000114</td>\n",
              "      <td>cs_ReprPCWk</td>\n",
              "      <td>0.210595</td>\n",
              "      <td>cs</td>\n",
              "      <td>ReprPCWk</td>\n",
              "    </tr>\n",
              "    <tr>\n",
              "      <th>9</th>\n",
              "      <td>0.000110</td>\n",
              "      <td>cs_TssA</td>\n",
              "      <td>0.201888</td>\n",
              "      <td>cs</td>\n",
              "      <td>TssA</td>\n",
              "    </tr>\n",
              "    <tr>\n",
              "      <th>5</th>\n",
              "      <td>0.000098</td>\n",
              "      <td>cs_TssFlnk</td>\n",
              "      <td>0.180628</td>\n",
              "      <td>cs</td>\n",
              "      <td>TssFlnk</td>\n",
              "    </tr>\n",
              "    <tr>\n",
              "      <th>11</th>\n",
              "      <td>0.000073</td>\n",
              "      <td>cs_EnhA1</td>\n",
              "      <td>0.135330</td>\n",
              "      <td>cs</td>\n",
              "      <td>EnhA1</td>\n",
              "    </tr>\n",
              "    <tr>\n",
              "      <th>109</th>\n",
              "      <td>0.000073</td>\n",
              "      <td>tf_NFKB2</td>\n",
              "      <td>0.133939</td>\n",
              "      <td>tf</td>\n",
              "      <td>NFKB2</td>\n",
              "    </tr>\n",
              "    <tr>\n",
              "      <th>8</th>\n",
              "      <td>0.000049</td>\n",
              "      <td>cs_TxWk</td>\n",
              "      <td>0.090985</td>\n",
              "      <td>cs</td>\n",
              "      <td>TxWk</td>\n",
              "    </tr>\n",
              "    <tr>\n",
              "      <th>40</th>\n",
              "      <td>0.000048</td>\n",
              "      <td>dns_DNase-Seq</td>\n",
              "      <td>0.088586</td>\n",
              "      <td>dns</td>\n",
              "      <td>DNase-Seq</td>\n",
              "    </tr>\n",
              "    <tr>\n",
              "      <th>84</th>\n",
              "      <td>-0.000002</td>\n",
              "      <td>tf_GABPA</td>\n",
              "      <td>-0.004314</td>\n",
              "      <td>tf</td>\n",
              "      <td>GABPA</td>\n",
              "    </tr>\n",
              "    <tr>\n",
              "      <th>35</th>\n",
              "      <td>-0.000003</td>\n",
              "      <td>his_H3ac</td>\n",
              "      <td>-0.005762</td>\n",
              "      <td>his</td>\n",
              "      <td>H3ac</td>\n",
              "    </tr>\n",
              "    <tr>\n",
              "      <th>162</th>\n",
              "      <td>-0.000009</td>\n",
              "      <td>tf_ZEB1</td>\n",
              "      <td>-0.016658</td>\n",
              "      <td>tf</td>\n",
              "      <td>ZEB1</td>\n",
              "    </tr>\n",
              "    <tr>\n",
              "      <th>79</th>\n",
              "      <td>-0.000033</td>\n",
              "      <td>tf_Epitope</td>\n",
              "      <td>-0.061195</td>\n",
              "      <td>tf</td>\n",
              "      <td>Epitope</td>\n",
              "    </tr>\n",
              "    <tr>\n",
              "      <th>29</th>\n",
              "      <td>-0.000112</td>\n",
              "      <td>his_H3K4me1</td>\n",
              "      <td>-0.207075</td>\n",
              "      <td>his</td>\n",
              "      <td>H3K4me1</td>\n",
              "    </tr>\n",
              "  </tbody>\n",
              "</table>\n",
              "</div>\n",
              "      <button class=\"colab-df-convert\" onclick=\"convertToInteractive('df-d3c7fb7a-68d6-4ad2-a913-9c812db52d3e')\"\n",
              "              title=\"Convert this dataframe to an interactive table.\"\n",
              "              style=\"display:none;\">\n",
              "        \n",
              "  <svg xmlns=\"http://www.w3.org/2000/svg\" height=\"24px\"viewBox=\"0 0 24 24\"\n",
              "       width=\"24px\">\n",
              "    <path d=\"M0 0h24v24H0V0z\" fill=\"none\"/>\n",
              "    <path d=\"M18.56 5.44l.94 2.06.94-2.06 2.06-.94-2.06-.94-.94-2.06-.94 2.06-2.06.94zm-11 1L8.5 8.5l.94-2.06 2.06-.94-2.06-.94L8.5 2.5l-.94 2.06-2.06.94zm10 10l.94 2.06.94-2.06 2.06-.94-2.06-.94-.94-2.06-.94 2.06-2.06.94z\"/><path d=\"M17.41 7.96l-1.37-1.37c-.4-.4-.92-.59-1.43-.59-.52 0-1.04.2-1.43.59L10.3 9.45l-7.72 7.72c-.78.78-.78 2.05 0 2.83L4 21.41c.39.39.9.59 1.41.59.51 0 1.02-.2 1.41-.59l7.78-7.78 2.81-2.81c.8-.78.8-2.07 0-2.86zM5.41 20L4 18.59l7.72-7.72 1.47 1.35L5.41 20z\"/>\n",
              "  </svg>\n",
              "      </button>\n",
              "      \n",
              "  <style>\n",
              "    .colab-df-container {\n",
              "      display:flex;\n",
              "      flex-wrap:wrap;\n",
              "      gap: 12px;\n",
              "    }\n",
              "\n",
              "    .colab-df-convert {\n",
              "      background-color: #E8F0FE;\n",
              "      border: none;\n",
              "      border-radius: 50%;\n",
              "      cursor: pointer;\n",
              "      display: none;\n",
              "      fill: #1967D2;\n",
              "      height: 32px;\n",
              "      padding: 0 0 0 0;\n",
              "      width: 32px;\n",
              "    }\n",
              "\n",
              "    .colab-df-convert:hover {\n",
              "      background-color: #E2EBFA;\n",
              "      box-shadow: 0px 1px 2px rgba(60, 64, 67, 0.3), 0px 1px 3px 1px rgba(60, 64, 67, 0.15);\n",
              "      fill: #174EA6;\n",
              "    }\n",
              "\n",
              "    [theme=dark] .colab-df-convert {\n",
              "      background-color: #3B4455;\n",
              "      fill: #D2E3FC;\n",
              "    }\n",
              "\n",
              "    [theme=dark] .colab-df-convert:hover {\n",
              "      background-color: #434B5C;\n",
              "      box-shadow: 0px 1px 3px 1px rgba(0, 0, 0, 0.15);\n",
              "      filter: drop-shadow(0px 1px 2px rgba(0, 0, 0, 0.3));\n",
              "      fill: #FFFFFF;\n",
              "    }\n",
              "  </style>\n",
              "\n",
              "      <script>\n",
              "        const buttonEl =\n",
              "          document.querySelector('#df-d3c7fb7a-68d6-4ad2-a913-9c812db52d3e button.colab-df-convert');\n",
              "        buttonEl.style.display =\n",
              "          google.colab.kernel.accessAllowed ? 'block' : 'none';\n",
              "\n",
              "        async function convertToInteractive(key) {\n",
              "          const element = document.querySelector('#df-d3c7fb7a-68d6-4ad2-a913-9c812db52d3e');\n",
              "          const dataTable =\n",
              "            await google.colab.kernel.invokeFunction('convertToInteractive',\n",
              "                                                     [key], {});\n",
              "          if (!dataTable) return;\n",
              "\n",
              "          const docLinkHtml = 'Like what you see? Visit the ' +\n",
              "            '<a target=\"_blank\" href=https://colab.research.google.com/notebooks/data_table.ipynb>data table notebook</a>'\n",
              "            + ' to learn more about interactive tables.';\n",
              "          element.innerHTML = '';\n",
              "          dataTable['output_type'] = 'display_data';\n",
              "          await google.colab.output.renderOutput(dataTable, element);\n",
              "          const docLink = document.createElement('div');\n",
              "          docLink.innerHTML = docLinkHtml;\n",
              "          element.appendChild(docLink);\n",
              "        }\n",
              "      </script>\n",
              "    </div>\n",
              "  </div>\n",
              "  "
            ]
          },
          "metadata": {},
          "execution_count": 3
        }
      ]
    },
    {
      "cell_type": "code",
      "source": [
        "attributions_tab.drop(index=79, inplace=True)"
      ],
      "metadata": {
        "id": "YEQnYfHneCKU"
      },
      "execution_count": null,
      "outputs": []
    },
    {
      "cell_type": "code",
      "source": [
        "sns.set_style(\"whitegrid\")\n",
        "\n",
        "colors = sns.color_palette(\"viridis\", 10)\n",
        "palette = {'his': colors[0], \n",
        "           'cs': colors[3],\n",
        "           'tf': colors[-3], \n",
        "           'dns': colors[-1]}\n",
        "\n",
        "ax = sns.barplot(x=\"norm_mean\", y=\"factor\", data=attributions_tab, \n",
        "                 hue=attributions_tab['group'], palette=palette,\n",
        "                 dodge=False)\n",
        "plt.legend(loc='lower right')\n",
        "ax.set_xlabel(\"Feature importance\")\n",
        "ax.set_ylabel(\"Feature name\")\n",
        "plt.title(\"Features importance\")\n",
        "\n",
        "plt.show()"
      ],
      "metadata": {
        "id": "aG5imMPEZYFT",
        "colab": {
          "base_uri": "https://localhost:8080/",
          "height": 472
        },
        "outputId": "d74b6a05-b7dc-4e17-ec3d-8edba4d07007"
      },
      "execution_count": null,
      "outputs": [
        {
          "output_type": "display_data",
          "data": {
            "text/plain": [
              "<Figure size 640x480 with 1 Axes>"
            ],
            "image/png": "[encoded data removed]"
          },
          "metadata": {}
        }
      ]
    }
  ],
  "metadata": {
    "colab": {
      "provenance": [],
      "collapsed_sections": [
        "TzNcFxp1ocSN",
        "s6g1zPPQhhbg",
        "ARPod_vlR41o",
        "nLUFOVsu0TU6",
        "zXnZGTLs3Yfv",
        "GhQYS5DdvmyC"
      ],
      "authorship_tag": "ABX9TyNniOnZQFFI2GszcEXjsHuk",
      "include_colab_link": true
    },
    "gpuClass": "standard",
    "kernelspec": {
      "display_name": "Python 3",
      "name": "python3"
    },
    "language_info": {
      "name": "python"
    },
    "widgets": {
      "application/vnd.jupyter.widget-state+json": {
        "4e1a9401c40247f191cf12d1b3e7fe6f": {
          "model_module": "@jupyter-widgets/controls",
          "model_name": "HBoxModel",
          "model_module_version": "1.5.0",
          "state": {
            "_dom_classes": [],
            "_model_module": "@jupyter-widgets/controls",
            "_model_module_version": "1.5.0",
            "_model_name": "HBoxModel",
            "_view_count": null,
            "_view_module": "@jupyter-widgets/controls",
            "_view_module_version": "1.5.0",
            "_view_name": "HBoxView",
            "box_style": "",
            "children": [
              "IPY_MODEL_240164d89cbe4dd3a41aad520f2fc2d4",
              "IPY_MODEL_db7115df693e4a4b9e6f58041555a1cd",
              "IPY_MODEL_be1e0bd1a4064b7882322d233ad17e43"
            ],
            "layout": "IPY_MODEL_48cd102dba5d4416bb4bda657661c959"
          }
        },
        "240164d89cbe4dd3a41aad520f2fc2d4": {
          "model_module": "@jupyter-widgets/controls",
          "model_name": "HTMLModel",
          "model_module_version": "1.5.0",
          "state": {
            "_dom_classes": [],
            "_model_module": "@jupyter-widgets/controls",
            "_model_module_version": "1.5.0",
            "_model_name": "HTMLModel",
            "_view_count": null,
            "_view_module": "@jupyter-widgets/controls",
            "_view_module_version": "1.5.0",
            "_view_name": "HTMLView",
            "description": "",
            "description_tooltip": null,
            "layout": "IPY_MODEL_8ab618e540324c2ab6345165ae166a4b",
            "placeholder": "​",
            "style": "IPY_MODEL_c20592edf2bc491bb76810205c07099d",
            "value": "100%"
          }
        },
        "db7115df693e4a4b9e6f58041555a1cd": {
          "model_module": "@jupyter-widgets/controls",
          "model_name": "FloatProgressModel",
          "model_module_version": "1.5.0",
          "state": {
            "_dom_classes": [],
            "_model_module": "@jupyter-widgets/controls",
            "_model_module_version": "1.5.0",
            "_model_name": "FloatProgressModel",
            "_view_count": null,
            "_view_module": "@jupyter-widgets/controls",
            "_view_module_version": "1.5.0",
            "_view_name": "ProgressView",
            "bar_style": "success",
            "description": "",
            "description_tooltip": null,
            "layout": "IPY_MODEL_d2cb3d2cbfb04696929ae142215601af",
            "max": 24,
            "min": 0,
            "orientation": "horizontal",
            "style": "IPY_MODEL_edf4cb94583841ae84a3641b3b4c84e2",
            "value": 24
          }
        },
        "be1e0bd1a4064b7882322d233ad17e43": {
          "model_module": "@jupyter-widgets/controls",
          "model_name": "HTMLModel",
          "model_module_version": "1.5.0",
          "state": {
            "_dom_classes": [],
            "_model_module": "@jupyter-widgets/controls",
            "_model_module_version": "1.5.0",
            "_model_name": "HTMLModel",
            "_view_count": null,
            "_view_module": "@jupyter-widgets/controls",
            "_view_module_version": "1.5.0",
            "_view_name": "HTMLView",
            "description": "",
            "description_tooltip": null,
            "layout": "IPY_MODEL_5334bb4b1825435191fbdddaa8ca40b3",
            "placeholder": "​",
            "style": "IPY_MODEL_7e7554d154454aada42ece5fcb4884b3",
            "value": " 24/24 [01:55&lt;00:00,  2.41s/it]"
          }
        },
        "48cd102dba5d4416bb4bda657661c959": {
          "model_module": "@jupyter-widgets/base",
          "model_name": "LayoutModel",
          "model_module_version": "1.2.0",
          "state": {
            "_model_module": "@jupyter-widgets/base",
            "_model_module_version": "1.2.0",
            "_model_name": "LayoutModel",
            "_view_count": null,
            "_view_module": "@jupyter-widgets/base",
            "_view_module_version": "1.2.0",
            "_view_name": "LayoutView",
            "align_content": null,
            "align_items": null,
            "align_self": null,
            "border": null,
            "bottom": null,
            "display": null,
            "flex": null,
            "flex_flow": null,
            "grid_area": null,
            "grid_auto_columns": null,
            "grid_auto_flow": null,
            "grid_auto_rows": null,
            "grid_column": null,
            "grid_gap": null,
            "grid_row": null,
            "grid_template_areas": null,
            "grid_template_columns": null,
            "grid_template_rows": null,
            "height": null,
            "justify_content": null,
            "justify_items": null,
            "left": null,
            "margin": null,
            "max_height": null,
            "max_width": null,
            "min_height": null,
            "min_width": null,
            "object_fit": null,
            "object_position": null,
            "order": null,
            "overflow": null,
            "overflow_x": null,
            "overflow_y": null,
            "padding": null,
            "right": null,
            "top": null,
            "visibility": null,
            "width": null
          }
        },
        "8ab618e540324c2ab6345165ae166a4b": {
          "model_module": "@jupyter-widgets/base",
          "model_name": "LayoutModel",
          "model_module_version": "1.2.0",
          "state": {
            "_model_module": "@jupyter-widgets/base",
            "_model_module_version": "1.2.0",
            "_model_name": "LayoutModel",
            "_view_count": null,
            "_view_module": "@jupyter-widgets/base",
            "_view_module_version": "1.2.0",
            "_view_name": "LayoutView",
            "align_content": null,
            "align_items": null,
            "align_self": null,
            "border": null,
            "bottom": null,
            "display": null,
            "flex": null,
            "flex_flow": null,
            "grid_area": null,
            "grid_auto_columns": null,
            "grid_auto_flow": null,
            "grid_auto_rows": null,
            "grid_column": null,
            "grid_gap": null,
            "grid_row": null,
            "grid_template_areas": null,
            "grid_template_columns": null,
            "grid_template_rows": null,
            "height": null,
            "justify_content": null,
            "justify_items": null,
            "left": null,
            "margin": null,
            "max_height": null,
            "max_width": null,
            "min_height": null,
            "min_width": null,
            "object_fit": null,
            "object_position": null,
            "order": null,
            "overflow": null,
            "overflow_x": null,
            "overflow_y": null,
            "padding": null,
            "right": null,
            "top": null,
            "visibility": null,
            "width": null
          }
        },
        "c20592edf2bc491bb76810205c07099d": {
          "model_module": "@jupyter-widgets/controls",
          "model_name": "DescriptionStyleModel",
          "model_module_version": "1.5.0",
          "state": {
            "_model_module": "@jupyter-widgets/controls",
            "_model_module_version": "1.5.0",
            "_model_name": "DescriptionStyleModel",
            "_view_count": null,
            "_view_module": "@jupyter-widgets/base",
            "_view_module_version": "1.2.0",
            "_view_name": "StyleView",
            "description_width": ""
          }
        },
        "d2cb3d2cbfb04696929ae142215601af": {
          "model_module": "@jupyter-widgets/base",
          "model_name": "LayoutModel",
          "model_module_version": "1.2.0",
          "state": {
            "_model_module": "@jupyter-widgets/base",
            "_model_module_version": "1.2.0",
            "_model_name": "LayoutModel",
            "_view_count": null,
            "_view_module": "@jupyter-widgets/base",
            "_view_module_version": "1.2.0",
            "_view_name": "LayoutView",
            "align_content": null,
            "align_items": null,
            "align_self": null,
            "border": null,
            "bottom": null,
            "display": null,
            "flex": null,
            "flex_flow": null,
            "grid_area": null,
            "grid_auto_columns": null,
            "grid_auto_flow": null,
            "grid_auto_rows": null,
            "grid_column": null,
            "grid_gap": null,
            "grid_row": null,
            "grid_template_areas": null,
            "grid_template_columns": null,
            "grid_template_rows": null,
            "height": null,
            "justify_content": null,
            "justify_items": null,
            "left": null,
            "margin": null,
            "max_height": null,
            "max_width": null,
            "min_height": null,
            "min_width": null,
            "object_fit": null,
            "object_position": null,
            "order": null,
            "overflow": null,
            "overflow_x": null,
            "overflow_y": null,
            "padding": null,
            "right": null,
            "top": null,
            "visibility": null,
            "width": null
          }
        },
        "edf4cb94583841ae84a3641b3b4c84e2": {
          "model_module": "@jupyter-widgets/controls",
          "model_name": "ProgressStyleModel",
          "model_module_version": "1.5.0",
          "state": {
            "_model_module": "@jupyter-widgets/controls",
            "_model_module_version": "1.5.0",
            "_model_name": "ProgressStyleModel",
            "_view_count": null,
            "_view_module": "@jupyter-widgets/base",
            "_view_module_version": "1.2.0",
            "_view_name": "StyleView",
            "bar_color": null,
            "description_width": ""
          }
        },
        "5334bb4b1825435191fbdddaa8ca40b3": {
          "model_module": "@jupyter-widgets/base",
          "model_name": "LayoutModel",
          "model_module_version": "1.2.0",
          "state": {
            "_model_module": "@jupyter-widgets/base",
            "_model_module_version": "1.2.0",
            "_model_name": "LayoutModel",
            "_view_count": null,
            "_view_module": "@jupyter-widgets/base",
            "_view_module_version": "1.2.0",
            "_view_name": "LayoutView",
            "align_content": null,
            "align_items": null,
            "align_self": null,
            "border": null,
            "bottom": null,
            "display": null,
            "flex": null,
            "flex_flow": null,
            "grid_area": null,
            "grid_auto_columns": null,
            "grid_auto_flow": null,
            "grid_auto_rows": null,
            "grid_column": null,
            "grid_gap": null,
            "grid_row": null,
            "grid_template_areas": null,
            "grid_template_columns": null,
            "grid_template_rows": null,
            "height": null,
            "justify_content": null,
            "justify_items": null,
            "left": null,
            "margin": null,
            "max_height": null,
            "max_width": null,
            "min_height": null,
            "min_width": null,
            "object_fit": null,
            "object_position": null,
            "order": null,
            "overflow": null,
            "overflow_x": null,
            "overflow_y": null,
            "padding": null,
            "right": null,
            "top": null,
            "visibility": null,
            "width": null
          }
        },
        "7e7554d154454aada42ece5fcb4884b3": {
          "model_module": "@jupyter-widgets/controls",
          "model_name": "DescriptionStyleModel",
          "model_module_version": "1.5.0",
          "state": {
            "_model_module": "@jupyter-widgets/controls",
            "_model_module_version": "1.5.0",
            "_model_name": "DescriptionStyleModel",
            "_view_count": null,
            "_view_module": "@jupyter-widgets/base",
            "_view_module_version": "1.2.0",
            "_view_name": "StyleView",
            "description_width": ""
          }
        },
        "a75d1c69f2ef414e8fe87489698d3a33": {
          "model_module": "@jupyter-widgets/controls",
          "model_name": "HBoxModel",
          "model_module_version": "1.5.0",
          "state": {
            "_dom_classes": [],
            "_model_module": "@jupyter-widgets/controls",
            "_model_module_version": "1.5.0",
            "_model_name": "HBoxModel",
            "_view_count": null,
            "_view_module": "@jupyter-widgets/controls",
            "_view_module_version": "1.5.0",
            "_view_name": "HBoxView",
            "box_style": "",
            "children": [
              "IPY_MODEL_426ddf95aaaf48d981f7261b72a7377b",
              "IPY_MODEL_bd4a1213029d417097491bc874e2f71c",
              "IPY_MODEL_422c52c729a84343991974f91ac99e60"
            ],
            "layout": "IPY_MODEL_7d66ca2c35684e45b330a6c1c127935c"
          }
        },
        "426ddf95aaaf48d981f7261b72a7377b": {
          "model_module": "@jupyter-widgets/controls",
          "model_name": "HTMLModel",
          "model_module_version": "1.5.0",
          "state": {
            "_dom_classes": [],
            "_model_module": "@jupyter-widgets/controls",
            "_model_module_version": "1.5.0",
            "_model_name": "HTMLModel",
            "_view_count": null,
            "_view_module": "@jupyter-widgets/controls",
            "_view_module_version": "1.5.0",
            "_view_name": "HTMLView",
            "description": "",
            "description_tooltip": null,
            "layout": "IPY_MODEL_4182a9c8a8554cafb6d9c9f9b64b9562",
            "placeholder": "​",
            "style": "IPY_MODEL_ba321d4ddd654be7b9043fa264b886b0",
            "value": "100%"
          }
        },
        "bd4a1213029d417097491bc874e2f71c": {
          "model_module": "@jupyter-widgets/controls",
          "model_name": "FloatProgressModel",
          "model_module_version": "1.5.0",
          "state": {
            "_dom_classes": [],
            "_model_module": "@jupyter-widgets/controls",
            "_model_module_version": "1.5.0",
            "_model_name": "FloatProgressModel",
            "_view_count": null,
            "_view_module": "@jupyter-widgets/controls",
            "_view_module_version": "1.5.0",
            "_view_name": "ProgressView",
            "bar_style": "success",
            "description": "",
            "description_tooltip": null,
            "layout": "IPY_MODEL_cdc4924b36af4c3488ec68b2c4fc06c4",
            "max": 17,
            "min": 0,
            "orientation": "horizontal",
            "style": "IPY_MODEL_40e95a7214dd496f9fc72afe17685a39",
            "value": 17
          }
        },
        "422c52c729a84343991974f91ac99e60": {
          "model_module": "@jupyter-widgets/controls",
          "model_name": "HTMLModel",
          "model_module_version": "1.5.0",
          "state": {
            "_dom_classes": [],
            "_model_module": "@jupyter-widgets/controls",
            "_model_module_version": "1.5.0",
            "_model_name": "HTMLModel",
            "_view_count": null,
            "_view_module": "@jupyter-widgets/controls",
            "_view_module_version": "1.5.0",
            "_view_name": "HTMLView",
            "description": "",
            "description_tooltip": null,
            "layout": "IPY_MODEL_b8c40f6c215042f4a072129bd94764bd",
            "placeholder": "​",
            "style": "IPY_MODEL_5a51ddd435c244e5a353676fe62f1e17",
            "value": " 17/17 [00:04&lt;00:00,  3.91it/s]"
          }
        },
        "7d66ca2c35684e45b330a6c1c127935c": {
          "model_module": "@jupyter-widgets/base",
          "model_name": "LayoutModel",
          "model_module_version": "1.2.0",
          "state": {
            "_model_module": "@jupyter-widgets/base",
            "_model_module_version": "1.2.0",
            "_model_name": "LayoutModel",
            "_view_count": null,
            "_view_module": "@jupyter-widgets/base",
            "_view_module_version": "1.2.0",
            "_view_name": "LayoutView",
            "align_content": null,
            "align_items": null,
            "align_self": null,
            "border": null,
            "bottom": null,
            "display": null,
            "flex": null,
            "flex_flow": null,
            "grid_area": null,
            "grid_auto_columns": null,
            "grid_auto_flow": null,
            "grid_auto_rows": null,
            "grid_column": null,
            "grid_gap": null,
            "grid_row": null,
            "grid_template_areas": null,
            "grid_template_columns": null,
            "grid_template_rows": null,
            "height": null,
            "justify_content": null,
            "justify_items": null,
            "left": null,
            "margin": null,
            "max_height": null,
            "max_width": null,
            "min_height": null,
            "min_width": null,
            "object_fit": null,
            "object_position": null,
            "order": null,
            "overflow": null,
            "overflow_x": null,
            "overflow_y": null,
            "padding": null,
            "right": null,
            "top": null,
            "visibility": null,
            "width": null
          }
        },
        "4182a9c8a8554cafb6d9c9f9b64b9562": {
          "model_module": "@jupyter-widgets/base",
          "model_name": "LayoutModel",
          "model_module_version": "1.2.0",
          "state": {
            "_model_module": "@jupyter-widgets/base",
            "_model_module_version": "1.2.0",
            "_model_name": "LayoutModel",
            "_view_count": null,
            "_view_module": "@jupyter-widgets/base",
            "_view_module_version": "1.2.0",
            "_view_name": "LayoutView",
            "align_content": null,
            "align_items": null,
            "align_self": null,
            "border": null,
            "bottom": null,
            "display": null,
            "flex": null,
            "flex_flow": null,
            "grid_area": null,
            "grid_auto_columns": null,
            "grid_auto_flow": null,
            "grid_auto_rows": null,
            "grid_column": null,
            "grid_gap": null,
            "grid_row": null,
            "grid_template_areas": null,
            "grid_template_columns": null,
            "grid_template_rows": null,
            "height": null,
            "justify_content": null,
            "justify_items": null,
            "left": null,
            "margin": null,
            "max_height": null,
            "max_width": null,
            "min_height": null,
            "min_width": null,
            "object_fit": null,
            "object_position": null,
            "order": null,
            "overflow": null,
            "overflow_x": null,
            "overflow_y": null,
            "padding": null,
            "right": null,
            "top": null,
            "visibility": null,
            "width": null
          }
        },
        "ba321d4ddd654be7b9043fa264b886b0": {
          "model_module": "@jupyter-widgets/controls",
          "model_name": "DescriptionStyleModel",
          "model_module_version": "1.5.0",
          "state": {
            "_model_module": "@jupyter-widgets/controls",
            "_model_module_version": "1.5.0",
            "_model_name": "DescriptionStyleModel",
            "_view_count": null,
            "_view_module": "@jupyter-widgets/base",
            "_view_module_version": "1.2.0",
            "_view_name": "StyleView",
            "description_width": ""
          }
        },
        "cdc4924b36af4c3488ec68b2c4fc06c4": {
          "model_module": "@jupyter-widgets/base",
          "model_name": "LayoutModel",
          "model_module_version": "1.2.0",
          "state": {
            "_model_module": "@jupyter-widgets/base",
            "_model_module_version": "1.2.0",
            "_model_name": "LayoutModel",
            "_view_count": null,
            "_view_module": "@jupyter-widgets/base",
            "_view_module_version": "1.2.0",
            "_view_name": "LayoutView",
            "align_content": null,
            "align_items": null,
            "align_self": null,
            "border": null,
            "bottom": null,
            "display": null,
            "flex": null,
            "flex_flow": null,
            "grid_area": null,
            "grid_auto_columns": null,
            "grid_auto_flow": null,
            "grid_auto_rows": null,
            "grid_column": null,
            "grid_gap": null,
            "grid_row": null,
            "grid_template_areas": null,
            "grid_template_columns": null,
            "grid_template_rows": null,
            "height": null,
            "justify_content": null,
            "justify_items": null,
            "left": null,
            "margin": null,
            "max_height": null,
            "max_width": null,
            "min_height": null,
            "min_width": null,
            "object_fit": null,
            "object_position": null,
            "order": null,
            "overflow": null,
            "overflow_x": null,
            "overflow_y": null,
            "padding": null,
            "right": null,
            "top": null,
            "visibility": null,
            "width": null
          }
        },
        "40e95a7214dd496f9fc72afe17685a39": {
          "model_module": "@jupyter-widgets/controls",
          "model_name": "ProgressStyleModel",
          "model_module_version": "1.5.0",
          "state": {
            "_model_module": "@jupyter-widgets/controls",
            "_model_module_version": "1.5.0",
            "_model_name": "ProgressStyleModel",
            "_view_count": null,
            "_view_module": "@jupyter-widgets/base",
            "_view_module_version": "1.2.0",
            "_view_name": "StyleView",
            "bar_color": null,
            "description_width": ""
          }
        },
        "b8c40f6c215042f4a072129bd94764bd": {
          "model_module": "@jupyter-widgets/base",
          "model_name": "LayoutModel",
          "model_module_version": "1.2.0",
          "state": {
            "_model_module": "@jupyter-widgets/base",
            "_model_module_version": "1.2.0",
            "_model_name": "LayoutModel",
            "_view_count": null,
            "_view_module": "@jupyter-widgets/base",
            "_view_module_version": "1.2.0",
            "_view_name": "LayoutView",
            "align_content": null,
            "align_items": null,
            "align_self": null,
            "border": null,
            "bottom": null,
            "display": null,
            "flex": null,
            "flex_flow": null,
            "grid_area": null,
            "grid_auto_columns": null,
            "grid_auto_flow": null,
            "grid_auto_rows": null,
            "grid_column": null,
            "grid_gap": null,
            "grid_row": null,
            "grid_template_areas": null,
            "grid_template_columns": null,
            "grid_template_rows": null,
            "height": null,
            "justify_content": null,
            "justify_items": null,
            "left": null,
            "margin": null,
            "max_height": null,
            "max_width": null,
            "min_height": null,
            "min_width": null,
            "object_fit": null,
            "object_position": null,
            "order": null,
            "overflow": null,
            "overflow_x": null,
            "overflow_y": null,
            "padding": null,
            "right": null,
            "top": null,
            "visibility": null,
            "width": null
          }
        },
        "5a51ddd435c244e5a353676fe62f1e17": {
          "model_module": "@jupyter-widgets/controls",
          "model_name": "DescriptionStyleModel",
          "model_module_version": "1.5.0",
          "state": {
            "_model_module": "@jupyter-widgets/controls",
            "_model_module_version": "1.5.0",
            "_model_name": "DescriptionStyleModel",
            "_view_count": null,
            "_view_module": "@jupyter-widgets/base",
            "_view_module_version": "1.2.0",
            "_view_name": "StyleView",
            "description_width": ""
          }
        },
        "8164755a83f14d57b8e951d77e5dd2f6": {
          "model_module": "@jupyter-widgets/controls",
          "model_name": "HBoxModel",
          "model_module_version": "1.5.0",
          "state": {
            "_dom_classes": [],
            "_model_module": "@jupyter-widgets/controls",
            "_model_module_version": "1.5.0",
            "_model_name": "HBoxModel",
            "_view_count": null,
            "_view_module": "@jupyter-widgets/controls",
            "_view_module_version": "1.5.0",
            "_view_name": "HBoxView",
            "box_style": "",
            "children": [
              "IPY_MODEL_afc3db3763cb4fa382582ad665164957",
              "IPY_MODEL_e2f2769f1faa4dbb81945371fd7a0ede",
              "IPY_MODEL_a2e0b955c85f4eae8e7fe041d650c360"
            ],
            "layout": "IPY_MODEL_4f6087fe7a254b428350257adec8a82f"
          }
        },
        "afc3db3763cb4fa382582ad665164957": {
          "model_module": "@jupyter-widgets/controls",
          "model_name": "HTMLModel",
          "model_module_version": "1.5.0",
          "state": {
            "_dom_classes": [],
            "_model_module": "@jupyter-widgets/controls",
            "_model_module_version": "1.5.0",
            "_model_name": "HTMLModel",
            "_view_count": null,
            "_view_module": "@jupyter-widgets/controls",
            "_view_module_version": "1.5.0",
            "_view_name": "HTMLView",
            "description": "",
            "description_tooltip": null,
            "layout": "IPY_MODEL_c31761d36ce046a78c18050bbe65127d",
            "placeholder": "​",
            "style": "IPY_MODEL_bfaff676ec174357ae5b8c2e55ad61c4",
            "value": "100%"
          }
        },
        "e2f2769f1faa4dbb81945371fd7a0ede": {
          "model_module": "@jupyter-widgets/controls",
          "model_name": "FloatProgressModel",
          "model_module_version": "1.5.0",
          "state": {
            "_dom_classes": [],
            "_model_module": "@jupyter-widgets/controls",
            "_model_module_version": "1.5.0",
            "_model_name": "FloatProgressModel",
            "_view_count": null,
            "_view_module": "@jupyter-widgets/controls",
            "_view_module_version": "1.5.0",
            "_view_name": "ProgressView",
            "bar_style": "success",
            "description": "",
            "description_tooltip": null,
            "layout": "IPY_MODEL_fabfc62ef37c4d88888fe7e4c483b35c",
            "max": 149,
            "min": 0,
            "orientation": "horizontal",
            "style": "IPY_MODEL_25da8837f5484c33858bbbfc6cc82a21",
            "value": 149
          }
        },
        "a2e0b955c85f4eae8e7fe041d650c360": {
          "model_module": "@jupyter-widgets/controls",
          "model_name": "HTMLModel",
          "model_module_version": "1.5.0",
          "state": {
            "_dom_classes": [],
            "_model_module": "@jupyter-widgets/controls",
            "_model_module_version": "1.5.0",
            "_model_name": "HTMLModel",
            "_view_count": null,
            "_view_module": "@jupyter-widgets/controls",
            "_view_module_version": "1.5.0",
            "_view_name": "HTMLView",
            "description": "",
            "description_tooltip": null,
            "layout": "IPY_MODEL_9cb11f1467cf4a97ae246d013a693b31",
            "placeholder": "​",
            "style": "IPY_MODEL_ce82fce658c24eaabfe54823decaabdc",
            "value": " 149/149 [00:03&lt;00:00, 83.81it/s]"
          }
        },
        "4f6087fe7a254b428350257adec8a82f": {
          "model_module": "@jupyter-widgets/base",
          "model_name": "LayoutModel",
          "model_module_version": "1.2.0",
          "state": {
            "_model_module": "@jupyter-widgets/base",
            "_model_module_version": "1.2.0",
            "_model_name": "LayoutModel",
            "_view_count": null,
            "_view_module": "@jupyter-widgets/base",
            "_view_module_version": "1.2.0",
            "_view_name": "LayoutView",
            "align_content": null,
            "align_items": null,
            "align_self": null,
            "border": null,
            "bottom": null,
            "display": null,
            "flex": null,
            "flex_flow": null,
            "grid_area": null,
            "grid_auto_columns": null,
            "grid_auto_flow": null,
            "grid_auto_rows": null,
            "grid_column": null,
            "grid_gap": null,
            "grid_row": null,
            "grid_template_areas": null,
            "grid_template_columns": null,
            "grid_template_rows": null,
            "height": null,
            "justify_content": null,
            "justify_items": null,
            "left": null,
            "margin": null,
            "max_height": null,
            "max_width": null,
            "min_height": null,
            "min_width": null,
            "object_fit": null,
            "object_position": null,
            "order": null,
            "overflow": null,
            "overflow_x": null,
            "overflow_y": null,
            "padding": null,
            "right": null,
            "top": null,
            "visibility": null,
            "width": null
          }
        },
        "c31761d36ce046a78c18050bbe65127d": {
          "model_module": "@jupyter-widgets/base",
          "model_name": "LayoutModel",
          "model_module_version": "1.2.0",
          "state": {
            "_model_module": "@jupyter-widgets/base",
            "_model_module_version": "1.2.0",
            "_model_name": "LayoutModel",
            "_view_count": null,
            "_view_module": "@jupyter-widgets/base",
            "_view_module_version": "1.2.0",
            "_view_name": "LayoutView",
            "align_content": null,
            "align_items": null,
            "align_self": null,
            "border": null,
            "bottom": null,
            "display": null,
            "flex": null,
            "flex_flow": null,
            "grid_area": null,
            "grid_auto_columns": null,
            "grid_auto_flow": null,
            "grid_auto_rows": null,
            "grid_column": null,
            "grid_gap": null,
            "grid_row": null,
            "grid_template_areas": null,
            "grid_template_columns": null,
            "grid_template_rows": null,
            "height": null,
            "justify_content": null,
            "justify_items": null,
            "left": null,
            "margin": null,
            "max_height": null,
            "max_width": null,
            "min_height": null,
            "min_width": null,
            "object_fit": null,
            "object_position": null,
            "order": null,
            "overflow": null,
            "overflow_x": null,
            "overflow_y": null,
            "padding": null,
            "right": null,
            "top": null,
            "visibility": null,
            "width": null
          }
        },
        "bfaff676ec174357ae5b8c2e55ad61c4": {
          "model_module": "@jupyter-widgets/controls",
          "model_name": "DescriptionStyleModel",
          "model_module_version": "1.5.0",
          "state": {
            "_model_module": "@jupyter-widgets/controls",
            "_model_module_version": "1.5.0",
            "_model_name": "DescriptionStyleModel",
            "_view_count": null,
            "_view_module": "@jupyter-widgets/base",
            "_view_module_version": "1.2.0",
            "_view_name": "StyleView",
            "description_width": ""
          }
        },
        "fabfc62ef37c4d88888fe7e4c483b35c": {
          "model_module": "@jupyter-widgets/base",
          "model_name": "LayoutModel",
          "model_module_version": "1.2.0",
          "state": {
            "_model_module": "@jupyter-widgets/base",
            "_model_module_version": "1.2.0",
            "_model_name": "LayoutModel",
            "_view_count": null,
            "_view_module": "@jupyter-widgets/base",
            "_view_module_version": "1.2.0",
            "_view_name": "LayoutView",
            "align_content": null,
            "align_items": null,
            "align_self": null,
            "border": null,
            "bottom": null,
            "display": null,
            "flex": null,
            "flex_flow": null,
            "grid_area": null,
            "grid_auto_columns": null,
            "grid_auto_flow": null,
            "grid_auto_rows": null,
            "grid_column": null,
            "grid_gap": null,
            "grid_row": null,
            "grid_template_areas": null,
            "grid_template_columns": null,
            "grid_template_rows": null,
            "height": null,
            "justify_content": null,
            "justify_items": null,
            "left": null,
            "margin": null,
            "max_height": null,
            "max_width": null,
            "min_height": null,
            "min_width": null,
            "object_fit": null,
            "object_position": null,
            "order": null,
            "overflow": null,
            "overflow_x": null,
            "overflow_y": null,
            "padding": null,
            "right": null,
            "top": null,
            "visibility": null,
            "width": null
          }
        },
        "25da8837f5484c33858bbbfc6cc82a21": {
          "model_module": "@jupyter-widgets/controls",
          "model_name": "ProgressStyleModel",
          "model_module_version": "1.5.0",
          "state": {
            "_model_module": "@jupyter-widgets/controls",
            "_model_module_version": "1.5.0",
            "_model_name": "ProgressStyleModel",
            "_view_count": null,
            "_view_module": "@jupyter-widgets/base",
            "_view_module_version": "1.2.0",
            "_view_name": "StyleView",
            "bar_color": null,
            "description_width": ""
          }
        },
        "9cb11f1467cf4a97ae246d013a693b31": {
          "model_module": "@jupyter-widgets/base",
          "model_name": "LayoutModel",
          "model_module_version": "1.2.0",
          "state": {
            "_model_module": "@jupyter-widgets/base",
            "_model_module_version": "1.2.0",
            "_model_name": "LayoutModel",
            "_view_count": null,
            "_view_module": "@jupyter-widgets/base",
            "_view_module_version": "1.2.0",
            "_view_name": "LayoutView",
            "align_content": null,
            "align_items": null,
            "align_self": null,
            "border": null,
            "bottom": null,
            "display": null,
            "flex": null,
            "flex_flow": null,
            "grid_area": null,
            "grid_auto_columns": null,
            "grid_auto_flow": null,
            "grid_auto_rows": null,
            "grid_column": null,
            "grid_gap": null,
            "grid_row": null,
            "grid_template_areas": null,
            "grid_template_columns": null,
            "grid_template_rows": null,
            "height": null,
            "justify_content": null,
            "justify_items": null,
            "left": null,
            "margin": null,
            "max_height": null,
            "max_width": null,
            "min_height": null,
            "min_width": null,
            "object_fit": null,
            "object_position": null,
            "order": null,
            "overflow": null,
            "overflow_x": null,
            "overflow_y": null,
            "padding": null,
            "right": null,
            "top": null,
            "visibility": null,
            "width": null
          }
        },
        "ce82fce658c24eaabfe54823decaabdc": {
          "model_module": "@jupyter-widgets/controls",
          "model_name": "DescriptionStyleModel",
          "model_module_version": "1.5.0",
          "state": {
            "_model_module": "@jupyter-widgets/controls",
            "_model_module_version": "1.5.0",
            "_model_name": "DescriptionStyleModel",
            "_view_count": null,
            "_view_module": "@jupyter-widgets/base",
            "_view_module_version": "1.2.0",
            "_view_name": "StyleView",
            "description_width": ""
          }
        }
      }
    }
  },
  "nbformat": 4,
  "nbformat_minor": 0
}